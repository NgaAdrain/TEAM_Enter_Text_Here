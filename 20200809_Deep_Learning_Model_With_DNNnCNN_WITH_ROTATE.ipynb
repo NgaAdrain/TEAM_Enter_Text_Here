{
  "nbformat": 4,
  "nbformat_minor": 0,
  "metadata": {
    "colab": {
      "name": "20200809_Deep_Learning_Model_With_DNNnCNN_WITH_ROTATE.ipynb",
      "provenance": [],
      "collapsed_sections": [
        "zXq9q1eO-U3q",
        "iXh8oMAVAGUd",
        "eHilv0HVjL7y",
        "8hdAIxaKBNGF",
        "VuwZhNStBwmL",
        "ofaAMLpGB5AT",
        "49h3uWBlCEeq",
        "Xll5C_K8CI4e",
        "9p73QCKiCKAk",
        "tF2N67VFCRVj",
        "7o0RS7h0CYrF",
        "xWwS2DuKCcW6",
        "-CMUR6MEACBo",
        "vIl9mqkxAHXu",
        "NRtV7E_gAI5W",
        "wfVi2d0LAJ5P"
      ],
      "toc_visible": true,
      "mount_file_id": "1oPAGtWsG2gUqPhYM7PgX4atz1YtYGt2U",
      "authorship_tag": "ABX9TyO5IB4d1sVkwm0dA7f7BzQF",
      "include_colab_link": true
    },
    "kernelspec": {
      "name": "python3",
      "display_name": "Python 3"
    },
    "accelerator": "GPU"
  },
  "cells": [
    {
      "cell_type": "markdown",
      "metadata": {
        "id": "view-in-github",
        "colab_type": "text"
      },
      "source": [
        "<a href=\"https://colab.research.google.com/github/NgaAdrain/TEAM_Enter_Text_Here/blob/master/20200809_Deep_Learning_Model_With_DNNnCNN_WITH_ROTATE.ipynb\" target=\"_parent\"><img src=\"https://colab.research.google.com/assets/colab-badge.svg\" alt=\"Open In Colab\"/></a>"
      ]
    },
    {
      "cell_type": "markdown",
      "metadata": {
        "id": "UXSRUfag5aRz",
        "colab_type": "text"
      },
      "source": [
        "#<h1>**Deep Learning With CNN & DNN**</h1>"
      ]
    },
    {
      "cell_type": "markdown",
      "metadata": {
        "id": "cQE59oey5mVS",
        "colab_type": "text"
      },
      "source": [
        "##**Module Import**\n"
      ]
    },
    {
      "cell_type": "code",
      "metadata": {
        "id": "FJ3dRqGh5Ra4",
        "colab_type": "code",
        "colab": {}
      },
      "source": [
        "# Import the TensorFlow\n",
        "import tensorflow as tf\n",
        "from tensorflow import keras\n",
        "import pandas as pd\n",
        "import numpy as np"
      ],
      "execution_count": 1,
      "outputs": []
    },
    {
      "cell_type": "markdown",
      "metadata": {
        "id": "vBHzC7YJrBj2",
        "colab_type": "text"
      },
      "source": [
        "https://tykimos.github.io/2017/06/10/Model_Save_Load/\n",
        "<br>\n",
        "모델 저장 및 가중치 저장 & 불러와서 사용하기"
      ]
    },
    {
      "cell_type": "markdown",
      "metadata": {
        "id": "O-aUHU_w5rOS",
        "colab_type": "text"
      },
      "source": [
        "##**File Read**"
      ]
    },
    {
      "cell_type": "markdown",
      "metadata": {
        "id": "XlaOIuBL5s26",
        "colab_type": "text"
      },
      "source": [
        "###<h2>학습용 데이터 읽기</h2>"
      ]
    },
    {
      "cell_type": "code",
      "metadata": {
        "id": "mFsaRLs35zRz",
        "colab_type": "code",
        "colab": {}
      },
      "source": [
        "train_file = pd.read_csv('/content/train_input_with_rotate_r.csv',encoding='utf-8')\n",
        "#train_file = pd.read_csv('/content/train_input_with_rotate_r_data_mod.csv',encoding='utf-8')\n",
        "#train_file = pd.read_csv('/content/real_data_with_rotate_1.csv',encoding='utf-8')\n",
        "train_file_label = train_file.pop('Label')\n",
        "train_file.drop(['Timestamp','Winker(left)','Winker(right)','Timecheck'],axis = 'columns',inplace = True)"
      ],
      "execution_count": 8,
      "outputs": []
    },
    {
      "cell_type": "markdown",
      "metadata": {
        "id": "PM8NViLk6Rj6",
        "colab_type": "text"
      },
      "source": [
        "###<h2>시뮬레이션 테스트 데이터는 test_input.csv의 형식으로 저장한다.</h2>"
      ]
    },
    {
      "cell_type": "code",
      "metadata": {
        "id": "_GOqY_X8571q",
        "colab_type": "code",
        "colab": {}
      },
      "source": [
        "test_file = pd.read_csv('/content/test_data_with_rotate_r.csv',encoding='utf-8')\n",
        "#test_file = pd.read_csv('/content/test_data_with_rotate_r_data_mod.csv',encoding='utf-8')\n",
        "test_file_time = test_file.pop('Timestamp')\n",
        "test_file_label = test_file.pop('Label')\n",
        "test_file.drop(['Winker(left)','Winker(right)','Timecheck'],axis = 'columns',inplace = True)"
      ],
      "execution_count": 2,
      "outputs": []
    },
    {
      "cell_type": "markdown",
      "metadata": {
        "id": "DQObvaya6SEB",
        "colab_type": "text"
      },
      "source": [
        "###<h2>실제 데이터는 real_data.csv의 형식으로 저장한다.</h2>"
      ]
    },
    {
      "cell_type": "code",
      "metadata": {
        "id": "ZvjpPakv6F6J",
        "colab_type": "code",
        "colab": {}
      },
      "source": [
        "real_file = pd.read_csv('/content/real_no_regularization.csv',encoding='utf-8')\n",
        "#real_file = pd.read_csv('/content/real_data_with_rotate.csv',encoding='utf-8')\n",
        "#real_file = pd.read_csv('/content/real_data_with_rotate_2.csv',encoding='utf-8')\n",
        "real_file_label = real_file.pop('Label')"
      ],
      "execution_count": 3,
      "outputs": []
    },
    {
      "cell_type": "markdown",
      "metadata": {
        "id": "gB4JvJ076aSi",
        "colab_type": "text"
      },
      "source": [
        "##**DataFrame 2 Numpy Array**"
      ]
    },
    {
      "cell_type": "markdown",
      "metadata": {
        "id": "8NckIUF16bmy",
        "colab_type": "text"
      },
      "source": [
        "\n",
        "###<h2>학습용 데이터 변환</h2>"
      ]
    },
    {
      "cell_type": "code",
      "metadata": {
        "id": "sQFc5aMJ6a4a",
        "colab_type": "code",
        "colab": {}
      },
      "source": [
        "train_array = np.delete(train_file.values,-1,0).astype(np.float)\n",
        "train_label = np.delete(train_file_label.values,-1,0).astype(np.int)"
      ],
      "execution_count": 9,
      "outputs": []
    },
    {
      "cell_type": "markdown",
      "metadata": {
        "id": "GvFZkE886el6",
        "colab_type": "text"
      },
      "source": [
        "###<h2>테스트 데이터 변환</h2>\n"
      ]
    },
    {
      "cell_type": "code",
      "metadata": {
        "id": "gSjTWcdo6dha",
        "colab_type": "code",
        "colab": {}
      },
      "source": [
        "test_array = np.delete(test_file.values,-1,0).astype(np.float)\n",
        "test_label = np.delete(test_file_label.values,-1,0).astype(np.int)\n",
        "test_time = np.delete(test_file_time.values,-1,0)"
      ],
      "execution_count": 4,
      "outputs": []
    },
    {
      "cell_type": "markdown",
      "metadata": {
        "id": "A-aCVV5F6iES",
        "colab_type": "text"
      },
      "source": [
        "###<h2>실제 데이터 변환</h2>"
      ]
    },
    {
      "cell_type": "code",
      "metadata": {
        "id": "dpQQdYCL6iVq",
        "colab_type": "code",
        "colab": {}
      },
      "source": [
        "real_array = np.delete(real_file.values,-1,0).astype(np.float)\n",
        "real_label = np.delete(real_file_label.values,-1,0).astype(np.int)"
      ],
      "execution_count": 5,
      "outputs": []
    },
    {
      "cell_type": "markdown",
      "metadata": {
        "id": "pHjO24WI-DyE",
        "colab_type": "text"
      },
      "source": [
        "###<h2>30Hz->10Hz로 데이터 갯수 맞추기</h2>"
      ]
    },
    {
      "cell_type": "markdown",
      "metadata": {
        "id": "LgtgxxSR-FQ8",
        "colab_type": "text"
      },
      "source": [
        "형진이가 만든 10hz변환기를 통과한 학습용 파일에는 필요가 없다!\n",
        "\n",
        "=> 30Hz로 부터 10Hz의 데이터 3개를 뽑아낸다!"
      ]
    },
    {
      "cell_type": "markdown",
      "metadata": {
        "id": "YT0fKqM5-GWy",
        "colab_type": "text"
      },
      "source": [
        "####<h3>학습용 데이터</h3>"
      ]
    },
    {
      "cell_type": "code",
      "metadata": {
        "id": "6ZfwTnJm-HNS",
        "colab_type": "code",
        "colab": {
          "base_uri": "https://localhost:8080/",
          "height": 53
        },
        "outputId": "9983f121-ae68-4c4c-9e61-fa65c5c9c4eb"
      },
      "source": [
        "train_10hz_array = []\n",
        "train_10hz_label = []\n",
        "count = 0\n",
        "for temp in train_array:\n",
        "  if(count%3 == 1):\n",
        "    train_10hz_array.append(train_array[count,:])\n",
        "    train_10hz_label.append(train_label[count])\n",
        "  count = count + 1\n",
        "count = 0\n",
        "for temp in train_array:\n",
        "  if(count%3 == 0):\n",
        "    train_10hz_array.append(train_array[count,:])\n",
        "    train_10hz_label.append(train_label[count])\n",
        "  count = count + 1\n",
        "count = 0\n",
        "for temp in train_array:\n",
        "  if(count%3 == 2):\n",
        "    train_10hz_array.append(train_array[count,:])\n",
        "    train_10hz_label.append(train_label[count])\n",
        "  count = count + 1\n",
        "train_array = np.array(train_10hz_array)\n",
        "train_label = np.array(train_10hz_label)\n",
        "print(len(train_array))\n",
        "print(len(train_label))"
      ],
      "execution_count": 10,
      "outputs": [
        {
          "output_type": "stream",
          "text": [
            "312145\n",
            "312145\n"
          ],
          "name": "stdout"
        }
      ]
    },
    {
      "cell_type": "markdown",
      "metadata": {
        "id": "cIM7ZHY5-JWb",
        "colab_type": "text"
      },
      "source": [
        "####<h3>테스트 데이터</h3>"
      ]
    },
    {
      "cell_type": "code",
      "metadata": {
        "id": "3odj-De3-K0b",
        "colab_type": "code",
        "colab": {
          "base_uri": "https://localhost:8080/",
          "height": 35
        },
        "outputId": "898143cc-080b-4d60-f772-f1eb897cbe67"
      },
      "source": [
        "test_10hz_array = []\n",
        "test_10hz_label = []\n",
        "count = 0\n",
        "for temp in test_array:\n",
        "  if(count%3 == 1):\n",
        "    test_10hz_array.append(test_array[count,:])\n",
        "    test_10hz_label.append(test_label[count])\n",
        "  count = count + 1\n",
        "count = 0\n",
        "for temp in test_array:\n",
        "  if(count%3 == 0):\n",
        "    test_10hz_array.append(test_array[count,:])\n",
        "    test_10hz_label.append(test_label[count])\n",
        "  count = count + 1\n",
        "count = 0\n",
        "for temp in test_array:\n",
        "  if(count%3 == 2):\n",
        "    test_10hz_array.append(test_array[count,:])\n",
        "    test_10hz_label.append(test_label[count])\n",
        "  count = count + 1\n",
        "test_array = np.array(test_10hz_array)\n",
        "test_label = np.array(test_10hz_label)\n",
        "#print(test_array)\n",
        "print(len(test_label))"
      ],
      "execution_count": 6,
      "outputs": [
        {
          "output_type": "stream",
          "text": [
            "18098\n"
          ],
          "name": "stdout"
        }
      ]
    },
    {
      "cell_type": "markdown",
      "metadata": {
        "id": "73rfc486-NwL",
        "colab_type": "text"
      },
      "source": [
        "###<h2>데이터 길이</h2>"
      ]
    },
    {
      "cell_type": "code",
      "metadata": {
        "id": "j7ZTiQoJ-NFq",
        "colab_type": "code",
        "colab": {}
      },
      "source": [
        "length_test = int(len(test_array)/25)\n",
        "length_train = int(len(train_array)/25)\n",
        "length_real = int(len(real_array)/25)"
      ],
      "execution_count": 11,
      "outputs": []
    },
    {
      "cell_type": "markdown",
      "metadata": {
        "id": "UittYBWE-SPa",
        "colab_type": "text"
      },
      "source": [
        "##**데이터 정규화**"
      ]
    },
    {
      "cell_type": "markdown",
      "metadata": {
        "id": "2JKbULfJ-TbK",
        "colab_type": "text"
      },
      "source": [
        "###<h2>사용 상수</h2>"
      ]
    },
    {
      "cell_type": "code",
      "metadata": {
        "id": "fnJOU2JF-Vk6",
        "colab_type": "code",
        "colab": {}
      },
      "source": [
        "VELOCITY = 0\n",
        "ACCEL_X = 1\n",
        "ROT_Z = 2\n",
        "STEERING = 3 \n",
        "ACCEL = 4\n",
        "BRAKE = 5\n",
        "NOR_MAX = 31.75\n",
        "NOR_MIN = -32\n",
        "VELOCITY_MAX = 100\n",
        "VELOCITY_MIN = 0\n",
        "ACCEL_X_MAX =  1.5\n",
        "ACCEL_X_MIN = -1.5\n",
        "ROT_Z_MAX = 45\n",
        "ROT_Z_MIN = -45\n",
        "STEERING_MAX = 250\n",
        "STEERING_MIN = -225\n",
        "ACCEL_MAX = 70\n",
        "ACCEL_MIN = 0\n",
        "BRAKE_MAX = 50\n",
        "BRAKE_MIN = 0"
      ],
      "execution_count": 7,
      "outputs": []
    },
    {
      "cell_type": "markdown",
      "metadata": {
        "id": "rAJuYuQm7sg_",
        "colab_type": "text"
      },
      "source": [
        "Rotate_Z 부호 바꾸기(부호처리된 파일로 부터 나온것은 할 필요 X)"
      ]
    },
    {
      "cell_type": "code",
      "metadata": {
        "id": "VCpZ-nykM8Ei",
        "colab_type": "code",
        "colab": {}
      },
      "source": [
        "for i in range(len(train_array)):\n",
        "  #train_array[i][VELOCITY] = train_array[i][VELOCITY] / 2\n",
        "  #train_array[i][ACCEL_X] = train_array[i][ACCEL_X] / 2\n",
        "  train_array[i][ROT_Z] = -1 * train_array[i][ROT_Z]\n",
        "for i in range(len(test_array)):\n",
        "  test_array[i][ROT_Z] = -1 * test_array[i][ROT_Z]\n",
        "  #test_array[i][VELOCITY] = test_array[i][VELOCITY] / 2\n",
        "  #test_array[i][ACCEL_X] = test_array[i][ACCEL_X] / 2"
      ],
      "execution_count": 12,
      "outputs": []
    },
    {
      "cell_type": "markdown",
      "metadata": {
        "id": "MQX0-axV76P4",
        "colab_type": "text"
      },
      "source": [
        "Z-SCORE 표준화 작업"
      ]
    },
    {
      "cell_type": "code",
      "metadata": {
        "id": "mm2eX3umN_8y",
        "colab_type": "code",
        "colab": {}
      },
      "source": [
        "#Z-Score Standardization\n",
        "train_mean = np.mean(train_array,axis = 0)\n",
        "train_std = np.std(train_array,axis = 0)\n",
        "test_mean = np.mean(test_array,axis = 0)\n",
        "test_std = np.std(test_array,axis = 0)\n",
        "real_mean = np.mean(real_array,axis = 0)\n",
        "real_std = np.std(real_array,axis = 0)\n",
        "train = (train_array - train_mean)/train_std\n",
        "test = (test_array - test_mean)/test_std\n",
        "real = (real_array - real_mean)/real_std"
      ],
      "execution_count": 13,
      "outputs": []
    },
    {
      "cell_type": "markdown",
      "metadata": {
        "id": "MlU3T-Uu8Mtf",
        "colab_type": "text"
      },
      "source": [
        " -1 ~ 1 정규화 작업  ☞ 아래의 정규화 작업 대신 진행"
      ]
    },
    {
      "cell_type": "code",
      "metadata": {
        "id": "lL9NK4qz9OP9",
        "colab_type": "code",
        "colab": {}
      },
      "source": [
        "norm = np.concatenate((train,test,real), axis=0).max(axis=0)\n",
        "train = train / norm\n",
        "test = test / norm\n",
        "real = real / norm"
      ],
      "execution_count": 14,
      "outputs": []
    },
    {
      "cell_type": "markdown",
      "metadata": {
        "id": "zXq9q1eO-U3q",
        "colab_type": "text"
      },
      "source": [
        "###<h2>학습용 데이터 정규화</h2>"
      ]
    },
    {
      "cell_type": "markdown",
      "metadata": {
        "id": "LsbvnmtQ-axi",
        "colab_type": "text"
      },
      "source": [
        "- <h3>실제 데이터의 정규화내용</h3>\n",
        "1. steering wheel  -> 31.75(270,-270) ~ -32\n",
        "2. brake -> 31.75(50,0) ~ -32\n",
        "3. speed(velocity) -> 31.75(100,0) ~ -32\n",
        "4. accel -> 31.75(70,0) ~ -32\n",
        "5. yaw_rate(Rotate_Z) -> 31.75(45,-45) ~ -32\n",
        "6. accelaration_lateral(X) -> 31.75(0.6,-0.6) ~ -32"
      ]
    },
    {
      "cell_type": "code",
      "metadata": {
        "id": "N8KyKtFJ-cXS",
        "colab_type": "code",
        "colab": {
          "base_uri": "https://localhost:8080/",
          "height": 143
        },
        "outputId": "f769fb68-0fd6-4193-c885-b7d5529c7c0a"
      },
      "source": [
        "print(\"Process 1-1 Velocity[\",end=\"\")\n",
        "for i in range(len(train_array)):\n",
        "  train_array[i][VELOCITY] = round(train_array[i][VELOCITY],0)\n",
        "  if(i%length_train==0):\n",
        "    print(\"#\",end=\"\")\n",
        "  if(train_array[i][VELOCITY]>=VELOCITY_MAX):    #MAX\n",
        "    train_array[i][VELOCITY] = NOR_MAX\n",
        "  elif(train_array[i][VELOCITY]>=(VELOCITY_MAX/2)):   #MID\n",
        "    train_array[i][VELOCITY] = round(((train_array[i][VELOCITY] - (VELOCITY_MAX/2))/(VELOCITY_MAX/2)*NOR_MAX),2)\n",
        "  elif(train_array[i][VELOCITY]>VELOCITY_MIN):     #MIN\n",
        "    train_array[i][VELOCITY] = round(((train_array[i][VELOCITY] - (VELOCITY_MAX/2))/(VELOCITY_MAX/2)*(-1*NOR_MIN)),2)\n",
        "  else:\n",
        "    train_array[i][VELOCITY] = NOR_MIN\n",
        "print(\"]\\nProcess 1-2 Accel_X [\",end=\"\")\n",
        "for i in range(len(train_array)):\n",
        "  if(i%length_train==0):\n",
        "    print(\"#\",end=\"\")  \n",
        "  if(train_array[i][ACCEL_X]>=ACCEL_X_MAX):     #MAX\n",
        "    train_array[i][ACCEL_X] = NOR_MAX\n",
        "  elif(train_array[i][ACCEL_X]>= 0):    #MID\n",
        "    train_array[i][ACCEL_X] = round(((train_array[i][ACCEL_X])/ACCEL_X_MAX*NOR_MAX),2)\n",
        "  elif(train_array[i][ACCEL_X]> ACCEL_X_MIN):  #MIN\n",
        "    train_array[i][ACCEL_X] = round(((train_array[i][ACCEL_X])/ACCEL_X_MAX*(-1*NOR_MIN)),2)\n",
        "  else:\n",
        "    train_array[i][ACCEL_X] = NOR_MIN\n",
        "print(\"]\\nProcess 1-3 ROTATE_Z[\",end=\"\")\n",
        "for i in range(len(train_array)):\n",
        "  if(i%length_train==0):\n",
        "    print(\"#\",end=\"\")\n",
        "  if(train_array[i][ROT_Z]>=ROT_Z_MAX):       #MAX\n",
        "    train_array[i][ROT_Z] = NOR_MAX\n",
        "  elif(train_array[i][ROT_Z]>= 0):    #MID\n",
        "    train_array[i][ROT_Z] = round(((train_array[i][ROT_Z])/ROT_Z_MAX*NOR_MAX),2)\n",
        "  elif(train_array[i][ROT_Z]>ROT_Z_MIN):     #MIN\n",
        "    train_array[i][ROT_Z] = round(((train_array[i][ROT_Z])/ROT_Z_MAX*(-1*NOR_MIN)),2)\n",
        "  else:\n",
        "    train_array[i][ROT_Z] = NOR_MIN\n",
        "print(\"]\\nProcess 1-4 Steering[\",end=\"\")\n",
        "for i in range(len(train_array)):\n",
        "  if(i%length_train==0):\n",
        "    print(\"#\",end=\"\")  \n",
        "  if(train_array[i][STEERING]>=STEERING_MAX):    #MAX\n",
        "    train_array[i][STEERING] = NOR_MAX\n",
        "  elif(train_array[i][STEERING]>= 0):   #MID\n",
        "    train_array[i][STEERING] = round(((train_array[i][STEERING])/STEERING_MAX*NOR_MAX),2)\n",
        "  elif(train_array[i][STEERING]> STEERING_MIN): #MIN\n",
        "    train_array[i][STEERING] = round(((train_array[i][STEERING])/STEERING_MAX*(-1*NOR_MIN)),2)\n",
        "  else:\n",
        "    train_array[i][STEERING] = NOR_MIN\n",
        "print(\"]\\nProcess 1-5 Accelpad[\",end=\"\")\n",
        "for i in range(len(train_array)):\n",
        "  if(i%length_train==0):\n",
        "    print(\"#\",end=\"\")  \n",
        "  if(train_array[i][ACCEL]>=ACCEL_MAX):        #MAX\n",
        "    train_array[i][ACCEL] = NOR_MAX\n",
        "  elif(train_array[i][ACCEL]>= (ACCEL_MAX/2)):     #MID\n",
        "    train_array[i][ACCEL] = round(((train_array[i][ACCEL] - (ACCEL_MAX/2))/(ACCEL_MAX/2)*NOR_MAX),2)\n",
        "  elif(train_array[i][ACCEL]> ACCEL_MIN):       #MIN\n",
        "    train_array[i][ACCEL] = round(((train_array[i][ACCEL] - (ACCEL_MAX/2))/(ACCEL_MAX/2)*(-1*NOR_MIN)),2)\n",
        "  else:\n",
        "    train_array[i][ACCEL] = NOR_MIN\n",
        "print(\"]\\nProcess 1-6 Brakepad[\",end=\"\")\n",
        "for i in range(len(train_array)):\n",
        "  if(i%length_train==0):\n",
        "    print(\"#\",end=\"\")\n",
        "  if(train_array[i][BRAKE]>=BRAKE_MAX):        #MAX\n",
        "    train_array[i][BRAKE] = NOR_MAX\n",
        "  elif(train_array[i][BRAKE]>= (BRAKE_MAX/2)):     #MID\n",
        "    train_array[i][BRAKE] = round(((train_array[i][BRAKE] - (BRAKE_MAX/2))/(BRAKE_MAX/2)*NOR_MAX),2)\n",
        "  elif(train_array[i][BRAKE]> BRAKE_MIN):       #MIN\n",
        "    train_array[i][BRAKE] = round(((train_array[i][BRAKE] - (BRAKE_MAX/2))/(BRAKE_MAX/2)*(-1*NOR_MIN)),2)\n",
        "  else:\n",
        "    train_array[i][BRAKE] = NOR_MIN\n",
        "print(\"]\\nProcess 1 Clear\")"
      ],
      "execution_count": null,
      "outputs": [
        {
          "output_type": "stream",
          "text": [
            "Process 1-1 Velocity[##########################]\n",
            "Process 1-2 Accel_X [##########################]\n",
            "Process 1-3 ROTATE_Z[##########################]\n",
            "Process 1-4 Steering[##########################]\n",
            "Process 1-5 Accelpad[##########################]\n",
            "Process 1-6 Brakepad[##########################]\n",
            "Process 1 Clear\n"
          ],
          "name": "stdout"
        }
      ]
    },
    {
      "cell_type": "markdown",
      "metadata": {
        "id": "iXh8oMAVAGUd",
        "colab_type": "text"
      },
      "source": [
        "###<h2>테스트 데이터 정규화</h2>"
      ]
    },
    {
      "cell_type": "markdown",
      "metadata": {
        "id": "JnEJhVdtAG7r",
        "colab_type": "text"
      },
      "source": [
        "- <h3>시뮬레이터 값의 범위</h3>\n",
        "1. Velocity : 0 ~ 240 -> 31.75(100,0) ~ -32\n",
        "2. Acceleration.<br>\n",
        "X -> 차가 왼쪽으로 이동하면 감소 오른쪽으로 이동하면 증가 -> 31.75(0.6,-0.6) ~ -32\n",
        "3. Rotation.<br>\n",
        "Z -> 차의 좌우 이동에 맞춰서 변화 -> 10000을 곱한 값이 yaw rate와 비슷\n",
        "4. Steering_wheel : -1 ~ 1 => -450 ~ 450(degree) -> 31.75(225,-225) ~ -32\n",
        "5. Brake : 0 ~ 1 => 0 ~ 100% -> 31.75(50,0) ~ -32\n",
        "6. Accel : 0 ~ 1 => 0 ~ 100% -> 31.75(70,0) ~ -32<br>"
      ]
    },
    {
      "cell_type": "code",
      "metadata": {
        "id": "h9afxOMFAYMr",
        "colab_type": "code",
        "colab": {
          "base_uri": "https://localhost:8080/",
          "height": 143
        },
        "outputId": "b054a3ea-708a-4b84-b673-8935eff82c04"
      },
      "source": [
        "print(\"Process 2-1 Velocity[\",end=\"\")\n",
        "for i in range(len(test_array)):\n",
        "  test_array[i][VELOCITY] = round(test_array[i][VELOCITY],0)\n",
        "  if(i%length_test==0):\n",
        "    print(\"#\",end=\"\")\n",
        "  if(test_array[i][VELOCITY]>=VELOCITY_MAX):    #MAX\n",
        "    test_array[i][VELOCITY] = NOR_MAX\n",
        "  elif(test_array[i][VELOCITY]>=(VELOCITY_MAX/2)):   #MID\n",
        "    test_array[i][VELOCITY] = round(((test_array[i][VELOCITY] - (VELOCITY_MAX/2))/(VELOCITY_MAX/2)*NOR_MAX),2)\n",
        "  elif(test_array[i][VELOCITY]>VELOCITY_MIN):     #MIN\n",
        "    test_array[i][VELOCITY] = round(((test_array[i][VELOCITY] - (VELOCITY_MAX/2))/(VELOCITY_MAX/2)*(-1*NOR_MIN)),2)\n",
        "  else:\n",
        "    test_array[i][VELOCITY] = NOR_MIN\n",
        "print(\"]\\nProcess 2-2 Accel_X [\",end=\"\")\n",
        "for i in range(len(test_array)):\n",
        "  if(i%length_test==0):\n",
        "    print(\"#\",end=\"\")  \n",
        "  if(test_array[i][ACCEL_X]>=ACCEL_X_MAX):     #MAX\n",
        "    test_array[i][ACCEL_X] = NOR_MAX\n",
        "  elif(test_array[i][ACCEL_X]>= 0):    #MID\n",
        "    test_array[i][ACCEL_X] = round(((test_array[i][ACCEL_X])/ACCEL_X_MAX*NOR_MAX),2)\n",
        "  elif(test_array[i][ACCEL_X]> ACCEL_X_MIN):  #MIN\n",
        "    test_array[i][ACCEL_X] = round(((test_array[i][ACCEL_X])/ACCEL_X_MAX*(-1*NOR_MIN)),2)\n",
        "  else:\n",
        "    test_array[i][ACCEL_X] = NOR_MIN\n",
        "print(\"]\\nProcess 2-3 ROTATE_Z [\",end=\"\")\n",
        "for i in range(len(test_array)):\n",
        "  if(i%length_test==0):\n",
        "    print(\"#\",end=\"\")\n",
        "  if(test_array[i][ROT_Z]>=ROT_Z_MAX):       #MAX\n",
        "    test_array[i][ROT_Z] = NOR_MAX\n",
        "  elif(test_array[i][ROT_Z]>= 0):    #MID\n",
        "    test_array[i][ROT_Z] = round(((test_array[i][ROT_Z])/ROT_Z_MAX*NOR_MAX),2)\n",
        "  elif(test_array[i][ROT_Z]>ROT_Z_MIN):     #MIN\n",
        "    test_array[i][ROT_Z] = round(((test_array[i][ROT_Z])/ROT_Z_MAX*(-1*NOR_MIN)),2)\n",
        "  else:\n",
        "    test_array[i][ROT_Z] = NOR_MIN\n",
        "print(\"]\\nProcess 2-4 Steering[\",end=\"\")\n",
        "for i in range(len(test_array)):\n",
        "  if(i%length_test==0):\n",
        "    print(\"#\",end=\"\")  \n",
        "  if(test_array[i][STEERING]>=STEERING_MAX):    #MAX\n",
        "    test_array[i][STEERING] = NOR_MAX\n",
        "  elif(test_array[i][STEERING]>= 0):   #MID\n",
        "    test_array[i][STEERING] = round(((test_array[i][STEERING])/STEERING_MAX*NOR_MAX),2)\n",
        "  elif(test_array[i][STEERING]> STEERING_MIN): #MIN\n",
        "    test_array[i][STEERING] = round(((test_array[i][STEERING])/STEERING_MAX*(-1*NOR_MIN)),2)\n",
        "  else:\n",
        "    test_array[i][STEERING] = NOR_MIN\n",
        "print(\"]\\nProcess 2-5 Accelpad[\",end=\"\")\n",
        "for i in range(len(test_array)):\n",
        "  if(i%length_test==0):\n",
        "    print(\"#\",end=\"\")  \n",
        "  if(test_array[i][ACCEL]>=ACCEL_MAX):        #MAX\n",
        "    test_array[i][ACCEL] = NOR_MAX\n",
        "  elif(test_array[i][ACCEL]>= (ACCEL_MAX/2)):     #MID\n",
        "    test_array[i][ACCEL] = round(((test_array[i][ACCEL] - (ACCEL_MAX/2))/(ACCEL_MAX/2)*NOR_MAX),2)\n",
        "  elif(test_array[i][ACCEL]> ACCEL_MIN):       #MIN\n",
        "    test_array[i][ACCEL] = round(((test_array[i][ACCEL] - (ACCEL_MAX/2))/(ACCEL_MAX/2)*(-1*NOR_MIN)),2)\n",
        "  else:\n",
        "    test_array[i][ACCEL] = NOR_MIN\n",
        "print(\"]\\nProcess 2-6 Brakepad[\",end=\"\")\n",
        "for i in range(len(test_array)):\n",
        "  if(i%length_test==0):\n",
        "    print(\"#\",end=\"\")\n",
        "  if(test_array[i][BRAKE]>=BRAKE_MAX):        #MAX\n",
        "    test_array[i][BRAKE] = NOR_MAX\n",
        "  elif(test_array[i][BRAKE]>= (BRAKE_MAX/2)):     #MID\n",
        "    test_array[i][BRAKE] = round(((test_array[i][BRAKE] - (BRAKE_MAX/2))/(BRAKE_MAX/2)*NOR_MAX),2)\n",
        "  elif(test_array[i][BRAKE]> BRAKE_MIN):       #MIN\n",
        "    test_array[i][BRAKE] = round(((test_array[i][BRAKE] - (BRAKE_MAX/2))/(BRAKE_MAX/2)*(-1*NOR_MIN)),2)\n",
        "  else:\n",
        "    test_array[i][BRAKE] = NOR_MIN\n",
        "print(\"]\\nProcess 2 Clear\")"
      ],
      "execution_count": null,
      "outputs": [
        {
          "output_type": "stream",
          "text": [
            "Process 2-1 Velocity[##########################]\n",
            "Process 2-2 Accel_X [##########################]\n",
            "Process 2-3 ROTATE_Z [##########################]\n",
            "Process 2-4 Steering[##########################]\n",
            "Process 2-5 Accelpad[##########################]\n",
            "Process 2-6 Brakepad[##########################]\n",
            "Process 2 Clear\n"
          ],
          "name": "stdout"
        }
      ]
    },
    {
      "cell_type": "markdown",
      "metadata": {
        "id": "eHilv0HVjL7y",
        "colab_type": "text"
      },
      "source": [
        "###<h2>실제 데이터 정규화</h2>"
      ]
    },
    {
      "cell_type": "code",
      "metadata": {
        "id": "3csd34M8jJca",
        "colab_type": "code",
        "colab": {
          "base_uri": "https://localhost:8080/"
        },
        "outputId": "9d6c7020-2ed0-4406-b088-93a31701e0c3"
      },
      "source": [
        "print(\"Process 3-1 Velocity[\",end=\"\")\n",
        "for i in range(len(real_array)):\n",
        "  real_array[i][VELOCITY] = round(real_array[i][VELOCITY],0)\n",
        "  if(i%length_real==0):\n",
        "    print(\"#\",end=\"\")\n",
        "  if(real_array[i][VELOCITY]>=VELOCITY_MAX):    #MAX\n",
        "    real_array[i][VELOCITY] = NOR_MAX\n",
        "  elif(real_array[i][VELOCITY]>=(VELOCITY_MAX/2)):   #MID\n",
        "    real_array[i][VELOCITY] = round(((real_array[i][VELOCITY] - (VELOCITY_MAX/2))/(VELOCITY_MAX/2)*NOR_MAX),2)\n",
        "  elif(real_array[i][VELOCITY]>VELOCITY_MIN):     #MIN\n",
        "    real_array[i][VELOCITY] = round(((real_array[i][VELOCITY] - (VELOCITY_MAX/2))/(VELOCITY_MAX/2)*(-1*NOR_MIN)),2)\n",
        "  else:\n",
        "    real_array[i][VELOCITY] = NOR_MIN\n",
        "print(\"]\\nProcess 3-2 Accel_X [\",end=\"\")\n",
        "for i in range(len(real_array)):\n",
        "  if(i%length_real==0):\n",
        "    print(\"#\",end=\"\")  \n",
        "  if(real_array[i][ACCEL_X]>=ACCEL_X_MAX):     #MAX\n",
        "    real_array[i][ACCEL_X] = NOR_MAX\n",
        "  elif(real_array[i][ACCEL_X]>= 0):    #MID\n",
        "    real_array[i][ACCEL_X] = round(((real_array[i][ACCEL_X])/ACCEL_X_MAX*NOR_MAX),2)\n",
        "  elif(real_array[i][ACCEL_X]> ACCEL_X_MIN):  #MIN\n",
        "    real_array[i][ACCEL_X] = round(((real_array[i][ACCEL_X])/ACCEL_X_MAX*(-1*NOR_MIN)),2)\n",
        "  else:\n",
        "    real_array[i][ACCEL_X] = NOR_MIN\n",
        "print(\"]\\nProcess 3-3 ROTATE_Z [\",end=\"\")\n",
        "for i in range(len(real_array)):\n",
        "  if(i%length_real==0):\n",
        "    print(\"#\",end=\"\")\n",
        "  if(real_array[i][ROT_Z]>=ROT_Z_MAX):       #MAX\n",
        "    real_array[i][ROT_Z] = NOR_MAX\n",
        "  elif(real_array[i][ROT_Z]>= 0):    #MID\n",
        "    real_array[i][ROT_Z] = round(((real_array[i][ROT_Z])/ROT_Z_MAX*NOR_MAX),2)\n",
        "  elif(real_array[i][ROT_Z]>ROT_Z_MIN):     #MIN\n",
        "    real_array[i][ROT_Z] = round(((real_array[i][ROT_Z])/ROT_Z_MAX*(-1*NOR_MIN)),2)\n",
        "  else:\n",
        "    real_array[i][ROT_Z] = NOR_MIN\n",
        "print(\"]\\nProcess 3-4 Steering[\",end=\"\")\n",
        "for i in range(len(real_array)):\n",
        "  if(i%length_real==0):\n",
        "    print(\"#\",end=\"\")  \n",
        "  if(real_array[i][STEERING]>=STEERING_MAX):    #MAX\n",
        "    real_array[i][STEERING] = NOR_MAX\n",
        "  elif(real_array[i][STEERING]>= 0):   #MID\n",
        "    real_array[i][STEERING] = round(((real_array[i][STEERING])/STEERING_MAX*NOR_MAX),2)\n",
        "  elif(real_array[i][STEERING]> STEERING_MIN): #MIN\n",
        "    real_array[i][STEERING] = round(((real_array[i][STEERING])/STEERING_MAX*(-1*NOR_MIN)),2)\n",
        "  else:\n",
        "    real_array[i][STEERING] = NOR_MIN\n",
        "print(\"]\\nProcess 3-5 Accelpad[\",end=\"\")\n",
        "for i in range(len(real_array)):\n",
        "  if(i%length_real==0):\n",
        "    print(\"#\",end=\"\")  \n",
        "  if(real_array[i][ACCEL]>=ACCEL_MAX):        #MAX\n",
        "    real_array[i][ACCEL] = NOR_MAX\n",
        "  elif(real_array[i][ACCEL]>= (ACCEL_MAX/2)):     #MID\n",
        "    real_array[i][ACCEL] = round(((real_array[i][ACCEL] - (ACCEL_MAX/2))/(ACCEL_MAX/2)*NOR_MAX),2)\n",
        "  elif(real_array[i][ACCEL]> ACCEL_MIN):       #MIN\n",
        "    real_array[i][ACCEL] = round(((real_array[i][ACCEL] - (ACCEL_MAX/2))/(ACCEL_MAX/2)*(-1*NOR_MIN)),2)\n",
        "  else:\n",
        "    real_array[i][ACCEL] = NOR_MIN\n",
        "print(\"]\\nProcess 3-6 Brakepad[\",end=\"\")\n",
        "for i in range(len(real_array)):\n",
        "  if(i%length_real==0):\n",
        "    print(\"#\",end=\"\")\n",
        "  if(real_array[i][BRAKE]>=BRAKE_MAX):        #MAX\n",
        "    real_array[i][BRAKE] = NOR_MAX\n",
        "  elif(real_array[i][BRAKE]>= (BRAKE_MAX/2)):     #MID\n",
        "    real_array[i][BRAKE] = round(((real_array[i][BRAKE] - (BRAKE_MAX/2))/(BRAKE_MAX/2)*NOR_MAX),2)\n",
        "  elif(real_array[i][BRAKE]> BRAKE_MIN):       #MIN\n",
        "    real_array[i][BRAKE] = round(((real_array[i][BRAKE] - (BRAKE_MAX/2))/(BRAKE_MAX/2)*(-1*NOR_MIN)),2)\n",
        "  else:\n",
        "    real_array[i][BRAKE] = NOR_MIN\n",
        "print(\"]\\nProcess 3 Clear\")"
      ],
      "execution_count": null,
      "outputs": [
        {
          "output_type": "stream",
          "text": [
            "Process 3-1 Velocity[##########################]\n",
            "Process 3-2 Accel_X [##########################]\n",
            "Process 3-3 ROTATE_Z [##########################]\n",
            "Process 3-4 Steering[##########################]\n",
            "Process 3-5 Accelpad[##########################]\n",
            "Process 3-6 Brakepad[##########################]\n",
            "Process 3 Clear\n"
          ],
          "name": "stdout"
        }
      ]
    },
    {
      "cell_type": "markdown",
      "metadata": {
        "id": "8hdAIxaKBNGF",
        "colab_type": "text"
      },
      "source": [
        "###<h2>Data Shuffle</h2>"
      ]
    },
    {
      "cell_type": "code",
      "metadata": {
        "id": "VnTpBkjiBPKw",
        "colab_type": "code",
        "colab": {
          "base_uri": "https://localhost:8080/"
        },
        "outputId": "e89eb922-121a-424e-d91e-1c7a65454b12"
      },
      "source": [
        "random_index = np.random.choice(train_array.shape[0],train_label.shape[0])\n",
        "print(random_index)\n",
        "train_array_s = train_array[random_index]\n",
        "train_label_s = train_label[random_index]"
      ],
      "execution_count": null,
      "outputs": [
        {
          "output_type": "stream",
          "text": [
            "[ 25091  76302 156614 ... 105471 123017 277418]\n"
          ],
          "name": "stdout"
        }
      ]
    },
    {
      "cell_type": "markdown",
      "metadata": {
        "id": "HbljB7zxBSBz",
        "colab_type": "text"
      },
      "source": [
        "##**데이터셋 만들기**"
      ]
    },
    {
      "cell_type": "markdown",
      "metadata": {
        "id": "Wlha3zQTBS8D",
        "colab_type": "text"
      },
      "source": [
        "###<h1>사용 상수</h1>"
      ]
    },
    {
      "cell_type": "code",
      "metadata": {
        "id": "V9naqaeWBU1T",
        "colab_type": "code",
        "colab": {}
      },
      "source": [
        "#초당 32개의 데이터가 나옴.(30~32Hz) => 10Hz 획일화함.\n",
        "WINDOW_SIZE = 48 #4.8초 분량"
      ],
      "execution_count": 15,
      "outputs": []
    },
    {
      "cell_type": "markdown",
      "metadata": {
        "id": "xVI5wm2uBcR6",
        "colab_type": "text"
      },
      "source": [
        "###<h2>Deep Neural Network Dataset</h2>"
      ]
    },
    {
      "cell_type": "markdown",
      "metadata": {
        "id": "sqJEhJ2KBeQq",
        "colab_type": "text"
      },
      "source": [
        "####<h2>학습용 데이터셋</h2>"
      ]
    },
    {
      "cell_type": "code",
      "metadata": {
        "id": "35ZG2SHQBeya",
        "colab_type": "code",
        "colab": {
          "base_uri": "https://localhost:8080/",
          "height": 53
        },
        "outputId": "2750723b-7310-4056-d963-840c4d1b37f5"
      },
      "source": [
        "#30hz\n",
        "train_dataset_data = []\n",
        "train_dataset_label = []\n",
        "for i in range(WINDOW_SIZE, train_array.shape[0] + 1, 1):\n",
        "  train_dataset_data.append(train_array[i-WINDOW_SIZE:i])\n",
        "  train_dataset_label.append(train_label[i-1])\n",
        "#for i in range(WINDOW_SIZE, train.shape[0] + 1, 1):\n",
        "#  train_dataset_data.append(train[i-WINDOW_SIZE:i])\n",
        "#  train_dataset_label.append(train_label[i-1])\n",
        "tr_data = np.array(train_dataset_data)\n",
        "tr_label = np.array(train_dataset_label) \n",
        "\n",
        "print(tr_data.shape)\n",
        "print(tr_label.shape)"
      ],
      "execution_count": 16,
      "outputs": [
        {
          "output_type": "stream",
          "text": [
            "(312098, 48, 6)\n",
            "(312098,)\n"
          ],
          "name": "stdout"
        }
      ]
    },
    {
      "cell_type": "markdown",
      "metadata": {
        "id": "oJPL1D4WBjdq",
        "colab_type": "text"
      },
      "source": [
        "####<h2>테스트 데이터셋</h2>"
      ]
    },
    {
      "cell_type": "code",
      "metadata": {
        "id": "3007ziJqBiNU",
        "colab_type": "code",
        "colab": {
          "base_uri": "https://localhost:8080/",
          "height": 35
        },
        "outputId": "def5c1cb-5cd5-49d8-8418-91ebe86ef96b"
      },
      "source": [
        "#30hz\n",
        "test_dataset_data = []\n",
        "test_dataset_label = []\n",
        "for i in range(WINDOW_SIZE, test_array.shape[0] + 1, 1):\n",
        "  test_dataset_data.append(test_array[i-WINDOW_SIZE:i])\n",
        "  test_dataset_label.append(test_label[i-1])\n",
        "#for i in range(WINDOW_SIZE, test.shape[0] + 1, 1):\n",
        "#  test_dataset_data.append(test[i-WINDOW_SIZE:i])\n",
        "#  test_dataset_label.append(test_label[i-1])\n",
        "te_data = np.array(test_dataset_data)\n",
        "te_label = np.array(test_dataset_label) \n",
        "print(te_data.shape)"
      ],
      "execution_count": 17,
      "outputs": [
        {
          "output_type": "stream",
          "text": [
            "(18051, 48, 6)\n"
          ],
          "name": "stdout"
        }
      ]
    },
    {
      "cell_type": "markdown",
      "metadata": {
        "id": "7SJUonB1Bkrz",
        "colab_type": "text"
      },
      "source": [
        "####<h2>실제 데이터셋</h2>"
      ]
    },
    {
      "cell_type": "code",
      "metadata": {
        "id": "gMRwH72cBlai",
        "colab_type": "code",
        "colab": {
          "base_uri": "https://localhost:8080/",
          "height": 35
        },
        "outputId": "659f0abe-5a60-4461-c9b7-ddbdd77d2923"
      },
      "source": [
        "real_dataset_data = []\n",
        "real_dataset_label = []\n",
        "for i in range(WINDOW_SIZE, real_array.shape[0] + 1, 1):\n",
        "  real_dataset_data.append(real_array[i-WINDOW_SIZE:i])\n",
        "  real_dataset_label.append(real_label[i-1])\n",
        "#for i in range(WINDOW_SIZE, real.shape[0] + 1, 1):\n",
        "#  real_dataset_data.append(real[i-WINDOW_SIZE:i])\n",
        "#  real_dataset_label.append(real_label[i-1])\n",
        "re_data = np.array(real_dataset_data)\n",
        "re_label = np.array(real_dataset_label) \n",
        "print(re_data.shape)"
      ],
      "execution_count": 18,
      "outputs": [
        {
          "output_type": "stream",
          "text": [
            "(53214, 48, 6)\n"
          ],
          "name": "stdout"
        }
      ]
    },
    {
      "cell_type": "markdown",
      "metadata": {
        "id": "9wQtHuELBndj",
        "colab_type": "text"
      },
      "source": [
        "###<h2>Convolution Neural Network Dataset</h2>"
      ]
    },
    {
      "cell_type": "markdown",
      "metadata": {
        "id": "VuwZhNStBwmL",
        "colab_type": "text"
      },
      "source": [
        "####Shuffle된 데이터를 데이터셋화"
      ]
    },
    {
      "cell_type": "code",
      "metadata": {
        "id": "3thWBBuABoAq",
        "colab_type": "code",
        "colab": {
          "base_uri": "https://localhost:8080/",
          "height": 53
        },
        "outputId": "647f0635-fd7a-452d-c297-f79e995ad10a"
      },
      "source": [
        "#30hz\n",
        "train_dataset_data = []\n",
        "train_dataset_label = []\n",
        "for i in range(WINDOW_SIZE, train_array_s.shape[0] + 1, 1):\n",
        "  train_dataset_data.append(train_array_s[i-WINDOW_SIZE:i])\n",
        "  train_dataset_label.append(train_label_s[i-1])\n",
        "tr_data_s = np.array(train_dataset_data)\n",
        "tr_label_s = np.array(train_dataset_label) \n",
        "\n",
        "print(tr_data_s.shape)\n",
        "print(tr_label_s.shape)"
      ],
      "execution_count": null,
      "outputs": [
        {
          "output_type": "stream",
          "text": [
            "(314140, 48, 6)\n",
            "(314140,)\n"
          ],
          "name": "stdout"
        }
      ]
    },
    {
      "cell_type": "markdown",
      "metadata": {
        "id": "YMoV7R5GBv2c",
        "colab_type": "text"
      },
      "source": [
        "####위의 np.array에 차원을 추가"
      ]
    },
    {
      "cell_type": "code",
      "metadata": {
        "id": "9zL6JTjsBujN",
        "colab_type": "code",
        "colab": {
          "base_uri": "https://localhost:8080/",
          "height": 35
        },
        "outputId": "2344256a-0084-4400-dfb0-e0f5f239bca0"
      },
      "source": [
        "##여기 구현\n",
        "##TO DO: data의 구조를 (None,총 row수, WINDOW크기, 라벨수)로 바꿔야함. 4차원으로 변경\n",
        "#tr_c_data = tr_data_s.reshape(-1,6,WINDOW_SIZE,1)\n",
        "tr_c_data = tr_data.reshape(-1,6,WINDOW_SIZE,1)\n",
        "te_c_data = te_data.reshape(-1,6,WINDOW_SIZE,1)\n",
        "re_c_data = re_data.reshape(-1,6,WINDOW_SIZE,1)\n",
        "print(tr_c_data.shape)"
      ],
      "execution_count": 19,
      "outputs": [
        {
          "output_type": "stream",
          "text": [
            "(312098, 6, 48, 1)\n"
          ],
          "name": "stdout"
        }
      ]
    },
    {
      "cell_type": "markdown",
      "metadata": {
        "id": "ADEucE7OB3_T",
        "colab_type": "text"
      },
      "source": [
        "##**상태 분석 모델링**"
      ]
    },
    {
      "cell_type": "markdown",
      "metadata": {
        "id": "ofaAMLpGB5AT",
        "colab_type": "text"
      },
      "source": [
        "###<h2>Deep Neural Network Model</h2>"
      ]
    },
    {
      "cell_type": "code",
      "metadata": {
        "id": "eu3loblVB5yb",
        "colab_type": "code",
        "colab": {
          "base_uri": "https://localhost:8080/"
        },
        "outputId": "3d905f8a-c6f1-4d1c-8977-afe00744d9ef"
      },
      "source": [
        "dnn_model = keras.Sequential([\n",
        "    keras.layers.Flatten(input_shape=(WINDOW_SIZE, 6)),\n",
        "    keras.layers.Dense(128,activation='relu'),\n",
        "    keras.layers.Dense(64),\n",
        "    keras.layers.Dense(128),\n",
        "    keras.layers.Dense(64),\n",
        "    keras.layers.Dense(16),\n",
        "    keras.layers.Dense(8, activation='softmax')\n",
        "])\n",
        "dnn_model.summary()\n",
        "dnn_model.compile(optimizer='adam',\n",
        "              loss='sparse_categorical_crossentropy',\n",
        "              metrics=['accuracy'])\n",
        "tf.keras.utils.plot_model(dnn_model, show_shapes=True)"
      ],
      "execution_count": null,
      "outputs": [
        {
          "output_type": "stream",
          "text": [
            "Model: \"sequential_5\"\n",
            "_________________________________________________________________\n",
            "Layer (type)                 Output Shape              Param #   \n",
            "=================================================================\n",
            "flatten_3 (Flatten)          (None, 288)               0         \n",
            "_________________________________________________________________\n",
            "dense_15 (Dense)             (None, 128)               36992     \n",
            "_________________________________________________________________\n",
            "dense_16 (Dense)             (None, 64)                8256      \n",
            "_________________________________________________________________\n",
            "dense_17 (Dense)             (None, 128)               8320      \n",
            "_________________________________________________________________\n",
            "dense_18 (Dense)             (None, 64)                8256      \n",
            "_________________________________________________________________\n",
            "dense_19 (Dense)             (None, 16)                1040      \n",
            "_________________________________________________________________\n",
            "dense_20 (Dense)             (None, 8)                 136       \n",
            "=================================================================\n",
            "Total params: 63,000\n",
            "Trainable params: 63,000\n",
            "Non-trainable params: 0\n",
            "_________________________________________________________________\n"
          ],
          "name": "stdout"
        },
        {
          "output_type": "execute_result",
          "data": {
            "image/png": "[encoded data removed]",
            "text/plain": [
              "<IPython.core.display.Image object>"
            ]
          },
          "metadata": {
            "tags": []
          },
          "execution_count": 74
        }
      ]
    },
    {
      "cell_type": "markdown",
      "metadata": {
        "id": "gijnDNTgB6-Z",
        "colab_type": "text"
      },
      "source": [
        "###<h2>Convolution Neural Network Model</h2>"
      ]
    },
    {
      "cell_type": "markdown",
      "metadata": {
        "id": "qfw14Fe9B73K",
        "colab_type": "text"
      },
      "source": [
        "Convolution neural Network에서 합성곱 신경망의 필터를 통과할 때(Conv2D-> 2차원 필터) 데이터는 차원이 낮아지게 된다.<br>\n",
        "NxN의 vector가 FxF의 필터를 통과하게되면 (N-F+1)x(N-F+1)로 줄어들게 된다.<br>\n",
        "즉 지금 여기의 예시에서는 120(윈도우 크기) x 5를 3x3이 통과하게 되면 118 x 3으로 줄어든다.<br>\n",
        "이를 MaxPool2D의 2x2필터를 통과하게 되면 117x2로 줄어들게 되며 다시한번 Conv2D의 2x2 필터를 통과하게 되면 116x1로 줄어들어서 더이상 Convolution필터를 통과할 수 없게 된다.<br>\n",
        "이 때문에 많은 필터 layer를 추가하지 못하므로 이를 해결하기위해 padding 기술을 사용한다.<br>\n",
        "padding기술은 각 edge의 값을 복사하여 각 방향으로 한 칸 늘려서 크기를 유지하는 기술이다.<br>\n",
        "Conv2D에서는 padding을 사용하지 않는 valid, padding을 사용하는 same의 두가지를 지원한다. 이를 사용하면 많은 layer를 넣을 수 있다. 이를 이용하여 해결하였다.\n",
        "\n",
        "STRIDE옵션\n",
        "\n",
        "globalaveragepooling"
      ]
    },
    {
      "cell_type": "code",
      "metadata": {
        "id": "0TxxbX-1B8w8",
        "colab_type": "code",
        "colab": {
          "base_uri": "https://localhost:8080/",
          "height": 1000
        },
        "outputId": "8c7793e5-66ee-40d8-9897-1558e3043b83"
      },
      "source": [
        "cnn_model_main = keras.Sequential([\n",
        "    keras.layers.Conv2D(16,3,padding='same',activation='relu',input_shape = (6,WINDOW_SIZE,1)), # 전 단계 필터 수의 2배인 240개의 3x3 matrix filters\n",
        "    #keras.layers.MaxPooling2D(pool_size=2,strides=(1,2),padding='same'),\n",
        "    keras.layers.Conv2D(32,3,strides=(1,2),padding='same',activation='relu'),\n",
        "    keras.layers.Conv2D(32,3,padding='same',activation='relu'), # 전 단계 필터 수의 1/2배인 120개의 3x3 matrix filters\n",
        "    #keras.layers.MaxPooling2D(pool_size=2,strides=(1,2),padding='same'),\n",
        "    keras.layers.Conv2D(64,3,strides=(1,2),padding='same',activation='relu'),\n",
        "    keras.layers.Conv2D(64,3,padding='same',activation='relu'),\n",
        "    keras.layers.Conv2D(128,3,strides=(1,2),padding='same',activation='relu'),\n",
        "    #keras.layers.MaxPooling2D(pool_size=2,strides=(1,2),padding='same'),\n",
        "    keras.layers.Conv2D(128,3,activation='relu',padding='same'),\n",
        "    keras.layers.Dropout(0.2),\n",
        "    keras.layers.GlobalAveragePooling2D(),\n",
        "    #keras.layers.Flatten(),\n",
        "    keras.layers.Dense(128, activation='relu'),\n",
        "    keras.layers.Dense(64, activation='relu'),\n",
        "    keras.layers.Dense(8, activation='softmax')  #stop 빼는 경우\n",
        "])\n",
        "cnn_model_main.summary()\n",
        "cnn_model_main.compile(optimizer='adam',\n",
        "              loss='sparse_categorical_crossentropy',\n",
        "              metrics=['accuracy'])\n",
        "tf.keras.utils.plot_model(cnn_model_main, show_shapes=True)"
      ],
      "execution_count": 20,
      "outputs": [
        {
          "output_type": "stream",
          "text": [
            "Model: \"sequential\"\n",
            "_________________________________________________________________\n",
            "Layer (type)                 Output Shape              Param #   \n",
            "=================================================================\n",
            "conv2d (Conv2D)              (None, 6, 48, 16)         160       \n",
            "_________________________________________________________________\n",
            "conv2d_1 (Conv2D)            (None, 6, 24, 32)         4640      \n",
            "_________________________________________________________________\n",
            "conv2d_2 (Conv2D)            (None, 6, 24, 32)         9248      \n",
            "_________________________________________________________________\n",
            "conv2d_3 (Conv2D)            (None, 6, 12, 64)         18496     \n",
            "_________________________________________________________________\n",
            "conv2d_4 (Conv2D)            (None, 6, 12, 64)         36928     \n",
            "_________________________________________________________________\n",
            "conv2d_5 (Conv2D)            (None, 6, 6, 128)         73856     \n",
            "_________________________________________________________________\n",
            "conv2d_6 (Conv2D)            (None, 6, 6, 128)         147584    \n",
            "_________________________________________________________________\n",
            "dropout (Dropout)            (None, 6, 6, 128)         0         \n",
            "_________________________________________________________________\n",
            "global_average_pooling2d (Gl (None, 128)               0         \n",
            "_________________________________________________________________\n",
            "dense (Dense)                (None, 128)               16512     \n",
            "_________________________________________________________________\n",
            "dense_1 (Dense)              (None, 64)                8256      \n",
            "_________________________________________________________________\n",
            "dense_2 (Dense)              (None, 8)                 520       \n",
            "=================================================================\n",
            "Total params: 316,200\n",
            "Trainable params: 316,200\n",
            "Non-trainable params: 0\n",
            "_________________________________________________________________\n"
          ],
          "name": "stdout"
        },
        {
          "output_type": "execute_result",
          "data": {
            "image/png": "[encoded data removed]",
            "text/plain": [
              "<IPython.core.display.Image object>"
            ]
          },
          "metadata": {
            "tags": []
          },
          "execution_count": 20
        }
      ]
    },
    {
      "cell_type": "code",
      "metadata": {
        "id": "Lj7G9G6tYtka",
        "colab_type": "code",
        "colab": {
          "base_uri": "https://localhost:8080/",
          "height": 1000
        },
        "outputId": "87580979-8769-498a-d470-a105a681d463"
      },
      "source": [
        "cnn_model_sub = keras.Sequential([\n",
        "    keras.layers.Conv2D(16,3,padding='same',activation='relu',input_shape = (6,WINDOW_SIZE,1)), # 전 단계 필터 수의 2배인 240개의 3x3 matrix filters\n",
        "    #keras.layers.MaxPooling2D(pool_size=2,strides=(1,2),padding='same'),\n",
        "    keras.layers.Conv2D(32,3,strides=(1,2),padding='same',activation='relu'),\n",
        "    keras.layers.Conv2D(32,3,padding='same',activation='relu'), # 전 단계 필터 수의 1/2배인 120개의 3x3 matrix filters\n",
        "    #keras.layers.Dropout(0.2),\n",
        "    #keras.layers.MaxPooling2D(pool_size=2,strides=(1,2),padding='same'),\n",
        "    keras.layers.Conv2D(64,3,strides=(1,2),padding='same',activation='relu'),\n",
        "    keras.layers.Conv2D(64,3,padding='same',activation='relu'),\n",
        "    keras.layers.Conv2D(128,3,strides=(1,2),padding='same',activation='relu'),\n",
        "    #keras.layers.MaxPooling2D(pool_size=2,strides=(1,2),padding='same'),\n",
        "    keras.layers.Conv2D(128,3,activation='relu',padding='same'),\n",
        "    keras.layers.Dropout(0.3),\n",
        "    #keras.layers.GlobalAveragePooling2D(),\n",
        "    keras.layers.Flatten(),\n",
        "    keras.layers.Dense(128, activation='relu'),\n",
        "    keras.layers.Dense(64, activation='relu'),\n",
        "    keras.layers.Dense(8, activation='softmax')  #stop 빼는 경우\n",
        "])\n",
        "cnn_model_sub.summary()\n",
        "cnn_model_sub.compile(optimizer='adam',\n",
        "              loss='sparse_categorical_crossentropy',\n",
        "              metrics=['accuracy'])\n",
        "tf.keras.utils.plot_model(cnn_model_sub, show_shapes=True)"
      ],
      "execution_count": 21,
      "outputs": [
        {
          "output_type": "stream",
          "text": [
            "Model: \"sequential_1\"\n",
            "_________________________________________________________________\n",
            "Layer (type)                 Output Shape              Param #   \n",
            "=================================================================\n",
            "conv2d_7 (Conv2D)            (None, 6, 48, 16)         160       \n",
            "_________________________________________________________________\n",
            "conv2d_8 (Conv2D)            (None, 6, 24, 32)         4640      \n",
            "_________________________________________________________________\n",
            "conv2d_9 (Conv2D)            (None, 6, 24, 32)         9248      \n",
            "_________________________________________________________________\n",
            "conv2d_10 (Conv2D)           (None, 6, 12, 64)         18496     \n",
            "_________________________________________________________________\n",
            "conv2d_11 (Conv2D)           (None, 6, 12, 64)         36928     \n",
            "_________________________________________________________________\n",
            "conv2d_12 (Conv2D)           (None, 6, 6, 128)         73856     \n",
            "_________________________________________________________________\n",
            "conv2d_13 (Conv2D)           (None, 6, 6, 128)         147584    \n",
            "_________________________________________________________________\n",
            "dropout_1 (Dropout)          (None, 6, 6, 128)         0         \n",
            "_________________________________________________________________\n",
            "flatten (Flatten)            (None, 4608)              0         \n",
            "_________________________________________________________________\n",
            "dense_3 (Dense)              (None, 128)               589952    \n",
            "_________________________________________________________________\n",
            "dense_4 (Dense)              (None, 64)                8256      \n",
            "_________________________________________________________________\n",
            "dense_5 (Dense)              (None, 8)                 520       \n",
            "=================================================================\n",
            "Total params: 889,640\n",
            "Trainable params: 889,640\n",
            "Non-trainable params: 0\n",
            "_________________________________________________________________\n"
          ],
          "name": "stdout"
        },
        {
          "output_type": "execute_result",
          "data": {
            "image/png": "[encoded data removed]",
            "text/plain": [
              "<IPython.core.display.Image object>"
            ]
          },
          "metadata": {
            "tags": []
          },
          "execution_count": 21
        }
      ]
    },
    {
      "cell_type": "markdown",
      "metadata": {
        "id": "IWSxNCDZCBFi",
        "colab_type": "text"
      },
      "source": [
        "##**모델 학습**"
      ]
    },
    {
      "cell_type": "code",
      "metadata": {
        "id": "zLjajUHjCAHd",
        "colab_type": "code",
        "colab": {}
      },
      "source": [
        "from sklearn.metrics import confusion_matrix"
      ],
      "execution_count": 22,
      "outputs": []
    },
    {
      "cell_type": "markdown",
      "metadata": {
        "id": "49h3uWBlCEeq",
        "colab_type": "text"
      },
      "source": [
        "###DNN MODEL 학습"
      ]
    },
    {
      "cell_type": "code",
      "metadata": {
        "id": "JgmHmlTdB-vL",
        "colab_type": "code",
        "colab": {
          "base_uri": "https://localhost:8080/"
        },
        "outputId": "7aef29d7-d747-4029-a0c3-d4565faff2ce"
      },
      "source": [
        "dnn_history = dnn_model.fit(tr_data,tr_label,epochs=40,batch_size=32, validation_data=(re_data, re_label))"
      ],
      "execution_count": null,
      "outputs": [
        {
          "output_type": "stream",
          "text": [
            "Epoch 1/40\n",
            "1030/1030 [==============================] - 5s 5ms/step - loss: 0.7494 - accuracy: 0.8244 - val_loss: 0.4916 - val_accuracy: 0.8680\n",
            "Epoch 2/40\n",
            "1030/1030 [==============================] - 5s 4ms/step - loss: 0.4277 - accuracy: 0.8751 - val_loss: 0.4951 - val_accuracy: 0.8789\n",
            "Epoch 3/40\n",
            "1030/1030 [==============================] - 5s 4ms/step - loss: 0.3397 - accuracy: 0.9012 - val_loss: 0.5463 - val_accuracy: 0.8773\n",
            "Epoch 4/40\n",
            "1030/1030 [==============================] - 5s 4ms/step - loss: 0.2994 - accuracy: 0.9112 - val_loss: 0.4270 - val_accuracy: 0.9028\n",
            "Epoch 5/40\n",
            "1030/1030 [==============================] - 5s 4ms/step - loss: 0.2858 - accuracy: 0.9148 - val_loss: 0.4096 - val_accuracy: 0.8868\n",
            "Epoch 6/40\n",
            "1030/1030 [==============================] - 5s 4ms/step - loss: 0.2698 - accuracy: 0.9185 - val_loss: 0.3594 - val_accuracy: 0.9092\n",
            "Epoch 7/40\n",
            "1030/1030 [==============================] - 5s 5ms/step - loss: 0.2601 - accuracy: 0.9228 - val_loss: 0.3909 - val_accuracy: 0.9049\n",
            "Epoch 8/40\n",
            "1030/1030 [==============================] - 5s 5ms/step - loss: 0.2466 - accuracy: 0.9257 - val_loss: 0.3507 - val_accuracy: 0.9182\n",
            "Epoch 9/40\n",
            "1030/1030 [==============================] - 5s 4ms/step - loss: 0.2405 - accuracy: 0.9260 - val_loss: 0.3585 - val_accuracy: 0.9135\n",
            "Epoch 10/40\n",
            "1030/1030 [==============================] - 5s 5ms/step - loss: 0.2340 - accuracy: 0.9279 - val_loss: 0.3587 - val_accuracy: 0.9171\n",
            "Epoch 11/40\n",
            "1030/1030 [==============================] - 5s 5ms/step - loss: 0.2204 - accuracy: 0.9316 - val_loss: 0.3759 - val_accuracy: 0.8969\n",
            "Epoch 12/40\n",
            "1030/1030 [==============================] - 5s 5ms/step - loss: 0.2209 - accuracy: 0.9322 - val_loss: 0.4301 - val_accuracy: 0.9164\n",
            "Epoch 13/40\n",
            "1030/1030 [==============================] - 5s 4ms/step - loss: 0.2106 - accuracy: 0.9353 - val_loss: 0.3627 - val_accuracy: 0.9213\n",
            "Epoch 14/40\n",
            "1030/1030 [==============================] - 5s 5ms/step - loss: 0.2002 - accuracy: 0.9385 - val_loss: 0.4378 - val_accuracy: 0.9161\n",
            "Epoch 15/40\n",
            "1030/1030 [==============================] - 5s 5ms/step - loss: 0.2008 - accuracy: 0.9375 - val_loss: 0.3694 - val_accuracy: 0.9194\n",
            "Epoch 16/40\n",
            "1030/1030 [==============================] - 5s 4ms/step - loss: 0.1978 - accuracy: 0.9385 - val_loss: 0.4279 - val_accuracy: 0.9164\n",
            "Epoch 17/40\n",
            "1030/1030 [==============================] - 5s 5ms/step - loss: 0.1927 - accuracy: 0.9417 - val_loss: 0.4230 - val_accuracy: 0.9140\n",
            "Epoch 18/40\n",
            "1030/1030 [==============================] - 5s 5ms/step - loss: 0.1885 - accuracy: 0.9409 - val_loss: 0.3877 - val_accuracy: 0.9180\n",
            "Epoch 19/40\n",
            "1030/1030 [==============================] - 5s 5ms/step - loss: 0.1799 - accuracy: 0.9439 - val_loss: 0.3693 - val_accuracy: 0.9175\n",
            "Epoch 20/40\n",
            "1030/1030 [==============================] - 5s 5ms/step - loss: 0.1880 - accuracy: 0.9419 - val_loss: 0.3941 - val_accuracy: 0.9140\n",
            "Epoch 21/40\n",
            "1030/1030 [==============================] - 5s 5ms/step - loss: 0.1792 - accuracy: 0.9442 - val_loss: 0.3857 - val_accuracy: 0.9192\n",
            "Epoch 22/40\n",
            "1030/1030 [==============================] - 5s 5ms/step - loss: 0.1758 - accuracy: 0.9457 - val_loss: 0.4532 - val_accuracy: 0.9130\n",
            "Epoch 23/40\n",
            "1030/1030 [==============================] - 5s 4ms/step - loss: 0.1724 - accuracy: 0.9464 - val_loss: 0.3800 - val_accuracy: 0.9224\n",
            "Epoch 24/40\n",
            "1030/1030 [==============================] - 5s 5ms/step - loss: 0.1697 - accuracy: 0.9469 - val_loss: 0.4172 - val_accuracy: 0.9195\n",
            "Epoch 25/40\n",
            "1030/1030 [==============================] - 5s 5ms/step - loss: 0.1659 - accuracy: 0.9483 - val_loss: 0.4350 - val_accuracy: 0.9158\n",
            "Epoch 26/40\n",
            "1030/1030 [==============================] - 5s 4ms/step - loss: 0.1659 - accuracy: 0.9473 - val_loss: 0.4383 - val_accuracy: 0.9157\n",
            "Epoch 27/40\n",
            "1030/1030 [==============================] - 5s 5ms/step - loss: 0.1700 - accuracy: 0.9481 - val_loss: 0.4208 - val_accuracy: 0.9185\n",
            "Epoch 28/40\n",
            "1030/1030 [==============================] - 5s 5ms/step - loss: 0.1626 - accuracy: 0.9494 - val_loss: 0.4452 - val_accuracy: 0.8988\n",
            "Epoch 29/40\n",
            "1030/1030 [==============================] - 5s 5ms/step - loss: 0.1638 - accuracy: 0.9492 - val_loss: 0.4224 - val_accuracy: 0.9167\n",
            "Epoch 30/40\n",
            "1030/1030 [==============================] - 5s 5ms/step - loss: 0.1541 - accuracy: 0.9527 - val_loss: 0.4068 - val_accuracy: 0.9157\n",
            "Epoch 31/40\n",
            "1030/1030 [==============================] - 5s 5ms/step - loss: 0.1544 - accuracy: 0.9508 - val_loss: 0.4438 - val_accuracy: 0.9115\n",
            "Epoch 32/40\n",
            "1030/1030 [==============================] - 5s 5ms/step - loss: 0.1548 - accuracy: 0.9513 - val_loss: 0.4209 - val_accuracy: 0.9205\n",
            "Epoch 33/40\n",
            "1030/1030 [==============================] - 5s 4ms/step - loss: 0.1566 - accuracy: 0.9512 - val_loss: 0.4637 - val_accuracy: 0.9186\n",
            "Epoch 34/40\n",
            "1030/1030 [==============================] - 5s 5ms/step - loss: 0.1519 - accuracy: 0.9531 - val_loss: 0.3969 - val_accuracy: 0.9175\n",
            "Epoch 35/40\n",
            "1030/1030 [==============================] - 5s 4ms/step - loss: 0.1497 - accuracy: 0.9544 - val_loss: 0.4106 - val_accuracy: 0.9206\n",
            "Epoch 36/40\n",
            "1030/1030 [==============================] - 5s 4ms/step - loss: 0.1508 - accuracy: 0.9529 - val_loss: 0.4583 - val_accuracy: 0.9202\n",
            "Epoch 37/40\n",
            "1030/1030 [==============================] - 5s 4ms/step - loss: 0.1451 - accuracy: 0.9552 - val_loss: 0.4275 - val_accuracy: 0.9193\n",
            "Epoch 38/40\n",
            "1030/1030 [==============================] - 5s 4ms/step - loss: 0.1453 - accuracy: 0.9547 - val_loss: 0.4555 - val_accuracy: 0.9187\n",
            "Epoch 39/40\n",
            "1030/1030 [==============================] - 5s 5ms/step - loss: 0.1440 - accuracy: 0.9552 - val_loss: 0.4740 - val_accuracy: 0.9087\n",
            "Epoch 40/40\n",
            "1030/1030 [==============================] - 5s 5ms/step - loss: 0.1462 - accuracy: 0.9544 - val_loss: 0.4137 - val_accuracy: 0.9224\n"
          ],
          "name": "stdout"
        }
      ]
    },
    {
      "cell_type": "markdown",
      "metadata": {
        "id": "MrnRlMJnCFzz",
        "colab_type": "text"
      },
      "source": [
        "###CNN MODEL 학습"
      ]
    },
    {
      "cell_type": "code",
      "metadata": {
        "id": "875Lgtz9CDq0",
        "colab_type": "code",
        "colab": {
          "base_uri": "https://localhost:8080/",
          "height": 197
        },
        "outputId": "dcb7853e-b34a-4bba-e07a-903f12c71bcd"
      },
      "source": [
        "cnn_history_1 = cnn_model_main.fit(tr_c_data , tr_label , epochs=5 , batch_size=32, validation_data=(te_c_data, te_label))"
      ],
      "execution_count": 23,
      "outputs": [
        {
          "output_type": "stream",
          "text": [
            "Epoch 1/5\n",
            "9754/9754 [==============================] - 41s 4ms/step - loss: 0.3085 - accuracy: 0.8885 - val_loss: 0.7770 - val_accuracy: 0.7776\n",
            "Epoch 2/5\n",
            "9754/9754 [==============================] - 39s 4ms/step - loss: 0.1364 - accuracy: 0.9497 - val_loss: 1.0576 - val_accuracy: 0.7853\n",
            "Epoch 3/5\n",
            "9754/9754 [==============================] - 39s 4ms/step - loss: 0.0997 - accuracy: 0.9642 - val_loss: 1.0624 - val_accuracy: 0.7821\n",
            "Epoch 4/5\n",
            "9754/9754 [==============================] - 39s 4ms/step - loss: 0.0826 - accuracy: 0.9709 - val_loss: 1.0449 - val_accuracy: 0.7946\n",
            "Epoch 5/5\n",
            "9754/9754 [==============================] - 39s 4ms/step - loss: 0.0751 - accuracy: 0.9740 - val_loss: 1.1258 - val_accuracy: 0.7861\n"
          ],
          "name": "stdout"
        }
      ]
    },
    {
      "cell_type": "code",
      "metadata": {
        "id": "VZ5sJh_aY8cx",
        "colab_type": "code",
        "colab": {
          "base_uri": "https://localhost:8080/",
          "height": 197
        },
        "outputId": "02d6bf78-1da0-4b8c-eb34-4cd5b59465b9"
      },
      "source": [
        "cnn_history_2 = cnn_model_sub.fit(tr_c_data , tr_label , epochs=5 , batch_size=32, validation_data=(te_c_data, te_label))"
      ],
      "execution_count": 24,
      "outputs": [
        {
          "output_type": "stream",
          "text": [
            "Epoch 1/5\n",
            "9754/9754 [==============================] - 38s 4ms/step - loss: 0.2841 - accuracy: 0.9001 - val_loss: 0.7885 - val_accuracy: 0.7880\n",
            "Epoch 2/5\n",
            "9754/9754 [==============================] - 37s 4ms/step - loss: 0.1581 - accuracy: 0.9433 - val_loss: 1.1271 - val_accuracy: 0.7652\n",
            "Epoch 3/5\n",
            "9754/9754 [==============================] - 38s 4ms/step - loss: 0.1307 - accuracy: 0.9538 - val_loss: 1.1064 - val_accuracy: 0.7831\n",
            "Epoch 4/5\n",
            "9754/9754 [==============================] - 37s 4ms/step - loss: 0.1160 - accuracy: 0.9601 - val_loss: 1.2171 - val_accuracy: 0.7740\n",
            "Epoch 5/5\n",
            "9754/9754 [==============================] - 37s 4ms/step - loss: 0.1088 - accuracy: 0.9630 - val_loss: 1.1921 - val_accuracy: 0.7820\n"
          ],
          "name": "stdout"
        }
      ]
    },
    {
      "cell_type": "markdown",
      "metadata": {
        "id": "Xll5C_K8CI4e",
        "colab_type": "text"
      },
      "source": [
        "##**모델 평가**"
      ]
    },
    {
      "cell_type": "markdown",
      "metadata": {
        "id": "9p73QCKiCKAk",
        "colab_type": "text"
      },
      "source": [
        "###<h2>Deep Neural Network Model</h2>"
      ]
    },
    {
      "cell_type": "markdown",
      "metadata": {
        "id": "V2V2VdKmCLMI",
        "colab_type": "text"
      },
      "source": [
        "####테스트 데이터 평가"
      ]
    },
    {
      "cell_type": "code",
      "metadata": {
        "id": "7eEHvNXMCMdI",
        "colab_type": "code",
        "colab": {
          "base_uri": "https://localhost:8080/",
          "height": 53
        },
        "outputId": "6cadacaa-4a35-4c18-9ef3-438210fd7eec"
      },
      "source": [
        "dnn_model.evaluate(te_data, te_label,verbose=2)"
      ],
      "execution_count": null,
      "outputs": [
        {
          "output_type": "stream",
          "text": [
            "567/567 - 0s - loss: 0.9174 - accuracy: 0.7877\n"
          ],
          "name": "stdout"
        },
        {
          "output_type": "execute_result",
          "data": {
            "text/plain": [
              "[0.9173938632011414, 0.7876965403556824]"
            ]
          },
          "metadata": {
            "tags": []
          },
          "execution_count": 22
        }
      ]
    },
    {
      "cell_type": "markdown",
      "metadata": {
        "id": "uAFabG9cCNbz",
        "colab_type": "text"
      },
      "source": [
        "####실제 데이터 평가"
      ]
    },
    {
      "cell_type": "code",
      "metadata": {
        "id": "Qealx4FrCOhr",
        "colab_type": "code",
        "colab": {
          "base_uri": "https://localhost:8080/",
          "height": 53
        },
        "outputId": "4d30b521-d5f1-4501-bdf1-5cd02693e5c6"
      },
      "source": [
        "dnn_model.evaluate(re_data, re_label,verbose=2)"
      ],
      "execution_count": null,
      "outputs": [
        {
          "output_type": "stream",
          "text": [
            "1663/1663 - 1s - loss: 2.1718 - accuracy: 0.8431\n"
          ],
          "name": "stdout"
        },
        {
          "output_type": "execute_result",
          "data": {
            "text/plain": [
              "[2.171750783920288, 0.8431428074836731]"
            ]
          },
          "metadata": {
            "tags": []
          },
          "execution_count": 23
        }
      ]
    },
    {
      "cell_type": "code",
      "metadata": {
        "id": "aREcZGVoEcH_",
        "colab_type": "code",
        "colab": {
          "base_uri": "https://localhost:8080/",
          "height": 35
        },
        "outputId": "a4327a54-52ce-416c-8738-305bca58c834"
      },
      "source": [
        "train_label_count=[0,0,0,0,0,0,0,0]\n",
        "for x in train_label:\n",
        "  train_label_count[x] = train_label_count[x] + 1\n",
        "print(train_label_count)"
      ],
      "execution_count": null,
      "outputs": [
        {
          "output_type": "stream",
          "text": [
            "[47028, 31225, 31242, 33660, 30400, 36469, 36097, 15117]\n"
          ],
          "name": "stdout"
        }
      ]
    },
    {
      "cell_type": "code",
      "metadata": {
        "id": "0iaBdgvDmqWX",
        "colab_type": "code",
        "colab": {
          "base_uri": "https://localhost:8080/",
          "height": 35
        },
        "outputId": "1ac45061-6de8-4966-b934-a667700891f3"
      },
      "source": [
        "test_label_count=[0,0,0,0,0,0,0,0]\n",
        "for x in test_label:\n",
        "  test_label_count[x] = test_label_count[x] + 1\n",
        "print(test_label_count)"
      ],
      "execution_count": null,
      "outputs": [
        {
          "output_type": "stream",
          "text": [
            "[6592, 1203, 980, 592, 1259, 262, 256, 589]\n"
          ],
          "name": "stdout"
        }
      ]
    },
    {
      "cell_type": "code",
      "metadata": {
        "id": "sl0Yd-rqmqx4",
        "colab_type": "code",
        "colab": {
          "base_uri": "https://localhost:8080/",
          "height": 35
        },
        "outputId": "1cef8d6d-99e9-44c2-8ee9-4337b6acb28e"
      },
      "source": [
        "real_label_count=[0,0,0,0,0,0,0,0]\n",
        "for x in real_label:\n",
        "  real_label_count[x] = real_label_count[x] + 1\n",
        "print(real_label_count)"
      ],
      "execution_count": null,
      "outputs": [
        {
          "output_type": "stream",
          "text": [
            "[23382, 4243, 3109, 1520, 1583, 1571, 1168, 16685]\n"
          ],
          "name": "stdout"
        }
      ]
    },
    {
      "cell_type": "markdown",
      "metadata": {
        "id": "tF2N67VFCRVj",
        "colab_type": "text"
      },
      "source": [
        "###<h2>Convolution Neural Network Model</h2>"
      ]
    },
    {
      "cell_type": "markdown",
      "metadata": {
        "id": "ZCvkAmFYCTUT",
        "colab_type": "text"
      },
      "source": [
        "####테스트 데이터 평가"
      ]
    },
    {
      "cell_type": "code",
      "metadata": {
        "id": "Pq7o9LKDCSkx",
        "colab_type": "code",
        "colab": {}
      },
      "source": [
        "cnn_model.evaluate(te_c_data, te_label,verbose=2)"
      ],
      "execution_count": null,
      "outputs": []
    },
    {
      "cell_type": "markdown",
      "metadata": {
        "id": "-eIFHLcpCU3w",
        "colab_type": "text"
      },
      "source": [
        "####실제 데이터 평가"
      ]
    },
    {
      "cell_type": "code",
      "metadata": {
        "id": "J15dR1pmCVse",
        "colab_type": "code",
        "colab": {
          "base_uri": "https://localhost:8080/",
          "height": 52
        },
        "outputId": "b3aa670a-6e1a-4a74-de13-e0f3c49b53dc"
      },
      "source": [
        "cnn_model.evaluate(re_c_data, re_label,verbose=2)"
      ],
      "execution_count": null,
      "outputs": [
        {
          "output_type": "stream",
          "text": [
            "1663/1663 - 3s - loss: 4.4499 - accuracy: 0.4535\n"
          ],
          "name": "stdout"
        },
        {
          "output_type": "execute_result",
          "data": {
            "text/plain": [
              "[4.449945449829102, 0.45345211029052734]"
            ]
          },
          "metadata": {
            "tags": []
          },
          "execution_count": 48
        }
      ]
    },
    {
      "cell_type": "markdown",
      "metadata": {
        "id": "zqej-uTUCXu5",
        "colab_type": "text"
      },
      "source": [
        "##<h2>**모델 예측**</h2>"
      ]
    },
    {
      "cell_type": "markdown",
      "metadata": {
        "id": "7o0RS7h0CYrF",
        "colab_type": "text"
      },
      "source": [
        "###DNN 예측"
      ]
    },
    {
      "cell_type": "code",
      "metadata": {
        "id": "MLy4I3lTCZZ2",
        "colab_type": "code",
        "colab": {}
      },
      "source": [
        "#dnn_test_predictions = dnn_model.predict(te_data)\n",
        "dnn_real_predictions = dnn_model.predict(re_data)"
      ],
      "execution_count": null,
      "outputs": []
    },
    {
      "cell_type": "markdown",
      "metadata": {
        "id": "xWwS2DuKCcW6",
        "colab_type": "text"
      },
      "source": [
        "####dnn 테스트 데이터"
      ]
    },
    {
      "cell_type": "code",
      "metadata": {
        "id": "GTnIIkekCcLr",
        "colab_type": "code",
        "colab": {
          "base_uri": "https://localhost:8080/",
          "height": 449
        },
        "outputId": "fbef63d2-ef85-4176-d10b-2a11aac4233f"
      },
      "source": [
        "matrix = confusion_matrix(te_label, dnn_test_predictions.argmax(axis=1))\n",
        "print(matrix)\n",
        "print(np.bincount(te_label)[:, np.newaxis])\n",
        "print((matrix / np.bincount(te_label)[:, np.newaxis] * 100).astype(np.int))"
      ],
      "execution_count": null,
      "outputs": [
        {
          "output_type": "stream",
          "text": [
            "[[5296  157  200   53  137  386  280   64]\n",
            " [  67  884    1   87   27   92   37    2]\n",
            " [  42    2  583   19  116   14  178   11]\n",
            " [   8  128    9  402   15   19   11    0]\n",
            " [  91    0   85   27 1011   28   17    0]\n",
            " [  41   56    0    0    2  137   26    0]\n",
            " [ 121    0    7    0    0    4  124    0]\n",
            " [ 356   22    0    0    0    0    0  204]]\n",
            "[[6573]\n",
            " [1197]\n",
            " [ 965]\n",
            " [ 592]\n",
            " [1259]\n",
            " [ 262]\n",
            " [ 256]\n",
            " [ 582]]\n",
            "[[80  2  3  0  2  5  4  0]\n",
            " [ 5 73  0  7  2  7  3  0]\n",
            " [ 4  0 60  1 12  1 18  1]\n",
            " [ 1 21  1 67  2  3  1  0]\n",
            " [ 7  0  6  2 80  2  1  0]\n",
            " [15 21  0  0  0 52  9  0]\n",
            " [47  0  2  0  0  1 48  0]\n",
            " [61  3  0  0  0  0  0 35]]\n"
          ],
          "name": "stdout"
        }
      ]
    },
    {
      "cell_type": "markdown",
      "metadata": {
        "id": "8LDjmct_Ce6z",
        "colab_type": "text"
      },
      "source": [
        "####dnn 실제 데이터"
      ]
    },
    {
      "cell_type": "code",
      "metadata": {
        "id": "HogIgGctChhV",
        "colab_type": "code",
        "colab": {
          "base_uri": "https://localhost:8080/"
        },
        "outputId": "9e679743-ecae-4538-d2c0-ee01e23b3c61"
      },
      "source": [
        "matrix = confusion_matrix(re_label, dnn_real_predictions.argmax(axis=1))\n",
        "print(matrix)\n",
        "print(np.bincount(re_label)[:, np.newaxis])\n",
        "print((matrix / np.bincount(re_label)[:, np.newaxis] * 100).astype(np.int))"
      ],
      "execution_count": null,
      "outputs": [
        {
          "output_type": "stream",
          "text": [
            "[[7863   36  117   36   22   38   68   18]\n",
            " [ 258 1426    0   65    0   71    9    0]\n",
            " [ 139    1  802    8   63   46   44   18]\n",
            " [  20   46    0  647    0    1    1    0]\n",
            " [  17    0   47    0  753    5    5    5]\n",
            " [  45   96    2    0    0  232   50    0]\n",
            " [  27    7   55    0    0   26  194    0]\n",
            " [  57    0    0    0    0    0    0 6729]]\n",
            "[[8198]\n",
            " [1829]\n",
            " [1121]\n",
            " [ 715]\n",
            " [ 832]\n",
            " [ 425]\n",
            " [ 309]\n",
            " [6786]]\n",
            "[[95  0  1  0  0  0  0  0]\n",
            " [14 77  0  3  0  3  0  0]\n",
            " [12  0 71  0  5  4  3  1]\n",
            " [ 2  6  0 90  0  0  0  0]\n",
            " [ 2  0  5  0 90  0  0  0]\n",
            " [10 22  0  0  0 54 11  0]\n",
            " [ 8  2 17  0  0  8 62  0]\n",
            " [ 0  0  0  0  0  0  0 99]]\n"
          ],
          "name": "stdout"
        }
      ]
    },
    {
      "cell_type": "markdown",
      "metadata": {
        "id": "eTtw1pmTi8Vs",
        "colab_type": "text"
      },
      "source": [
        "###CNN 예측"
      ]
    },
    {
      "cell_type": "code",
      "metadata": {
        "id": "OSjv8amOi68i",
        "colab_type": "code",
        "colab": {}
      },
      "source": [
        "cnn_test_predictions_1 = cnn_model_main.predict(te_c_data)\n",
        "cnn_test_predictions_2 = cnn_model_sub.predict(te_c_data)\n",
        "cnn_real_predictions_1 = cnn_model_main.predict(re_c_data)\n",
        "cnn_real_predictions_2 = cnn_model_sub.predict(re_c_data)\n"
      ],
      "execution_count": 25,
      "outputs": []
    },
    {
      "cell_type": "markdown",
      "metadata": {
        "id": "46Kr0AdzZTQ0",
        "colab_type": "text"
      },
      "source": [
        "####Model Merge"
      ]
    },
    {
      "cell_type": "code",
      "metadata": {
        "id": "Zm4-0CO0xQwA",
        "colab_type": "code",
        "colab": {
          "base_uri": "https://localhost:8080/",
          "height": 35
        },
        "outputId": "ebdcb30e-9bd8-477b-a096-9db31a09bb15"
      },
      "source": [
        "print(type(cnn_test_predictions_1))\n",
        "count = 0\n",
        "cnn_test_predictions = []\n",
        "for main_pred in cnn_test_predictions_1:\n",
        "  #if np.argmax(cnn_test_predictions_2[count]) == np.argmax(main_pred):\n",
        "  #  cnn_test_predictions.append(np.argmax(main_pred))\n",
        "  #elif np.argmax(main_pred) == 1:\n",
        "  #  cnn_test_predictions.append(np.argmax(main_pred))\n",
        "  #elif np.argmax(main_pred) == 5:\n",
        "  #  cnn_test_predictions.append(np.argmax(main_pred))\n",
        "  #elif np.argmax(cnn_real_predictions_2[count]) == 0:\n",
        "  #  cnn_test_predictions.append(np.argmax(cnn_test_predictions_2[count]))\n",
        "  if 0 < np.argmax(cnn_test_predictions_2[count]) < 5:\n",
        "    cnn_test_predictions.append(np.argmax(cnn_test_predictions_2[count]))\n",
        "  else:\n",
        "    cnn_test_predictions.append(np.argmax(main_pred))\n",
        "    #cnn_test_predictions.append(np.argmax(cnn_test_predictions_2[count]))\n",
        "  count = count + 1\n",
        "cnn_test_predictions = np.array(cnn_test_predictions)"
      ],
      "execution_count": 26,
      "outputs": [
        {
          "output_type": "stream",
          "text": [
            "<class 'numpy.ndarray'>\n"
          ],
          "name": "stdout"
        }
      ]
    },
    {
      "cell_type": "code",
      "metadata": {
        "id": "hUXXbpzoZWRa",
        "colab_type": "code",
        "colab": {
          "base_uri": "https://localhost:8080/",
          "height": 35
        },
        "outputId": "bdaac749-1c6c-4064-90a8-9e09957475c5"
      },
      "source": [
        "print(type(cnn_real_predictions_1))\n",
        "count = 0\n",
        "cnn_real_predictions = []\n",
        "for main_pred in cnn_real_predictions_1:\n",
        "  #if np.argmax(cnn_real_predictions_2[count]) == np.argmax(main_pred):\n",
        "  #  cnn_real_predictions.append(np.argmax(main_pred))\n",
        "  #elif np.argmax(main_pred) == 1:\n",
        "  #  cnn_real_predictions.append(np.argmax(main_pred))\n",
        "  #elif np.argmax(main_pred) == 5:\n",
        "  #  cnn_real_predictions.append(np.argmax(main_pred))\n",
        "  #elif np.argmax(cnn_real_predictions_2[count]) == 0:\n",
        "  #  cnn_real_predictions.append(np.argmax(cnn_real_predictions_2[count]))\n",
        "  if 0 < np.argmax(cnn_real_predictions_2[count]) < 5:\n",
        "    cnn_real_predictions.append(np.argmax(cnn_real_predictions_2[count]))\n",
        "  else:\n",
        "    cnn_real_predictions.append(np.argmax(main_pred))\n",
        "    #cnn_real_predictions.append(np.argmax(cnn_real_predictions_2[count]))\n",
        "  count = count + 1\n",
        "cnn_real_predictions = np.array(cnn_real_predictions)"
      ],
      "execution_count": 27,
      "outputs": [
        {
          "output_type": "stream",
          "text": [
            "<class 'numpy.ndarray'>\n"
          ],
          "name": "stdout"
        }
      ]
    },
    {
      "cell_type": "markdown",
      "metadata": {
        "id": "T-jjt1vxCkCn",
        "colab_type": "text"
      },
      "source": [
        "####cnn 테스트 데이터"
      ]
    },
    {
      "cell_type": "code",
      "metadata": {
        "id": "L7w6CAPpCqfD",
        "colab_type": "code",
        "colab": {
          "base_uri": "https://localhost:8080/",
          "height": 449
        },
        "outputId": "2ee2cd21-a2fa-4d0b-da6a-aef3ba13a521"
      },
      "source": [
        "matrix = confusion_matrix(te_label, cnn_test_predictions)#_2.argmax(axis=1))\n",
        "print(matrix)\n",
        "print(np.bincount(te_label)[:, np.newaxis])\n",
        "print((matrix / np.bincount(te_label)[:, np.newaxis] * 100).astype(np.int))"
      ],
      "execution_count": 28,
      "outputs": [
        {
          "output_type": "stream",
          "text": [
            "[[8345  409  503   97  148  526  406   29]\n",
            " [ 158 1616    6  102    1   35   83    0]\n",
            " [ 189    2 1684   43  155   18   87    2]\n",
            " [  42   71    0  451    1   26    1    0]\n",
            " [  98    4   53    5 1081   15    3    0]\n",
            " [ 145   63   31   17    1  269    2    0]\n",
            " [  93   11  160    0    0    0  182    0]\n",
            " [   0    4    0    0    0    0    0  578]]\n",
            "[[10463]\n",
            " [ 2001]\n",
            " [ 2180]\n",
            " [  592]\n",
            " [ 1259]\n",
            " [  528]\n",
            " [  446]\n",
            " [  582]]\n",
            "[[79  3  4  0  1  5  3  0]\n",
            " [ 7 80  0  5  0  1  4  0]\n",
            " [ 8  0 77  1  7  0  3  0]\n",
            " [ 7 11  0 76  0  4  0  0]\n",
            " [ 7  0  4  0 85  1  0  0]\n",
            " [27 11  5  3  0 50  0  0]\n",
            " [20  2 35  0  0  0 40  0]\n",
            " [ 0  0  0  0  0  0  0 99]]\n"
          ],
          "name": "stdout"
        }
      ]
    },
    {
      "cell_type": "code",
      "metadata": {
        "id": "mUJdlYxCxDdB",
        "colab_type": "code",
        "colab": {
          "base_uri": "https://localhost:8080/",
          "height": 449
        },
        "outputId": "f9b53c72-eb42-4643-942e-c5677f35912f"
      },
      "source": [
        "matrix = confusion_matrix(te_label, cnn_test_predictions_1.argmax(axis=1))\n",
        "print(matrix)\n",
        "print(np.bincount(te_label)[:, np.newaxis])\n",
        "print((matrix / np.bincount(te_label)[:, np.newaxis] * 100).astype(np.int))"
      ],
      "execution_count": 29,
      "outputs": [
        {
          "output_type": "stream",
          "text": [
            "[[8539  309  392   90  145  529  430   29]\n",
            " [ 323 1475    6   45    1   39  112    0]\n",
            " [ 303    0 1564   35  154   21  101    2]\n",
            " [  46   32    0  469    7   37    1    0]\n",
            " [ 100    4   51    5 1081   15    3    0]\n",
            " [ 150   37   26   20    1  292    2    0]\n",
            " [  93    2  159    0    0    0  192    0]\n",
            " [   0    4    0    0    0    0    0  578]]\n",
            "[[10463]\n",
            " [ 2001]\n",
            " [ 2180]\n",
            " [  592]\n",
            " [ 1259]\n",
            " [  528]\n",
            " [  446]\n",
            " [  582]]\n",
            "[[81  2  3  0  1  5  4  0]\n",
            " [16 73  0  2  0  1  5  0]\n",
            " [13  0 71  1  7  0  4  0]\n",
            " [ 7  5  0 79  1  6  0  0]\n",
            " [ 7  0  4  0 85  1  0  0]\n",
            " [28  7  4  3  0 55  0  0]\n",
            " [20  0 35  0  0  0 43  0]\n",
            " [ 0  0  0  0  0  0  0 99]]\n"
          ],
          "name": "stdout"
        }
      ]
    },
    {
      "cell_type": "code",
      "metadata": {
        "id": "KBzFjFe2xM6R",
        "colab_type": "code",
        "colab": {
          "base_uri": "https://localhost:8080/",
          "height": 449
        },
        "outputId": "15038d71-181e-4e96-daeb-95a9dc1b4401"
      },
      "source": [
        "matrix = confusion_matrix(te_label, cnn_test_predictions_2.argmax(axis=1))\n",
        "print(matrix)\n",
        "print(np.bincount(te_label)[:, np.newaxis])\n",
        "print((matrix / np.bincount(te_label)[:, np.newaxis] * 100).astype(np.int))"
      ],
      "execution_count": 30,
      "outputs": [
        {
          "output_type": "stream",
          "text": [
            "[[8548  319  333   40   13  827  371   12]\n",
            " [ 230 1469    0   76    0  137   89    0]\n",
            " [ 239    2 1624   34  138   29  109    5]\n",
            " [  41   70    0  415    0   52   14    0]\n",
            " [ 191    0   53    0  986    7   22    0]\n",
            " [ 154   58   13    4    1  250   48    0]\n",
            " [  92    9   97    0    0    0  248    0]\n",
            " [   6    0    0    0    0    0    0  576]]\n",
            "[[10463]\n",
            " [ 2001]\n",
            " [ 2180]\n",
            " [  592]\n",
            " [ 1259]\n",
            " [  528]\n",
            " [  446]\n",
            " [  582]]\n",
            "[[81  3  3  0  0  7  3  0]\n",
            " [11 73  0  3  0  6  4  0]\n",
            " [10  0 74  1  6  1  5  0]\n",
            " [ 6 11  0 70  0  8  2  0]\n",
            " [15  0  4  0 78  0  1  0]\n",
            " [29 10  2  0  0 47  9  0]\n",
            " [20  2 21  0  0  0 55  0]\n",
            " [ 1  0  0  0  0  0  0 98]]\n"
          ],
          "name": "stdout"
        }
      ]
    },
    {
      "cell_type": "markdown",
      "metadata": {
        "id": "QknuD2EwCqqj",
        "colab_type": "text"
      },
      "source": [
        "####cnn 실제 데이터"
      ]
    },
    {
      "cell_type": "code",
      "metadata": {
        "id": "zfW1Ge2UiWkW",
        "colab_type": "code",
        "colab": {
          "base_uri": "https://localhost:8080/",
          "height": 449
        },
        "outputId": "a6972f50-e21a-4e7e-daf0-28b081d5b547"
      },
      "source": [
        "matrix = confusion_matrix(re_label, cnn_real_predictions)#_2.argmax(axis=1))\n",
        "print(matrix)\n",
        "print(np.bincount(re_label)[:, np.newaxis])\n",
        "print((matrix / np.bincount(re_label)[:, np.newaxis] * 100).astype(np.int))"
      ],
      "execution_count": 31,
      "outputs": [
        {
          "output_type": "stream",
          "text": [
            "[[22626    14    82    68   129   142   104   217]\n",
            " [ 1962  1774     0   189     5   287     3    23]\n",
            " [ 1148     0  1432     0   295    75   155     4]\n",
            " [  125    81     3  1273     2    18     5    13]\n",
            " [   24     0     1     0  1473     0     4    65]\n",
            " [  439    83     0    47     5   961    36     0]\n",
            " [  296     0    93    15   109     4   651     0]\n",
            " [  262     2     0   104    25     0     0 16261]]\n",
            "[[23382]\n",
            " [ 4243]\n",
            " [ 3109]\n",
            " [ 1520]\n",
            " [ 1567]\n",
            " [ 1571]\n",
            " [ 1168]\n",
            " [16654]]\n",
            "[[96  0  0  0  0  0  0  0]\n",
            " [46 41  0  4  0  6  0  0]\n",
            " [36  0 46  0  9  2  4  0]\n",
            " [ 8  5  0 83  0  1  0  0]\n",
            " [ 1  0  0  0 94  0  0  4]\n",
            " [27  5  0  2  0 61  2  0]\n",
            " [25  0  7  1  9  0 55  0]\n",
            " [ 1  0  0  0  0  0  0 97]]\n"
          ],
          "name": "stdout"
        }
      ]
    },
    {
      "cell_type": "code",
      "metadata": {
        "id": "9sGf6Oszf3A3",
        "colab_type": "code",
        "colab": {
          "base_uri": "https://localhost:8080/",
          "height": 449
        },
        "outputId": "261215d9-5393-41c8-ab12-77ec99eb5151"
      },
      "source": [
        "matrix = confusion_matrix(re_label, cnn_real_predictions_1.argmax(axis=1))\n",
        "print(matrix)\n",
        "print(np.bincount(re_label)[:, np.newaxis])\n",
        "print((matrix / np.bincount(re_label)[:, np.newaxis] * 100).astype(np.int))"
      ],
      "execution_count": 32,
      "outputs": [
        {
          "output_type": "stream",
          "text": [
            "[[22670     6    62    49   127   143   104   221]\n",
            " [ 2099  1554     0   218     2   344     3    23]\n",
            " [ 1268     0  1275     0   315    77   170     4]\n",
            " [  130    11     3  1295     3    21    13    44]\n",
            " [   27     0     0     0  1468     0     4    68]\n",
            " [  453    42     0    40     6   994    36     0]\n",
            " [  306     0    48    15   101     4   694     0]\n",
            " [  263     1     0   104    25     0     0 16261]]\n",
            "[[23382]\n",
            " [ 4243]\n",
            " [ 3109]\n",
            " [ 1520]\n",
            " [ 1567]\n",
            " [ 1571]\n",
            " [ 1168]\n",
            " [16654]]\n",
            "[[96  0  0  0  0  0  0  0]\n",
            " [49 36  0  5  0  8  0  0]\n",
            " [40  0 41  0 10  2  5  0]\n",
            " [ 8  0  0 85  0  1  0  2]\n",
            " [ 1  0  0  0 93  0  0  4]\n",
            " [28  2  0  2  0 63  2  0]\n",
            " [26  0  4  1  8  0 59  0]\n",
            " [ 1  0  0  0  0  0  0 97]]\n"
          ],
          "name": "stdout"
        }
      ]
    },
    {
      "cell_type": "code",
      "metadata": {
        "id": "oiwBaY7qCrAz",
        "colab_type": "code",
        "colab": {
          "base_uri": "https://localhost:8080/",
          "height": 449
        },
        "outputId": "4d22248c-dbc0-42af-f6c8-66777f83eb6b"
      },
      "source": [
        "matrix = confusion_matrix(re_label, cnn_real_predictions_2.argmax(axis=1))\n",
        "print(matrix)\n",
        "print(np.bincount(re_label)[:, np.newaxis])\n",
        "print((matrix / np.bincount(re_label)[:, np.newaxis] * 100).astype(np.int))"
      ],
      "execution_count": 33,
      "outputs": [
        {
          "output_type": "stream",
          "text": [
            "[[22794     8    40    54    39   192   110   145]\n",
            " [ 2311  1386     0   149     3   372     2    20]\n",
            " [ 1502     0  1118     0   225    88   172     4]\n",
            " [  185    77     0  1215     0    40     0     3]\n",
            " [   97     0     1     0  1321     1     9   138]\n",
            " [  470    59     0    32     0   974    36     0]\n",
            " [  338     0    68     0    48    10   704     0]\n",
            " [  285     1     0    89     7     0     0 16272]]\n",
            "[[23382]\n",
            " [ 4243]\n",
            " [ 3109]\n",
            " [ 1520]\n",
            " [ 1567]\n",
            " [ 1571]\n",
            " [ 1168]\n",
            " [16654]]\n",
            "[[97  0  0  0  0  0  0  0]\n",
            " [54 32  0  3  0  8  0  0]\n",
            " [48  0 35  0  7  2  5  0]\n",
            " [12  5  0 79  0  2  0  0]\n",
            " [ 6  0  0  0 84  0  0  8]\n",
            " [29  3  0  2  0 61  2  0]\n",
            " [28  0  5  0  4  0 60  0]\n",
            " [ 1  0  0  0  0  0  0 97]]\n"
          ],
          "name": "stdout"
        }
      ]
    },
    {
      "cell_type": "markdown",
      "metadata": {
        "id": "-CMUR6MEACBo",
        "colab_type": "text"
      },
      "source": [
        "## 예측결과 출력 DNN TEST"
      ]
    },
    {
      "cell_type": "code",
      "metadata": {
        "id": "4S2qDArOARLg",
        "colab_type": "code",
        "colab": {}
      },
      "source": [
        "#dnn_test_predictions = dnn_model.predict(te_data)\n",
        "txt = 'Pred_Direction,TEST_Direction\\n'\n",
        "count = 0\n",
        "for temp in te_data:\n",
        "  if(np.argmax(dnn_test_predictions[count]) == 0):\n",
        "  #  print('straight')\n",
        "    txt = txt + 'straight,'\n",
        "  elif(np.argmax(dnn_test_predictions[count]) == 1):\n",
        "  #  print('left')\n",
        "    txt = txt + 'curve_left,'\n",
        "  elif(np.argmax(dnn_test_predictions[count]) == 2):\n",
        "    txt = txt + 'curve_right,'\n",
        "  elif(np.argmax(dnn_test_predictions[count]) == 3):\n",
        "    txt = txt + 'left,' \n",
        "  elif(np.argmax(dnn_test_predictions[count]) == 4):\n",
        "    txt = txt + 'right,'\n",
        "  elif(np.argmax(dnn_test_predictions[count]) == 5):\n",
        "    txt = txt + 'change_left,'\n",
        "  elif(np.argmax(dnn_test_predictions[count]) == 6):\n",
        "    txt = txt + 'change_right,'\n",
        "  else:\n",
        "    txt = txt + 'stop,'\n",
        "  if(test_file_label[count] == 0):\n",
        "    txt = txt + 'straight\\n'\n",
        "  elif(test_file_label[count] == 1):\n",
        "    txt = txt + 'curve_left\\n'\n",
        "  elif(test_file_label[count] == 2):\n",
        "    txt = txt + 'curve_right\\n'\n",
        "  elif(test_file_label[count] == 3):\n",
        "    txt = txt + 'left\\n'\n",
        "  elif(test_file_label[count] == 4):\n",
        "    txt = txt + 'right\\n' \n",
        "  elif(test_file_label[count] == 5):\n",
        "    txt = txt + 'change_left\\n'\n",
        "  elif(test_file_label[count] == 6):\n",
        "    txt = txt + 'change_right\\n'\n",
        "  else:\n",
        "    txt = txt + 'stop\\n'\n",
        "  count = count + 1"
      ],
      "execution_count": null,
      "outputs": []
    },
    {
      "cell_type": "code",
      "metadata": {
        "id": "lD8FZ4peAy64",
        "colab_type": "code",
        "colab": {}
      },
      "source": [
        "f = open(\"/content/dnn_test_pred_output.csv\",'w')\n",
        "f.write(txt)\n",
        "f.close()"
      ],
      "execution_count": null,
      "outputs": []
    },
    {
      "cell_type": "markdown",
      "metadata": {
        "id": "vIl9mqkxAHXu",
        "colab_type": "text"
      },
      "source": [
        "## 예측결과 출력 CNN TEST"
      ]
    },
    {
      "cell_type": "code",
      "metadata": {
        "id": "sBPw8lASARcu",
        "colab_type": "code",
        "colab": {}
      },
      "source": [
        "#cnn_test_predictions = cnn_model.predict(te_c_data)\n",
        "txt = 'Pred_Direction,TEST_Direction\\n'\n",
        "count = 0\n",
        "for temp in te_c_data:\n",
        "  if(np.argmax(cnn_test_predictions[count]) == 0):\n",
        "  #  print('straight')\n",
        "    txt = txt + 'straight,'\n",
        "  elif(np.argmax(cnn_test_predictions[count]) == 1):\n",
        "  #  print('left')\n",
        "    txt = txt + 'curve_left,'\n",
        "  elif(np.argmax(cnn_test_predictions[count]) == 2):\n",
        "    txt = txt + 'curve_right,'\n",
        "  elif(np.argmax(cnn_test_predictions[count]) == 3):\n",
        "    txt = txt + 'left,' \n",
        "  elif(np.argmax(cnn_test_predictions[count]) == 4):\n",
        "    txt = txt + 'right,'\n",
        "  elif(np.argmax(cnn_test_predictions[count]) == 5):\n",
        "    txt = txt + 'change_left,'\n",
        "  elif(np.argmax(cnn_test_predictions[count]) == 6):\n",
        "    txt = txt + 'change_right,'\n",
        "  else:\n",
        "    txt = txt + 'stop,'\n",
        "  if(test_file_label[count] == 0):\n",
        "    txt = txt + 'straight\\n'\n",
        "  elif(test_file_label[count] == 1):\n",
        "    txt = txt + 'curve_left\\n'\n",
        "  elif(test_file_label[count] == 2):\n",
        "    txt = txt + 'curve_right\\n'\n",
        "  elif(test_file_label[count] == 3):\n",
        "    txt = txt + 'left\\n'\n",
        "  elif(test_file_label[count] == 4):\n",
        "    txt = txt + 'right\\n' \n",
        "  elif(test_file_label[count] == 5):\n",
        "    txt = txt + 'change_left\\n'\n",
        "  elif(test_file_label[count] == 6):\n",
        "    txt = txt + 'change_right\\n'\n",
        "  else:\n",
        "    txt = txt + 'stop\\n'\n",
        "  count = count + 1"
      ],
      "execution_count": null,
      "outputs": []
    },
    {
      "cell_type": "code",
      "metadata": {
        "id": "Eew71fpGA9Ru",
        "colab_type": "code",
        "colab": {}
      },
      "source": [
        "f = open(\"/content/cnn_test_pred_output.csv\",'w')\n",
        "f.write(txt)\n",
        "f.close()"
      ],
      "execution_count": null,
      "outputs": []
    },
    {
      "cell_type": "markdown",
      "metadata": {
        "id": "NRtV7E_gAI5W",
        "colab_type": "text"
      },
      "source": [
        "## 예측결과 출력 DNN REAL"
      ]
    },
    {
      "cell_type": "code",
      "metadata": {
        "id": "ZzZBsF_lARrX",
        "colab_type": "code",
        "colab": {}
      },
      "source": [
        "#dnn_real_predictions = dnn_model.predict(re_data)\n",
        "txt = 'Pred_Direction,Real_Direction\\n'\n",
        "count = 0\n",
        "for temp in re_data:\n",
        "  if(np.argmax(dnn_real_predictions[count]) == 0):\n",
        "  #  print('straight')\n",
        "    txt = txt + 'straight,'\n",
        "  elif(np.argmax(dnn_real_predictions[count]) == 1):\n",
        "  #  print('left')\n",
        "    txt = txt + 'curve_left,'\n",
        "  elif(np.argmax(dnn_real_predictions[count]) == 2):\n",
        "    txt = txt + 'curve_right,'\n",
        "  elif(np.argmax(dnn_real_predictions[count]) == 3):\n",
        "    txt = txt + 'left,' \n",
        "  elif(np.argmax(dnn_real_predictions[count]) == 4):\n",
        "    txt = txt + 'right,'\n",
        "  elif(np.argmax(dnn_real_predictions[count]) == 5):\n",
        "    txt = txt + 'change_left,'\n",
        "  elif(np.argmax(dnn_real_predictions[count]) == 6):\n",
        "    txt = txt + 'change_right,'\n",
        "  else:\n",
        "    txt = txt + 'stop,'\n",
        "  if(real_file_label[count] == 0):\n",
        "    txt = txt + 'straight\\n'\n",
        "  elif(real_file_label[count] == 1):\n",
        "    txt = txt + 'curve_left\\n'\n",
        "  elif(real_file_label[count] == 2):\n",
        "    txt = txt + 'curve_right\\n'\n",
        "  elif(real_file_label[count] == 3):\n",
        "    txt = txt + 'left\\n'\n",
        "  elif(real_file_label[count] == 4):\n",
        "    txt = txt + 'right\\n' \n",
        "  elif(real_file_label[count] == 5):\n",
        "    txt = txt + 'change_left\\n'\n",
        "  elif(real_file_label[count] == 6):\n",
        "    txt = txt + 'change_right\\n'\n",
        "  else:\n",
        "    txt = txt + 'stop\\n'\n",
        "  count = count + 1"
      ],
      "execution_count": null,
      "outputs": []
    },
    {
      "cell_type": "code",
      "metadata": {
        "id": "GGf_ViYFBjK-",
        "colab_type": "code",
        "colab": {}
      },
      "source": [
        "f = open(\"/content/dnn_real_pred_output.csv\",'w')\n",
        "f.write(txt)\n",
        "f.close()"
      ],
      "execution_count": null,
      "outputs": []
    },
    {
      "cell_type": "markdown",
      "metadata": {
        "id": "wfVi2d0LAJ5P",
        "colab_type": "text"
      },
      "source": [
        "## 예측결과 출력 CNN REAL"
      ]
    },
    {
      "cell_type": "code",
      "metadata": {
        "id": "GjsO6WI2AR6X",
        "colab_type": "code",
        "colab": {}
      },
      "source": [
        "#cnn_real_predictions = cnn_model.predict(re_c_data)\n",
        "txt = 'Pred_Direction,Real_Direction\\n'\n",
        "count = 0\n",
        "for temp in re_c_data:\n",
        "  if(np.argmax(cnn_real_predictions[count]) == 0):\n",
        "  #  print('straight')\n",
        "    txt = txt + 'straight,'\n",
        "  elif(np.argmax(cnn_real_predictions[count]) == 1):\n",
        "  #  print('left')\n",
        "    txt = txt + 'curve_left,'\n",
        "  elif(np.argmax(cnn_real_predictions[count]) == 2):\n",
        "    txt = txt + 'curve_right,'\n",
        "  elif(np.argmax(cnn_real_predictions[count]) == 3):\n",
        "    txt = txt + 'left,' \n",
        "  elif(np.argmax(cnn_real_predictions[count]) == 4):\n",
        "    txt = txt + 'right,'\n",
        "  elif(np.argmax(cnn_real_predictions[count]) == 5):\n",
        "    txt = txt + 'change_left,'\n",
        "  elif(np.argmax(cnn_real_predictions[count]) == 6):\n",
        "    txt = txt + 'change_right,'\n",
        "  else:\n",
        "    txt = txt + 'stop,'\n",
        "  if(real_file_label[count] == 0):\n",
        "    txt = txt + 'straight\\n'\n",
        "  elif(real_file_label[count] == 1):\n",
        "    txt = txt + 'curve_left\\n'\n",
        "  elif(real_file_label[count] == 2):\n",
        "    txt = txt + 'curve_right\\n'\n",
        "  elif(real_file_label[count] == 3):\n",
        "    txt = txt + 'left\\n'\n",
        "  elif(real_file_label[count] == 4):\n",
        "    txt = txt + 'right\\n' \n",
        "  elif(real_file_label[count] == 5):\n",
        "    txt = txt + 'change_left\\n'\n",
        "  elif(real_file_label[count] == 6):\n",
        "    txt = txt + 'change_right\\n'\n",
        "  else:\n",
        "    txt = txt + 'stop\\n'\n",
        "  count = count + 1"
      ],
      "execution_count": null,
      "outputs": []
    },
    {
      "cell_type": "code",
      "metadata": {
        "id": "0NszNcbPBiGe",
        "colab_type": "code",
        "colab": {}
      },
      "source": [
        "f = open(\"/content/cnn_real_pred_output.csv\",'w')\n",
        "f.write(txt)\n",
        "f.close()"
      ],
      "execution_count": null,
      "outputs": []
    },
    {
      "cell_type": "markdown",
      "metadata": {
        "id": "hYJwseactGlE",
        "colab_type": "text"
      },
      "source": [
        "## 모델 저장하기"
      ]
    },
    {
      "cell_type": "code",
      "metadata": {
        "id": "nsjAweUAtJoC",
        "colab_type": "code",
        "colab": {}
      },
      "source": [
        "from keras.models import load_model\n",
        "cnn_model.save('Sim2Real_Model.h5')"
      ],
      "execution_count": null,
      "outputs": []
    },
    {
      "cell_type": "markdown",
      "metadata": {
        "id": "Xz0HnigFuT08",
        "colab_type": "text"
      },
      "source": [
        "##모델 사용법"
      ]
    },
    {
      "cell_type": "markdown",
      "metadata": {
        "id": "QiqtJUsBuVYr",
        "colab_type": "text"
      },
      "source": [
        "###예측할 데이터 읽어서 numpy로 만들기"
      ]
    },
    {
      "cell_type": "code",
      "metadata": {
        "id": "z7DR_BIxuWZC",
        "colab_type": "code",
        "colab": {}
      },
      "source": [
        "#real_file = pd.read_csv('/content/real_data_with_rotate_2.csv',encoding='utf-8')\n",
        "#real_file_label = real_file.pop('Label')\n",
        "#real_file.drop(['Timestamp','Winker(left)','Winker(right)','Timecheck'],axis = 'columns',inplace = True)\n",
        "#=> drop은 테스트할 csv파일에 있는 것중 사용 안하는 column을 없애는 것!\n",
        "#real_array = np.delete(real_file.values,-1,0).astype(np.float)\n",
        "#real_label = np.delete(real_file_label.values,-1,0).astype(np.int)"
      ],
      "execution_count": null,
      "outputs": []
    },
    {
      "cell_type": "markdown",
      "metadata": {
        "id": "Y0j9hgHju7Dp",
        "colab_type": "text"
      },
      "source": [
        "###정규화가 안된 경우"
      ]
    },
    {
      "cell_type": "markdown",
      "metadata": {
        "id": "mBseH1jBviHk",
        "colab_type": "text"
      },
      "source": [
        "정규화를 진행하고 다음 단계로 넘어가야한다."
      ]
    },
    {
      "cell_type": "code",
      "metadata": {
        "id": "J1Kutuu2vpmI",
        "colab_type": "code",
        "colab": {}
      },
      "source": [
        "'''\n",
        "VELOCITY = 0\n",
        "ACCEL_X = 1\n",
        "ROT_Z = 2\n",
        "STEERING = 3 \n",
        "ACCEL = 4\n",
        "BRAKE = 5\n",
        "NOR_MAX = 31.75\n",
        "NOR_MIN = -32\n",
        "VELOCITY_MAX = 100\n",
        "VELOCITY_MIN = 0\n",
        "ACCEL_X_MAX = 2\n",
        "ACCEL_X_MIN = -2\n",
        "ROT_Z_MAX = 45\n",
        "ROT_Z_MIN = -45\n",
        "STEERING_MAX = 270\n",
        "STEERING_MIN = -270\n",
        "ACCEL_MAX = 80\n",
        "ACCEL_MIN = 0\n",
        "BRAKE_MAX = 60\n",
        "BRAKE_MIN = 0\n",
        "'''"
      ],
      "execution_count": null,
      "outputs": []
    },
    {
      "cell_type": "code",
      "metadata": {
        "id": "tb0ERr2ku62p",
        "colab_type": "code",
        "colab": {}
      },
      "source": [
        "#length_real = int(len(real_array)/25)\n",
        "'''\n",
        "print(\"Process 3-1 Velocity[\",end=\"\")\n",
        "for i in range(len(real_array)):\n",
        "  real_array[i][VELOCITY] = round(real_array[i][VELOCITY],0)\n",
        "  if(i%length_real==0):\n",
        "    print(\"#\",end=\"\")\n",
        "  if(real_array[i][VELOCITY]>=VELOCITY_MAX):    #MAX\n",
        "    real_array[i][VELOCITY] = NOR_MAX\n",
        "  elif(real_array[i][VELOCITY]>=(VELOCITY_MAX/2)):   #MID\n",
        "    real_array[i][VELOCITY] = round(((real_array[i][VELOCITY] - (VELOCITY_MAX/2))/(VELOCITY_MAX/2)*NOR_MAX),2)\n",
        "  elif(real_array[i][VELOCITY]>VELOCITY_MIN):     #MIN\n",
        "    real_array[i][VELOCITY] = round(((real_array[i][VELOCITY] - (VELOCITY_MAX/2))/(VELOCITY_MAX/2)*(-1*NOR_MIN)),2)\n",
        "  else:\n",
        "    real_array[i][VELOCITY] = NOR_MIN\n",
        "print(\"]\\nProcess 3-2 Accel_X [\",end=\"\")\n",
        "for i in range(len(real_array)):\n",
        "  if(i%length_real==0):\n",
        "    print(\"#\",end=\"\")  \n",
        "  if(real_array[i][ACCEL_X]>=ACCEL_X_MAX):     #MAX\n",
        "    real_array[i][ACCEL_X] = NOR_MAX\n",
        "  elif(real_array[i][ACCEL_X]>= 0):    #MID\n",
        "    real_array[i][ACCEL_X] = round(((real_array[i][ACCEL_X])/ACCEL_X_MAX*NOR_MAX),2)\n",
        "  elif(real_array[i][ACCEL_X]> ACCEL_X_MIN):  #MIN\n",
        "    real_array[i][ACCEL_X] = round(((real_array[i][ACCEL_X])/ACCEL_X_MAX*(-1*NOR_MIN)),2)\n",
        "  else:\n",
        "    real_array[i][ACCEL_X] = NOR_MIN\n",
        "print(\"]\\nProcess 3-3 ROTATE_Z [\",end=\"\")\n",
        "for i in range(len(real_array)):\n",
        "  if(i%length_real==0):\n",
        "    print(\"#\",end=\"\")\n",
        "  if(real_array[i][ROT_Z]>=ROT_Z_MAX):       #MAX\n",
        "    real_array[i][ROT_Z] = NOR_MAX\n",
        "  elif(real_array[i][ROT_Z]>= 0):    #MID\n",
        "    real_array[i][ROT_Z] = round(((real_array[i][ROT_Z])/ROT_Z_MAX*NOR_MAX),2)\n",
        "  elif(real_array[i][ROT_Z]>ROT_Z_MIN):     #MIN\n",
        "    real_array[i][ROT_Z] = round(((real_array[i][ROT_Z])/ROT_Z_MAX*(-1*NOR_MIN)),2)\n",
        "  else:\n",
        "    real_array[i][ROT_Z] = NOR_MIN\n",
        "print(\"]\\nProcess 3-4 Steering[\",end=\"\")\n",
        "for i in range(len(real_array)):\n",
        "  if(i%length_real==0):\n",
        "    print(\"#\",end=\"\")  \n",
        "  if(real_array[i][STEERING]>=STEERING_MAX):    #MAX\n",
        "    real_array[i][STEERING] = NOR_MAX\n",
        "  elif(real_array[i][STEERING]>= 0):   #MID\n",
        "    real_array[i][STEERING] = round(((real_array[i][STEERING])/STEERING_MAX*NOR_MAX),2)\n",
        "  elif(real_array[i][STEERING]> STEERING_MIN): #MIN\n",
        "    real_array[i][STEERING] = round(((real_array[i][STEERING])/STEERING_MAX*(-1*NOR_MIN)),2)\n",
        "  else:\n",
        "    real_array[i][STEERING] = NOR_MIN\n",
        "print(\"]\\nProcess 3-5 Accelpad[\",end=\"\")\n",
        "for i in range(len(real_array)):\n",
        "  if(i%length_real==0):\n",
        "    print(\"#\",end=\"\")  \n",
        "  if(real_array[i][ACCEL]>=ACCEL_MAX):        #MAX\n",
        "    real_array[i][ACCEL] = NOR_MAX\n",
        "  elif(real_array[i][ACCEL]>= (ACCEL_MAX/2)):     #MID\n",
        "    real_array[i][ACCEL] = round(((real_array[i][ACCEL] - (ACCEL_MAX/2))/(ACCEL_MAX/2)*NOR_MAX),2)\n",
        "  elif(real_array[i][ACCEL]> ACCEL_MIN):       #MIN\n",
        "    real_array[i][ACCEL] = round(((real_array[i][ACCEL] - (ACCEL_MAX/2))/(ACCEL_MAX/2)*(-1*NOR_MIN)),2)\n",
        "  else:\n",
        "    real_array[i][ACCEL] = NOR_MIN\n",
        "print(\"]\\nProcess 3-6 Brakepad[\",end=\"\")\n",
        "for i in range(len(real_array)):\n",
        "  if(i%length_real==0):\n",
        "    print(\"#\",end=\"\")\n",
        "  if(real_array[i][BRAKE]>=BRAKE_MAX):        #MAX\n",
        "    real_array[i][BRAKE] = NOR_MAX\n",
        "  elif(real_array[i][BRAKE]>= (BRAKE_MAX/2)):     #MID\n",
        "    real_array[i][BRAKE] = round(((real_array[i][BRAKE] - (BRAKE_MAX/2))/(BRAKE_MAX/2)*NOR_MAX),2)\n",
        "  elif(real_array[i][BRAKE]> BRAKE_MIN):       #MIN\n",
        "    real_array[i][BRAKE] = round(((real_array[i][BRAKE] - (BRAKE_MAX/2))/(BRAKE_MAX/2)*(-1*NOR_MIN)),2)\n",
        "  else:\n",
        "    real_array[i][BRAKE] = NOR_MIN\n",
        "print(\"]\\nProcess 3 Clear\")\n",
        "'''"
      ],
      "execution_count": null,
      "outputs": []
    },
    {
      "cell_type": "markdown",
      "metadata": {
        "id": "XH1DdVK8u4Vq",
        "colab_type": "text"
      },
      "source": [
        "###정규화가 되어있는 경우이면"
      ]
    },
    {
      "cell_type": "markdown",
      "metadata": {
        "id": "SMjhDGO7vSji",
        "colab_type": "text"
      },
      "source": [
        "데이터셋으로 만들어야 한다.<br>\n",
        "shape는 (데이터 총 개수, window_size, column수)"
      ]
    },
    {
      "cell_type": "code",
      "metadata": {
        "id": "BR3s2_cJu6kx",
        "colab_type": "code",
        "colab": {}
      },
      "source": [
        "#real_dataset_data = []\n",
        "#real_dataset_label = []\n",
        "#for i in range(WINDOW_SIZE, real_array.shape[0] + 1, 1):\n",
        "#  real_dataset_data.append(real_array[i-WINDOW_SIZE:i])\n",
        "#  real_dataset_label.append(real_label[i-1])\n",
        "#re_data = np.array(real_dataset_data)\n",
        "#re_label = np.array(real_dataset_label) \n",
        "#print(re_data.shape)"
      ],
      "execution_count": null,
      "outputs": []
    },
    {
      "cell_type": "markdown",
      "metadata": {
        "id": "u6NSoqwVvtcw",
        "colab_type": "text"
      },
      "source": [
        "Convolution Neural Network이면 차원을 1차원 더 늘려줘야한다.\n",
        "<br>\n",
        "이번 연습용으로 주는 model은 cnn모델로 아래의 과정을 거처야한다."
      ]
    },
    {
      "cell_type": "code",
      "metadata": {
        "id": "f40I1o3Mv3ZY",
        "colab_type": "code",
        "colab": {}
      },
      "source": [
        "#re_c_data = re_data.reshape(-1,6,WINDOW_SIZE,1)"
      ],
      "execution_count": null,
      "outputs": []
    },
    {
      "cell_type": "markdown",
      "metadata": {
        "id": "kj6WfeMOtfQS",
        "colab_type": "text"
      },
      "source": [
        "###모델 불러오기"
      ]
    },
    {
      "cell_type": "code",
      "metadata": {
        "id": "QVKS5UCnte2c",
        "colab_type": "code",
        "colab": {}
      },
      "source": [
        "from keras.models import load_model\n",
        "loaded_model = load_model('Sim2Real_Model.h5')"
      ],
      "execution_count": null,
      "outputs": []
    },
    {
      "cell_type": "code",
      "metadata": {
        "id": "O7BTzJKntyMK",
        "colab_type": "code",
        "colab": {
          "base_uri": "https://localhost:8080/",
          "height": 439
        },
        "outputId": "8d984b4e-b4e8-4833-fbe1-e1ba8dd11fe4"
      },
      "source": [
        "loaded_model_predictions = loaded_model.predict(re_c_data)\n",
        "matrix = confusion_matrix(re_label, loaded_model_predictions.argmax(axis=1))\n",
        "print(matrix)\n",
        "print(np.bincount(re_label)[:, np.newaxis])\n",
        "print((matrix / np.bincount(re_label)[:, np.newaxis] * 100).astype(np.int))"
      ],
      "execution_count": null,
      "outputs": [
        {
          "output_type": "stream",
          "text": [
            "[[7967   45   65    6   18   20   18   59]\n",
            " [ 223 1511    0   19    0   72    4    0]\n",
            " [ 223    4  688    0   79   14  104    9]\n",
            " [  78   65    0  563    1    8    0    0]\n",
            " [  38    3   14    0  746    1   13   17]\n",
            " [  57   64    0    2    0  302    0    0]\n",
            " [  28    3   41    0    0    0  237    0]\n",
            " [  48    0    0    0    1    0    0 6737]]\n",
            "[[8198]\n",
            " [1829]\n",
            " [1121]\n",
            " [ 715]\n",
            " [ 832]\n",
            " [ 425]\n",
            " [ 309]\n",
            " [6786]]\n",
            "[[97  0  0  0  0  0  0  0]\n",
            " [12 82  0  1  0  3  0  0]\n",
            " [19  0 61  0  7  1  9  0]\n",
            " [10  9  0 78  0  1  0  0]\n",
            " [ 4  0  1  0 89  0  1  2]\n",
            " [13 15  0  0  0 71  0  0]\n",
            " [ 9  0 13  0  0  0 76  0]\n",
            " [ 0  0  0  0  0  0  0 99]]\n"
          ],
          "name": "stdout"
        }
      ]
    },
    {
      "cell_type": "markdown",
      "metadata": {
        "id": "Q9gsQQJ1wGfp",
        "colab_type": "text"
      },
      "source": [
        "###모델"
      ]
    },
    {
      "cell_type": "markdown",
      "metadata": {
        "id": "FCDra2D_wM-5",
        "colab_type": "text"
      },
      "source": [
        "여기에 아까 위의 모델 불러오기를 적용한다.<br>\n",
        "모델의 모양은 model.png를 참고"
      ]
    },
    {
      "cell_type": "code",
      "metadata": {
        "id": "pHKyH0-ewGQi",
        "colab_type": "code",
        "colab": {
          "base_uri": "https://localhost:8080/",
          "height": 1000
        },
        "outputId": "dd6ede1f-0622-4b18-9a30-cb518efe910a"
      },
      "source": [
        "from IPython.display import Image\n",
        "Image('model.png')"
      ],
      "execution_count": null,
      "outputs": [
        {
          "output_type": "execute_result",
          "data": {
            "image/png": "[encoded data removed]",
            "text/plain": [
              "<IPython.core.display.Image object>"
            ]
          },
          "metadata": {
            "tags": []
          },
          "execution_count": 27
        }
      ]
    },
    {
      "cell_type": "markdown",
      "metadata": {
        "id": "URW2GgTLwmnP",
        "colab_type": "text"
      },
      "source": [
        "###모델 예측"
      ]
    },
    {
      "cell_type": "markdown",
      "metadata": {
        "id": "EzgP2Gqfww3w",
        "colab_type": "text"
      },
      "source": [
        "각 요소는 아래의 cnn_real_predictions와 같은 predict로 부터 저런식으로 추출.\n",
        "<br>\n",
        "가장 마지막 layer가 softmax이므로 확률분포이다\n",
        "<br>-> numpy.argmax를 통해 예측값을 뽑아낸다."
      ]
    },
    {
      "cell_type": "code",
      "metadata": {
        "id": "BRN34EXwwlrr",
        "colab_type": "code",
        "colab": {}
      },
      "source": [
        "'''\n",
        "#cnn_real_predictions = cnn_model.predict(re_c_data)\n",
        "txt = 'Pred_Direction,Real_Direction\\n'\n",
        "count = 0\n",
        "for temp in re_c_data:\n",
        "  if(np.argmax(cnn_real_predictions[count]) == 0):\n",
        "  #  print('straight')\n",
        "    txt = txt + 'straight,'\n",
        "  elif(np.argmax(cnn_real_predictions[count]) == 1):\n",
        "  #  print('left')\n",
        "    txt = txt + 'curve_left,'\n",
        "  elif(np.argmax(cnn_real_predictions[count]) == 2):\n",
        "    txt = txt + 'curve_right,'\n",
        "  elif(np.argmax(cnn_real_predictions[count]) == 3):\n",
        "    txt = txt + 'left,' \n",
        "  elif(np.argmax(cnn_real_predictions[count]) == 4):\n",
        "    txt = txt + 'right,'\n",
        "  elif(np.argmax(cnn_real_predictions[count]) == 5):\n",
        "    txt = txt + 'change_left,'\n",
        "  elif(np.argmax(cnn_real_predictions[count]) == 6):\n",
        "    txt = txt + 'change_right,'\n",
        "  else:\n",
        "    txt = txt + 'stop,'\n",
        "  if(real_file_label[count] == 0):\n",
        "    txt = txt + 'straight\\n'\n",
        "  elif(real_file_label[count] == 1):\n",
        "    txt = txt + 'curve_left\\n'\n",
        "  elif(real_file_label[count] == 2):\n",
        "    txt = txt + 'curve_right\\n'\n",
        "  elif(real_file_label[count] == 3):\n",
        "    txt = txt + 'left\\n'\n",
        "  elif(real_file_label[count] == 4):\n",
        "    txt = txt + 'right\\n' \n",
        "  elif(real_file_label[count] == 5):\n",
        "    txt = txt + 'change_left\\n'\n",
        "  elif(real_file_label[count] == 6):\n",
        "    txt = txt + 'change_right\\n'\n",
        "  else:\n",
        "    txt = txt + 'stop\\n'\n",
        "  count = count + 1\n",
        "'''"
      ],
      "execution_count": null,
      "outputs": []
    }
  ]
}