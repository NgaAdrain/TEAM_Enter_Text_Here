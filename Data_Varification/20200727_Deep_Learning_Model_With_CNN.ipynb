{
  "nbformat": 4,
  "nbformat_minor": 0,
  "metadata": {
    "colab": {
      "name": "20200724_Deep_Learning_Model_With_CNN.ipynb",
      "provenance": [],
      "collapsed_sections": [
        "d0cEHuvoVilq",
        "NNf1FTMTwtaT",
        "m8EY2rSGWhGD"
      ],
      "toc_visible": true,
      "mount_file_id": "18BpOx0nk-aQWm2E0LNnXciisMFnWLbVu",
      "authorship_tag": "ABX9TyO5z1p2j1nUJv2M2/6DgXWX",
      "include_colab_link": true
    },
    "kernelspec": {
      "name": "python3",
      "display_name": "Python 3"
    }
  },
  "cells": [
    {
      "cell_type": "markdown",
      "metadata": {
        "id": "view-in-github",
        "colab_type": "text"
      },
      "source": [
        "<a href=\"https://colab.research.google.com/github/NgaAdrain/TEAM_Enter_Text_Here/blob/master/Data_Varification/20200727_Deep_Learning_Model_With_CNN.ipynb\" target=\"_parent\"><img src=\"https://colab.research.google.com/assets/colab-badge.svg\" alt=\"Open In Colab\"/></a>"
      ]
    },
    {
      "cell_type": "markdown",
      "metadata": {
        "id": "BXtcBe8vGghG",
        "colab_type": "text"
      },
      "source": [
        "#<h1>**Deep Learning With CNN**</h1>"
      ]
    },
    {
      "cell_type": "markdown",
      "metadata": {
        "id": "xr43gPmjGTt_",
        "colab_type": "text"
      },
      "source": [
        "##**Module Import**\n"
      ]
    },
    {
      "cell_type": "code",
      "metadata": {
        "id": "NmwKXI8WFDul",
        "colab_type": "code",
        "colab": {}
      },
      "source": [
        "# Import the TensorFlow\n",
        "import tensorflow as tf\n",
        "from tensorflow import keras\n",
        "import pandas as pd\n",
        "import numpy as np"
      ],
      "execution_count": 2,
      "outputs": []
    },
    {
      "cell_type": "markdown",
      "metadata": {
        "id": "1EgiFdS7Gm8H",
        "colab_type": "text"
      },
      "source": [
        "##**File Read**"
      ]
    },
    {
      "cell_type": "markdown",
      "metadata": {
        "id": "FBXO_OHzGq2X",
        "colab_type": "text"
      },
      "source": [
        "###<h2>학습용 데이터는 Google Drive에 train_input.csv의 형식으로 저장한다.</h2>"
      ]
    },
    {
      "cell_type": "code",
      "metadata": {
        "id": "vIzhPRtAGmpn",
        "colab_type": "code",
        "colab": {}
      },
      "source": [
        "train_file = pd.read_csv('/content/drive/My Drive/train_input.csv',encoding='utf-8')\n",
        "#train_file = pd.read_csv('/content/drive/My Drive/train_input_1.csv',encoding='utf-8')\n",
        "#train_file = pd.read_csv('/content/drive/My Drive/train_input_external_city.csv',encoding='utf-8')\n",
        "#train_file = pd.read_csv('/content/drive/My Drive/train_input_internal_city.csv',encoding='utf-8')\n",
        "train_file_label = train_file.pop('Label')\n",
        "#train_file.drop(['Timestamp','Winker(left)','Winker(right)','Timecheck'],axis = 'columns',inplace = True)\n",
        "train_file.drop(['Timestamp','accel_Z','Winker(left)','Winker(right)','Timecheck'],axis = 'columns',inplace = True)\n",
        "#print(train_file.values)\n",
        "#if file broken -> sep='  ' 추가"
      ],
      "execution_count": 3,
      "outputs": []
    },
    {
      "cell_type": "markdown",
      "metadata": {
        "id": "skXGNdohG7kB",
        "colab_type": "text"
      },
      "source": [
        "###<h2>시뮬레이션 테스트 데이터는 test_input.csv의 형식으로 저장한다.</h2>"
      ]
    },
    {
      "cell_type": "code",
      "metadata": {
        "id": "CTGJZFiYG8Eo",
        "colab_type": "code",
        "colab": {}
      },
      "source": [
        "#test_file = pd.read_csv('/content/drive/My Drive/test_input.csv',encoding='utf-8')\n",
        "test_file = pd.read_csv('/content/drive/My Drive/test_input_1.csv',encoding='utf-8')\n",
        "#test_file = pd.read_csv('/content/drive/My Drive/test_input_1_internal.csv',encoding='utf-8')\n",
        "#test_file = pd.read_csv('/content/drive/My Drive/test_input_2_external.csv',encoding='utf-8')\n",
        "test_file_time = test_file.pop('Timestamp')\n",
        "test_file_label = test_file.pop('Label')\n",
        "test_file.drop(['accel_Z','Winker(left)','Winker(right)','Timecheck'],axis = 'columns',inplace = True)"
      ],
      "execution_count": 4,
      "outputs": []
    },
    {
      "cell_type": "markdown",
      "metadata": {
        "id": "fEDMP0EHHvcg",
        "colab_type": "text"
      },
      "source": [
        "###<h2>실제 데이터는 real_data.csv의 형식으로 저장한다.</h2>"
      ]
    },
    {
      "cell_type": "code",
      "metadata": {
        "id": "XFtSFpm0Hvy_",
        "colab_type": "code",
        "colab": {}
      },
      "source": [
        "#real_file = pd.read_csv('/content/drive/My Drive/real_data.csv',sep='',encoding='utf-8')\n",
        "real_file = pd.read_csv('/content/drive/My Drive/real_data.csv',encoding='utf-8')\n",
        "real_file_label = real_file.pop('Label')\n",
        "real_file.drop('accel_Z',axis = 'columns',inplace = True)"
      ],
      "execution_count": 6,
      "outputs": []
    },
    {
      "cell_type": "markdown",
      "metadata": {
        "id": "Je2DVTA9IQlg",
        "colab_type": "text"
      },
      "source": [
        "##**DataFrame 2 Numpy Array**"
      ]
    },
    {
      "cell_type": "markdown",
      "metadata": {
        "id": "ZJOgGeqMIUsW",
        "colab_type": "text"
      },
      "source": [
        "\n",
        "###<h2>학습용 데이터 변환</h2>"
      ]
    },
    {
      "cell_type": "code",
      "metadata": {
        "id": "Fad_xyakIVdk",
        "colab_type": "code",
        "colab": {}
      },
      "source": [
        "train_array = np.delete(train_file.values,-1,0)\n",
        "train_label = np.delete(train_file_label.values,-1,0)"
      ],
      "execution_count": 7,
      "outputs": []
    },
    {
      "cell_type": "markdown",
      "metadata": {
        "id": "GnvUWk8CI8Go",
        "colab_type": "text"
      },
      "source": [
        "###<h2>테스트 데이터 변환</h2>"
      ]
    },
    {
      "cell_type": "code",
      "metadata": {
        "id": "_Lg3HEtFI76A",
        "colab_type": "code",
        "colab": {}
      },
      "source": [
        "test_array = np.delete(test_file.values,-1,0)\n",
        "test_label = np.delete(test_file_label.values,-1,0)\n",
        "test_time = np.delete(test_file_time.values,-1,0)"
      ],
      "execution_count": 8,
      "outputs": []
    },
    {
      "cell_type": "markdown",
      "metadata": {
        "id": "SnepA8CPI_Qm",
        "colab_type": "text"
      },
      "source": [
        "###<h2>실제 데이터 변환</h2>"
      ]
    },
    {
      "cell_type": "code",
      "metadata": {
        "id": "db-PYdCdI_nv",
        "colab_type": "code",
        "colab": {}
      },
      "source": [
        "real_array = np.delete(real_file.values,-1,0)\n",
        "real_label = np.delete(real_file_label.values,-1,0)"
      ],
      "execution_count": 9,
      "outputs": []
    },
    {
      "cell_type": "markdown",
      "metadata": {
        "id": "8hPq4oNRLRX_",
        "colab_type": "text"
      },
      "source": [
        "###<h3>데이터 길이</h3>"
      ]
    },
    {
      "cell_type": "code",
      "metadata": {
        "id": "iJoyhQRpLIVp",
        "colab_type": "code",
        "colab": {}
      },
      "source": [
        "length_test = int(len(test_array)/25)\n",
        "length_train = int(len(train_array)/25)"
      ],
      "execution_count": 10,
      "outputs": []
    },
    {
      "cell_type": "markdown",
      "metadata": {
        "id": "KqGrmeUwJKzI",
        "colab_type": "text"
      },
      "source": [
        "##**데이터 정규화**"
      ]
    },
    {
      "cell_type": "markdown",
      "metadata": {
        "id": "k-HUbrbBRx7N",
        "colab_type": "text"
      },
      "source": [
        "###사용 상수"
      ]
    },
    {
      "cell_type": "code",
      "metadata": {
        "id": "dWC-5ACrRwmr",
        "colab_type": "code",
        "colab": {}
      },
      "source": [
        ""
      ],
      "execution_count": 11,
      "outputs": []
    },
    {
      "cell_type": "markdown",
      "metadata": {
        "id": "2pwCAMdkJP2Y",
        "colab_type": "text"
      },
      "source": [
        "###<h2>학습용 데이터 정규화</h2>"
      ]
    },
    {
      "cell_type": "markdown",
      "metadata": {
        "id": "PJTH8-WDLyU-",
        "colab_type": "text"
      },
      "source": [
        "- <h3>실제 데이터의 정규화내용</h3>\n",
        "1. steering wheel  -> 31.75(270,-270) ~ -32\n",
        "2. brake -> 31.75(50,0) ~ -32\n",
        "3. speed(velocity) -> 31.75(100,0) ~ -32\n",
        "4. accel -> 31.75(70,0) ~ -32\n",
        "5. accelaration_longitudinal(X) -> 31.75(0.6,-0.6) ~ -32\n",
        "6. accelaration_lateral(Z) -> 31.75(0.6,-0.6) ~ -32"
      ]
    },
    {
      "cell_type": "code",
      "metadata": {
        "id": "zd5lKgvIJyYG",
        "colab_type": "code",
        "colab": {
          "base_uri": "https://localhost:8080/",
          "height": 121
        },
        "outputId": "637c368b-0450-48de-b67a-2bd8a3e347e2"
      },
      "source": [
        "print(\"Process 1-1 Velocity[\",end=\"\")\n",
        "for i in range(len(train_array)):\n",
        "  train_array[i][VELOCITY] = round(train_array[i][VELOCITY],0)\n",
        "  if(i%length_train==0):\n",
        "    print(\"#\",end=\"\")\n",
        "  if(train_file.values[i][VELOCITY]>=100):    #MAX\n",
        "    train_array[i][VELOCITY] = 31.75\n",
        "  elif(train_file.values[i][VELOCITY]>=50):   #MID\n",
        "    train_array[i][VELOCITY] = round(((train_array[i][VELOCITY] - 50)/50*31.75),2)\n",
        "  elif(train_file.values[i][VELOCITY]>0):     #MIN\n",
        "    train_array[i][VELOCITY] = round(((train_array[i][VELOCITY] - 50)/50*32),2)\n",
        "  else:\n",
        "    train_array[i][VELOCITY] = -32\n",
        "print(\"]\\nProcess 1-2 Accel_X [\",end=\"\")\n",
        "for i in range(len(train_array)):\n",
        "  if(i%length_train==0):\n",
        "    print(\"#\",end=\"\")  \n",
        "  if(train_file.values[i][ACCEL_X]>=0.6):     #MAX\n",
        "    train_array[i][ACCEL_X] = 31.75\n",
        "  elif(train_file.values[i][ACCEL_X]>= 0):    #MID\n",
        "    train_array[i][ACCEL_X] = round(((train_array[i][ACCEL_X])/0.6*31.75),2)\n",
        "  elif(train_file.values[i][ACCEL_X]> -0.6):  #MIN\n",
        "    train_array[i][ACCEL_X] = round(((train_array[i][ACCEL_X])/0.6*32),2)\n",
        "  else:\n",
        "    train_array[i][ACCEL_X] = -32\n",
        "\"\"\"\n",
        "print(\"]\\nProcess 1-3 Accel_Z [\",end=\"\")\n",
        "for i in range(len(train_array)):\n",
        "  if(i%length_test==0):\n",
        "    print(\"#\",end=\"\")\n",
        "  if(train_file.values[i][ACCEL_Z]>=1):       #MAX\n",
        "    train_array[i][ACCEL_Z] = 31.75\n",
        "  elif(train_file.values[i][ACCEL_Z]>= 0):    #MID\n",
        "    train_array[i][ACCEL_Z] = round(((train_array[i][ACCEL_Z])*31.75),2)\n",
        "  elif(train_file.values[i][ACCEL_Z]>-1):     #MIN\n",
        "    train_array[i][ACCEL_Z] = round(((train_array[i][ACCEL_Z])*32),2)\n",
        "  else:\n",
        "    train_array[i][ACCEL_Z] = -32\n",
        "\"\"\"\n",
        "print(\"]\\nProcess 1-3 Steering[\",end=\"\")\n",
        "for i in range(len(train_array)):\n",
        "  if(i%length_train==0):\n",
        "    print(\"#\",end=\"\")  \n",
        "  if(train_file.values[i][STEERING]>=270):    #MAX\n",
        "    train_array[i][STEERING] = 31.75\n",
        "  elif(train_file.values[i][STEERING]>= 0):   #MID\n",
        "    train_array[i][STEERING] = round(((train_array[i][STEERING])/270*31.75),2)\n",
        "  elif(train_file.values[i][STEERING]> -270): #MIN\n",
        "    train_array[i][STEERING] = round(((train_array[i][STEERING])/270*32),2)\n",
        "  else:\n",
        "    train_array[i][STEERING] = -32\n",
        "print(\"]\\nProcess 1-4 Accelpad[\",end=\"\")\n",
        "for i in range(len(train_array)):\n",
        "  if(i%length_train==0):\n",
        "    print(\"#\",end=\"\")  \n",
        "  if(train_file.values[i][ACCEL]>=70):        #MAX\n",
        "    train_array[i][ACCEL] = 31.75\n",
        "  elif(train_file.values[i][ACCEL]>= 35):     #MID\n",
        "    train_array[i][ACCEL] = round(((train_array[i][ACCEL] - 35)/35*31.75),2)\n",
        "  elif(train_file.values[i][ACCEL]> 0):       #MIN\n",
        "    train_array[i][ACCEL] = round(((train_array[i][ACCEL] - 35)/35*32),2)\n",
        "  else:\n",
        "    train_array[i][ACCEL] = -32\n",
        "print(\"]\\nProcess 1-5 Brakepad[\",end=\"\")\n",
        "for i in range(len(train_array)):\n",
        "  if(i%length_train==0):\n",
        "    print(\"#\",end=\"\")\n",
        "  if(train_file.values[i][BRAKE]>=50):        #MAX\n",
        "    train_array[i][BRAKE] = 31.75\n",
        "  elif(train_file.values[i][BRAKE]>= 25):     #MID\n",
        "    train_array[i][BRAKE] = round(((train_array[i][BRAKE] - 25)/30*31.75),2)\n",
        "  elif(train_file.values[i][BRAKE]> 0):       #MIN\n",
        "    train_array[i][BRAKE] = round(((train_array[i][BRAKE] - 25)/30*32),2)\n",
        "  else:\n",
        "    train_array[i][BRAKE] = -32\n",
        "print(\"]\\nProcess 1 Clear\")"
      ],
      "execution_count": 12,
      "outputs": [
        {
          "output_type": "stream",
          "text": [
            "Process 1-1 Velocity[##########################]\n",
            "Process 1-2 Accel_X [##########################]\n",
            "Process 1-3 Steering[##########################]\n",
            "Process 1-4 Accelpad[##########################]\n",
            "Process 1-5 Brakepad[##########################]\n",
            "Process 1 Clear\n"
          ],
          "name": "stdout"
        }
      ]
    },
    {
      "cell_type": "markdown",
      "metadata": {
        "id": "qD-LgEcCJsyI",
        "colab_type": "text"
      },
      "source": [
        "###<h2>테스트 데이터 정규화</h2>"
      ]
    },
    {
      "cell_type": "markdown",
      "metadata": {
        "id": "kFI4S0GXLxp4",
        "colab_type": "text"
      },
      "source": [
        "- <h3>시뮬레이터 값의 범위</h3>\n",
        "1. Velocity : 0 ~ 240 -> 31.75(100,0) ~ -32\n",
        "2. Acceleration.<br>\n",
        "Z -> 속도가 감소하면 양수, 속도가 증가하면 음수 -> 31.75(1,-1) ~ -32<br>\n",
        "X -> 차가 왼쪽으로 이동하면 감소 오른쪽으로 이동하면 증가 -> 31.75(0.6,-0.6) ~ -32\n",
        "3. Steering_wheel : -1 ~ 1 => -450 ~ 450(degree) -> 31.75(270,-270) ~ -32\n",
        "4. Brake : 0 ~ 1 => 0 ~ 100% -> 31.75(60,0) ~ -32\n",
        "5. Accel : 0 ~ 1 => 0 ~ 100% -> 31.75(80,0) ~ -32<br>"
      ]
    },
    {
      "cell_type": "code",
      "metadata": {
        "id": "-S47XzosJzCW",
        "colab_type": "code",
        "colab": {
          "base_uri": "https://localhost:8080/",
          "height": 121
        },
        "outputId": "73817007-109d-48af-b765-98342304772c"
      },
      "source": [
        "print(\"Process 2-1 Velocity[\",end=\"\")\n",
        "for i in range(len(test_array)):\n",
        "  test_array[i][VELOCITY] = round(test_array[i][VELOCITY],0)\n",
        "  if(i%length_test==0):\n",
        "    print(\"#\",end=\"\")\n",
        "  if(test_file.values[i][VELOCITY]>=100):   #MAX\n",
        "    test_array[i][VELOCITY] = 31.75\n",
        "  elif(test_file.values[i][VELOCITY]>=50):  #MID\n",
        "    test_array[i][VELOCITY] = round(((test_array[i][VELOCITY] - 50)/50*31.75),2)\n",
        "  elif(test_file.values[i][VELOCITY]>0):    #MIN\n",
        "    test_array[i][VELOCITY] = round(((test_array[i][VELOCITY] - 50)/50*32),2)\n",
        "  else:                                     \n",
        "    test_array[i][VELOCITY] = -32\n",
        "print(\"]\\nProcess 2-2 Accel_X [\",end=\"\")\n",
        "for i in range(len(test_array)):\n",
        "  if(i%length_test==0):\n",
        "    print(\"#\",end=\"\")  \n",
        "  if(test_file.values[i][ACCEL_X]>=0.6):    #MAX\n",
        "    test_array[i][ACCEL_X] = 31.75\n",
        "  elif(test_file.values[i][ACCEL_X]>= 0):   #MID\n",
        "    test_array[i][ACCEL_X] = round(((test_array[i][ACCEL_X])/0.6*31.75),2)\n",
        "  elif(test_file.values[i][ACCEL_X]> -0.6): #MIN\n",
        "    test_array[i][ACCEL_X] = round(((test_array[i][ACCEL_X])/0.6*32),2)\n",
        "  else:                                     \n",
        "    test_array[i][ACCEL_X] = -32\n",
        "\"\"\"\n",
        "print(\"]\\nProcess 2-3 Accel_Z [\",end=\"\")\n",
        "for i in range(len(test_array)):\n",
        "  if(i%length_test==0):\n",
        "    print(\"#\",end=\"\")\n",
        "  if(test_file.values[i][ACCEL_Z]>=1):      #MAX\n",
        "    test_array[i][ACCEL_Z] = 31.75\n",
        "  elif(test_file.values[i][ACCEL_Z]>= 0):   #MID\n",
        "    test_array[i][ACCEL_Z] = round(((test_array[i][ACCEL_Z])*31.75),2)\n",
        "  elif(test_file.values[i][ACCEL_Z]>-1):    #MIN\n",
        "    test_array[i][ACCEL_Z] = round(((test_array[i][ACCEL_Z])*32),2)\n",
        "  else:                                     \n",
        "    test_array[i][ACCEL_Z] = -32\n",
        "\"\"\"\n",
        "print(\"]\\nProcess 2-3 Steering[\",end=\"\")\n",
        "for i in range(len(test_array)):\n",
        "  if(i%length_test==0):\n",
        "    print(\"#\",end=\"\")  \n",
        "  if(test_file.values[i][STEERING]>=270):   #MAX\n",
        "    test_array[i][STEERING] = 31.75\n",
        "  elif(test_file.values[i][STEERING]>= 0):  #MID\n",
        "    test_array[i][STEERING] = round(((test_array[i][STEERING])/270*31.75),2)\n",
        "  elif(test_file.values[i][STEERING]>-270): #MIN\n",
        "    test_array[i][STEERING] = round(((test_array[i][STEERING])/270*32),2)\n",
        "  else:                                     \n",
        "    test_array[i][STEERING] = -32\n",
        "print(\"]\\nProcess 2-4 Accelpad[\",end=\"\")\n",
        "for i in range(len(test_array)):\n",
        "  if(i%length_test==0):\n",
        "    print(\"#\",end=\"\")  \n",
        "  if(test_file.values[i][ACCEL]>=70):       #MAX\n",
        "    test_array[i][ACCEL] = 31.75\n",
        "  elif(test_file.values[i][ACCEL]>= 35):    #MID\n",
        "    test_array[i][ACCEL] = round(((test_array[i][ACCEL] - 35)/35*31.75),2)\n",
        "  elif(test_file.values[i][ACCEL]> 0):      #MIN\n",
        "    test_array[i][ACCEL] = round(((test_array[i][ACCEL] - 35)/35*32),2)\n",
        "  else:                                     \n",
        "    test_array[i][ACCEL] = -32\n",
        "print(\"]\\nProcess 2-5 Brakepad[\",end=\"\")\n",
        "for i in range(len(test_array)):\n",
        "  if(i%length_test==0):\n",
        "    print(\"#\",end=\"\")\n",
        "  if(test_file.values[i][BRAKE]>=50):       #MAX\n",
        "    test_array[i][BRAKE] = 31.75\n",
        "  elif(test_file.values[i][BRAKE]>= 25):    #MID\n",
        "    test_array[i][BRAKE] = round(((test_array[i][BRAKE] - 25)/25*31.75),2)\n",
        "  elif(test_file.values[i][BRAKE]> 0):      #MIN\n",
        "    test_array[i][BRAKE] = round(((test_array[i][BRAKE] - 25)/25*32),2)\n",
        "  else:                                     \n",
        "    test_array[i][BRAKE] = -32\n",
        "print(\"]\\nProcess 2 Clear\")"
      ],
      "execution_count": 13,
      "outputs": [
        {
          "output_type": "stream",
          "text": [
            "Process 2-1 Velocity[##########################]\n",
            "Process 2-2 Accel_X [##########################]\n",
            "Process 2-3 Steering[##########################]\n",
            "Process 2-4 Accelpad[##########################]\n",
            "Process 2-5 Brakepad[##########################]\n",
            "Process 2 Clear\n"
          ],
          "name": "stdout"
        }
      ]
    },
    {
      "cell_type": "markdown",
      "metadata": {
        "id": "yQsZpAVHRLLw",
        "colab_type": "text"
      },
      "source": [
        "##**데이터셋 만들기**"
      ]
    },
    {
      "cell_type": "markdown",
      "metadata": {
        "id": "DPlaC7H9i0_5",
        "colab_type": "text"
      },
      "source": [
        "###<h2>30Hz->10Hz로 데이터 갯수 맞추기</h2>"
      ]
    },
    {
      "cell_type": "code",
      "metadata": {
        "id": "T7TUFAnbrEyT",
        "colab_type": "code",
        "colab": {
          "base_uri": "https://localhost:8080/",
          "height": 52
        },
        "outputId": "98e13488-b0b5-44f7-a9ab-426ba756911c"
      },
      "source": [
        "train_10hz_array = []\n",
        "train_10hz_label = []\n",
        "count = 0\n",
        "for temp in train_array:\n",
        "  if(count%3 == 1):\n",
        "    train_10hz_array.append(train_array[count,:])\n",
        "    train_10hz_label.append(train_label[count])\n",
        "  count = count + 1\n",
        "train_10hz_array = np.array(train_10hz_array)\n",
        "train_10hz_label = np.array(train_10hz_label)\n",
        "print(len(train_10hz_array))\n",
        "print(len(train_10hz_label))"
      ],
      "execution_count": 64,
      "outputs": [
        {
          "output_type": "stream",
          "text": [
            "68669\n",
            "68669\n"
          ],
          "name": "stdout"
        }
      ]
    },
    {
      "cell_type": "code",
      "metadata": {
        "id": "hjByH0Pir5vb",
        "colab_type": "code",
        "colab": {
          "base_uri": "https://localhost:8080/",
          "height": 156
        },
        "outputId": "99f7d834-4f11-4822-8e3a-c43f73a1b7ef"
      },
      "source": [
        "test_10hz_array = []\n",
        "test_10hz_label = []\n",
        "count = 0\n",
        "for temp in test_array:\n",
        "  if(count%3 == 1):\n",
        "    test_10hz_array.append(test_array[count,:])\n",
        "    test_10hz_label.append(test_label[count])\n",
        "  count = count + 1\n",
        "test_10hz_array = np.array(test_10hz_array)\n",
        "test_10hz_label = np.array(test_10hz_label)\n",
        "print(test_10hz_array)\n",
        "print(len(test_10hz_label))"
      ],
      "execution_count": 76,
      "outputs": [
        {
          "output_type": "stream",
          "text": [
            "[[ 13.34   2.07  -0.12 -32.   -32.  ]\n",
            " [ 13.34   5.77   0.   -32.   -32.  ]\n",
            " [ 12.7    5.85   0.12 -32.   -32.  ]\n",
            " ...\n",
            " [-32.     0.     0.12 -32.   -32.  ]\n",
            " [-32.    -0.     0.12 -32.   -32.  ]\n",
            " [-32.    -0.     0.12 -32.   -32.  ]]\n",
            "6057\n"
          ],
          "name": "stdout"
        }
      ]
    },
    {
      "cell_type": "markdown",
      "metadata": {
        "id": "lRkTeXOoR1K7",
        "colab_type": "text"
      },
      "source": [
        "###<h1>사용 상수</h1>"
      ]
    },
    {
      "cell_type": "code",
      "metadata": {
        "id": "0yDupTrTRqjj",
        "colab_type": "code",
        "colab": {}
      },
      "source": [
        "WINDOW_SIZE = 150 #초당 32개의 데이터가 나옴.(30~32Hz)(window)// 120개(4초 분량)"
      ],
      "execution_count": 14,
      "outputs": []
    },
    {
      "cell_type": "code",
      "metadata": {
        "id": "tVD8O7xksARU",
        "colab_type": "code",
        "colab": {}
      },
      "source": [
        "WINDOW_10HZ_SIZE = 50 #초당 10개의 데이터로 줄임."
      ],
      "execution_count": 67,
      "outputs": []
    },
    {
      "cell_type": "markdown",
      "metadata": {
        "id": "SmwUN70sRVDj",
        "colab_type": "text"
      },
      "source": [
        "###<h2>Deep Neural Network Dataset</h2>"
      ]
    },
    {
      "cell_type": "markdown",
      "metadata": {
        "id": "QuAr8Ea5R3tL",
        "colab_type": "text"
      },
      "source": [
        "####<h2>학습용 데이터셋</h2>"
      ]
    },
    {
      "cell_type": "code",
      "metadata": {
        "id": "vrz84lR0RVXT",
        "colab_type": "code",
        "colab": {
          "base_uri": "https://localhost:8080/",
          "height": 52
        },
        "outputId": "9b0004ff-2d79-472f-903b-127974a7f477"
      },
      "source": [
        "#30hz\n",
        "train_dataset_data = []\n",
        "train_dataset_label = []\n",
        "for i in range(WINDOW_SIZE, train_array.shape[0] + 1, 1):\n",
        "  train_dataset_data.append(train_array[i-WINDOW_SIZE:i])\n",
        "  train_dataset_label.append(train_label[i-1])\n",
        "tr_data = np.array(train_dataset_data)\n",
        "tr_label = np.array(train_dataset_label) \n",
        "\n",
        "print(tr_data.shape)\n",
        "print(tr_label.shape)"
      ],
      "execution_count": 15,
      "outputs": [
        {
          "output_type": "stream",
          "text": [
            "(205858, 150, 5)\n",
            "(205858,)\n"
          ],
          "name": "stdout"
        }
      ]
    },
    {
      "cell_type": "code",
      "metadata": {
        "id": "TocUCZ3MsHXh",
        "colab_type": "code",
        "colab": {
          "base_uri": "https://localhost:8080/",
          "height": 52
        },
        "outputId": "fab0eb48-164a-4d6c-cdc8-d9120735c731"
      },
      "source": [
        "#10hz\n",
        "train_dataset_data = []\n",
        "train_dataset_label = []\n",
        "for i in range(WINDOW_10HZ_SIZE, train_10hz_array.shape[0] + 1, 1):\n",
        "  train_dataset_data.append(train_10hz_array[i-WINDOW_10HZ_SIZE:i])\n",
        "  train_dataset_label.append(train_10hz_label[i-1])\n",
        "tr_10hz_data = np.array(train_dataset_data)\n",
        "tr_10hz_label = np.array(train_dataset_label)\n",
        " \n",
        "print(tr_10hz_data.shape)\n",
        "print(tr_10hz_label.shape)"
      ],
      "execution_count": 68,
      "outputs": [
        {
          "output_type": "stream",
          "text": [
            "(68620, 50, 5)\n",
            "(68620,)\n"
          ],
          "name": "stdout"
        }
      ]
    },
    {
      "cell_type": "markdown",
      "metadata": {
        "id": "PPT8-nKhSBQ7",
        "colab_type": "text"
      },
      "source": [
        "####<h2>테스트 데이터셋</h2>"
      ]
    },
    {
      "cell_type": "code",
      "metadata": {
        "id": "NoOd36j8SAyN",
        "colab_type": "code",
        "colab": {
          "base_uri": "https://localhost:8080/",
          "height": 34
        },
        "outputId": "65b96cb4-8ff9-4ad5-9761-e8484ad4de70"
      },
      "source": [
        "#30hz\n",
        "test_dataset_data = []\n",
        "test_dataset_label = []\n",
        "for i in range(WINDOW_SIZE, test_array.shape[0] + 1, 1):\n",
        "  test_dataset_data.append(test_array[i-WINDOW_SIZE:i])\n",
        "  test_dataset_label.append(test_label[i-1])\n",
        "\n",
        "te_data = np.array(test_dataset_data)\n",
        "te_label = np.array(test_dataset_label) \n",
        "print(tr_data.shape)"
      ],
      "execution_count": 73,
      "outputs": [
        {
          "output_type": "stream",
          "text": [
            "(205858, 150, 5)\n"
          ],
          "name": "stdout"
        }
      ]
    },
    {
      "cell_type": "code",
      "metadata": {
        "id": "V1hD5nSZtN-z",
        "colab_type": "code",
        "colab": {
          "base_uri": "https://localhost:8080/",
          "height": 34
        },
        "outputId": "2aa50e79-a2f4-4be0-c41a-194ab8441f14"
      },
      "source": [
        "#10hz\n",
        "test_dataset_data = []\n",
        "test_dataset_label = []\n",
        "for i in range(WINDOW_10HZ_SIZE, test_10hz_array.shape[0] + 1, 1):\n",
        "  test_dataset_data.append(test_10hz_array[i-WINDOW_10HZ_SIZE:i])\n",
        "  test_dataset_label.append(test_10hz_label[i-1])\n",
        "\n",
        "te_10hz_data = np.array(test_dataset_data)\n",
        "te_10hz_label = np.array(test_dataset_label) \n",
        "print(te_10hz_data.shape)"
      ],
      "execution_count": 81,
      "outputs": [
        {
          "output_type": "stream",
          "text": [
            "(6008, 50, 5)\n"
          ],
          "name": "stdout"
        }
      ]
    },
    {
      "cell_type": "markdown",
      "metadata": {
        "id": "U5Z6XLumSJUz",
        "colab_type": "text"
      },
      "source": [
        "####<h2>실제 데이터셋</h2>"
      ]
    },
    {
      "cell_type": "code",
      "metadata": {
        "id": "1M2pDzh6SMUr",
        "colab_type": "code",
        "colab": {}
      },
      "source": [
        "real_dataset_data = []\n",
        "real_dataset_label = []\n",
        "for i in range(WINDOW_SIZE, real_array.shape[0] + 1, 1):\n",
        "  real_dataset_data.append(real_array[i-WINDOW_SIZE:i])\n",
        "  real_dataset_label.append(real_label[i-1])\n",
        "re_data = np.array(real_dataset_data)\n",
        "re_label = np.array(real_dataset_label) "
      ],
      "execution_count": 17,
      "outputs": []
    },
    {
      "cell_type": "code",
      "metadata": {
        "id": "zrGCTgIStf9C",
        "colab_type": "code",
        "colab": {
          "base_uri": "https://localhost:8080/",
          "height": 34
        },
        "outputId": "edd1ca30-fb5e-4b54-c3b3-47df9ac61134"
      },
      "source": [
        "real_dataset_data = []\n",
        "real_dataset_label = []\n",
        "for i in range(WINDOW_10HZ_SIZE, real_array.shape[0] + 1, 1):\n",
        "  real_dataset_data.append(real_array[i-WINDOW_10HZ_SIZE:i])\n",
        "  real_dataset_label.append(real_label[i-1])\n",
        "re_10hz_data = np.array(real_dataset_data)\n",
        "re_10hz_label = np.array(real_dataset_label) \n",
        "print(re_10hz_data.shape)"
      ],
      "execution_count": 79,
      "outputs": [
        {
          "output_type": "stream",
          "text": [
            "(53212, 50, 5)\n"
          ],
          "name": "stdout"
        }
      ]
    },
    {
      "cell_type": "markdown",
      "metadata": {
        "id": "5hFW9Z52STZa",
        "colab_type": "text"
      },
      "source": [
        "###<h2>Convolution Neural Network Dataset</h2>"
      ]
    },
    {
      "cell_type": "markdown",
      "metadata": {
        "id": "CiiuY01eSZH6",
        "colab_type": "text"
      },
      "source": [
        "위의 np.array에 차원을 추가"
      ]
    },
    {
      "cell_type": "code",
      "metadata": {
        "id": "SqgAXJT-Tr8G",
        "colab_type": "code",
        "colab": {}
      },
      "source": [
        "##여기 구현\n",
        "##TO DO: data의 구조를 (None,총 row수, WINDOW크기, 라벨수)로 바꿔야함. 4차원으로 변경"
      ],
      "execution_count": 145,
      "outputs": []
    },
    {
      "cell_type": "markdown",
      "metadata": {
        "id": "sj7szOwXVagM",
        "colab_type": "text"
      },
      "source": [
        "##**상태 분석 모델링**"
      ]
    },
    {
      "cell_type": "markdown",
      "metadata": {
        "id": "d0cEHuvoVilq",
        "colab_type": "text"
      },
      "source": [
        "###<h2>Deep Neural Network Model</h2>"
      ]
    },
    {
      "cell_type": "code",
      "metadata": {
        "id": "I-58Fe_JUbIz",
        "colab_type": "code",
        "colab": {
          "base_uri": "https://localhost:8080/",
          "height": 366
        },
        "outputId": "6776f54a-4085-4a5c-8209-0713bb84fe99"
      },
      "source": [
        "dnn_model = keras.Sequential([\n",
        "    #keras.layers.Flatten(input_shape=(WINDOW_SIZE, 6)),\n",
        "    keras.layers.Flatten(input_shape=(WINDOW_SIZE, 5)),\n",
        "    #keras.layers.Dense(256, activation='relu'),\n",
        "    keras.layers.Dense(128,activation='relu'),\n",
        "    #keras.layers.Dropout(0.2),\n",
        "    keras.layers.Dense(64),\n",
        "    #keras.layers.Dropout(0.2),\n",
        "    keras.layers.Dense(128),\n",
        "    #keras.layers.Dropout(0.2),\n",
        "    keras.layers.Dense(16),\n",
        "    #keras.layers.Dense(16),\n",
        "    keras.layers.Dense(8, activation='softmax')\n",
        "])\n",
        "dnn_model.summary()\n",
        "dnn_model.compile(optimizer='adam',\n",
        "              loss='sparse_categorical_crossentropy',\n",
        "              metrics=['accuracy'])"
      ],
      "execution_count": 35,
      "outputs": [
        {
          "output_type": "stream",
          "text": [
            "Model: \"sequential_1\"\n",
            "_________________________________________________________________\n",
            "Layer (type)                 Output Shape              Param #   \n",
            "=================================================================\n",
            "flatten_1 (Flatten)          (None, 750)               0         \n",
            "_________________________________________________________________\n",
            "dense_5 (Dense)              (None, 128)               96128     \n",
            "_________________________________________________________________\n",
            "dense_6 (Dense)              (None, 64)                8256      \n",
            "_________________________________________________________________\n",
            "dense_7 (Dense)              (None, 128)               8320      \n",
            "_________________________________________________________________\n",
            "dense_8 (Dense)              (None, 16)                2064      \n",
            "_________________________________________________________________\n",
            "dense_9 (Dense)              (None, 8)                 136       \n",
            "=================================================================\n",
            "Total params: 114,904\n",
            "Trainable params: 114,904\n",
            "Non-trainable params: 0\n",
            "_________________________________________________________________\n"
          ],
          "name": "stdout"
        }
      ]
    },
    {
      "cell_type": "code",
      "metadata": {
        "id": "5-OvRdCrtYuV",
        "colab_type": "code",
        "colab": {
          "base_uri": "https://localhost:8080/",
          "height": 366
        },
        "outputId": "3b710d89-8f5a-4693-aa83-2bbf16ee2ff2"
      },
      "source": [
        "dnn_10hz_model = keras.Sequential([\n",
        "    #keras.layers.Flatten(input_shape=(WINDOW_SIZE, 6)),\n",
        "    keras.layers.Flatten(input_shape=(WINDOW_10HZ_SIZE, 5)),\n",
        "    #keras.layers.Dense(256, activation='relu'),\n",
        "    keras.layers.Dense(128,activation='relu'),\n",
        "    #keras.layers.Dropout(0.2),\n",
        "    keras.layers.Dense(64),\n",
        "    #keras.layers.Dropout(0.2),\n",
        "    keras.layers.Dense(128),\n",
        "    #keras.layers.Dropout(0.2),\n",
        "    keras.layers.Dense(16),\n",
        "    #keras.layers.Dense(16),\n",
        "    keras.layers.Dense(8, activation='softmax')\n",
        "])\n",
        "dnn_10hz_model.summary()\n",
        "dnn_10hz_model.compile(optimizer='adam',\n",
        "              loss='sparse_categorical_crossentropy',\n",
        "              metrics=['accuracy'])"
      ],
      "execution_count": 82,
      "outputs": [
        {
          "output_type": "stream",
          "text": [
            "Model: \"sequential_2\"\n",
            "_________________________________________________________________\n",
            "Layer (type)                 Output Shape              Param #   \n",
            "=================================================================\n",
            "flatten_2 (Flatten)          (None, 250)               0         \n",
            "_________________________________________________________________\n",
            "dense_10 (Dense)             (None, 128)               32128     \n",
            "_________________________________________________________________\n",
            "dense_11 (Dense)             (None, 64)                8256      \n",
            "_________________________________________________________________\n",
            "dense_12 (Dense)             (None, 128)               8320      \n",
            "_________________________________________________________________\n",
            "dense_13 (Dense)             (None, 16)                2064      \n",
            "_________________________________________________________________\n",
            "dense_14 (Dense)             (None, 8)                 136       \n",
            "=================================================================\n",
            "Total params: 50,904\n",
            "Trainable params: 50,904\n",
            "Non-trainable params: 0\n",
            "_________________________________________________________________\n"
          ],
          "name": "stdout"
        }
      ]
    },
    {
      "cell_type": "markdown",
      "metadata": {
        "id": "aqoLAGr6Vncq",
        "colab_type": "text"
      },
      "source": [
        "###<h2>Convolution Neural Network Model</h2>"
      ]
    },
    {
      "cell_type": "markdown",
      "metadata": {
        "id": "sG8GnsnyB2QZ",
        "colab_type": "text"
      },
      "source": [
        "Convolution neural Network에서 합성곱 신경망의 필터를 통과할 때(Conv2D-> 2차원 필터) 데이터는 차원이 낮아지게 된다.<br>\n",
        "NxN의 vector가 FxF의 필터를 통과하게되면 (N-F+1)x(N-F+1)로 줄어들게 된다.<br>\n",
        "즉 지금 여기의 예시에서는 120(윈도우 크기) x 5를 3x3이 통과하게 되면 118 x 3으로 줄어든다.<br>\n",
        "이를 MaxPool2D의 2x2필터를 통과하게 되면 117x2로 줄어들게 되며 다시한번 Conv2D의 2x2 필터를 통과하게 되면 116x1로 줄어들어서 더이상 Convolution필터를 통과할 수 없게 된다.<br>\n",
        "이 때문에 많은 필터 layer를 추가하지 못하므로 이를 해결하기위해 padding 기술을 사용한다.<br>\n",
        "padding기술은 각 edge의 값을 복사하여 각 방향으로 한 칸 늘려서 크기를 유지하는 기술이다.<br>\n",
        "Conv2D에서는 padding을 사용하지 않는 valid, padding을 사용하는 same의 두가지를 지원한다. 이를 사용하면 많은 layer를 넣을 수 있다. 이를 이용하여 해결하였다.\n"
      ]
    },
    {
      "cell_type": "code",
      "metadata": {
        "id": "urfUdlMUUb4a",
        "colab_type": "code",
        "colab": {
          "base_uri": "https://localhost:8080/",
          "height": 436
        },
        "outputId": "432fa4f4-9825-4961-bfca-a2916d49f343"
      },
      "source": [
        "cnn_model = keras.Sequential([\n",
        "    keras.layers.Conv2D(64,(3,3),activation='relu',padding='same',input_shape = (WINDOW_SIZE,5,1)),#120개(WINDOW_SIZE의 3x3 필터) #??????????????????? => 왜 INPUT SHAPE가 120X18X1로 들어가지???????\n",
        "    #keras.layers.Conv2D(120,(3,3),activation='relu', input_shape = (WINDOW_SIZE,5,1))\n",
        "    keras.layers.MaxPool2D((2,2),padding='same'), #2x2 size의 Max Pooling 2D Matrix\n",
        "    #keras.layers.Dropout(0.2),\n",
        "    keras.layers.Conv2D(128,(3,3),activation='relu',padding='same'), # 전 단계 필터 수의 2배인 240개의 3x3 matrix filters\n",
        "    keras.layers.MaxPool2D((2,2),padding='same'), #2x2 size의 Max Pooling 2D Matrix\n",
        "    keras.layers.Conv2D(64,(3,3),padding='same'), # 전 단계 필터 수의 1/2배인 120개의 3x3 matrix filters\n",
        "    #keras.layers.Dropout(0.2),\n",
        "    keras.layers.Flatten(),\n",
        "    keras.layers.Dense(64, activation='relu') ,\n",
        "    keras.layers.Dense(8, activation='softmax')   #stop 넣는 경우\n",
        "    #keras.layers.Dense(7, activition='softmax')  #stop 빼는 경우\n",
        "])\n",
        "cnn_model.summary()\n",
        "cnn_model.compile(optimizer='adam',\n",
        "              loss='sparse_categorical_crossentropy',\n",
        "              metrics=['accuracy'])"
      ],
      "execution_count": 126,
      "outputs": [
        {
          "output_type": "stream",
          "text": [
            "Model: \"sequential_38\"\n",
            "_________________________________________________________________\n",
            "Layer (type)                 Output Shape              Param #   \n",
            "=================================================================\n",
            "conv2d_84 (Conv2D)           (None, 150, 5, 64)        640       \n",
            "_________________________________________________________________\n",
            "max_pooling2d_60 (MaxPooling (None, 75, 3, 64)         0         \n",
            "_________________________________________________________________\n",
            "conv2d_85 (Conv2D)           (None, 75, 3, 128)        73856     \n",
            "_________________________________________________________________\n",
            "max_pooling2d_61 (MaxPooling (None, 38, 2, 128)        0         \n",
            "_________________________________________________________________\n",
            "conv2d_86 (Conv2D)           (None, 38, 2, 64)         73792     \n",
            "_________________________________________________________________\n",
            "flatten_34 (Flatten)         (None, 4864)              0         \n",
            "_________________________________________________________________\n",
            "dense_45 (Dense)             (None, 64)                311360    \n",
            "_________________________________________________________________\n",
            "dense_46 (Dense)             (None, 8)                 520       \n",
            "=================================================================\n",
            "Total params: 460,168\n",
            "Trainable params: 460,168\n",
            "Non-trainable params: 0\n",
            "_________________________________________________________________\n"
          ],
          "name": "stdout"
        }
      ]
    },
    {
      "cell_type": "code",
      "metadata": {
        "id": "BkSa1zqxfVhm",
        "colab_type": "code",
        "colab": {}
      },
      "source": [
        "\"\"\"\n",
        "model = keras.models.Sequential()\n",
        "model.add(keras.layers.Conv2D(120, (3, 3), activation='relu', input_shape=(WINDOW_SIZE,18,1)))#??????????????????? => 왜 INPUT SHAPE가 120X18X1로 들어가지???????\n",
        "model.add(keras.layers.MaxPooling2D((2, 2)))\n",
        "model.add(keras.layers.Conv2D(240, (3, 3), activation='relu'))\n",
        "model.add(keras.layers.MaxPooling2D((2, 2)))\n",
        "model.add(keras.layers.Conv2D(120, (3, 3), activation='relu'))\n",
        "\"\"\""
      ],
      "execution_count": null,
      "outputs": []
    },
    {
      "cell_type": "markdown",
      "metadata": {
        "id": "Owogfoa5aeQP",
        "colab_type": "text"
      },
      "source": [
        "##**모델 학습**"
      ]
    },
    {
      "cell_type": "markdown",
      "metadata": {
        "id": "NNf1FTMTwtaT",
        "colab_type": "text"
      },
      "source": [
        "###DNN MODEL 학습"
      ]
    },
    {
      "cell_type": "code",
      "metadata": {
        "id": "2DcDIKwRakIW",
        "colab_type": "code",
        "colab": {
          "base_uri": "https://localhost:8080/",
          "height": 907
        },
        "outputId": "a3784787-5ab3-4949-da18-a9eff190296b"
      },
      "source": [
        "dnn_model.fit(tr_data,tr_label,epochs=30,batch_size=32)"
      ],
      "execution_count": 36,
      "outputs": [
        {
          "output_type": "stream",
          "text": [
            "Epoch 1/25\n",
            "6434/6434 [==============================] - 16s 2ms/step - loss: 0.7243 - accuracy: 0.8037\n",
            "Epoch 2/25\n",
            "6434/6434 [==============================] - 18s 3ms/step - loss: 0.4800 - accuracy: 0.8484\n",
            "Epoch 3/25\n",
            "6434/6434 [==============================] - 15s 2ms/step - loss: 0.4202 - accuracy: 0.8662\n",
            "Epoch 4/25\n",
            "6434/6434 [==============================] - 15s 2ms/step - loss: 0.3839 - accuracy: 0.8770\n",
            "Epoch 5/25\n",
            "6434/6434 [==============================] - 16s 3ms/step - loss: 0.3621 - accuracy: 0.8835\n",
            "Epoch 6/25\n",
            "6434/6434 [==============================] - 17s 3ms/step - loss: 0.3452 - accuracy: 0.8885\n",
            "Epoch 7/25\n",
            "6434/6434 [==============================] - 16s 3ms/step - loss: 0.3317 - accuracy: 0.8923\n",
            "Epoch 8/25\n",
            "6434/6434 [==============================] - 16s 3ms/step - loss: 0.3231 - accuracy: 0.8949\n",
            "Epoch 9/25\n",
            "6434/6434 [==============================] - 16s 3ms/step - loss: 0.3147 - accuracy: 0.8968\n",
            "Epoch 10/25\n",
            "6434/6434 [==============================] - 16s 2ms/step - loss: 0.3103 - accuracy: 0.8986\n",
            "Epoch 11/25\n",
            "6434/6434 [==============================] - 16s 3ms/step - loss: 0.3047 - accuracy: 0.9009\n",
            "Epoch 12/25\n",
            "6434/6434 [==============================] - 17s 3ms/step - loss: 0.2989 - accuracy: 0.9017\n",
            "Epoch 13/25\n",
            "6434/6434 [==============================] - 17s 3ms/step - loss: 0.2956 - accuracy: 0.9038\n",
            "Epoch 14/25\n",
            "6434/6434 [==============================] - 17s 3ms/step - loss: 0.2924 - accuracy: 0.9047\n",
            "Epoch 15/25\n",
            "6434/6434 [==============================] - 17s 3ms/step - loss: 0.2902 - accuracy: 0.9054\n",
            "Epoch 16/25\n",
            "6434/6434 [==============================] - 16s 3ms/step - loss: 0.2858 - accuracy: 0.9065\n",
            "Epoch 17/25\n",
            "6434/6434 [==============================] - 16s 2ms/step - loss: 0.2832 - accuracy: 0.9072\n",
            "Epoch 18/25\n",
            "6434/6434 [==============================] - 16s 3ms/step - loss: 0.2797 - accuracy: 0.9080\n",
            "Epoch 19/25\n",
            "6434/6434 [==============================] - 17s 3ms/step - loss: 0.2765 - accuracy: 0.9091\n",
            "Epoch 20/25\n",
            "6434/6434 [==============================] - 18s 3ms/step - loss: 0.2761 - accuracy: 0.9096\n",
            "Epoch 21/25\n",
            "6434/6434 [==============================] - 19s 3ms/step - loss: 0.2714 - accuracy: 0.9106\n",
            "Epoch 22/25\n",
            "6434/6434 [==============================] - 17s 3ms/step - loss: 0.2682 - accuracy: 0.9113\n",
            "Epoch 23/25\n",
            "6434/6434 [==============================] - 17s 3ms/step - loss: 0.2701 - accuracy: 0.9112\n",
            "Epoch 24/25\n",
            "6434/6434 [==============================] - 18s 3ms/step - loss: 0.2645 - accuracy: 0.9120\n",
            "Epoch 25/25\n",
            "6434/6434 [==============================] - 17s 3ms/step - loss: 0.2630 - accuracy: 0.9125\n"
          ],
          "name": "stdout"
        },
        {
          "output_type": "execute_result",
          "data": {
            "text/plain": [
              "<tensorflow.python.keras.callbacks.History at 0x7efcac393358>"
            ]
          },
          "metadata": {
            "tags": []
          },
          "execution_count": 36
        }
      ]
    },
    {
      "cell_type": "code",
      "metadata": {
        "id": "wkfR9FtXtr5J",
        "colab_type": "code",
        "colab": {
          "base_uri": "https://localhost:8080/",
          "height": 1000
        },
        "outputId": "01508272-74b4-45dc-e516-b2a11fcdb53b"
      },
      "source": [
        "dnn_10hz_model.fit(tr_10hz_data,tr_10hz_label,epochs=30,batch_size=32)"
      ],
      "execution_count": 83,
      "outputs": [
        {
          "output_type": "stream",
          "text": [
            "Epoch 1/30\n",
            "2145/2145 [==============================] - 4s 2ms/step - loss: 0.9483 - accuracy: 0.7717\n",
            "Epoch 2/30\n",
            "2145/2145 [==============================] - 4s 2ms/step - loss: 0.5669 - accuracy: 0.8258\n",
            "Epoch 3/30\n",
            "2145/2145 [==============================] - 4s 2ms/step - loss: 0.5008 - accuracy: 0.8415\n",
            "Epoch 4/30\n",
            "2145/2145 [==============================] - 4s 2ms/step - loss: 0.4655 - accuracy: 0.8527\n",
            "Epoch 5/30\n",
            "2145/2145 [==============================] - 4s 2ms/step - loss: 0.4285 - accuracy: 0.8614\n",
            "Epoch 6/30\n",
            "2145/2145 [==============================] - 4s 2ms/step - loss: 0.4081 - accuracy: 0.8674\n",
            "Epoch 7/30\n",
            "2145/2145 [==============================] - 4s 2ms/step - loss: 0.3859 - accuracy: 0.8758\n",
            "Epoch 8/30\n",
            "2145/2145 [==============================] - 4s 2ms/step - loss: 0.3710 - accuracy: 0.8801\n",
            "Epoch 9/30\n",
            "2145/2145 [==============================] - 4s 2ms/step - loss: 0.3578 - accuracy: 0.8840\n",
            "Epoch 10/30\n",
            "2145/2145 [==============================] - 4s 2ms/step - loss: 0.3453 - accuracy: 0.8872\n",
            "Epoch 11/30\n",
            "2145/2145 [==============================] - 4s 2ms/step - loss: 0.3379 - accuracy: 0.8892\n",
            "Epoch 12/30\n",
            "2145/2145 [==============================] - 4s 2ms/step - loss: 0.3298 - accuracy: 0.8938\n",
            "Epoch 13/30\n",
            "2145/2145 [==============================] - 4s 2ms/step - loss: 0.3188 - accuracy: 0.8953\n",
            "Epoch 14/30\n",
            "2145/2145 [==============================] - 4s 2ms/step - loss: 0.3155 - accuracy: 0.8963\n",
            "Epoch 15/30\n",
            "2145/2145 [==============================] - 4s 2ms/step - loss: 0.3070 - accuracy: 0.8994\n",
            "Epoch 16/30\n",
            "2145/2145 [==============================] - 4s 2ms/step - loss: 0.3112 - accuracy: 0.8993\n",
            "Epoch 17/30\n",
            "2145/2145 [==============================] - 4s 2ms/step - loss: 0.2952 - accuracy: 0.9016\n",
            "Epoch 18/30\n",
            "2145/2145 [==============================] - 4s 2ms/step - loss: 0.2932 - accuracy: 0.9029\n",
            "Epoch 19/30\n",
            "2145/2145 [==============================] - 4s 2ms/step - loss: 0.2856 - accuracy: 0.9055\n",
            "Epoch 20/30\n",
            "2145/2145 [==============================] - 4s 2ms/step - loss: 0.2837 - accuracy: 0.9060\n",
            "Epoch 21/30\n",
            "2145/2145 [==============================] - 4s 2ms/step - loss: 0.2789 - accuracy: 0.9062\n",
            "Epoch 22/30\n",
            "2145/2145 [==============================] - 4s 2ms/step - loss: 0.2789 - accuracy: 0.9074\n",
            "Epoch 23/30\n",
            "2145/2145 [==============================] - 4s 2ms/step - loss: 0.2737 - accuracy: 0.9079\n",
            "Epoch 24/30\n",
            "2145/2145 [==============================] - 4s 2ms/step - loss: 0.2706 - accuracy: 0.9092\n",
            "Epoch 25/30\n",
            "2145/2145 [==============================] - 4s 2ms/step - loss: 0.2677 - accuracy: 0.9094\n",
            "Epoch 26/30\n",
            "2145/2145 [==============================] - 4s 2ms/step - loss: 0.2644 - accuracy: 0.9108\n",
            "Epoch 27/30\n",
            "2145/2145 [==============================] - 4s 2ms/step - loss: 0.2622 - accuracy: 0.9123\n",
            "Epoch 28/30\n",
            "2145/2145 [==============================] - 4s 2ms/step - loss: 0.2591 - accuracy: 0.9141\n",
            "Epoch 29/30\n",
            "2145/2145 [==============================] - 4s 2ms/step - loss: 0.2541 - accuracy: 0.9144\n",
            "Epoch 30/30\n",
            "2145/2145 [==============================] - 4s 2ms/step - loss: 0.2589 - accuracy: 0.9136\n"
          ],
          "name": "stdout"
        },
        {
          "output_type": "execute_result",
          "data": {
            "text/plain": [
              "<tensorflow.python.keras.callbacks.History at 0x7efcb796e860>"
            ]
          },
          "metadata": {
            "tags": []
          },
          "execution_count": 83
        }
      ]
    },
    {
      "cell_type": "markdown",
      "metadata": {
        "id": "TQlitVKAwxfB",
        "colab_type": "text"
      },
      "source": [
        "###CNN MODEL 학습"
      ]
    },
    {
      "cell_type": "code",
      "metadata": {
        "id": "u6ihxsU-axAt",
        "colab_type": "code",
        "colab": {}
      },
      "source": [
        "cnn_model.fit(tr_c_data,tr_c_label,epochs=30,batch_size=32)"
      ],
      "execution_count": null,
      "outputs": []
    },
    {
      "cell_type": "markdown",
      "metadata": {
        "id": "Jmu_Fm8FWWxJ",
        "colab_type": "text"
      },
      "source": [
        "##**모델 평가**"
      ]
    },
    {
      "cell_type": "markdown",
      "metadata": {
        "id": "aZlO1fOTWakZ",
        "colab_type": "text"
      },
      "source": [
        "###<h2>Deep Neural Network Model</h2>"
      ]
    },
    {
      "cell_type": "markdown",
      "metadata": {
        "id": "ocNw390IWjTx",
        "colab_type": "text"
      },
      "source": [
        "####테스트 데이터 평가"
      ]
    },
    {
      "cell_type": "code",
      "metadata": {
        "id": "2NuGNAdCWEZZ",
        "colab_type": "code",
        "colab": {
          "base_uri": "https://localhost:8080/",
          "height": 52
        },
        "outputId": "1a0f8f21-5935-4b54-dd39-e91b7ac4ce87"
      },
      "source": [
        "dnn_model.evaluate(te_data, te_label,verbose=2)"
      ],
      "execution_count": 37,
      "outputs": [
        {
          "output_type": "stream",
          "text": [
            "564/564 - 1s - loss: 0.9974 - accuracy: 0.7942\n"
          ],
          "name": "stdout"
        },
        {
          "output_type": "execute_result",
          "data": {
            "text/plain": [
              "[0.9973881244659424, 0.7942073941230774]"
            ]
          },
          "metadata": {
            "tags": []
          },
          "execution_count": 37
        }
      ]
    },
    {
      "cell_type": "code",
      "metadata": {
        "id": "nWRPDff8wZfO",
        "colab_type": "code",
        "colab": {
          "base_uri": "https://localhost:8080/",
          "height": 52
        },
        "outputId": "6ff7363f-3673-4d36-ca7a-0af19266ebde"
      },
      "source": [
        "dnn_10hz_model.evaluate(te_10hz_data, te_10hz_label,verbose=2)"
      ],
      "execution_count": 85,
      "outputs": [
        {
          "output_type": "stream",
          "text": [
            "188/188 - 0s - loss: 1.0036 - accuracy: 0.7939\n"
          ],
          "name": "stdout"
        },
        {
          "output_type": "execute_result",
          "data": {
            "text/plain": [
              "[1.003562331199646, 0.7939414381980896]"
            ]
          },
          "metadata": {
            "tags": []
          },
          "execution_count": 85
        }
      ]
    },
    {
      "cell_type": "markdown",
      "metadata": {
        "id": "wBBQmQAqWoFk",
        "colab_type": "text"
      },
      "source": [
        "####실제 데이터 평가"
      ]
    },
    {
      "cell_type": "code",
      "metadata": {
        "id": "KxOJVe2CWOVB",
        "colab_type": "code",
        "colab": {
          "base_uri": "https://localhost:8080/",
          "height": 52
        },
        "outputId": "cfe5400b-457a-4688-c3af-3efab6469fd5"
      },
      "source": [
        "dnn_model.evaluate(redata, re_label,verbose=2)"
      ],
      "execution_count": 38,
      "outputs": [
        {
          "output_type": "stream",
          "text": [
            "1660/1660 - 2s - loss: 1.5128 - accuracy: 0.7755\n"
          ],
          "name": "stdout"
        },
        {
          "output_type": "execute_result",
          "data": {
            "text/plain": [
              "[1.5128397941589355, 0.77545565366745]"
            ]
          },
          "metadata": {
            "tags": []
          },
          "execution_count": 38
        }
      ]
    },
    {
      "cell_type": "code",
      "metadata": {
        "id": "Xjj6tQPSwZwZ",
        "colab_type": "code",
        "colab": {
          "base_uri": "https://localhost:8080/",
          "height": 52
        },
        "outputId": "2c360b73-6bcc-4b29-dafb-8befb0acd662"
      },
      "source": [
        "dnn_10hz_model.evaluate(re_10hz_data, re_10hz_label,verbose=2)"
      ],
      "execution_count": 86,
      "outputs": [
        {
          "output_type": "stream",
          "text": [
            "1663/1663 - 2s - loss: 1.3938 - accuracy: 0.7672\n"
          ],
          "name": "stdout"
        },
        {
          "output_type": "execute_result",
          "data": {
            "text/plain": [
              "[1.3937963247299194, 0.7672141790390015]"
            ]
          },
          "metadata": {
            "tags": []
          },
          "execution_count": 86
        }
      ]
    },
    {
      "cell_type": "markdown",
      "metadata": {
        "id": "m8EY2rSGWhGD",
        "colab_type": "text"
      },
      "source": [
        "###<h2>Convolution Neural Network Model</h2>"
      ]
    },
    {
      "cell_type": "markdown",
      "metadata": {
        "id": "Iu4yUD9sWqzp",
        "colab_type": "text"
      },
      "source": [
        "####테스트 데이터 평가"
      ]
    },
    {
      "cell_type": "code",
      "metadata": {
        "id": "bvArHtkTWEnt",
        "colab_type": "code",
        "colab": {}
      },
      "source": [
        "cnn_model.evaluate(te_c_data, te_label,verbose=2)"
      ],
      "execution_count": null,
      "outputs": []
    },
    {
      "cell_type": "markdown",
      "metadata": {
        "id": "2PkiA1pDWtGR",
        "colab_type": "text"
      },
      "source": [
        "####실제 데이터 평가"
      ]
    },
    {
      "cell_type": "code",
      "metadata": {
        "id": "UlWMC3T6WOhh",
        "colab_type": "code",
        "colab": {}
      },
      "source": [
        "cnn_model.evaluate(re_c_data, te_label,verbose=2)"
      ],
      "execution_count": null,
      "outputs": []
    },
    {
      "cell_type": "markdown",
      "metadata": {
        "id": "HkeXdvq2Wvjy",
        "colab_type": "text"
      },
      "source": [
        "##<h2>**모델 예측**</h2>"
      ]
    },
    {
      "cell_type": "code",
      "metadata": {
        "id": "2jTqiDfyg2J8",
        "colab_type": "code",
        "colab": {}
      },
      "source": [
        "predictions = dnn_10hz_model.predict(re_10hz_data)"
      ],
      "execution_count": 87,
      "outputs": []
    },
    {
      "cell_type": "code",
      "metadata": {
        "id": "WK1HuEBBg5s7",
        "colab_type": "code",
        "colab": {}
      },
      "source": [
        "txt = 'Pred_Direction,Real_Direction\\n'\n",
        "count = 0\n",
        "for temp in re_data:\n",
        "  if(np.argmax(predictions[count]) == 0):\n",
        "  #  print('straight')\n",
        "    txt = txt + ',straight'\n",
        "  elif(np.argmax(predictions[count]) == 1):\n",
        "  #  print('left')\n",
        "    txt = txt + ',curve_left'\n",
        "  elif(np.argmax(predictions[count]) == 2):\n",
        "    txt = txt + ',curve_right'\n",
        "  elif(np.argmax(predictions[count]) == 3):\n",
        "    txt = txt + ',left' \n",
        "  elif(np.argmax(predictions[count]) == 4):\n",
        "    txt = txt + ',right'\n",
        "  elif(np.argmax(predictions[count]) == 5):\n",
        "    txt = txt + ',change_left'\n",
        "  elif(np.argmax(predictions[count]) == 6):\n",
        "    txt = txt + ',change_right'\n",
        "  else:\n",
        "    txt = txt + ',stop'\n",
        "  if(real_file_label[count] == 0):\n",
        "    txt = txt + ',straight\\n'\n",
        "  elif(real_file_label[count] == 1):\n",
        "    txt = txt + ',curve_left\\n'\n",
        "  elif(real_file_label[count] == 2):\n",
        "    txt = txt + ',curve_right\\n'\n",
        "  elif(real_file_label[count] == 3):\n",
        "    txt = txt + ',left\\n'\n",
        "  elif(real_file_label[count] == 4):\n",
        "    txt = txt + ',right\\n' \n",
        "  elif(real_file_label[count] == 5):\n",
        "    txt = txt + ',change_left\\n'\n",
        "  elif(real_file_label[count] == 6):\n",
        "    txt = txt + ',change_right\\n'\n",
        "  else:\n",
        "    txt = txt + ',stop\\n'\n",
        "  count = count + 1"
      ],
      "execution_count": 88,
      "outputs": []
    },
    {
      "cell_type": "code",
      "metadata": {
        "id": "ZQPuTDgRhFOe",
        "colab_type": "code",
        "colab": {}
      },
      "source": [
        "f = open(\"/content/drive/My Drive/real_pred_output.csv\",'w')\n",
        "f.write(txt)\n",
        "f.close()"
      ],
      "execution_count": 89,
      "outputs": []
    }
  ]
}