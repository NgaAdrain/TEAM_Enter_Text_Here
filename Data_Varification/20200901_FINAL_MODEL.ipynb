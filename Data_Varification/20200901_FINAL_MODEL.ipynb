{
  "nbformat": 4,
  "nbformat_minor": 0,
  "metadata": {
    "colab": {
      "name": "20200901_FINAL_MODEL.ipynb",
      "provenance": [],
      "collapsed_sections": [
        "3cY7E7NWrlP9",
        "mLvBPyZp669J"
      ],
      "toc_visible": true,
      "authorship_tag": "ABX9TyPXJW/EUsIvMXM/AdwN/+6P",
      "include_colab_link": true
    },
    "kernelspec": {
      "name": "python3",
      "display_name": "Python 3"
    }
  },
  "cells": [
    {
      "cell_type": "markdown",
      "metadata": {
        "id": "view-in-github",
        "colab_type": "text"
      },
      "source": [
        "<a href=\"https://colab.research.google.com/github/NgaAdrain/TEAM_Enter_Text_Here/blob/master/Data_Varification/20200901_FINAL_MODEL.ipynb\" target=\"_parent\"><img src=\"https://colab.research.google.com/assets/colab-badge.svg\" alt=\"Open In Colab\"/></a>"
      ]
    },
    {
      "cell_type": "code",
      "metadata": {
        "id": "RqE3KLHN8-AR",
        "colab_type": "code",
        "colab": {}
      },
      "source": [
        "# Import the TensorFlow\n",
        "import tensorflow as tf\n",
        "from tensorflow import keras\n",
        "import pandas as pd\n",
        "import numpy as np"
      ],
      "execution_count": null,
      "outputs": []
    },
    {
      "cell_type": "markdown",
      "metadata": {
        "id": "PM8NViLk6Rj6",
        "colab_type": "text"
      },
      "source": [
        "###<h2>시뮬레이션 테스트 데이터는 test_input.csv의 형식으로 저장한다.</h2>"
      ]
    },
    {
      "cell_type": "code",
      "metadata": {
        "id": "_GOqY_X8571q",
        "colab_type": "code",
        "colab": {}
      },
      "source": [
        "#test_file = pd.read_csv('/content/test_data.csv',encoding='utf-8')\n",
        "test_file = pd.read_csv('/content/data.csv',encoding='utf-8')\n",
        "test_file_label = test_file.pop('Label')\n",
        "#아래는 시뮬레이터 데이터에서만#\n",
        "#test_file_time = test_file.pop('Timestamp') \n",
        "#test_file.drop(['Winker(left)','Winker(right)','Timecheck'],axis = 'columns',inplace = True)"
      ],
      "execution_count": null,
      "outputs": []
    },
    {
      "cell_type": "markdown",
      "metadata": {
        "id": "GvFZkE886el6",
        "colab_type": "text"
      },
      "source": [
        "###<h3>테스트 데이터 변환</h3>\n"
      ]
    },
    {
      "cell_type": "code",
      "metadata": {
        "id": "gSjTWcdo6dha",
        "colab_type": "code",
        "colab": {}
      },
      "source": [
        "test_array = np.delete(test_file.values,-1,0).astype(np.float)\n",
        "test_label = np.delete(test_file_label.values,-1,0).astype(np.int)\n",
        "#test_time = np.delete(test_file_time.values,-1,0)"
      ],
      "execution_count": null,
      "outputs": []
    },
    {
      "cell_type": "markdown",
      "metadata": {
        "id": "3cY7E7NWrlP9",
        "colab_type": "text"
      },
      "source": [
        "###<h3>사용 상수</h3>"
      ]
    },
    {
      "cell_type": "code",
      "metadata": {
        "id": "fnJOU2JF-Vk6",
        "colab_type": "code",
        "colab": {}
      },
      "source": [
        "VELOCITY = 0\n",
        "ACCEL_X = 1\n",
        "ROT_Z = 2\n",
        "STEERING = 3 \n",
        "ACCEL = 4\n",
        "BRAKE = 5\n",
        "VELOCITY_MAX = 120\n",
        "ACCEL_X_MAX =  2.0\n",
        "ACCEL_X_MIN = -2.0\n",
        "ROT_Z_MAX = 45\n",
        "ROT_Z_MIN = -45\n",
        "STEERING_MAX = 270\n",
        "STEERING_MIN = -270\n",
        "ACCEL_MAX = 80\n",
        "BRAKE_MAX = 50"
      ],
      "execution_count": null,
      "outputs": []
    },
    {
      "cell_type": "markdown",
      "metadata": {
        "id": "mLvBPyZp669J",
        "colab_type": "text"
      },
      "source": [
        "###<h3>범위 제한</h3>\n",
        "시뮬레이터 데이터에 한해서 실시"
      ]
    },
    {
      "cell_type": "code",
      "metadata": {
        "id": "ox6ddO6r7XTy",
        "colab_type": "code",
        "colab": {}
      },
      "source": [
        "def range_limitation(array):\n",
        "  VELOCITY = 0\n",
        "  ACCEL_X = 1\n",
        "  ROT_Z = 2\n",
        "  STEERING = 3 \n",
        "  ACCEL = 4\n",
        "  BRAKE = 5\n",
        "  VELOCITY_MAX = 120\n",
        "  ACCEL_X_MAX =  2.0\n",
        "  ACCEL_X_MIN = -2.0\n",
        "  ROT_Z_MAX = 45\n",
        "  ROT_Z_MIN = -45\n",
        "  STEERING_MAX = 270\n",
        "  STEERING_MIN = -270\n",
        "  ACCEL_MAX = 80\n",
        "  BRAKE_MAX = 50\n",
        "  length = int(len(array)/25)\n",
        "  print(\"Process 1 Velocity[\",end=\"\")\n",
        "  for i in range(len(array)):\n",
        "    array[i][VELOCITY] = round(array[i][VELOCITY],0)\n",
        "    if(i%length==0):\n",
        "      print(\"#\",end=\"\")\n",
        "    if(array[i][VELOCITY]>=VELOCITY_MAX):    #MAX\n",
        "      array[i][VELOCITY] = VELOCITY_MAX\n",
        "    else:\n",
        "      continue\n",
        "  print(\"]\\nProcess 2 Accel_X [\",end=\"\")\n",
        "  for i in range(len(array)):\n",
        "    if(i%length==0):\n",
        "      print(\"#\",end=\"\")  \n",
        "    if(array[i][ACCEL_X]>=ACCEL_X_MAX):     #MAX\n",
        "      array[i][ACCEL_X] = ACCEL_X_MAX\n",
        "    elif(array[i][ACCEL_X]<=ACCEL_X_MIN):\n",
        "      array[i][ACCEL_X] = ACCEL_X_MIN\n",
        "    else:\n",
        "      continue\n",
        "  print(\"]\\nProcess 3 ROTATE_Z[\",end=\"\")\n",
        "  for i in range(len(array)):\n",
        "    if(i%length==0):\n",
        "      print(\"#\",end=\"\")\n",
        "    if(array[i][ROT_Z]>=ROT_Z_MAX):       #MAX\n",
        "      array[i][ROT_Z] = ROT_Z_MAX\n",
        "    elif(array[i][ROT_Z]<=ROT_Z_MIN):     #MIN\n",
        "      array[i][ROT_Z] = ROT_Z_MIN\n",
        "    else:\n",
        "      continue\n",
        "  print(\"]\\nProcess 4 Steering[\",end=\"\")\n",
        "  for i in range(len(array)):\n",
        "    if(i%length==0):\n",
        "      print(\"#\",end=\"\")  \n",
        "    if(array[i][STEERING]>=STEERING_MAX):    #MAX\n",
        "      array[i][STEERING] = STEERING_MAX\n",
        "    elif(array[i][STEERING]<= STEERING_MIN): #MIN\n",
        "      array[i][STEERING] = STEERING_MIN\n",
        "    else:\n",
        "      continue\n",
        "  print(\"]\\nProcess 5 Accelpad[\",end=\"\")\n",
        "  for i in range(len(array)):\n",
        "    if(i%length==0):\n",
        "      print(\"#\",end=\"\")  \n",
        "    if(array[i][ACCEL]>=ACCEL_MAX):        #MAX\n",
        "      array[i][ACCEL] = ACCEL_MAX\n",
        "    else:\n",
        "      continue\n",
        "  print(\"]\\nProcess 6 Brakepad[\",end=\"\")\n",
        "  for i in range(len(array)):\n",
        "    if(i%length==0):\n",
        "      print(\"#\",end=\"\")\n",
        "    if(array[i][BRAKE]>=BRAKE_MAX):        #MAX\n",
        "      array[i][BRAKE] = BRAKE_MAX\n",
        "    else:\n",
        "      continue\n",
        "  print(\"]\\nProcess Clear\")\n",
        "  return array"
      ],
      "execution_count": null,
      "outputs": []
    },
    {
      "cell_type": "code",
      "metadata": {
        "id": "ciNva80598Ey",
        "colab_type": "code",
        "colab": {
          "base_uri": "https://localhost:8080/",
          "height": 143
        },
        "outputId": "136d8dc5-e5e5-40e9-be16-bdedcb35413b"
      },
      "source": [
        "test_array = range_limitation(test_array)"
      ],
      "execution_count": null,
      "outputs": [
        {
          "output_type": "stream",
          "text": [
            "Process 1 Velocity[##########################]\n",
            "Process 2 Accel_X [##########################]\n",
            "Process 3 ROTATE_Z[##########################]\n",
            "Process 4 Steering[##########################]\n",
            "Process 5 Accelpad[##########################]\n",
            "Process 6 Brakepad[##########################]\n",
            "Process Clear\n"
          ],
          "name": "stdout"
        }
      ]
    },
    {
      "cell_type": "code",
      "metadata": {
        "id": "GQ661-GFsW80",
        "colab_type": "code",
        "colab": {
          "base_uri": "https://localhost:8080/",
          "height": 143
        },
        "outputId": "623e7025-b381-470b-db6d-8a33a25c07fb"
      },
      "source": [
        "\"\"\"\n",
        "print(\"Process 2-1 Velocity[\",end=\"\")\n",
        "length_test = int(len(test_array)/25)\n",
        "for i in range(len(test_array)):\n",
        "  test_array[i][VELOCITY] = round(test_array[i][VELOCITY],0)\n",
        "  if(i%length_test==0):\n",
        "    print(\"#\",end=\"\")\n",
        "  if(test_array[i][VELOCITY]>=VELOCITY_MAX):    #MAX\n",
        "    test_array[i][VELOCITY] = VELOCITY_MAX\n",
        "  else:\n",
        "    continue\n",
        "print(\"]\\nProcess 2-2 Accel_X [\",end=\"\")\n",
        "for i in range(len(test_array)):\n",
        "  if(i%length_test==0):\n",
        "    print(\"#\",end=\"\")  \n",
        "  if(test_array[i][ACCEL_X]>=ACCEL_X_MAX):     #MAX\n",
        "    test_array[i][ACCEL_X] = ACCEL_X_MAX\n",
        "  elif(test_array[i][ACCEL_X]<=ACCEL_X_MIN):\n",
        "    test_array[i][ACCEL_X] = ACCEL_X_MIN\n",
        "  else:\n",
        "    continue\n",
        "print(\"]\\nProcess 2-3 ROTATE_Z[\",end=\"\")\n",
        "for i in range(len(test_array)):\n",
        "  if(i%length_test==0):\n",
        "    print(\"#\",end=\"\")\n",
        "  if(test_array[i][ROT_Z]>=ROT_Z_MAX):       #MAX\n",
        "    test_array[i][ROT_Z] = ROT_Z_MAX\n",
        "  elif(test_array[i][ROT_Z]<=ROT_Z_MIN):     #MIN\n",
        "    test_array[i][ROT_Z] = ROT_Z_MIN\n",
        "  else:\n",
        "    continue\n",
        "print(\"]\\nProcess 2-4 Steering[\",end=\"\")\n",
        "for i in range(len(test_array)):\n",
        "  if(i%length_test==0):\n",
        "    print(\"#\",end=\"\")  \n",
        "  if(test_array[i][STEERING]>=STEERING_MAX):    #MAX\n",
        "    test_array[i][STEERING] = STEERING_MAX\n",
        "  elif(test_array[i][STEERING]<= STEERING_MIN): #MIN\n",
        "    test_array[i][STEERING] = STEERING_MIN\n",
        "  else:\n",
        "    continue\n",
        "print(\"]\\nProcess 2-5 Accelpad[\",end=\"\")\n",
        "for i in range(len(test_array)):\n",
        "  if(i%length_test==0):\n",
        "    print(\"#\",end=\"\")  \n",
        "  if(test_array[i][ACCEL]>=ACCEL_MAX):        #MAX\n",
        "    test_array[i][ACCEL] = ACCEL_MAX\n",
        "  else:\n",
        "    continue\n",
        "print(\"]\\nProcess 2-6 Brakepad[\",end=\"\")\n",
        "for i in range(len(test_array)):\n",
        "  if(i%length_test==0):\n",
        "    print(\"#\",end=\"\")\n",
        "  if(test_array[i][BRAKE]>=BRAKE_MAX):        #MAX\n",
        "    test_array[i][BRAKE] = BRAKE_MAX\n",
        "  else:\n",
        "    continue\n",
        "print(\"]\\nProcess 2 Clear\")\n",
        "\"\"\""
      ],
      "execution_count": null,
      "outputs": [
        {
          "output_type": "stream",
          "text": [
            "Process 2-1 Velocity[#]\n",
            "Process 2-2 Accel_X [#]\n",
            "Process 2-3 ROTATE_Z[#]\n",
            "Process 2-4 Steering[#]\n",
            "Process 2-5 Accelpad[#]\n",
            "Process 2-6 Brakepad[#]\n",
            "Process 2 Clear\n"
          ],
          "name": "stdout"
        }
      ]
    },
    {
      "cell_type": "code",
      "metadata": {
        "id": "MsmhGpus6gmj",
        "colab_type": "code",
        "colab": {
          "base_uri": "https://localhost:8080/",
          "height": 89
        },
        "outputId": "fc1bd5f8-ffc5-44c2-cb72-7e1d0821c955"
      },
      "source": [
        "reg = [1,4,2,1,1,1]\n",
        "reg = np.array(reg)\n",
        "print(test_array.max(axis=0))\n",
        "test_array = test_array/reg\n",
        "print(test_array.max(axis=0))"
      ],
      "execution_count": null,
      "outputs": [
        {
          "output_type": "stream",
          "text": [
            "[ 72.           0.34509805  40.375      270.          54.11765\n",
            "  50.        ]\n",
            "[7.20000000e+01 8.62745125e-02 2.01875000e+01 2.70000000e+02\n",
            " 5.41176500e+01 5.00000000e+01]\n"
          ],
          "name": "stdout"
        }
      ]
    },
    {
      "cell_type": "markdown",
      "metadata": {
        "id": "Wlha3zQTBS8D",
        "colab_type": "text"
      },
      "source": [
        "###<h1>사용 상수</h1>"
      ]
    },
    {
      "cell_type": "code",
      "metadata": {
        "id": "V9naqaeWBU1T",
        "colab_type": "code",
        "colab": {}
      },
      "source": [
        "#초당 32개의 데이터가 나옴.(30~32Hz) => 10Hz 획일화함.\n",
        "WINDOW_SIZE = 48 #4.8초 분량"
      ],
      "execution_count": null,
      "outputs": []
    },
    {
      "cell_type": "markdown",
      "metadata": {
        "id": "xVI5wm2uBcR6",
        "colab_type": "text"
      },
      "source": [
        "###<h2>Convolution Neural Network Dataset</h2>"
      ]
    },
    {
      "cell_type": "markdown",
      "metadata": {
        "id": "oJPL1D4WBjdq",
        "colab_type": "text"
      },
      "source": [
        "####<h3>테스트 데이터셋</h3>"
      ]
    },
    {
      "cell_type": "code",
      "metadata": {
        "id": "3007ziJqBiNU",
        "colab_type": "code",
        "colab": {
          "base_uri": "https://localhost:8080/",
          "height": 53
        },
        "outputId": "b0558bb4-3c77-4fda-b8ad-a7d02a5de78a"
      },
      "source": [
        "#30hz\n",
        "test_dataset_data = []\n",
        "test_dataset_label = []\n",
        "for i in range(WINDOW_SIZE, test_array.shape[0] + 1, 1):\n",
        "  test_dataset_data.append(test_array[i-WINDOW_SIZE:i])\n",
        "  test_dataset_label.append(test_label[i-1])\n",
        "te_data = np.array(test_dataset_data)\n",
        "te_label = np.array(test_dataset_label) \n",
        "print(te_data.shape)\n",
        "te_c_data = te_data.reshape(-1,6,WINDOW_SIZE,1)\n",
        "print(te_c_data.shape)"
      ],
      "execution_count": null,
      "outputs": [
        {
          "output_type": "stream",
          "text": [
            "(53214, 48, 6)\n",
            "(53214, 6, 48, 1)\n"
          ],
          "name": "stdout"
        }
      ]
    },
    {
      "cell_type": "markdown",
      "metadata": {
        "id": "rQnkB1O76ONB",
        "colab_type": "text"
      },
      "source": [
        "###Model Load"
      ]
    },
    {
      "cell_type": "code",
      "metadata": {
        "id": "9F4qdB4T5QoZ",
        "colab_type": "code",
        "colab": {}
      },
      "source": [
        "from keras.models import load_model\n",
        "cnn_model_main = load_model('Sim2Real_Model_CNN_GAP_Final.h5')\n",
        "cnn_model_sub = load_model('Sim2Real_Model_CNN_FLATTEN_Final.h5')"
      ],
      "execution_count": null,
      "outputs": []
    },
    {
      "cell_type": "markdown",
      "metadata": {
        "id": "VKdVC89R62Vx",
        "colab_type": "text"
      },
      "source": [
        "###Prediction"
      ]
    },
    {
      "cell_type": "code",
      "metadata": {
        "id": "7-eaR-2H5h7x",
        "colab_type": "code",
        "colab": {}
      },
      "source": [
        "cnn_test_predictions_1 = cnn_model_main.predict(te_c_data)\n",
        "cnn_test_predictions_2 = cnn_model_sub.predict(te_c_data)"
      ],
      "execution_count": null,
      "outputs": []
    },
    {
      "cell_type": "code",
      "metadata": {
        "id": "ew2rwvFq5fgS",
        "colab_type": "code",
        "colab": {}
      },
      "source": [
        "def model_prediction_merge(prediction_1,prediction_2):\n",
        "  count = 0\n",
        "  cnn_prediction = []\n",
        "  for main_pred in prediction_1:\n",
        "    if 0 < np.argmax(prediction_2[count]) < 5:\n",
        "      cnn_prediction.append(np.argmax(prediction_2[count]))\n",
        "    else:\n",
        "      cnn_prediction.append(np.argmax(main_pred))\n",
        "    count = count + 1\n",
        "  cnn_prediction = np.array(cnn_prediction)\n",
        "  return cnn_prediction"
      ],
      "execution_count": null,
      "outputs": []
    },
    {
      "cell_type": "code",
      "metadata": {
        "id": "ITAZ3iyx5qdq",
        "colab_type": "code",
        "colab": {}
      },
      "source": [
        "cnn_predictions = model_prediction_merge(cnn_test_predictions_1,cnn_test_predictions_2)"
      ],
      "execution_count": null,
      "outputs": []
    },
    {
      "cell_type": "code",
      "metadata": {
        "id": "r__IBmhl5vox",
        "colab_type": "code",
        "colab": {
          "base_uri": "https://localhost:8080/",
          "height": 53
        },
        "outputId": "592c4c73-3f4e-433d-e6d6-63b6ba89d490"
      },
      "source": [
        "import matplotlib.pyplot as plt\n",
        "import seaborn as sns\n",
        "from sklearn.metrics import confusion_matrix\n",
        "def show_conf_matrix(label, predictions):\n",
        "  matrix = confusion_matrix(label, predictions)#_2.argmax(axis=1))\n",
        "  print(matrix)\n",
        "  print(np.bincount(label)[:, np.newaxis])\n",
        "  conf_mat = (matrix / np.bincount(label)[:, np.newaxis] * 100).astype(np.int)\n",
        "  print(conf_mat)\n",
        "  plt.figure(figsize=(8,6))\n",
        "  sns.heatmap(conf_mat,annot=True,fmt=\"d\",cmap='Greens')"
      ],
      "execution_count": null,
      "outputs": [
        {
          "output_type": "stream",
          "text": [
            "/usr/local/lib/python3.6/dist-packages/statsmodels/tools/_testing.py:19: FutureWarning: pandas.util.testing is deprecated. Use the functions in the public API at pandas.testing instead.\n",
            "  import pandas.util.testing as tm\n"
          ],
          "name": "stderr"
        }
      ]
    },
    {
      "cell_type": "code",
      "metadata": {
        "id": "UOaiaaBk54XZ",
        "colab_type": "code",
        "colab": {
          "base_uri": "https://localhost:8080/",
          "height": 806
        },
        "outputId": "883cde07-038d-4e35-fcb5-23cd5bcc93b6"
      },
      "source": [
        "show_conf_matrix(te_label,cnn_predictions)"
      ],
      "execution_count": null,
      "outputs": [
        {
          "output_type": "stream",
          "text": [
            "[[22598    29   112    69   251   105    48   170]\n",
            " [ 1539  2298     3   173    18   190     1    21]\n",
            " [  937     1  1509     0   492    39   131     0]\n",
            " [  102    15     0  1342    46    12     0     3]\n",
            " [   19     0     1     0  1544     0     3     0]\n",
            " [  483   122    11    40    49   847    19     0]\n",
            " [  290     1   179     1   105    24   568     0]\n",
            " [  255     9     0   105   744     0     0 15541]]\n",
            "[[23382]\n",
            " [ 4243]\n",
            " [ 3109]\n",
            " [ 1520]\n",
            " [ 1567]\n",
            " [ 1571]\n",
            " [ 1168]\n",
            " [16654]]\n",
            "[[96  0  0  0  1  0  0  0]\n",
            " [36 54  0  4  0  4  0  0]\n",
            " [30  0 48  0 15  1  4  0]\n",
            " [ 6  0  0 88  3  0  0  0]\n",
            " [ 1  0  0  0 98  0  0  0]\n",
            " [30  7  0  2  3 53  1  0]\n",
            " [24  0 15  0  8  2 48  0]\n",
            " [ 1  0  0  0  4  0  0 93]]\n"
          ],
          "name": "stdout"
        },
        {
          "output_type": "display_data",
          "data": {
            "image/png": "[encoded data removed]",
            "text/plain": [
              "<Figure size 576x432 with 2 Axes>"
            ]
          },
          "metadata": {
            "tags": [],
            "needs_background": "light"
          }
        }
      ]
    }
  ]
}