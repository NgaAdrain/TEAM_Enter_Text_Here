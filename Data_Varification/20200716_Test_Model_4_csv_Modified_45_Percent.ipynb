{
  "nbformat": 4,
  "nbformat_minor": 0,
  "metadata": {
    "colab": {
      "name": "20200715_Test_Model_4_csv_Modified.ipynb",
      "provenance": [],
      "collapsed_sections": [],
      "toc_visible": true,
      "mount_file_id": "1W4UltRLKIwF7ahDBeB1yv8Be9ICBMyOX",
      "authorship_tag": "ABX9TyOJ1eNMPoxeyoBEch6Qwaf+",
      "include_colab_link": true
    },
    "kernelspec": {
      "name": "python3",
      "display_name": "Python 3"
    }
  },
  "cells": [
    {
      "cell_type": "markdown",
      "metadata": {
        "id": "view-in-github",
        "colab_type": "text"
      },
      "source": [
        "<a href=\"https://colab.research.google.com/github/NgaAdrain/TEAM_Enter_Text_Here/blob/master/Data_Varification/20200716_Test_Model_4_csv_Modified_45_Percent.ipynb\" target=\"_parent\"><img src=\"https://colab.research.google.com/assets/colab-badge.svg\" alt=\"Open In Colab\"/></a>"
      ]
    },
    {
      "cell_type": "markdown",
      "metadata": {
        "id": "ccD6w5mxQI_1",
        "colab_type": "text"
      },
      "source": [
        "사용에 필요한 모듈들 import"
      ]
    },
    {
      "cell_type": "code",
      "metadata": {
        "id": "wVdfASzHPf1E",
        "colab_type": "code",
        "colab": {
          "base_uri": "https://localhost:8080/",
          "height": 283
        },
        "outputId": "4455e292-9968-4cbc-c6e6-1b1ca3786a10"
      },
      "source": [
        "# Import the TensorFlow\n",
        "import tensorflow as tf\n",
        "from tensorflow import keras\n",
        "import pandas as pd\n",
        "import numpy as np\n",
        "tf.__version__\n",
        "!pip3 install watermark"
      ],
      "execution_count": 6,
      "outputs": [
        {
          "output_type": "stream",
          "text": [
            "Requirement already satisfied: watermark in /usr/local/lib/python3.6/dist-packages (2.0.2)\n",
            "Requirement already satisfied: ipython in /usr/local/lib/python3.6/dist-packages (from watermark) (5.5.0)\n",
            "Requirement already satisfied: prompt-toolkit<2.0.0,>=1.0.4 in /usr/local/lib/python3.6/dist-packages (from ipython->watermark) (1.0.18)\n",
            "Requirement already satisfied: decorator in /usr/local/lib/python3.6/dist-packages (from ipython->watermark) (4.4.2)\n",
            "Requirement already satisfied: pexpect; sys_platform != \"win32\" in /usr/local/lib/python3.6/dist-packages (from ipython->watermark) (4.8.0)\n",
            "Requirement already satisfied: pygments in /usr/local/lib/python3.6/dist-packages (from ipython->watermark) (2.1.3)\n",
            "Requirement already satisfied: pickleshare in /usr/local/lib/python3.6/dist-packages (from ipython->watermark) (0.7.5)\n",
            "Requirement already satisfied: traitlets>=4.2 in /usr/local/lib/python3.6/dist-packages (from ipython->watermark) (4.3.3)\n",
            "Requirement already satisfied: simplegeneric>0.8 in /usr/local/lib/python3.6/dist-packages (from ipython->watermark) (0.8.1)\n",
            "Requirement already satisfied: setuptools>=18.5 in /usr/local/lib/python3.6/dist-packages (from ipython->watermark) (49.1.0)\n",
            "Requirement already satisfied: wcwidth in /usr/local/lib/python3.6/dist-packages (from prompt-toolkit<2.0.0,>=1.0.4->ipython->watermark) (0.2.5)\n",
            "Requirement already satisfied: six>=1.9.0 in /usr/local/lib/python3.6/dist-packages (from prompt-toolkit<2.0.0,>=1.0.4->ipython->watermark) (1.12.0)\n",
            "Requirement already satisfied: ptyprocess>=0.5 in /usr/local/lib/python3.6/dist-packages (from pexpect; sys_platform != \"win32\"->ipython->watermark) (0.6.0)\n",
            "Requirement already satisfied: ipython-genutils in /usr/local/lib/python3.6/dist-packages (from traitlets>=4.2->ipython->watermark) (0.2.0)\n"
          ],
          "name": "stdout"
        }
      ]
    },
    {
      "cell_type": "code",
      "metadata": {
        "id": "jtZ0Dq1cP9ON",
        "colab_type": "code",
        "colab": {
          "base_uri": "https://localhost:8080/",
          "height": 210
        },
        "outputId": "d5168c2f-65a0-40d9-8638-ef45b5ed972c"
      },
      "source": [
        "%load_ext watermark\n",
        "%watermark -v -p numpy,scipy,sklearn,pandas,matplotlib,keras"
      ],
      "execution_count": 7,
      "outputs": [
        {
          "output_type": "stream",
          "text": [
            "The watermark extension is already loaded. To reload it, use:\n",
            "  %reload_ext watermark\n",
            "CPython 3.6.9\n",
            "IPython 5.5.0\n",
            "\n",
            "numpy 1.18.5\n",
            "scipy 1.4.1\n",
            "sklearn 0.0\n",
            "pandas 1.0.5\n",
            "matplotlib 3.2.2\n",
            "keras 2.3.1\n"
          ],
          "name": "stdout"
        }
      ]
    },
    {
      "cell_type": "markdown",
      "metadata": {
        "id": "OsjHTbLrPojd",
        "colab_type": "text"
      },
      "source": [
        "윈도우의 크기를 32 -> 32개의 row를 하나의 window로<br>\n",
        "![대충 정규화 표라는 그림](https://drive.google.com/uc?id=1VX3YCf0eue9Mx5AGc4afwm6NRseBAG0I)<br>\n",
        "위의 값은 연구실에서 추출한 OBD데이터의 값의 범위표이며<br> \n",
        "이를 기반으로 시뮬레이터 데이터의 값을 정규화하여 사용할 것이다.\n",
        "![대충 OBD데이터를 1차 정규화 한 값](https://drive.google.com/uc?id=1-17mEhcfdDH2zbYtvkWS5wSkCVk63W-t)<br>\n",
        "실제 데이터의 예시"
      ]
    },
    {
      "cell_type": "markdown",
      "metadata": {
        "id": "Kz6TGc0qU1-9",
        "colab_type": "text"
      },
      "source": [
        "우리가 시뮬레이터로 부터 얻을 수 있는 값은<br>\n",
        "SWA(Steering wheel), Brake, Speed, Accelerator Pos, Lateral Acc, Longitudinal Acc 의 6가지.<br>\n",
        "Steering_Wheel_X, Brake, Velocity, Accel, Acceleration_Z, Accerleration_X로 mapping 가능!<br>\n",
        "총 6개의 label에 대해 학습을 실시<br>\n",
        "출력 라벨은 0~5<hr>\n",
        "\n",
        "0: 직진, 1: 좌회전, 2: 우회전, 3: 좌측 차선변경, 4: 우측 차선 변경, 5: 정지."
      ]
    },
    {
      "cell_type": "code",
      "metadata": {
        "id": "Fq1GxGK-SraU",
        "colab_type": "code",
        "colab": {}
      },
      "source": [
        "WINDOW_SIZE = 32 #데이터 32개가 한 묶음(window)\n",
        "train_file = pd.read_csv('/content/drive/My Drive/train_input.csv',encoding='utf-8')\n",
        "train_file_label = train_file.pop('Label')\n",
        "train_file.drop(['Timestamp','accel_Y','Winker(left)','Winker(right)','Timecheck'],axis = 'columns',inplace = True)\n",
        "test_file = pd.read_csv('/content/drive/My Drive/test_input.csv',encoding='utf-8')\n",
        "test_file_time = test_file.pop('Timestamp')\n",
        "test_file_label = test_file.pop('Label')\n",
        "test_file.drop(['accel_Y','Winker(left)','Winker(right)'],axis = 'columns',inplace = True)"
      ],
      "execution_count": 8,
      "outputs": []
    },
    {
      "cell_type": "markdown",
      "metadata": {
        "id": "qIFmsJ1fMMfd",
        "colab_type": "text"
      },
      "source": [
        "데이터 정규화 과정\n",
        "<br>\n",
        "- 실제 데이터의 정규화내용\n",
        "1. steering wheel  -> 31.75(270,-270) ~ -32\n",
        "2. brake -> 31.75(50,0) ~ -32\n",
        "3. speed(velocity) -> 31.75(100,0) ~ -32\n",
        "4. accel -> 31.75(70,0) ~ -32\n",
        "5. accelaration_longitudinal(X) -> 31.75(0.6,-0.6) ~ -32\n",
        "6. accelaration_lateral(Z) -> 31.75(0.6,-0.6) ~ -32"
      ]
    },
    {
      "cell_type": "markdown",
      "metadata": {
        "id": "5iZhWH_IOCS6",
        "colab_type": "text"
      },
      "source": [
        "시뮬레이터 값의 범위<br>\n",
        "1. Velocity : 0 ~ 240\n",
        "2. Acceleration => 분석 필요.<br>\n",
        "Z -> 속도가 감소하면 양수, 속도가 증가하면 음수<br>\n",
        "X -> 아직 모르겠음\n",
        "3. Steering_wheel : -1 ~ 1 => -450 ~ 450(degree)\n",
        "4. Brake : 0 ~ 1 => 0 ~ 100%\n",
        "5. Accel : 0 ~ 1 => 0 ~ 100%<br>\n",
        "\n",
        "=> 0716 데이터 정규화 및 학습모델 평가<br>\n",
        "=> 0717 Sklearn의 Decision Tree를 구현해서 테스트\n",
        "<hr>\n",
        "\n",
        "=> 다음 주 좌측 커브, 우측 커브 추가, 급출발, 급정거 추가<br>\n",
        "=> 다음 주 학습된 모델에 실제 데이터를 넣어서 테스트\n",
        " "
      ]
    },
    {
      "cell_type": "markdown",
      "metadata": {
        "id": "myunKneGELco",
        "colab_type": "text"
      },
      "source": [
        "Numpy Array로 변환."
      ]
    },
    {
      "cell_type": "code",
      "metadata": {
        "id": "DtL4VCXMDsDg",
        "colab_type": "code",
        "colab": {
          "base_uri": "https://localhost:8080/",
          "height": 107
        },
        "outputId": "3f6f6eae-ce85-4a5c-9773-92d9d9209bfc"
      },
      "source": [
        "train_array = np.delete(train_file.values,-1,0)\n",
        "train_label = np.delete(train_file_label.values,-1,0)\n",
        "test_array = np.delete(test_file.values,-1,0)\n",
        "test_label = np.delete(test_file_label.values,-1.0)\n",
        "test_time = np.delete(test_file_time.values,-1,0)"
      ],
      "execution_count": 9,
      "outputs": [
        {
          "output_type": "stream",
          "text": [
            "/usr/local/lib/python3.6/dist-packages/ipykernel_launcher.py:4: DeprecationWarning: using a non-integer array as obj in delete will result in an error in the future\n",
            "  after removing the cwd from sys.path.\n",
            "/usr/local/lib/python3.6/dist-packages/ipykernel_launcher.py:4: FutureWarning: in the future negative indices will not be ignored by `numpy.delete`.\n",
            "  after removing the cwd from sys.path.\n"
          ],
          "name": "stderr"
        }
      ]
    },
    {
      "cell_type": "code",
      "metadata": {
        "id": "k7HG53B_ML83",
        "colab_type": "code",
        "colab": {}
      },
      "source": [
        "VELOCITY = 0\n",
        "ACCEL_X = 1\n",
        "ACCEL_Z = 2\n",
        "STEERING = 3\n",
        "ACCEL = 4\n",
        "BRAKE = 5"
      ],
      "execution_count": 10,
      "outputs": []
    },
    {
      "cell_type": "code",
      "metadata": {
        "id": "-uAoAhig6MQs",
        "colab_type": "code",
        "colab": {}
      },
      "source": [
        "for i in range(len(test_array)):\n",
        "  if(test_file.values[i][VELOCITY]>=70):\n",
        "    test_array[i][VELOCITY] = 31.75\n",
        "  elif(test_file.values[i][VELOCITY]>=35):\n",
        "    test_array[i][VELOCITY] = round(((test_array[i][VELOCITY] - 35)/35*31.75),2)\n",
        "  elif(train_file.values[i][VELOCITY]>0):\n",
        "    test_array[i][VELOCITY] = round(((test_array[i][VELOCITY] - 35)/35*32),2)\n",
        "  else:\n",
        "    test_array[i][VELOCITY] = -32\n",
        "for i in range(len(test_array)):\n",
        "  if(test_file.values[i][ACCEL_X]>=1):\n",
        "    test_array[i][ACCEL_X] = 31.75\n",
        "  elif(test_file.values[i][ACCEL_X]>= 0):\n",
        "    test_array[i][ACCEL_X] = round(((test_array[i][ACCEL_X] - 0.5)/0.5*31.75),2)\n",
        "  elif(test_file.values[i][ACCEL_X]> -1):\n",
        "    test_array[i][ACCEL_X] = round(((test_array[i][ACCEL_X] - 0.5)/0.5*32),2)\n",
        "  else:\n",
        "    test_array[i][ACCEL_X] = -32\n",
        "for i in range(len(test_array)):\n",
        "  if(test_file.values[i][ACCEL_Z]>=1):\n",
        "    test_array[i][ACCEL_Z] = 31.75\n",
        "  elif(test_file.values[i][ACCEL_Z]>= 0):\n",
        "    test_array[i][ACCEL_Z] = round(((test_array[i][ACCEL_Z] - 0.5)/0.5*31.75),2)\n",
        "  elif(test_file.values[i][ACCEL_Z]> -1):\n",
        "    test_array[i][ACCEL_Z] = round(((test_array[i][ACCEL_Z] - 0.5)/0.5*32),2)\n",
        "  else:\n",
        "    test_array[i][ACCEL_Z] = -32\n",
        "for i in range(len(test_array)):\n",
        "  if(test_file.values[i][STEERING]>=120):\n",
        "    test_array[i][STEERING] = 31.75\n",
        "  elif(test_file.values[i][STEERING]>= 60):\n",
        "    test_array[i][STEERING] = round(((test_array[i][STEERING] - 60)/60*31.75),2)\n",
        "  elif(test_file.values[i][STEERING]> 0):\n",
        "    test_array[i][STEERING] = round(((test_array[i][STEERING] - 60)/60*32),2)\n",
        "  else:\n",
        "    test_array[i][STEERING] = -32\n",
        "for i in range(len(test_array)):\n",
        "  if(test_file.values[i][ACCEL]>=70):\n",
        "    test_array[i][ACCEL] = 31.75\n",
        "  elif(test_file.values[i][ACCEL]>= 35):\n",
        "    test_array[i][ACCEL] = round(((test_array[i][ACCEL] - 35)/35*31.75),2)\n",
        "  elif(test_file.values[i][ACCEL]> 0):\n",
        "    test_array[i][ACCEL] = round(((test_array[i][ACCEL] - 35)/35*32),2)\n",
        "  else:\n",
        "    test_array[i][ACCEL] = -32\n",
        "for i in range(len(test_array)):\n",
        "  if(test_file.values[i][BRAKE]>=50):\n",
        "    test_array[i][BRAKE] = 31.75\n",
        "  elif(test_file.values[i][BRAKE]>= 25):\n",
        "    test_array[i][BRAKE] = round(((test_array[i][BRAKE] - 25)/25*31.75),2)\n",
        "  elif(test_file.values[i][BRAKE]> 0):\n",
        "    test_array[i][BRAKE] = round(((test_array[i][BRAKE] - 25)/25*32),2)\n",
        "  else:\n",
        "    test_array[i][BRAKE] = -32"
      ],
      "execution_count": 11,
      "outputs": []
    },
    {
      "cell_type": "code",
      "metadata": {
        "id": "wLmytzryb4gI",
        "colab_type": "code",
        "colab": {}
      },
      "source": [
        "for i in range(len(train_array)):\n",
        "  if(train_file.values[i][VELOCITY]>=70):\n",
        "    train_array[i][VELOCITY] = 31.75\n",
        "  elif(train_file.values[i][VELOCITY]>=35):\n",
        "    train_array[i][VELOCITY] = round(((train_array[i][VELOCITY] - 35)/35*31.75),2)\n",
        "  elif(train_file.values[i][VELOCITY]>0):\n",
        "    train_array[i][VELOCITY] = round(((train_array[i][VELOCITY] - 35)/35*32),2)\n",
        "  else:\n",
        "    train_array[i][VELOCITY] = -32"
      ],
      "execution_count": 12,
      "outputs": []
    },
    {
      "cell_type": "code",
      "metadata": {
        "id": "Y5rjiRytdwAx",
        "colab_type": "code",
        "colab": {}
      },
      "source": [
        "for i in range(len(train_array)):\n",
        "  if(train_file.values[i][ACCEL_X]>=1):\n",
        "    train_array[i][ACCEL_X] = 31.75\n",
        "  elif(train_file.values[i][ACCEL_X]>= 0):\n",
        "    train_array[i][ACCEL_X] = round(((train_array[i][ACCEL_X] - 0.5)/0.5*31.75),2)\n",
        "  elif(train_file.values[i][ACCEL_X]> -1):\n",
        "    train_array[i][ACCEL_X] = round(((train_array[i][ACCEL_X] - 0.5)/0.5*32),2)\n",
        "  else:\n",
        "    train_array[i][ACCEL_X] = -32"
      ],
      "execution_count": 13,
      "outputs": []
    },
    {
      "cell_type": "code",
      "metadata": {
        "id": "cD99P_tQf62_",
        "colab_type": "code",
        "colab": {}
      },
      "source": [
        "for i in range(len(train_array)):\n",
        "  if(train_file.values[i][ACCEL_Z]>=1):\n",
        "    train_array[i][ACCEL_Z] = 31.75\n",
        "  elif(train_file.values[i][ACCEL_Z]>= 0):\n",
        "    train_array[i][ACCEL_Z] = round(((train_array[i][ACCEL_Z] - 0.5)/0.5*31.75),2)\n",
        "  elif(train_file.values[i][ACCEL_Z]> -1):\n",
        "    train_array[i][ACCEL_Z] = round(((train_array[i][ACCEL_Z] - 0.5)/0.5*32),2)\n",
        "  else:\n",
        "    train_array[i][ACCEL_Z] = -32"
      ],
      "execution_count": 14,
      "outputs": []
    },
    {
      "cell_type": "code",
      "metadata": {
        "id": "qTdzK7TEgCMm",
        "colab_type": "code",
        "colab": {}
      },
      "source": [
        "for i in range(len(train_array)):\n",
        "  if(train_file.values[i][STEERING]>=120):\n",
        "    train_array[i][STEERING] = 31.75\n",
        "  elif(train_file.values[i][STEERING]>= 60):\n",
        "    train_array[i][STEERING] = round(((train_array[i][STEERING] - 60)/60*31.75),2)\n",
        "  elif(train_file.values[i][STEERING]> 0):\n",
        "    train_array[i][STEERING] = round(((train_array[i][STEERING] - 60)/60*32),2)\n",
        "  else:\n",
        "    train_array[i][STEERING] = -32"
      ],
      "execution_count": 15,
      "outputs": []
    },
    {
      "cell_type": "code",
      "metadata": {
        "id": "7i0yKO7Gg0b3",
        "colab_type": "code",
        "colab": {}
      },
      "source": [
        "for i in range(len(train_array)):\n",
        "  if(train_file.values[i][ACCEL]>=70):\n",
        "    train_array[i][ACCEL] = 31.75\n",
        "  elif(train_file.values[i][ACCEL]>= 35):\n",
        "    train_array[i][ACCEL] = round(((train_array[i][ACCEL] - 35)/35*31.75),2)\n",
        "  elif(train_file.values[i][ACCEL]> 0):\n",
        "    train_array[i][ACCEL] = round(((train_array[i][ACCEL] - 35)/35*32),2)\n",
        "  else:\n",
        "    train_array[i][ACCEL] = -32"
      ],
      "execution_count": 16,
      "outputs": []
    },
    {
      "cell_type": "code",
      "metadata": {
        "id": "klBpD0HNhkGQ",
        "colab_type": "code",
        "colab": {}
      },
      "source": [
        "for i in range(len(train_array)):\n",
        "  if(train_file.values[i][BRAKE]>=50):\n",
        "    train_array[i][BRAKE] = 31.75\n",
        "  elif(train_file.values[i][BRAKE]>= 25):\n",
        "    train_array[i][BRAKE] = round(((train_array[i][BRAKE] - 25)/25*31.75),2)\n",
        "  elif(train_file.values[i][BRAKE]> 0):\n",
        "    train_array[i][BRAKE] = round(((train_array[i][BRAKE] - 25)/25*32),2)\n",
        "  else:\n",
        "    train_array[i][BRAKE] = -32"
      ],
      "execution_count": 17,
      "outputs": []
    },
    {
      "cell_type": "markdown",
      "metadata": {
        "id": "h526fwuMGAZw",
        "colab_type": "text"
      },
      "source": [
        "train data를 dataset으로 만들기"
      ]
    },
    {
      "cell_type": "code",
      "metadata": {
        "id": "XEa7Pz3NEKJA",
        "colab_type": "code",
        "colab": {
          "base_uri": "https://localhost:8080/",
          "height": 52
        },
        "outputId": "703af8cb-9b85-4604-fd21-18f05370c77a"
      },
      "source": [
        "train_dataset_data = []\n",
        "train_dataset_label = []\n",
        "for i in range(WINDOW_SIZE, train_array.shape[0] + 1, 1):\n",
        "  train_dataset_data.append(train_array[i-WINDOW_SIZE:i])\n",
        "  train_dataset_label.append(train_label[i-1])\n",
        "tr_data = np.array(train_dataset_data)\n",
        "tr_label = np.array(train_dataset_label) \n",
        "print(tr_data.shape)\n",
        "print(tr_label.shape)"
      ],
      "execution_count": 18,
      "outputs": [
        {
          "output_type": "stream",
          "text": [
            "(68460, 32, 6)\n",
            "(68460,)\n"
          ],
          "name": "stdout"
        }
      ]
    },
    {
      "cell_type": "markdown",
      "metadata": {
        "id": "Q9mY9rnZGDVO",
        "colab_type": "text"
      },
      "source": [
        "test data를 dataset으로 만들기"
      ]
    },
    {
      "cell_type": "code",
      "metadata": {
        "id": "ZzWQT0VRE-6j",
        "colab_type": "code",
        "colab": {}
      },
      "source": [
        "test_dataset_data = []\n",
        "test_dataset_label = []\n",
        "for i in range(WINDOW_SIZE, test_array.shape[0] + 1, 1):\n",
        "  test_dataset_data.append(test_array[i-WINDOW_SIZE:i])\n",
        "  test_dataset_label.append(test_label[i-1])\n",
        "te_data = np.array(test_dataset_data)\n",
        "te_label = np.array(test_dataset_label) \n",
        "#test_array 을 te_data 대신에 넣어보자\n",
        "#test_label 을 te_label 대신에 넣어보자"
      ],
      "execution_count": 19,
      "outputs": []
    },
    {
      "cell_type": "markdown",
      "metadata": {
        "id": "U0MhDzCaGT8G",
        "colab_type": "text"
      },
      "source": [
        "모델 만들기.<br>\n",
        "1. column의 개수는 총 6개, 구분할 케이스의 개수도 6개.\n",
        "2. window의 크기는 32. 즉 (32,6)의 데이터가 들어감.\n",
        "3. Flatten을 진행\n",
        "4. Dense층을 추가 -> 이번에는 3개를 지나서 최종적으로 6개를 출력하도록 해보자.\n",
        "5. 첫 번째 층 -> 66 & dropout 30%\n",
        "6. 두 번째 층 -> 36 & dropout 20%\n",
        "7. 세 번째 층 -> 16\n",
        "8. 마지막 층 -> 6"
      ]
    },
    {
      "cell_type": "code",
      "metadata": {
        "id": "Gw61k-odH4MQ",
        "colab_type": "code",
        "colab": {}
      },
      "source": [
        "model = keras.Sequential([\n",
        "    keras.layers.Flatten(input_shape=(WINDOW_SIZE, 6)),\n",
        "    #keras.layers.Dense(256, activation='relu'),\n",
        "    keras.layers.Dense(128,activation='relu'),\n",
        "    #keras.layers.Dropout(0.2),\n",
        "    keras.layers.Dense(64),\n",
        "    #keras.layers.Dropout(0.2),\n",
        "    keras.layers.Dense(32),\n",
        "    #keras.layers.Dropout(0.2),\n",
        "    keras.layers.Dense(16),\n",
        "    keras.layers.Dense(8, activation='softmax')\n",
        "])\n",
        "model.compile(optimizer='adam',\n",
        "              loss='sparse_categorical_crossentropy',\n",
        "              metrics=['accuracy'])"
      ],
      "execution_count": 20,
      "outputs": []
    },
    {
      "cell_type": "markdown",
      "metadata": {
        "id": "dmeUEtC6Ihdn",
        "colab_type": "text"
      },
      "source": [
        "모델 데이터 학습 실시."
      ]
    },
    {
      "cell_type": "code",
      "metadata": {
        "id": "qhTQDb3EIkEv",
        "colab_type": "code",
        "colab": {
          "base_uri": "https://localhost:8080/",
          "height": 738
        },
        "outputId": "2cf4f9c5-ecca-4e8c-f980-a9ec83233d2b"
      },
      "source": [
        "model.fit(tr_data,tr_label,epochs=20,batch_size=16)\n",
        "#model.fit(tr_data,tr_label,epochs=10,batch_size=32)"
      ],
      "execution_count": 21,
      "outputs": [
        {
          "output_type": "stream",
          "text": [
            "Epoch 1/20\n",
            "4279/4279 [==============================] - 7s 2ms/step - loss: 1.0548 - accuracy: 0.7318\n",
            "Epoch 2/20\n",
            "4279/4279 [==============================] - 6s 2ms/step - loss: 0.6694 - accuracy: 0.7779\n",
            "Epoch 3/20\n",
            "4279/4279 [==============================] - 7s 2ms/step - loss: 0.5997 - accuracy: 0.8001\n",
            "Epoch 4/20\n",
            "4279/4279 [==============================] - 6s 2ms/step - loss: 0.5682 - accuracy: 0.8111\n",
            "Epoch 5/20\n",
            "4279/4279 [==============================] - 7s 2ms/step - loss: 0.5430 - accuracy: 0.8183\n",
            "Epoch 6/20\n",
            "4279/4279 [==============================] - 7s 2ms/step - loss: 0.5192 - accuracy: 0.8268\n",
            "Epoch 7/20\n",
            "4279/4279 [==============================] - 6s 2ms/step - loss: 0.5039 - accuracy: 0.8318\n",
            "Epoch 8/20\n",
            "4279/4279 [==============================] - 7s 2ms/step - loss: 0.4924 - accuracy: 0.8370\n",
            "Epoch 9/20\n",
            "4279/4279 [==============================] - 7s 2ms/step - loss: 0.4786 - accuracy: 0.8403\n",
            "Epoch 10/20\n",
            "4279/4279 [==============================] - 7s 2ms/step - loss: 0.4691 - accuracy: 0.8439\n",
            "Epoch 11/20\n",
            "4279/4279 [==============================] - 6s 2ms/step - loss: 0.4570 - accuracy: 0.8475\n",
            "Epoch 12/20\n",
            "4279/4279 [==============================] - 6s 2ms/step - loss: 0.4480 - accuracy: 0.8499\n",
            "Epoch 13/20\n",
            "4279/4279 [==============================] - 7s 2ms/step - loss: 0.4419 - accuracy: 0.8528\n",
            "Epoch 14/20\n",
            "4279/4279 [==============================] - 6s 2ms/step - loss: 0.4356 - accuracy: 0.8542\n",
            "Epoch 15/20\n",
            "4279/4279 [==============================] - 7s 2ms/step - loss: 0.4281 - accuracy: 0.8566\n",
            "Epoch 16/20\n",
            "4279/4279 [==============================] - 6s 2ms/step - loss: 0.4236 - accuracy: 0.8576\n",
            "Epoch 17/20\n",
            "4279/4279 [==============================] - 6s 2ms/step - loss: 0.4207 - accuracy: 0.8587\n",
            "Epoch 18/20\n",
            "4279/4279 [==============================] - 7s 2ms/step - loss: 0.4132 - accuracy: 0.8616\n",
            "Epoch 19/20\n",
            "4279/4279 [==============================] - 6s 2ms/step - loss: 0.4101 - accuracy: 0.8626\n",
            "Epoch 20/20\n",
            "4279/4279 [==============================] - 6s 2ms/step - loss: 0.4064 - accuracy: 0.8631\n"
          ],
          "name": "stdout"
        },
        {
          "output_type": "execute_result",
          "data": {
            "text/plain": [
              "<tensorflow.python.keras.callbacks.History at 0x7efd80326358>"
            ]
          },
          "metadata": {
            "tags": []
          },
          "execution_count": 21
        }
      ]
    },
    {
      "cell_type": "markdown",
      "metadata": {
        "id": "G9ME893rIvl9",
        "colab_type": "text"
      },
      "source": [
        "모델 예측 및 학습 테스트 진행."
      ]
    },
    {
      "cell_type": "code",
      "metadata": {
        "id": "00qrv4JXI3F2",
        "colab_type": "code",
        "colab": {
          "base_uri": "https://localhost:8080/",
          "height": 178
        },
        "outputId": "6a24e4ef-6c1a-4fb4-fc2e-64f5c3189995"
      },
      "source": [
        "test_loss, test_acc = model.evaluate(te_data, te_label, verbose=2, steps=10)\n",
        "\n",
        "\"\"\"\n",
        "predictions = model.predict(te_data)\n",
        "count = 0\n",
        "print(type(test_file_time[0]))\n",
        "txt = 'Timestamp,Pred_Direction,Real_Direction\\n'\n",
        "for temp in xtest:\n",
        "  #print(test_file_time[count],end=' ')\n",
        "  txt = txt + test_file_time[count] + ' '\n",
        "  if(np.argmax(predictions[count]) == 0):\n",
        "  #  print('straight')\n",
        "    txt = txt + ',straight'\n",
        "  elif(np.argmax(predictions[count]) == 1):\n",
        "  #  print('left')\n",
        "    txt = txt + ',left'\n",
        "  elif(np.argmax(predictions[count]) == 2):\n",
        "    txt = txt + ',right'\n",
        "  elif(np.argmax(predictions[count]) == 3):\n",
        "    txt = txt + ',change_left' \n",
        "  elif(np.argmax(predictions[count]) == 4):\n",
        "    txt = txt + ',change_right'\n",
        "  else:\n",
        "    txt = txt + ',stop'\n",
        "  if(test_file_label[count] == 0):\n",
        "    txt = txt + ',straight\\n'\n",
        "  elif(test_file_label[count] == 1):\n",
        "    txt = txt + ',left\\n'\n",
        "  elif(test_file_label[count] == 2):\n",
        "    txt = txt + ',right\\n'\n",
        "  elif(test_file_label[count] == 3):\n",
        "    txt = txt + ',change_left\\n'\n",
        "  elif(test_file_label[count] == 4):\n",
        "    txt = txt + ',change_right\\n'\n",
        "  else:\n",
        "    txt = txt + ',stop\\n'\n",
        "  count = count + 1\n",
        "\n",
        "f = open(\"/content/drive/My Drive/test_output.csv\",'w')\n",
        "f.write(txt)\n",
        "f.close()\n",
        "\"\"\""
      ],
      "execution_count": 29,
      "outputs": [
        {
          "output_type": "stream",
          "text": [
            "10/10 - 0s - loss: 5.2196 - accuracy: 0.4562\n"
          ],
          "name": "stdout"
        },
        {
          "output_type": "execute_result",
          "data": {
            "application/vnd.google.colaboratory.intrinsic": {
              "type": "string"
            },
            "text/plain": [
              "'\\npredictions = model.predict(te_data)\\ncount = 0\\nprint(type(test_file_time[0]))\\ntxt = \\'Timestamp,Pred_Direction,Real_Direction\\n\\'\\nfor temp in xtest:\\n  #print(test_file_time[count],end=\\' \\')\\n  txt = txt + test_file_time[count] + \\' \\'\\n  if(np.argmax(predictions[count]) == 0):\\n  #  print(\\'straight\\')\\n    txt = txt + \\',straight\\'\\n  elif(np.argmax(predictions[count]) == 1):\\n  #  print(\\'left\\')\\n    txt = txt + \\',left\\'\\n  elif(np.argmax(predictions[count]) == 2):\\n    txt = txt + \\',right\\'\\n  elif(np.argmax(predictions[count]) == 3):\\n    txt = txt + \\',change_left\\' \\n  elif(np.argmax(predictions[count]) == 4):\\n    txt = txt + \\',change_right\\'\\n  else:\\n    txt = txt + \\',stop\\'\\n  if(test_file_label[count] == 0):\\n    txt = txt + \\',straight\\n\\'\\n  elif(test_file_label[count] == 1):\\n    txt = txt + \\',left\\n\\'\\n  elif(test_file_label[count] == 2):\\n    txt = txt + \\',right\\n\\'\\n  elif(test_file_label[count] == 3):\\n    txt = txt + \\',change_left\\n\\'\\n  elif(test_file_label[count] == 4):\\n    txt = txt + \\',change_right\\n\\'\\n  else:\\n    txt = txt + \\',stop\\n\\'\\n  count = count + 1\\n\\nf = open(\"/content/drive/My Drive/test_output.csv\",\\'w\\')\\nf.write(txt)\\nf.close()\\n'"
            ]
          },
          "metadata": {
            "tags": []
          },
          "execution_count": 29
        }
      ]
    },
    {
      "cell_type": "code",
      "metadata": {
        "id": "sv37zNNVI_J2",
        "colab_type": "code",
        "colab": {}
      },
      "source": [
        "test_loss, test_acc = model.evaluate(test_array,  test_label, verbose=2)"
      ],
      "execution_count": null,
      "outputs": []
    }
  ]
}