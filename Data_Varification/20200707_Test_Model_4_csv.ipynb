{
  "nbformat": 4,
  "nbformat_minor": 0,
  "metadata": {
    "colab": {
      "name": "20200707_Test_Model_4_csv.ipynb",
      "provenance": [],
      "collapsed_sections": [],
      "mount_file_id": "1HSj91DX2jHfuSmrA2cHcB1CBoide8nhZ",
      "authorship_tag": "ABX9TyMNN22NhtroCpRm2tS9fu1m",
      "include_colab_link": true
    },
    "kernelspec": {
      "name": "python3",
      "display_name": "Python 3"
    }
  },
  "cells": [
    {
      "cell_type": "markdown",
      "metadata": {
        "id": "view-in-github",
        "colab_type": "text"
      },
      "source": [
        "<a href=\"https://colab.research.google.com/github/NgaAdrain/TEAM_Enter_Text_Here/blob/master/Data_Varification/20200707_Test_Model_4_csv.ipynb\" target=\"_parent\"><img src=\"https://colab.research.google.com/assets/colab-badge.svg\" alt=\"Open In Colab\"/></a>"
      ]
    },
    {
      "cell_type": "markdown",
      "metadata": {
        "id": "4-NCX5rWCyl-",
        "colab_type": "text"
      },
      "source": [
        "csv -> data<br>\n",
        "\n"
      ]
    },
    {
      "cell_type": "code",
      "metadata": {
        "id": "2WX_DRl9CtMo",
        "colab_type": "code",
        "colab": {
          "base_uri": "https://localhost:8080/",
          "height": 35
        },
        "outputId": "6a5a015a-b3cc-44d5-8542-70f95800a29c"
      },
      "source": [
        "# Import the TensorFlow\n",
        "import tensorflow as tf\n",
        "from tensorflow import keras\n",
        "import pandas as pd\n",
        "import numpy as np\n",
        "tf.__version__\n"
      ],
      "execution_count": 3,
      "outputs": [
        {
          "output_type": "execute_result",
          "data": {
            "application/vnd.google.colaboratory.intrinsic": {
              "type": "string"
            },
            "text/plain": [
              "'2.2.0'"
            ]
          },
          "metadata": {
            "tags": []
          },
          "execution_count": 3
        }
      ]
    },
    {
      "cell_type": "markdown",
      "metadata": {
        "id": "3a1k-nUtG9Qn",
        "colab_type": "text"
      },
      "source": [
        "윈도우의 크기를 32 -> 32개의 row를 하나의 window로<br>\n",
        "RPM의 최대값을 5000으로 설정 -> for 정규화<br>\n",
        "속도의 최대값을 210으로 설정 -> for 정규화"
      ]
    },
    {
      "cell_type": "code",
      "metadata": {
        "id": "t7P-ZqswH1Vx",
        "colab_type": "code",
        "colab": {}
      },
      "source": [
        "WINDOW_SIZE = 32\n",
        "MAX_RPM = 5000\n",
        "MAX_VELO = 210\n",
        "#첫 번째 학습 데이터 -> 아마 좌회전 데이터\n",
        "data_file = pd.read_csv('/content/drive/My Drive/20200709_124409.csv',encoding='utf-8')\n",
        "#data_file = pd.read_csv('/content/20200707_161530.csv',encoding='utf-8')\n",
        "data_file.drop(['Timestamp'],axis = 'columns',inplace=True)\n",
        "#print(data_file)\n",
        "#for d in data_file:\n",
        "#  print(data_file)"
      ],
      "execution_count": 4,
      "outputs": []
    },
    {
      "cell_type": "code",
      "metadata": {
        "id": "ZmYlV4k7IDz2",
        "colab_type": "code",
        "colab": {}
      },
      "source": [
        "label = data_file.pop('Label')\n",
        "#list(data_file.values)"
      ],
      "execution_count": 5,
      "outputs": []
    },
    {
      "cell_type": "code",
      "metadata": {
        "id": "aheIkoks8gu2",
        "colab_type": "code",
        "colab": {}
      },
      "source": [
        "#두 번째 학습 데이터 -> 아마 우회전 데이터\n",
        "train_file = pd.read_csv('/content/drive/My Drive/20200709_123806.csv',encoding='utf-8')\n",
        "#train_file = pd.read_csv('/content/20200707_160439.csv',encoding='utf-8')\n",
        "train_file.RPM = train_file.RPM/MAX_RPM\n",
        "train_file.Velocity = train_file.Velocity/MAX_VELO\n",
        "train_file.drop(['Timestamp'],axis = 'columns',inplace=True)\n",
        "train_file_label = train_file.pop('Label')\n",
        "#train_file_label = train_file.pop('Label1')"
      ],
      "execution_count": 7,
      "outputs": []
    },
    {
      "cell_type": "code",
      "metadata": {
        "id": "0JaQlnhp9LQ1",
        "colab_type": "code",
        "colab": {}
      },
      "source": [
        "train_array = np.delete(train_file.values,-1,0)\n",
        "train_label = np.delete(train_file_label.values,-1,0)"
      ],
      "execution_count": 8,
      "outputs": []
    },
    {
      "cell_type": "code",
      "metadata": {
        "id": "alxn8UQZ8ykK",
        "colab_type": "code",
        "colab": {}
      },
      "source": [
        "#테스트 데이터 -> 광역 이동\n",
        "test_file = pd.read_csv('/content/drive/My Drive/20200709_121628.csv',encoding='utf-8')\n",
        "#test_file = pd.read_csv('/content/20200707_164523.csv',encoding='utf-8')\n",
        "#test_file.drop(['Label1'],axis = 'columns',inplace=True)\n",
        "test_file.RPM = test_file.RPM/MAX_RPM\n",
        "test_file.Velocity = test_file.Velocity/MAX_VELO\n",
        "test_file_timestamp = test_file.pop('Timestamp')\n",
        "#test_file_label = test_file.pop('Label1')\n",
        "test_file_label = test_file.pop('Label')\n",
        "test_array = np.delete(test_file.values,-1,0)\n",
        "test_label = np.delete(test_file_label.values,-1,0)"
      ],
      "execution_count": 9,
      "outputs": []
    },
    {
      "cell_type": "markdown",
      "metadata": {
        "id": "SKKBpIyVH1QG",
        "colab_type": "text"
      },
      "source": [
        "두 번째 학습 데이터 -> 처리 과정(windowing)"
      ]
    },
    {
      "cell_type": "code",
      "metadata": {
        "id": "xWC9XGlj9gbe",
        "colab_type": "code",
        "colab": {
          "base_uri": "https://localhost:8080/",
          "height": 52
        },
        "outputId": "33e76469-b28b-43c2-8bf9-e1a00b063a34"
      },
      "source": [
        "\n",
        "xdataset = []\n",
        "ydataset = []\n",
        "#in range()\n",
        "for i in range(WINDOW_SIZE, train_array.shape[0] + 1, 1):\n",
        "  xdataset.append(train_array[i-WINDOW_SIZE:i])\n",
        "  ydataset.append(train_label[i-1])\n",
        "xtrain = np.array(xdataset) #32개의 데이터를 1개의 window 단위로 설정\n",
        "ytrain = np.array(ydataset) #각 window의 마지막 원소를 대표 label로 지정\n",
        "print(xtrain.shape)\n",
        "print(ytrain.shape)"
      ],
      "execution_count": 10,
      "outputs": [
        {
          "output_type": "stream",
          "text": [
            "(9362, 32, 7)\n",
            "(9362,)\n"
          ],
          "name": "stdout"
        }
      ]
    },
    {
      "cell_type": "markdown",
      "metadata": {
        "id": "RoAuqbgkHsN5",
        "colab_type": "text"
      },
      "source": [
        "테스트 데이터 -> 처리 과정(windowing)"
      ]
    },
    {
      "cell_type": "code",
      "metadata": {
        "id": "u8UgkY8W9xwe",
        "colab_type": "code",
        "colab": {
          "base_uri": "https://localhost:8080/",
          "height": 52
        },
        "outputId": "303c7a41-dae9-4386-ff9e-abad452581ea"
      },
      "source": [
        "xdataset = []\n",
        "ydataset = []\n",
        "#in range()\n",
        "for i in range(WINDOW_SIZE, test_array.shape[0] + 1, 1):\n",
        "  xdataset.append(test_array[i-WINDOW_SIZE:i])\n",
        "  ydataset.append(0)\n",
        "xtest = np.array(xdataset) #32개의 데이터를 1개의 window 단위로 설정\n",
        "ytest = np.array(ydataset)\n",
        "print(xtest.shape)\n",
        "print(ytest.shape)"
      ],
      "execution_count": 11,
      "outputs": [
        {
          "output_type": "stream",
          "text": [
            "(37227, 32, 7)\n",
            "(37227,)\n"
          ],
          "name": "stdout"
        }
      ]
    },
    {
      "cell_type": "markdown",
      "metadata": {
        "id": "lF2fV7y-XovZ",
        "colab_type": "text"
      },
      "source": [
        "모든 value가 0\\~1사이(또는 -1~1 사이)의 값이 되도록 나누기(정규화 과정)"
      ]
    },
    {
      "cell_type": "code",
      "metadata": {
        "id": "db7l2s4or1Ao",
        "colab_type": "code",
        "colab": {}
      },
      "source": [
        "data_file.RPM = data_file.RPM/MAX_RPM\n",
        "data_file.Velocity = data_file.Velocity/MAX_VELO"
      ],
      "execution_count": 12,
      "outputs": []
    },
    {
      "cell_type": "markdown",
      "metadata": {
        "id": "zpqAgMR9r45m",
        "colab_type": "text"
      },
      "source": [
        "test_dataset의 sliding window를 정하기 ex) 32 -> 2차원을 3차원으로"
      ]
    },
    {
      "cell_type": "code",
      "metadata": {
        "id": "oG3I_FMxaGIR",
        "colab_type": "code",
        "colab": {
          "base_uri": "https://localhost:8080/",
          "height": 70
        },
        "outputId": "b57aad16-c074-4017-9d1b-fbc56bb7929c"
      },
      "source": [
        "print(type(data_file))\n",
        "print(type(data_file.values))\n",
        "np_array = np.delete(data_file.values,-1,0)\n",
        "label = np.delete(label.values,-1,0)\n",
        "print(type(np_array))"
      ],
      "execution_count": 13,
      "outputs": [
        {
          "output_type": "stream",
          "text": [
            "<class 'pandas.core.frame.DataFrame'>\n",
            "<class 'numpy.ndarray'>\n",
            "<class 'numpy.ndarray'>\n"
          ],
          "name": "stdout"
        }
      ]
    },
    {
      "cell_type": "code",
      "metadata": {
        "id": "SGlv41ySMNsq",
        "colab_type": "code",
        "colab": {
          "base_uri": "https://localhost:8080/",
          "height": 52
        },
        "outputId": "8f46ebf2-5893-4f00-a2e8-5f38496862f8"
      },
      "source": [
        "xdataset = []\n",
        "ydataset = []\n",
        "#in range()\n",
        "for i in range(WINDOW_SIZE, np_array.shape[0] + 1, 1):\n",
        "  xdataset.append(np_array[i-WINDOW_SIZE:i])\n",
        "  ydataset.append(label[i-1])\n",
        "np_xtest = np.array(xdataset) #32개의 데이터를 1개의 window 단위로 설정\n",
        "np_ytest = np.array(ydataset) #각 window의 마지막 원소를 대표 label로 지정\n",
        "print(np_xtest.shape)\n",
        "print(np_ytest.shape)\n",
        "#test_dataset = tf.data.Dataset.from_tensor_slices((data_file.values, label.values))\n",
        "#print(type(data_file.values[0]))\n",
        "#print(type(test_dataset))\n",
        "#test_dataset = test_dataset.window(32,shift=1)\n",
        "#data_file.values.shape\n",
        "#for ds in test_dataset:\n",
        "#  print(ds)"
      ],
      "execution_count": 14,
      "outputs": [
        {
          "output_type": "stream",
          "text": [
            "(10342, 32, 7)\n",
            "(10342,)\n"
          ],
          "name": "stdout"
        }
      ]
    },
    {
      "cell_type": "markdown",
      "metadata": {
        "id": "Q0e9ipbRH7ee",
        "colab_type": "text"
      },
      "source": [
        "가장 기본적인 모델<br>\n",
        "데이터를 펼쳐서 128개의 tensor(뉴런)을 가지는 층을 추가<br>\n",
        "3개의 출력값을 확인할 3개의 tensor(뉴런)을 가지는 층을 추가 -> softmax로\n",
        "확률화 시킴(다 더해서 1)"
      ]
    },
    {
      "cell_type": "code",
      "metadata": {
        "id": "cnaJZ7roMbH8",
        "colab_type": "code",
        "colab": {}
      },
      "source": [
        "#for val, lab in test_dataset.take(40):\n",
        "#  print('Values: {}, Label: {}'.format(val,lab))\n",
        "model = keras.Sequential([\n",
        "    keras.layers.Flatten(input_shape=(32, 7)),\n",
        "    keras.layers.Dense(128, activation='relu'),\n",
        "    keras.layers.Dense(3, activation='softmax')\n",
        "])\n",
        "model.compile(optimizer='adam',\n",
        "              loss='sparse_categorical_crossentropy',\n",
        "              metrics=['accuracy'])"
      ],
      "execution_count": 15,
      "outputs": []
    },
    {
      "cell_type": "markdown",
      "metadata": {
        "id": "EJ5xEbLhIO_G",
        "colab_type": "text"
      },
      "source": [
        "첫 번째 데이터 학습"
      ]
    },
    {
      "cell_type": "code",
      "metadata": {
        "id": "lWvWQ9mF6oNb",
        "colab_type": "code",
        "colab": {
          "base_uri": "https://localhost:8080/",
          "height": 209
        },
        "outputId": "2c88d358-77d3-458c-9a0f-e7d534dfe5b3"
      },
      "source": [
        "model.fit(np_xtest, np_ytest, epochs=5)"
      ],
      "execution_count": 16,
      "outputs": [
        {
          "output_type": "stream",
          "text": [
            "Epoch 1/5\n",
            "324/324 [==============================] - 1s 2ms/step - loss: 0.0979 - accuracy: 0.9733\n",
            "Epoch 2/5\n",
            "324/324 [==============================] - 1s 2ms/step - loss: 0.0137 - accuracy: 0.9967\n",
            "Epoch 3/5\n",
            "324/324 [==============================] - 1s 2ms/step - loss: 0.0048 - accuracy: 0.9992\n",
            "Epoch 4/5\n",
            "324/324 [==============================] - 1s 2ms/step - loss: 0.0023 - accuracy: 0.9997\n",
            "Epoch 5/5\n",
            "324/324 [==============================] - 1s 2ms/step - loss: 0.0014 - accuracy: 0.9998\n"
          ],
          "name": "stdout"
        },
        {
          "output_type": "execute_result",
          "data": {
            "text/plain": [
              "<tensorflow.python.keras.callbacks.History at 0x7f325e221198>"
            ]
          },
          "metadata": {
            "tags": []
          },
          "execution_count": 16
        }
      ]
    },
    {
      "cell_type": "markdown",
      "metadata": {
        "id": "yfIVHlPWIRHt",
        "colab_type": "text"
      },
      "source": [
        "두 번재 데이터 학습"
      ]
    },
    {
      "cell_type": "code",
      "metadata": {
        "id": "D4cidSt99ZvU",
        "colab_type": "code",
        "colab": {
          "base_uri": "https://localhost:8080/",
          "height": 210
        },
        "outputId": "79b0fa52-8c39-4d53-b0e5-093601bb2605"
      },
      "source": [
        "model.fit(xtrain, ytrain, epochs=5)"
      ],
      "execution_count": 17,
      "outputs": [
        {
          "output_type": "stream",
          "text": [
            "Epoch 1/5\n",
            "293/293 [==============================] - 1s 2ms/step - loss: 0.0073 - accuracy: 0.9978\n",
            "Epoch 2/5\n",
            "293/293 [==============================] - 1s 2ms/step - loss: 0.0011 - accuracy: 0.9999\n",
            "Epoch 3/5\n",
            "293/293 [==============================] - 1s 2ms/step - loss: 3.0688e-04 - accuracy: 1.0000\n",
            "Epoch 4/5\n",
            "293/293 [==============================] - 1s 2ms/step - loss: 1.9717e-04 - accuracy: 1.0000\n",
            "Epoch 5/5\n",
            "293/293 [==============================] - 1s 2ms/step - loss: 1.3514e-04 - accuracy: 1.0000\n"
          ],
          "name": "stdout"
        },
        {
          "output_type": "execute_result",
          "data": {
            "text/plain": [
              "<tensorflow.python.keras.callbacks.History at 0x7f3254f014a8>"
            ]
          },
          "metadata": {
            "tags": []
          },
          "execution_count": 17
        }
      ]
    },
    {
      "cell_type": "markdown",
      "metadata": {
        "id": "e9mx5xn6ITEd",
        "colab_type": "text"
      },
      "source": [
        "학습 테스트 및 예측"
      ]
    },
    {
      "cell_type": "code",
      "metadata": {
        "id": "yzWDlEzn_FK0",
        "colab_type": "code",
        "colab": {
          "base_uri": "https://localhost:8080/",
          "height": 52
        },
        "outputId": "58d67d39-77d3-44e4-f9e3-a75bc6f7f93b"
      },
      "source": [
        "test_loss, test_acc = model.evaluate(xtest,  ytest, verbose=2)\n",
        "predictions = model.predict(xtest)\n",
        "count = 0\n",
        "print(type(test_file_timestamp[0]))\n",
        "txt = 'Timestamp,Pred_Direction,Real_Direction\\n'\n",
        "for temp in xtest:\n",
        "  #print(test_file_timestamp[count],end=' ')\n",
        "  txt = txt + test_file_timestamp[count] + ' '\n",
        "  if(np.argmax(predictions[count]) == 0):\n",
        "  #  print('straight')\n",
        "    txt = txt + ',straight'\n",
        "  elif(np.argmax(predictions[count]) == 1):\n",
        "  #  print('left')\n",
        "    txt = txt + ',left'\n",
        "  else:\n",
        "    txt = txt + ',right'\n",
        "  if(test_file_label[count] == 0):\n",
        "    txt = txt + ',straight\\n'\n",
        "  elif(test_file_label[count] == 1):\n",
        "    txt = txt + ',left\\n'\n",
        "  else:\n",
        "    txt = txt + ',straight\\n'\n",
        "  #  print('right')\n",
        "  count = count + 1\n",
        "\n",
        "f = open(\"/content/drive/My Drive/0709_test_output.csv\",'w')\n",
        "f.write(txt)\n",
        "f.close()"
      ],
      "execution_count": 22,
      "outputs": [
        {
          "output_type": "stream",
          "text": [
            "1164/1164 - 1s - loss: 1.0065 - accuracy: 0.8680\n",
            "<class 'str'>\n"
          ],
          "name": "stdout"
        }
      ]
    },
    {
      "cell_type": "markdown",
      "metadata": {
        "id": "-o3OEBoLL1g1",
        "colab_type": "text"
      },
      "source": [
        "해야 하는것!<br>\n",
        "데이터를 한 csv가 아닌 원하는 csv를 전부 돌아가게 해야함.<br>\n",
        "읽기-> 처리 -> 학습 -> 다음파일 읽기 -> 처리 -> 학습 =>> 반복\n",
        "를 구현<br>\n",
        "그리고 지금은 단순히 Flatten -> 128 layer 통과 -> 결과<br>\n",
        "정확도가 그렇게 높지 않다!\n"
      ]
    },
    {
      "cell_type": "code",
      "metadata": {
        "id": "sSbjy6SYL8PJ",
        "colab_type": "code",
        "colab": {}
      },
      "source": [
        ""
      ],
      "execution_count": null,
      "outputs": []
    }
  ]
}