{
  "nbformat": 4,
  "nbformat_minor": 0,
  "metadata": {
    "colab": {
      "name": "Data_varify_0724_HJipynb",
      "provenance": [],
      "toc_visible": true,
      "include_colab_link": true
    },
    "kernelspec": {
      "name": "python3",
      "display_name": "Python 3"
    }
  },
  "cells": [
    {
      "cell_type": "markdown",
      "metadata": {
        "id": "view-in-github",
        "colab_type": "text"
      },
      "source": [
        "<a href=\"https://colab.research.google.com/github/NgaAdrain/TEAM_Enter_Text_Here/blob/master/Data_Varification/Data_Varify_0724_HJ.ipynb\" target=\"_parent\"><img src=\"https://colab.research.google.com/assets/colab-badge.svg\" alt=\"Open In Colab\"/></a>"
      ]
    },
    {
      "cell_type": "code",
      "metadata": {
        "id": "9hktSWkWagnA",
        "colab_type": "code",
        "colab": {
          "resources": {
            "http://localhost:8080/nbextensions/google.colab/files.js": {
              "data": "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",
              "ok": true,
              "headers": [
                [
                  "content-type",
                  "application/javascript"
                ]
              ],
              "status": 200,
              "status_text": ""
            }
          },
          "base_uri": "https://localhost:8080/",
          "height": 198
        },
        "outputId": "0fb957da-1bc5-445c-c66f-ba8abfd4faaa"
      },
      "source": [
        "from google.colab import files\n",
        "uploaded = files.upload() # 파일 업로드 기능 실행\n",
        "\n",
        "for fn in uploaded.keys(): # 업로드된 파일 정보 출력\n",
        "    print('User uploaded file \"{name}\" with length {length} bytes'.format(\n",
        "        name=fn, length=len(uploaded[fn])))\n"
      ],
      "execution_count": null,
      "outputs": [
        {
          "output_type": "display_data",
          "data": {
            "text/html": [
              "\n",
              "     <input type=\"file\" id=\"files-91aa1f2c-2bb8-413d-bc8b-72639f19b3a0\" name=\"files[]\" multiple disabled\n",
              "        style=\"border:none\" />\n",
              "     <output id=\"result-91aa1f2c-2bb8-413d-bc8b-72639f19b3a0\">\n",
              "      Upload widget is only available when the cell has been executed in the\n",
              "      current browser session. Please rerun this cell to enable.\n",
              "      </output>\n",
              "      <script src=\"/nbextensions/google.colab/files.js\"></script> "
            ],
            "text/plain": [
              "<IPython.core.display.HTML object>"
            ]
          },
          "metadata": {
            "tags": []
          }
        },
        {
          "output_type": "stream",
          "text": [
            "Saving 좌차선합친거.csv to 좌차선합친거.csv\n",
            "Saving 좌커브합친거.csv to 좌커브합친거.csv\n",
            "Saving 좌회전합친거.csv to 좌회전합친거.csv\n",
            "User uploaded file \"좌차선합친거.csv\" with length 167528 bytes\n",
            "User uploaded file \"좌커브합친거.csv\" with length 826511 bytes\n",
            "User uploaded file \"좌회전합친거.csv\" with length 663710 bytes\n"
          ],
          "name": "stdout"
        }
      ]
    },
    {
      "cell_type": "code",
      "metadata": {
        "id": "v0YgONGKaiv5",
        "colab_type": "code",
        "colab": {
          "base_uri": "https://localhost:8080/",
          "height": 193
        },
        "outputId": "43dd5081-79e5-4ede-8e0a-e8144e0df8b4"
      },
      "source": [
        "ls -al"
      ],
      "execution_count": null,
      "outputs": [
        {
          "output_type": "stream",
          "text": [
            "total 5068\n",
            "drwxr-xr-x 1 root root    4096 Jul 24 05:30 \u001b[0m\u001b[01;34m.\u001b[0m/\n",
            "drwxr-xr-x 1 root root    4096 Jul 24 04:43 \u001b[01;34m..\u001b[0m/\n",
            "drwxr-xr-x 1 root root    4096 Jul 21 16:12 \u001b[01;34m.config\u001b[0m/\n",
            "-rw-r--r-- 1 root root  163103 Jul 24 05:18 우차선_합친거.csv\n",
            "-rw-r--r-- 1 root root  761002 Jul 24 05:19 우커브합친거.csv\n",
            "-rw-r--r-- 1 root root  618680 Jul 24 05:30 우회전합친거.csv\n",
            "drwxr-xr-x 2 root root    4096 Jul 24 05:29 \u001b[01;34m.ipynb_checkpoints\u001b[0m/\n",
            "drwxr-xr-x 1 root root    4096 Jul 10 16:29 \u001b[01;34msample_data\u001b[0m/\n",
            "-rw-r--r-- 1 root root 3618114 Jul 24 04:45 train_input_1.csv\n"
          ],
          "name": "stdout"
        }
      ]
    },
    {
      "cell_type": "code",
      "metadata": {
        "id": "K1zCdB07cGs5",
        "colab_type": "code",
        "colab": {}
      },
      "source": [
        "import numpy as np\n",
        "import pandas as pd\n",
        "import matplotlib.pyplot as plt\n",
        "import seaborn as sns\n",
        "\n",
        "plt.rcParams['figure.figsize'] = [10, 6]\n",
        "%matplotlib inline\n",
        "data = pd.read_csv('/content/우차선_합친거.csv')\n",
        "data2 = pd.read_csv('/content/우커브합친거.csv')\n",
        "data3 = pd.read_csv('/content/우회전합친거.csv')\n",
        "data4 = pd.read_csv('/content/좌차선합친거.csv')\n",
        "data5 = pd.read_csv('/content/좌커브합친거.csv')\n",
        "data6 = pd.read_csv('/content/좌회전합친거.csv')"
      ],
      "execution_count": null,
      "outputs": []
    },
    {
      "cell_type": "code",
      "metadata": {
        "id": "x2gbX4ynGASy",
        "colab_type": "code",
        "colab": {
          "base_uri": "https://localhost:8080/",
          "height": 87
        },
        "outputId": "2d12b5e8-584c-469e-c263-7923cb312425"
      },
      "source": [
        "data.columns\n"
      ],
      "execution_count": null,
      "outputs": [
        {
          "output_type": "execute_result",
          "data": {
            "text/plain": [
              "Index(['Timestamp', 'Velocity', 'accel_X', 'accel_Z', 'Steering_wheel_x',\n",
              "       'Accelerator', 'Brake', 'Winker(left)', 'Winker(right)', 'Label',\n",
              "       'Timecheck'],\n",
              "      dtype='object')"
            ]
          },
          "metadata": {
            "tags": []
          },
          "execution_count": 5
        }
      ]
    },
    {
      "cell_type": "code",
      "metadata": {
        "id": "kov5A5AeE69C",
        "colab_type": "code",
        "colab": {
          "base_uri": "https://localhost:8080/",
          "height": 343
        },
        "outputId": "4c601810-2775-4a2c-8446-31adae36ceb3"
      },
      "source": [
        "df = pd.DataFrame(data,columns=['Steering_wheel_x'])"
      ],
      "execution_count": null,
      "outputs": [
        {
          "output_type": "execute_result",
          "data": {
            "text/html": [
              "<div>\n",
              "<style scoped>\n",
              "    .dataframe tbody tr th:only-of-type {\n",
              "        vertical-align: middle;\n",
              "    }\n",
              "\n",
              "    .dataframe tbody tr th {\n",
              "        vertical-align: top;\n",
              "    }\n",
              "\n",
              "    .dataframe thead th {\n",
              "        text-align: right;\n",
              "    }\n",
              "</style>\n",
              "<table border=\"1\" class=\"dataframe\">\n",
              "  <thead>\n",
              "    <tr style=\"text-align: right;\">\n",
              "      <th></th>\n",
              "      <th>Steering_wheel_x</th>\n",
              "    </tr>\n",
              "  </thead>\n",
              "  <tbody>\n",
              "    <tr>\n",
              "      <th>0</th>\n",
              "      <td>6</td>\n",
              "    </tr>\n",
              "    <tr>\n",
              "      <th>1</th>\n",
              "      <td>9</td>\n",
              "    </tr>\n",
              "    <tr>\n",
              "      <th>2</th>\n",
              "      <td>12</td>\n",
              "    </tr>\n",
              "    <tr>\n",
              "      <th>3</th>\n",
              "      <td>13</td>\n",
              "    </tr>\n",
              "    <tr>\n",
              "      <th>4</th>\n",
              "      <td>15</td>\n",
              "    </tr>\n",
              "    <tr>\n",
              "      <th>5</th>\n",
              "      <td>16</td>\n",
              "    </tr>\n",
              "    <tr>\n",
              "      <th>6</th>\n",
              "      <td>17</td>\n",
              "    </tr>\n",
              "    <tr>\n",
              "      <th>7</th>\n",
              "      <td>17</td>\n",
              "    </tr>\n",
              "    <tr>\n",
              "      <th>8</th>\n",
              "      <td>18</td>\n",
              "    </tr>\n",
              "    <tr>\n",
              "      <th>9</th>\n",
              "      <td>18</td>\n",
              "    </tr>\n",
              "  </tbody>\n",
              "</table>\n",
              "</div>"
            ],
            "text/plain": [
              "   Steering_wheel_x\n",
              "0                 6\n",
              "1                 9\n",
              "2                12\n",
              "3                13\n",
              "4                15\n",
              "5                16\n",
              "6                17\n",
              "7                17\n",
              "8                18\n",
              "9                18"
            ]
          },
          "metadata": {
            "tags": []
          },
          "execution_count": 6
        }
      ]
    },
    {
      "cell_type": "code",
      "metadata": {
        "id": "VEpqK27RbRvJ",
        "colab_type": "code",
        "colab": {}
      },
      "source": [
        "df2 = pd.DataFrame(data2,columns=['Steering_wheel_x'])\n",
        "df3 = pd.DataFrame(data3,columns=['Steering_wheel_x'])\n",
        "df4 = pd.DataFrame(data4,columns=['Steering_wheel_x'])\n",
        "df5 = pd.DataFrame(data5,columns=['Steering_wheel_x'])\n",
        "df6 = pd.DataFrame(data6,columns=['Steering_wheel_x'])"
      ],
      "execution_count": null,
      "outputs": []
    },
    {
      "cell_type": "code",
      "metadata": {
        "id": "4G_G8E4YeJrP",
        "colab_type": "code",
        "colab": {}
      },
      "source": [
        "df11 = pd.DataFrame(data,columns=['accel_X'])\n",
        "df12 = pd.DataFrame(data2,columns=['accel_X'])\n",
        "df13 = pd.DataFrame(data3,columns=['accel_X'])\n",
        "df14 = pd.DataFrame(data4,columns=['accel_X'])\n",
        "df15 = pd.DataFrame(data5,columns=['accel_X'])\n",
        "df16 = pd.DataFrame(data6,columns=['accel_X'])\n",
        "\n",
        "df21 = pd.DataFrame(data,columns=['accel_Z'])\n",
        "df22 = pd.DataFrame(data2,columns=['accel_Z'])\n",
        "df23 = pd.DataFrame(data3,columns=['accel_Z'])\n",
        "df24 = pd.DataFrame(data4,columns=['accel_Z'])\n",
        "df25 = pd.DataFrame(data5,columns=['accel_Z'])\n",
        "df26 = pd.DataFrame(data6,columns=['accel_Z'])"
      ],
      "execution_count": null,
      "outputs": []
    },
    {
      "cell_type": "markdown",
      "metadata": {
        "id": "hQgDL323dxIi",
        "colab_type": "text"
      },
      "source": [
        "우차선, 우커브, 우회전, 좌차선, 좌커브, 좌회전 핸들 회전\n",
        "그래프 경계값들"
      ]
    },
    {
      "cell_type": "code",
      "metadata": {
        "id": "NM8tXbotHnq5",
        "colab_type": "code",
        "colab": {
          "base_uri": "https://localhost:8080/",
          "height": 34
        },
        "outputId": "69817b71-9c56-4ff1-c96f-2b1feb6f0934"
      },
      "source": [
        "from scipy import stats\n",
        "zscore_threshold = 2\n",
        "df[(np.abs(stats.zscore(df)) > zscore_threshold).all(axis=1)].values.ravel()"
      ],
      "execution_count": null,
      "outputs": [
        {
          "output_type": "execute_result",
          "data": {
            "text/plain": [
              "array([], dtype=int64)"
            ]
          },
          "metadata": {
            "tags": []
          },
          "execution_count": 40
        }
      ]
    },
    {
      "cell_type": "code",
      "metadata": {
        "id": "wA8qKsCfbbe4",
        "colab_type": "code",
        "colab": {
          "base_uri": "https://localhost:8080/",
          "height": 633
        },
        "outputId": "7c56962a-6006-4fab-a756-2ff7dfb1f0f3"
      },
      "source": [
        "df2[(np.abs(stats.zscore(df2)) > zscore_threshold).all(axis=1)].values.ravel()"
      ],
      "execution_count": null,
      "outputs": [
        {
          "output_type": "execute_result",
          "data": {
            "text/plain": [
              "array([29, 32, 32, 33, 33, 34, 34, 34, 34, 34, 34, 34, 34, 33, 33, 32, 32,\n",
              "       31, 31, 30, 30, 30, 30, 29, 29, 29, 29, 29, 29, 29, 29, 29, 29, 29,\n",
              "       29, 29, 28, 28, 28, 28, 28, 28, 28, 28, 28, 28, 28, 28, 28, 28, 28,\n",
              "       28, 28, 28, 28, 28, 28, 28, 28, 28, 28, 28, 28, 28, 28, 28, 28, 28,\n",
              "       28, 28, 28, 28, 28, 28, 28, 28, 28, 28, 28, 29, 29, 30, 31, 32, 33,\n",
              "       33, 33, 33, 33, 33, 33, 33, 33, 33, 33, 33, 32, 32, 31, 31, 30, 30,\n",
              "       29, 29, 29, 28, 28, 28, 28, 28, 28, 28, 28, 28, 28, 28, 28, 29, 29,\n",
              "       29, 30, 30, 30, 30, 30, 30, 30, 30, 30, 29, 28, 28, 28, 28, 28, 28,\n",
              "       28, 28, 29, 29, 29, 29, 29, 29, 30, 30, 30, 30, 30, 30, 30, 30, 31,\n",
              "       31, 31, 31, 31, 33, 33, 34, 34, 34, 34, 35, 35, 35, 35, 35, 35, 35,\n",
              "       35, 35, 35, 35, 35, 35, 35, 35, 35, 35, 35, 35, 35, 35, 35, 35, 35,\n",
              "       35, 35, 35, 36, 36, 36, 37, 37, 38, 38, 38, 38, 38, 38, 38, 38, 38,\n",
              "       38, 38, 38, 38, 37, 37, 37, 37, 37, 37, 37, 36, 35, 35, 34, 34, 34,\n",
              "       34, 34, 34, 34, 34, 34, 34, 34, 34, 34, 34, 34, 34, 33, 33, 33, 33,\n",
              "       32, 31, 30, 29, 29, 28, 28, 28, 29, 30, 31, 31, 32, 32, 32, 32, 32,\n",
              "       32, 32, 32, 31, 31, 31, 31, 30, 29, 29, 28, 28, 28, 29, 30, 31, 31,\n",
              "       30, 30, 30, 29, 29, 28, 28, 28, 28, 28, 28, 28, 28, 28, 28, 28, 28,\n",
              "       29, 29, 30, 30, 31, 31, 31, 31, 31, 31, 31, 31, 31, 30, 30, 30, 29,\n",
              "       28, 28, 28, 28, 28, 28, 29, 31, 31, 33, 33, 33, 33, 33, 33, 33, 33,\n",
              "       33, 33, 32, 31, 30, 29, 29, 29, 28, 28, 28, 28, 28, 28, 28, 28, 28,\n",
              "       28, 28, 28, 28, 28, 29, 30, 30, 30, 31, 31, 31, 31, 31, 31, 31, 31,\n",
              "       31, 31, 31, 31, 31, 31, 30, 30, 29, 28, 28, 28, 28, 28, 28, 28, 28,\n",
              "       28, 28, 28, 29, 29, 31, 32, 33, 34, 35, 36, 37, 37, 38, 38, 38, 38,\n",
              "       38, 38, 38, 38, 38, 37, 37, 37, 35, 33, 31, 29, 28, 28, 28, 29, 30,\n",
              "       30, 30, 30, 30, 30, 30, 29, 29, 28, 28, 29, 29, 29, 30, 30, 30, 30,\n",
              "       30, 30, 30, 30, 30, 30, 30, 29, 29, 29, 29, 28, 28, 28, 28, 28, 28,\n",
              "       28, 28, 28, 28, 29, 29, 29, 29, 29, 29, 29, 29, 29, 29, 29, 29, 29,\n",
              "       29, 30, 30, 30, 30, 30, 30, 30, 30, 30, 30, 29, 29, 28, 28, 28, 29,\n",
              "       29, 29, 29, 29, 29, 29, 29, 29, 29, 29, 29, 29, 29, 29, 29, 29, 29,\n",
              "       29, 29, 29, 29, 29, 28, 28, 28, 28, 29, 30, 31, 31, 32, 33, 34, 34,\n",
              "       35, 35, 35, 35, 35, 35, 34, 34, 33, 32, 31, 30, 30, 29, 29, 29, 29,\n",
              "       29, 29, 29, 29, 29, 29, 29, 28, 28, 29, 29, 30, 30, 30, 31, 31, 31,\n",
              "       31, 31, 31, 30, 30, 29, 28, 28, 29, 30, 30, 32, 32, 33, 34, 35, 36,\n",
              "       36, 36, 37, 37, 37, 37, 37, 37, 37, 37, 37, 37, 37, 37, 37, 37, 36,\n",
              "       35, 35, 35, 35, 34, 34, 33, 33, 33, 32, 31, 30, 29, 29, 28])"
            ]
          },
          "metadata": {
            "tags": []
          },
          "execution_count": 41
        }
      ]
    },
    {
      "cell_type": "code",
      "metadata": {
        "id": "gO4n1hSubwXd",
        "colab_type": "code",
        "colab": {
          "base_uri": "https://localhost:8080/",
          "height": 105
        },
        "outputId": "3c244f41-d486-45a6-886b-62d2848e6e93"
      },
      "source": [
        "df3[(np.abs(stats.zscore(df3)) > zscore_threshold).all(axis=1)].values.ravel()"
      ],
      "execution_count": null,
      "outputs": [
        {
          "output_type": "execute_result",
          "data": {
            "text/plain": [
              "array([209, 214, 216, 217, 217, 216, 215, 211, 214, 216, 218, 220, 221,\n",
              "       221, 220, 218, 211, 212, 213, 213, 209, 211, 211, 210, 210, 210,\n",
              "       209, 209, 212, 215, 222, 224, 228, 229, 232, 233, 233, 224, 219,\n",
              "       209, 213, 219, 221, 227, 232, 235, 237, 239, 239, 238, 234, 229,\n",
              "       216, 211, 211, 212, 214, 215, 213, 209])"
            ]
          },
          "metadata": {
            "tags": []
          },
          "execution_count": 42
        }
      ]
    },
    {
      "cell_type": "code",
      "metadata": {
        "id": "w2CK3ACmbxSv",
        "colab_type": "code",
        "colab": {
          "base_uri": "https://localhost:8080/",
          "height": 52
        },
        "outputId": "31f44b27-43c4-4697-a1ea-8408a1213e3d"
      },
      "source": [
        "df4[(np.abs(stats.zscore(df4)) > zscore_threshold).all(axis=1)].values.ravel()"
      ],
      "execution_count": null,
      "outputs": [
        {
          "output_type": "execute_result",
          "data": {
            "text/plain": [
              "array([-26, -27, -28, -28, -28, -29, -29, -29, -29, -29, -29, -29, -29,\n",
              "       -29, -29, -29, -29, -28, -27, -27])"
            ]
          },
          "metadata": {
            "tags": []
          },
          "execution_count": 43
        }
      ]
    },
    {
      "cell_type": "code",
      "metadata": {
        "id": "TQ8ja7XZbxii",
        "colab_type": "code",
        "colab": {
          "base_uri": "https://localhost:8080/",
          "height": 879
        },
        "outputId": "1b947d47-4b7c-4a41-884c-6ee082bdc4f6"
      },
      "source": [
        "df5[(np.abs(stats.zscore(df5)) > zscore_threshold).all(axis=1)].values.ravel()"
      ],
      "execution_count": null,
      "outputs": [
        {
          "output_type": "execute_result",
          "data": {
            "text/plain": [
              "array([-26, -27, -28, -28, -28, -28, -28, -28, -28, -28, -28, -28, -28,\n",
              "       -28, -28, -28, -28, -28, -28, -28, -28, -28, -28, -28, -28, -28,\n",
              "       -28, -28, -28, -28, -28, -28, -28, -28, -27, -27, -26, -26, -26,\n",
              "       -26, -27, -27, -27, -27, -27, -27, -27, -27, -27, -27, -27, -28,\n",
              "       -28, -29, -29, -29, -30, -30, -30, -30, -30, -30, -30, -30, -30,\n",
              "       -30, -30, -30, -30, -30, -30, -30, -31, -31, -31, -31, -31, -31,\n",
              "       -30, -30, -29, -28, -27, -26, -26, -26, -26, -27, -27, -27, -27,\n",
              "       -27, -27, -27, -27, -27, -27, -27, -27, -27, -27, -27, -27, -27,\n",
              "       -27, -27, -27, -27, -27, -27, -26, -26, -26, -26, -26, -26, -26,\n",
              "       -26, -27, -27, -28, -28, -28, -28, -28, -28, -28, -28, -29, -29,\n",
              "       -29, -29, -29, -29, -29, -29, -29, -29, -29, -29, -29, -29, -29,\n",
              "       -29, -29, -29, -29, -29, -29, -29, -29, -29, -29, -29, -29, -29,\n",
              "       -29, -29, -29, -29, -29, -29, -29, -28, -28, -27, -26, -26, -26,\n",
              "       -26, -26, -27, -27, -27, -28, -28, -28, -28, -28, -29, -29, -29,\n",
              "       -29, -29, -30, -30, -30, -30, -30, -30, -30, -30, -30, -30, -30,\n",
              "       -30, -30, -30, -30, -31, -31, -31, -31, -31, -31, -31, -31, -31,\n",
              "       -31, -31, -31, -31, -31, -31, -32, -32, -32, -32, -32, -32, -32,\n",
              "       -32, -32, -32, -32, -32, -32, -32, -32, -32, -32, -32, -32, -32,\n",
              "       -31, -31, -31, -30, -30, -29, -29, -28, -28, -27, -27, -27, -27,\n",
              "       -27, -27, -27, -27, -27, -27, -27, -28, -28, -28, -28, -28, -29,\n",
              "       -29, -29, -29, -29, -29, -29, -29, -29, -29, -29, -29, -29, -28,\n",
              "       -28, -28, -27, -27, -26, -26, -26, -26, -26, -26, -26, -26, -26,\n",
              "       -26, -26, -26, -28, -29, -30, -30, -31, -31, -31, -31, -30, -28,\n",
              "       -28, -27, -26, -26, -26, -27, -28, -28, -29, -30, -30, -31, -31,\n",
              "       -31, -31, -31, -31, -31, -31, -30, -28, -27, -26,   1,   1,   1,\n",
              "       -26, -26, -26, -26, -26, -26, -26, -27, -27, -27, -28, -28, -29,\n",
              "       -29, -29, -29, -29, -29, -29, -29, -29, -29, -29, -29, -29, -29,\n",
              "       -29, -29, -29, -29, -29, -29, -29, -29, -29, -29, -29, -29, -29,\n",
              "       -29, -29, -29, -29, -29, -29, -29, -29, -28, -28, -26, -26, -27,\n",
              "       -27, -27, -27, -27, -27, -27, -28, -28, -28, -28, -28, -28, -28,\n",
              "       -28, -28, -28, -28, -28, -28, -28, -28, -28, -28, -28, -28, -27,\n",
              "       -26, -27, -27, -28, -28, -28, -29, -29, -29, -29, -29, -29, -29,\n",
              "       -28, -28, -27, -27, -27, -27, -27, -27, -27, -27, -27, -27, -27,\n",
              "       -27, -27, -27, -27, -27, -27, -26, -26, -27, -27, -27, -27, -27,\n",
              "       -27, -27, -27, -27, -27, -27, -27, -27, -27, -27, -27, -27, -27,\n",
              "       -27, -27, -27, -27, -27, -27, -27, -27, -27, -27, -27, -27, -27,\n",
              "       -27, -27, -27, -27, -27, -27, -26, -26, -27, -29, -29, -30, -30,\n",
              "       -30, -30, -30, -30, -30, -30, -30, -30, -29, -28, -27, -26, -27,\n",
              "       -27, -27, -27, -27, -27, -27, -27, -27, -27, -27, -27, -27, -27,\n",
              "       -27, -27, -27, -27, -27, -27, -27, -27, -27, -27, -27, -27, -27,\n",
              "       -27, -27, -27, -26, -26, -27, -27, -27, -27, -27, -27, -27, -27,\n",
              "       -27, -27, -27, -27, -27, -27, -27, -27, -27, -27, -27, -27, -27,\n",
              "       -27, -27, -27, -27, -27, -27, -27, -27, -26, -27, -27, -27, -27,\n",
              "       -27, -27, -27, -27, -27, -27, -27, -27, -27, -27, -27, -27, -27,\n",
              "       -27, -27, -27, -27, -27, -27, -27, -27, -27, -27, -27, -27, -27,\n",
              "       -27, -27, -27, -27, -26, -26, -26, -27, -27, -27, -27, -27, -27,\n",
              "       -27, -27, -27, -27, -27, -27, -27, -27, -27, -27, -27, -27, -27,\n",
              "       -27, -27, -27, -27, -27, -27, -27, -27, -27, -27, -27, -27, -27,\n",
              "       -27, -27])"
            ]
          },
          "metadata": {
            "tags": []
          },
          "execution_count": 44
        }
      ]
    },
    {
      "cell_type": "code",
      "metadata": {
        "id": "DC8nrO9fbx18",
        "colab_type": "code",
        "colab": {
          "base_uri": "https://localhost:8080/",
          "height": 263
        },
        "outputId": "ad926001-c2d7-48dd-de5e-60407ebec733"
      },
      "source": [
        "df6[(np.abs(stats.zscore(df6)) > zscore_threshold).all(axis=1)].values.ravel()"
      ],
      "execution_count": null,
      "outputs": [
        {
          "output_type": "execute_result",
          "data": {
            "text/plain": [
              "array([-167, -168, -170, -172, -174, -174, -174, -174, -174, -173, -169,\n",
              "       -167, -166, -171, -174, -176, -178, -179, -180, -180, -176, -173,\n",
              "       -166, -167, -168, -168, -168, -166, -169, -170, -174, -175, -175,\n",
              "       -175, -174, -166, -169, -174, -179, -183, -184, -187, -188, -190,\n",
              "       -190, -192, -192, -192, -189, -185, -181, -176, -167, -166, -170,\n",
              "       -173, -174, -178, -179, -179, -179, -178, -174, -171, -169, -171,\n",
              "       -173, -173, -173, -173, -170, -168, -166, -166, -166, -166, -166,\n",
              "       -166, -166, -166, -171, -175, -180, -186, -189, -193, -194, -194,\n",
              "       -194, -194, -194, -194, -194, -194, -193, -192, -187, -184, -178,\n",
              "       -169, -166, -167, -172, -174, -179, -182, -184, -187, -192, -193,\n",
              "       -194, -195, -195, -195, -195, -195, -194, -192, -189, -186, -184,\n",
              "       -173, -170, -168, -171, -172, -174, -175, -175, -176, -176, -175,\n",
              "       -172, -168, -169, -172, -176, -177, -178, -179, -179, -179, -179,\n",
              "       -179, -179, -179, -178, -177, -176, -174, -167])"
            ]
          },
          "metadata": {
            "tags": []
          },
          "execution_count": 45
        }
      ]
    },
    {
      "cell_type": "code",
      "metadata": {
        "id": "D4y8tHlWIT0d",
        "colab_type": "code",
        "colab": {
          "base_uri": "https://localhost:8080/",
          "height": 34
        },
        "outputId": "6d7c1e84-cfd8-4030-93e5-b2bfd5aa1ad8"
      },
      "source": [
        "np.percentile(df[(np.abs(stats.zscore(df)) < zscore_threshold).all(axis=1)].values.ravel(),[0,25,50,75,100],interpolation = 'nearest')"
      ],
      "execution_count": null,
      "outputs": [
        {
          "output_type": "execute_result",
          "data": {
            "text/plain": [
              "array([-18,  -9,   5,  12,  24])"
            ]
          },
          "metadata": {
            "tags": []
          },
          "execution_count": 46
        }
      ]
    },
    {
      "cell_type": "code",
      "metadata": {
        "id": "HLPuEFNtb87g",
        "colab_type": "code",
        "colab": {
          "base_uri": "https://localhost:8080/",
          "height": 34
        },
        "outputId": "87933d71-22b8-43da-b611-8213da5fcf36"
      },
      "source": [
        "np.percentile(df2[(np.abs(stats.zscore(df2)) < zscore_threshold).all(axis=1)].values.ravel(),[0,25,50,75,100],interpolation = 'nearest')"
      ],
      "execution_count": null,
      "outputs": [
        {
          "output_type": "execute_result",
          "data": {
            "text/plain": [
              "array([-2,  7, 10, 14, 27])"
            ]
          },
          "metadata": {
            "tags": []
          },
          "execution_count": 48
        }
      ]
    },
    {
      "cell_type": "code",
      "metadata": {
        "id": "RlAPIXIob9ns",
        "colab_type": "code",
        "colab": {
          "base_uri": "https://localhost:8080/",
          "height": 34
        },
        "outputId": "bc64ebfb-97ff-491b-acc7-e9b876591358"
      },
      "source": [
        "np.percentile(df3[(np.abs(stats.zscore(df3)) < zscore_threshold).all(axis=1)].values.ravel(),[0,25,50,75,100],interpolation = 'nearest')"
      ],
      "execution_count": null,
      "outputs": [
        {
          "output_type": "execute_result",
          "data": {
            "text/plain": [
              "array([-25,  28,  89, 138, 208])"
            ]
          },
          "metadata": {
            "tags": []
          },
          "execution_count": 49
        }
      ]
    },
    {
      "cell_type": "code",
      "metadata": {
        "id": "6EsfI1-sb93S",
        "colab_type": "code",
        "colab": {
          "base_uri": "https://localhost:8080/",
          "height": 34
        },
        "outputId": "0eae60e0-1d75-4ba3-fabd-7a2a09867d6b"
      },
      "source": [
        "np.percentile(df4[(np.abs(stats.zscore(df4)) < zscore_threshold).all(axis=1)].values.ravel(),[0,25,50,75,100],interpolation = 'nearest')"
      ],
      "execution_count": null,
      "outputs": [
        {
          "output_type": "execute_result",
          "data": {
            "text/plain": [
              "array([-25, -12,  -1,  10,  22])"
            ]
          },
          "metadata": {
            "tags": []
          },
          "execution_count": 50
        }
      ]
    },
    {
      "cell_type": "code",
      "metadata": {
        "id": "2EvhTjzYb9X8",
        "colab_type": "code",
        "colab": {
          "base_uri": "https://localhost:8080/",
          "height": 34
        },
        "outputId": "17dbb683-a354-4be8-f4b7-e2bd9e26559c"
      },
      "source": [
        "np.percentile(df5[(np.abs(stats.zscore(df5)) < zscore_threshold).all(axis=1)].values.ravel(),[0,25,50,75,100],interpolation = 'nearest')"
      ],
      "execution_count": null,
      "outputs": [
        {
          "output_type": "execute_result",
          "data": {
            "text/plain": [
              "array([-25, -16, -10,  -7,   0])"
            ]
          },
          "metadata": {
            "tags": []
          },
          "execution_count": 51
        }
      ]
    },
    {
      "cell_type": "code",
      "metadata": {
        "id": "N_5DvEUxb8vG",
        "colab_type": "code",
        "colab": {
          "base_uri": "https://localhost:8080/",
          "height": 34
        },
        "outputId": "e29b6723-47ab-4cc2-de12-7946ae53f8e8"
      },
      "source": [
        "np.percentile(df6[(np.abs(stats.zscore(df6)) < zscore_threshold).all(axis=1)].values.ravel(),[0,25,50,75,100],interpolation = 'nearest')"
      ],
      "execution_count": null,
      "outputs": [
        {
          "output_type": "execute_result",
          "data": {
            "text/plain": [
              "array([-165, -108,  -75,  -32,    3])"
            ]
          },
          "metadata": {
            "tags": []
          },
          "execution_count": 52
        }
      ]
    },
    {
      "cell_type": "code",
      "metadata": {
        "id": "WLKizkkLJPPP",
        "colab_type": "code",
        "colab": {
          "base_uri": "https://localhost:8080/",
          "height": 592
        },
        "outputId": "d3401649-f310-4e30-a999-5871981925f8"
      },
      "source": [
        "plt.figure(figsize=(10,10))\n",
        "boxplot = df3.boxplot(column=['Steering_wheel_x'])\n",
        "#plt.yticks(np.arange(-150,150,step=10))\n",
        "plt.xticks([1],['right_laneshift'])\n",
        "plt.show()"
      ],
      "execution_count": null,
      "outputs": [
        {
          "output_type": "display_data",
          "data": {
            "image/png": "[encoded data removed]",
            "text/plain": [
              "<Figure size 720x720 with 1 Axes>"
            ]
          },
          "metadata": {
            "tags": [],
            "needs_background": "light"
          }
        }
      ]
    },
    {
      "cell_type": "code",
      "metadata": {
        "id": "FpdW6rgSNz4o",
        "colab_type": "code",
        "colab": {
          "base_uri": "https://localhost:8080/",
          "height": 880
        },
        "outputId": "e250ad32-1ee2-4bed-9e3f-8d0b97c50bad"
      },
      "source": [
        "fig, ax = plt.subplots(figsize=(15,15))\n",
        "ax.boxplot([data['Steering_wheel_x'], data2['Steering_wheel_x'], data3['Steering_wheel_x'],\\\n",
        "            data4['Steering_wheel_x'], data5['Steering_wheel_x'], data6['Steering_wheel_x'], ])\n",
        "plt.title('Steering_Wheel_Angle')\n",
        "plt.xticks([1, 2, 3, 4, 5, 6], \n",
        "           ['right_laneshift', 'right_curve', 'right_turn', 'left_laneshift', 'left_curve', 'left_turn'])\n",
        "plt.show()"
      ],
      "execution_count": null,
      "outputs": [
        {
          "output_type": "display_data",
          "data": {
            "image/png": "[encoded data removed]",
            "text/plain": [
              "<Figure size 1080x1080 with 1 Axes>"
            ]
          },
          "metadata": {
            "tags": [],
            "needs_background": "light"
          }
        }
      ]
    },
    {
      "cell_type": "code",
      "metadata": {
        "id": "eum1ss0jUs7-",
        "colab_type": "code",
        "colab": {
          "base_uri": "https://localhost:8080/",
          "height": 880
        },
        "outputId": "ea118971-fc55-412f-af18-281075de3d8e"
      },
      "source": [
        "fig, ax = plt.subplots(figsize=(15,15))\n",
        "ax.boxplot([data['accel_X'], data2['accel_X'], data3['accel_X'],\\\n",
        "            data4['accel_X'], data5['accel_X'], data6['accel_X'], ])\n",
        "plt.title('Accel_X')\n",
        "plt.xticks([1, 2, 3, 4, 5, 6], \n",
        "           ['right_laneshift', 'right_curve', 'right_turn', 'left_laneshift', 'left_curve', 'left_turn'])\n",
        "plt.show()"
      ],
      "execution_count": null,
      "outputs": [
        {
          "output_type": "display_data",
          "data": {
            "image/png": "[encoded data removed]",
            "text/plain": [
              "<Figure size 1080x1080 with 1 Axes>"
            ]
          },
          "metadata": {
            "tags": [],
            "needs_background": "light"
          }
        }
      ]
    },
    {
      "cell_type": "code",
      "metadata": {
        "id": "FKqN4zNcUs6w",
        "colab_type": "code",
        "colab": {
          "base_uri": "https://localhost:8080/",
          "height": 880
        },
        "outputId": "81a08aba-f5e7-4411-e071-f24e3f833601"
      },
      "source": [
        "fig, ax = plt.subplots(figsize=(15,15))\n",
        "ax.boxplot([data['accel_Z'], data2['accel_Z'], data3['accel_Z'],\\\n",
        "            data4['accel_Z'], data5['accel_Z'], data6['accel_Z'], ])\n",
        "plt.title('Accel_Z')\n",
        "plt.xticks([1, 2, 3, 4, 5, 6], \n",
        "           ['right_laneshift', 'right_curve', 'right_turn', 'left_laneshift', 'left_curve', 'left_turn'])\n",
        "plt.show()"
      ],
      "execution_count": null,
      "outputs": [
        {
          "output_type": "display_data",
          "data": {
            "image/png": "[encoded data removed]",
            "text/plain": [
              "<Figure size 1080x1080 with 1 Axes>"
            ]
          },
          "metadata": {
            "tags": [],
            "needs_background": "light"
          }
        }
      ]
    }
  ]
}