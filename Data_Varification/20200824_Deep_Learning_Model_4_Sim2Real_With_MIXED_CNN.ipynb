{
  "nbformat": 4,
  "nbformat_minor": 0,
  "metadata": {
    "colab": {
      "name": "20200824_Deep_Learning_Model_4_Sim2Real_With_MIXED_CNN.ipynb",
      "provenance": [],
      "collapsed_sections": [],
      "toc_visible": true,
      "authorship_tag": "ABX9TyNo5bSAa6D2rJr7lbOdVxqs",
      "include_colab_link": true
    },
    "kernelspec": {
      "name": "python3",
      "display_name": "Python 3"
    },
    "accelerator": "GPU"
  },
  "cells": [
    {
      "cell_type": "markdown",
      "metadata": {
        "id": "view-in-github",
        "colab_type": "text"
      },
      "source": [
        "<a href=\"https://colab.research.google.com/github/NgaAdrain/TEAM_Enter_Text_Here/blob/master/Data_Varification/20200824_Deep_Learning_Model_4_Sim2Real_With_MIXED_CNN.ipynb\" target=\"_parent\"><img src=\"https://colab.research.google.com/assets/colab-badge.svg\" alt=\"Open In Colab\"/></a>"
      ]
    },
    {
      "cell_type": "markdown",
      "metadata": {
        "id": "UXSRUfag5aRz",
        "colab_type": "text"
      },
      "source": [
        "#<h1>**Deep Learning With CNN & DNN**</h1>"
      ]
    },
    {
      "cell_type": "markdown",
      "metadata": {
        "id": "cQE59oey5mVS",
        "colab_type": "text"
      },
      "source": [
        "##**Module Import**\n"
      ]
    },
    {
      "cell_type": "code",
      "metadata": {
        "id": "FJ3dRqGh5Ra4",
        "colab_type": "code",
        "colab": {}
      },
      "source": [
        "# Import the TensorFlow\n",
        "import tensorflow as tf\n",
        "from tensorflow import keras\n",
        "import pandas as pd\n",
        "import numpy as np"
      ],
      "execution_count": 1,
      "outputs": []
    },
    {
      "cell_type": "markdown",
      "metadata": {
        "id": "vBHzC7YJrBj2",
        "colab_type": "text"
      },
      "source": [
        "https://tykimos.github.io/2017/06/10/Model_Save_Load/\n",
        "<br>\n",
        "모델 저장 및 가중치 저장 & 불러와서 사용하기"
      ]
    },
    {
      "cell_type": "markdown",
      "metadata": {
        "id": "O-aUHU_w5rOS",
        "colab_type": "text"
      },
      "source": [
        "##**File Read**"
      ]
    },
    {
      "cell_type": "markdown",
      "metadata": {
        "id": "XlaOIuBL5s26",
        "colab_type": "text"
      },
      "source": [
        "###<h2>학습용 데이터 읽기 train_input.csv의 형식으로 저장한다</h2>"
      ]
    },
    {
      "cell_type": "code",
      "metadata": {
        "id": "mFsaRLs35zRz",
        "colab_type": "code",
        "colab": {}
      },
      "source": [
        "train_file = pd.read_csv('/content/train_input.csv',encoding='utf-8')\n",
        "train_file_label = train_file.pop('Label')\n",
        "train_file.drop(['Timestamp','Winker(left)','Winker(right)','Timecheck'],axis = 'columns',inplace = True)"
      ],
      "execution_count": 2,
      "outputs": []
    },
    {
      "cell_type": "markdown",
      "metadata": {
        "id": "PM8NViLk6Rj6",
        "colab_type": "text"
      },
      "source": [
        "###<h2>시뮬레이션 테스트 데이터는 test_input.csv의 형식으로 저장한다.</h2>"
      ]
    },
    {
      "cell_type": "code",
      "metadata": {
        "id": "_GOqY_X8571q",
        "colab_type": "code",
        "colab": {}
      },
      "source": [
        "test_file = pd.read_csv('/content/test_data.csv',encoding='utf-8')\n",
        "test_file_time = test_file.pop('Timestamp')\n",
        "test_file_label = test_file.pop('Label')\n",
        "test_file.drop(['Winker(left)','Winker(right)','Timecheck'],axis = 'columns',inplace = True)"
      ],
      "execution_count": 3,
      "outputs": []
    },
    {
      "cell_type": "markdown",
      "metadata": {
        "id": "DQObvaya6SEB",
        "colab_type": "text"
      },
      "source": [
        "###<h2>실제 데이터는 real_data.csv의 형식으로 저장한다.</h2>"
      ]
    },
    {
      "cell_type": "code",
      "metadata": {
        "id": "ZvjpPakv6F6J",
        "colab_type": "code",
        "colab": {}
      },
      "source": [
        "real_file = pd.read_csv('/content/real_data.csv',encoding='utf-8')\n",
        "real_file_label = real_file.pop('Label')"
      ],
      "execution_count": 4,
      "outputs": []
    },
    {
      "cell_type": "markdown",
      "metadata": {
        "id": "gB4JvJ076aSi",
        "colab_type": "text"
      },
      "source": [
        "##**DataFrame 2 Numpy Array**"
      ]
    },
    {
      "cell_type": "markdown",
      "metadata": {
        "id": "8NckIUF16bmy",
        "colab_type": "text"
      },
      "source": [
        "\n",
        "###<h2>학습용 데이터 변환</h2>"
      ]
    },
    {
      "cell_type": "code",
      "metadata": {
        "id": "sQFc5aMJ6a4a",
        "colab_type": "code",
        "colab": {}
      },
      "source": [
        "train_array = np.delete(train_file.values,-1,0).astype(np.float)\n",
        "train_label = np.delete(train_file_label.values,-1,0).astype(np.int)"
      ],
      "execution_count": 5,
      "outputs": []
    },
    {
      "cell_type": "markdown",
      "metadata": {
        "id": "GvFZkE886el6",
        "colab_type": "text"
      },
      "source": [
        "###<h2>테스트 데이터 변환</h2>\n"
      ]
    },
    {
      "cell_type": "code",
      "metadata": {
        "id": "gSjTWcdo6dha",
        "colab_type": "code",
        "colab": {}
      },
      "source": [
        "test_array = np.delete(test_file.values,-1,0).astype(np.float)\n",
        "test_label = np.delete(test_file_label.values,-1,0).astype(np.int)\n",
        "test_time = np.delete(test_file_time.values,-1,0)"
      ],
      "execution_count": 6,
      "outputs": []
    },
    {
      "cell_type": "markdown",
      "metadata": {
        "id": "A-aCVV5F6iES",
        "colab_type": "text"
      },
      "source": [
        "###<h2>실제 데이터 변환</h2>"
      ]
    },
    {
      "cell_type": "code",
      "metadata": {
        "id": "dpQQdYCL6iVq",
        "colab_type": "code",
        "colab": {}
      },
      "source": [
        "real_array = np.delete(real_file.values,-1,0).astype(np.float)\n",
        "real_label = np.delete(real_file_label.values,-1,0).astype(np.int)"
      ],
      "execution_count": 7,
      "outputs": []
    },
    {
      "cell_type": "markdown",
      "metadata": {
        "id": "pHjO24WI-DyE",
        "colab_type": "text"
      },
      "source": [
        "###<h2>30Hz->10Hz로 데이터 갯수 맞추기</h2>"
      ]
    },
    {
      "cell_type": "markdown",
      "metadata": {
        "id": "LgtgxxSR-FQ8",
        "colab_type": "text"
      },
      "source": [
        "형진이가 만든 10hz변환기를 통과한 학습용 파일에는 필요가 없다!\n",
        "\n",
        "=> 30Hz로 부터 10Hz의 데이터 3개를 뽑아낸다!"
      ]
    },
    {
      "cell_type": "markdown",
      "metadata": {
        "id": "YT0fKqM5-GWy",
        "colab_type": "text"
      },
      "source": [
        "####<h3>학습용 데이터</h3>"
      ]
    },
    {
      "cell_type": "code",
      "metadata": {
        "id": "6ZfwTnJm-HNS",
        "colab_type": "code",
        "colab": {
          "base_uri": "https://localhost:8080/",
          "height": 52
        },
        "outputId": "ca2b9a1d-b40f-497f-b835-23bdff2fa877"
      },
      "source": [
        "train_10hz_array = []\n",
        "train_10hz_label = []\n",
        "count = 0\n",
        "for temp in train_array:\n",
        "  if(count%3 == 1):\n",
        "    train_10hz_array.append(train_array[count,:])\n",
        "    train_10hz_label.append(train_label[count])\n",
        "  count = count + 1\n",
        "count = 0\n",
        "for temp in train_array:\n",
        "  if(count%3 == 0):\n",
        "    train_10hz_array.append(train_array[count,:])\n",
        "    train_10hz_label.append(train_label[count])\n",
        "  count = count + 1\n",
        "count = 0\n",
        "for temp in train_array:\n",
        "  if(count%3 == 2):\n",
        "    train_10hz_array.append(train_array[count,:])\n",
        "    train_10hz_label.append(train_label[count])\n",
        "  count = count + 1\n",
        "train_array = np.array(train_10hz_array)\n",
        "train_label = np.array(train_10hz_label)\n",
        "print(len(train_array))\n",
        "print(len(train_label))"
      ],
      "execution_count": 8,
      "outputs": [
        {
          "output_type": "stream",
          "text": [
            "312145\n",
            "312145\n"
          ],
          "name": "stdout"
        }
      ]
    },
    {
      "cell_type": "markdown",
      "metadata": {
        "id": "cIM7ZHY5-JWb",
        "colab_type": "text"
      },
      "source": [
        "####<h3>테스트 데이터</h3>"
      ]
    },
    {
      "cell_type": "code",
      "metadata": {
        "id": "3odj-De3-K0b",
        "colab_type": "code",
        "colab": {
          "base_uri": "https://localhost:8080/",
          "height": 34
        },
        "outputId": "b4121828-dacf-4d7b-e379-50b105f39bd6"
      },
      "source": [
        "test_10hz_array = []\n",
        "test_10hz_label = []\n",
        "count = 0\n",
        "for temp in test_array:\n",
        "  if(count%3 == 1):\n",
        "    test_10hz_array.append(test_array[count,:])\n",
        "    test_10hz_label.append(test_label[count])\n",
        "  count = count + 1\n",
        "count = 0\n",
        "for temp in test_array:\n",
        "  if(count%3 == 0):\n",
        "    test_10hz_array.append(test_array[count,:])\n",
        "    test_10hz_label.append(test_label[count])\n",
        "  count = count + 1\n",
        "count = 0\n",
        "for temp in test_array:\n",
        "  if(count%3 == 2):\n",
        "    test_10hz_array.append(test_array[count,:])\n",
        "    test_10hz_label.append(test_label[count])\n",
        "  count = count + 1\n",
        "test_array = np.array(test_10hz_array)\n",
        "test_label = np.array(test_10hz_label)\n",
        "#print(test_array)\n",
        "print(len(test_label))"
      ],
      "execution_count": 9,
      "outputs": [
        {
          "output_type": "stream",
          "text": [
            "18098\n"
          ],
          "name": "stdout"
        }
      ]
    },
    {
      "cell_type": "markdown",
      "metadata": {
        "id": "73rfc486-NwL",
        "colab_type": "text"
      },
      "source": [
        "###<h2>데이터 길이</h2>"
      ]
    },
    {
      "cell_type": "code",
      "metadata": {
        "id": "j7ZTiQoJ-NFq",
        "colab_type": "code",
        "colab": {}
      },
      "source": [
        "length_test = int(len(test_array)/25)\n",
        "length_train = int(len(train_array)/25)\n",
        "length_real = int(len(real_array)/25)"
      ],
      "execution_count": 11,
      "outputs": []
    },
    {
      "cell_type": "markdown",
      "metadata": {
        "id": "2JKbULfJ-TbK",
        "colab_type": "text"
      },
      "source": [
        "##<h2>데이터 정규화</h2>"
      ]
    },
    {
      "cell_type": "markdown",
      "metadata": {
        "id": "3cY7E7NWrlP9",
        "colab_type": "text"
      },
      "source": [
        "###<h3>사용 상수</h3>"
      ]
    },
    {
      "cell_type": "code",
      "metadata": {
        "id": "fnJOU2JF-Vk6",
        "colab_type": "code",
        "colab": {}
      },
      "source": [
        "VELOCITY = 0\n",
        "ACCEL_X = 1\n",
        "ROT_Z = 2\n",
        "STEERING = 3 \n",
        "ACCEL = 4\n",
        "BRAKE = 5\n",
        "NOR_MAX = 31.75\n",
        "NOR_MIN = -32\n",
        "VELOCITY_MAX = 100\n",
        "VELOCITY_MIN = 0\n",
        "ACCEL_X_MAX =  1.5\n",
        "ACCEL_X_MIN = -1.5\n",
        "ROT_Z_MAX = 45\n",
        "ROT_Z_MIN = -45\n",
        "STEERING_MAX = 250\n",
        "STEERING_MIN = -225\n",
        "ACCEL_MAX = 70\n",
        "ACCEL_MIN = 0\n",
        "BRAKE_MAX = 50\n",
        "BRAKE_MIN = 0"
      ],
      "execution_count": 10,
      "outputs": []
    },
    {
      "cell_type": "markdown",
      "metadata": {
        "id": "rAJuYuQm7sg_",
        "colab_type": "text"
      },
      "source": [
        "### <h3> Rotate_Z 부호 바꾸기 </h3>\n",
        "(부호처리된 파일로 부터 나온것은 할 필요 X)"
      ]
    },
    {
      "cell_type": "code",
      "metadata": {
        "id": "VCpZ-nykM8Ei",
        "colab_type": "code",
        "colab": {}
      },
      "source": [
        "for i in range(len(train_array)):\n",
        "  #train_array[i][VELOCITY] = train_array[i][VELOCITY] / 2\n",
        "  #train_array[i][ACCEL_X] = train_array[i][ACCEL_X] / 2\n",
        "  train_array[i][ROT_Z] = -1 * train_array[i][ROT_Z]\n",
        "for i in range(len(test_array)):\n",
        "  test_array[i][ROT_Z] = -1 * test_array[i][ROT_Z]\n",
        "  #test_array[i][VELOCITY] = test_array[i][VELOCITY] / 2\n",
        "  #test_array[i][ACCEL_X] = test_array[i][ACCEL_X] / 2"
      ],
      "execution_count": 11,
      "outputs": []
    },
    {
      "cell_type": "markdown",
      "metadata": {
        "id": "MQX0-axV76P4",
        "colab_type": "text"
      },
      "source": [
        "###<h3> Z-SCORE 표준화 작업 </h3>"
      ]
    },
    {
      "cell_type": "markdown",
      "metadata": {
        "id": "6ki_lXRWrzzM",
        "colab_type": "text"
      },
      "source": [
        "Z-Score : Value(값) - Mean(평균) / Standard Deviation(표준 편차)"
      ]
    },
    {
      "cell_type": "code",
      "metadata": {
        "id": "mm2eX3umN_8y",
        "colab_type": "code",
        "colab": {}
      },
      "source": [
        "#Z-Score Standardization\n",
        "train_mean = np.mean(train_array,axis = 0)\n",
        "train_std = np.std(train_array,axis = 0)\n",
        "test_mean = np.mean(test_array,axis = 0)\n",
        "test_std = np.std(test_array,axis = 0)\n",
        "real_mean = np.mean(real_array,axis = 0)\n",
        "real_std = np.std(real_array,axis = 0)\n",
        "train = (train_array - train_mean)/train_std\n",
        "test = (test_array - test_mean)/test_std\n",
        "real = (real_array - real_mean)/real_std"
      ],
      "execution_count": 12,
      "outputs": []
    },
    {
      "cell_type": "markdown",
      "metadata": {
        "id": "MlU3T-Uu8Mtf",
        "colab_type": "text"
      },
      "source": [
        "###<h3> -1 ~ 1 정규화 작업 </h3>"
      ]
    },
    {
      "cell_type": "code",
      "metadata": {
        "id": "lL9NK4qz9OP9",
        "colab_type": "code",
        "colab": {}
      },
      "source": [
        "norm = np.concatenate((train,test,real), axis=0).max(axis=0)\n",
        "train = train / norm\n",
        "test = test / norm\n",
        "real = real / norm"
      ],
      "execution_count": 13,
      "outputs": []
    },
    {
      "cell_type": "markdown",
      "metadata": {
        "id": "HbljB7zxBSBz",
        "colab_type": "text"
      },
      "source": [
        "##**데이터셋 만들기**"
      ]
    },
    {
      "cell_type": "markdown",
      "metadata": {
        "id": "Wlha3zQTBS8D",
        "colab_type": "text"
      },
      "source": [
        "###<h1>사용 상수</h1>"
      ]
    },
    {
      "cell_type": "code",
      "metadata": {
        "id": "V9naqaeWBU1T",
        "colab_type": "code",
        "colab": {}
      },
      "source": [
        "#초당 32개의 데이터가 나옴.(30~32Hz) => 10Hz 획일화함.\n",
        "WINDOW_SIZE = 48 #4.8초 분량"
      ],
      "execution_count": 14,
      "outputs": []
    },
    {
      "cell_type": "markdown",
      "metadata": {
        "id": "xVI5wm2uBcR6",
        "colab_type": "text"
      },
      "source": [
        "###<h2>Convolution Neural Network Dataset</h2>"
      ]
    },
    {
      "cell_type": "markdown",
      "metadata": {
        "id": "sqJEhJ2KBeQq",
        "colab_type": "text"
      },
      "source": [
        "####<h3>학습용 데이터셋</h3>"
      ]
    },
    {
      "cell_type": "code",
      "metadata": {
        "id": "35ZG2SHQBeya",
        "colab_type": "code",
        "colab": {
          "base_uri": "https://localhost:8080/",
          "height": 52
        },
        "outputId": "57bf0654-14f4-4e82-9898-73c08180bd0a"
      },
      "source": [
        "#30hz\n",
        "train_dataset_data = []\n",
        "train_dataset_label = []\n",
        "for i in range(WINDOW_SIZE, train_array.shape[0] + 1, 1):\n",
        "  train_dataset_data.append(train_array[i-WINDOW_SIZE:i])\n",
        "  train_dataset_label.append(train_label[i-1])\n",
        "#for i in range(WINDOW_SIZE, train.shape[0] + 1, 1):\n",
        "#  train_dataset_data.append(train[i-WINDOW_SIZE:i])\n",
        "#  train_dataset_label.append(train_label[i-1])\n",
        "tr_data = np.array(train_dataset_data)\n",
        "tr_label = np.array(train_dataset_label) \n",
        "\n",
        "print(tr_data.shape)\n",
        "print(tr_label.shape)"
      ],
      "execution_count": 15,
      "outputs": [
        {
          "output_type": "stream",
          "text": [
            "(312098, 48, 6)\n",
            "(312098,)\n"
          ],
          "name": "stdout"
        }
      ]
    },
    {
      "cell_type": "markdown",
      "metadata": {
        "id": "oJPL1D4WBjdq",
        "colab_type": "text"
      },
      "source": [
        "####<h3>테스트 데이터셋</h3>"
      ]
    },
    {
      "cell_type": "code",
      "metadata": {
        "id": "3007ziJqBiNU",
        "colab_type": "code",
        "colab": {
          "base_uri": "https://localhost:8080/",
          "height": 34
        },
        "outputId": "ab78ef6b-a735-4702-cb45-073284cd3417"
      },
      "source": [
        "#30hz\n",
        "test_dataset_data = []\n",
        "test_dataset_label = []\n",
        "for i in range(WINDOW_SIZE, test_array.shape[0] + 1, 1):\n",
        "  test_dataset_data.append(test_array[i-WINDOW_SIZE:i])\n",
        "  test_dataset_label.append(test_label[i-1])\n",
        "#for i in range(WINDOW_SIZE, test.shape[0] + 1, 1):\n",
        "#  test_dataset_data.append(test[i-WINDOW_SIZE:i])\n",
        "#  test_dataset_label.append(test_label[i-1])\n",
        "te_data = np.array(test_dataset_data)\n",
        "te_label = np.array(test_dataset_label) \n",
        "print(te_data.shape)"
      ],
      "execution_count": 16,
      "outputs": [
        {
          "output_type": "stream",
          "text": [
            "(18051, 48, 6)\n"
          ],
          "name": "stdout"
        }
      ]
    },
    {
      "cell_type": "markdown",
      "metadata": {
        "id": "7SJUonB1Bkrz",
        "colab_type": "text"
      },
      "source": [
        "####<h3>실제 데이터셋</h3>"
      ]
    },
    {
      "cell_type": "code",
      "metadata": {
        "id": "gMRwH72cBlai",
        "colab_type": "code",
        "colab": {
          "base_uri": "https://localhost:8080/",
          "height": 34
        },
        "outputId": "7fc4a700-56a8-47e1-cec1-0d140090bb05"
      },
      "source": [
        "real_dataset_data = []\n",
        "real_dataset_label = []\n",
        "for i in range(WINDOW_SIZE, real_array.shape[0] + 1, 1):\n",
        "  real_dataset_data.append(real_array[i-WINDOW_SIZE:i])\n",
        "  real_dataset_label.append(real_label[i-1])\n",
        "#for i in range(WINDOW_SIZE, real.shape[0] + 1, 1):\n",
        "#  real_dataset_data.append(real[i-WINDOW_SIZE:i])\n",
        "#  real_dataset_label.append(real_label[i-1])\n",
        "re_data = np.array(real_dataset_data)\n",
        "re_label = np.array(real_dataset_label) \n",
        "print(re_data.shape)"
      ],
      "execution_count": 17,
      "outputs": [
        {
          "output_type": "stream",
          "text": [
            "(53214, 48, 6)\n"
          ],
          "name": "stdout"
        }
      ]
    },
    {
      "cell_type": "markdown",
      "metadata": {
        "id": "YMoV7R5GBv2c",
        "colab_type": "text"
      },
      "source": [
        "####각 데이터 셋 array에 차원을 추가"
      ]
    },
    {
      "cell_type": "code",
      "metadata": {
        "id": "9zL6JTjsBujN",
        "colab_type": "code",
        "colab": {
          "base_uri": "https://localhost:8080/",
          "height": 34
        },
        "outputId": "dfa5170a-bb8b-4b4b-9be9-a9cf084a7e59"
      },
      "source": [
        "##여기 구현\n",
        "##TO DO: data의 구조를 (None,총 column 수, WINDOW크기, 라벨수)로 바꿔야함. 4차원으로 변경\n",
        "tr_c_data = tr_data.reshape(-1,6,WINDOW_SIZE,1)\n",
        "te_c_data = te_data.reshape(-1,6,WINDOW_SIZE,1)\n",
        "re_c_data = re_data.reshape(-1,6,WINDOW_SIZE,1)\n",
        "print(tr_c_data.shape)"
      ],
      "execution_count": 18,
      "outputs": [
        {
          "output_type": "stream",
          "text": [
            "(312098, 6, 48, 1)\n"
          ],
          "name": "stdout"
        }
      ]
    },
    {
      "cell_type": "markdown",
      "metadata": {
        "id": "ADEucE7OB3_T",
        "colab_type": "text"
      },
      "source": [
        "##**상태 분석 모델링**"
      ]
    },
    {
      "cell_type": "markdown",
      "metadata": {
        "id": "gijnDNTgB6-Z",
        "colab_type": "text"
      },
      "source": [
        "###<h2>Convolution Neural Network Model</h2>"
      ]
    },
    {
      "cell_type": "markdown",
      "metadata": {
        "id": "qfw14Fe9B73K",
        "colab_type": "text"
      },
      "source": [
        "Convolution neural Network에서 합성곱 신경망의 필터를 통과할 때(Conv2D-> 2차원 필터) 데이터는 차원이 낮아지게 된다.<br>\n",
        "NxN의 vector가 FxF의 필터를 통과하게되면 (N-F+1)x(N-F+1)로 줄어들게 된다.<br>\n",
        "즉 지금 여기의 예시에서는 120(윈도우 크기) x 5를 3x3이 통과하게 되면 118 x 3으로 줄어든다.<br>\n",
        "이를 MaxPool2D의 2x2필터를 통과하게 되면 117x2로 줄어들게 되며 다시한번 Conv2D의 2x2 필터를 통과하게 되면 116x1로 줄어들어서 더이상 Convolution필터를 통과할 수 없게 된다.<br>\n",
        "이 때문에 많은 필터 layer를 추가하지 못하므로 이를 해결하기위해 padding 기술을 사용한다.<br>\n",
        "padding기술은 각 edge의 값을 복사하여 각 방향으로 한 칸 늘려서 크기를 유지하는 기술이다.<br>\n",
        "Conv2D에서는 padding을 사용하지 않는 valid, padding을 사용하는 same의 두가지를 지원한다. 이를 사용하면 많은 layer를 넣을 수 있다. 이를 이용하여 해결하였다.\n",
        "\n",
        "MAX_POOLING vs CONV2D STRIDE옵션\n",
        "\n",
        "FLATTEN vs GAP(Global Average Pooling)"
      ]
    },
    {
      "cell_type": "code",
      "metadata": {
        "id": "0TxxbX-1B8w8",
        "colab_type": "code",
        "colab": {
          "base_uri": "https://localhost:8080/",
          "height": 1000
        },
        "outputId": "81cccbc6-d24b-46ca-8461-2fb6ebbd4202"
      },
      "source": [
        "cnn_model_main = keras.Sequential([\n",
        "    keras.layers.Conv2D(16,3,padding='same',activation='relu',input_shape = (6,WINDOW_SIZE,1)), # 전 단계 필터 수의 2배인 240개의 3x3 matrix filters\n",
        "    #keras.layers.MaxPooling2D(pool_size=2,strides=(1,2),padding='same'),\n",
        "    keras.layers.Conv2D(32,3,strides=(1,2),padding='same',activation='relu'),\n",
        "    keras.layers.Conv2D(32,3,padding='same',activation='relu'), # 전 단계 필터 수의 1/2배인 120개의 3x3 matrix filters\n",
        "    #keras.layers.MaxPooling2D(pool_size=2,strides=(1,2),padding='same'),\n",
        "    keras.layers.Conv2D(64,3,strides=(1,2),padding='same',activation='relu'),\n",
        "    keras.layers.Conv2D(64,3,padding='same',activation='relu'),\n",
        "    keras.layers.Conv2D(128,3,strides=(1,2),padding='same',activation='relu'),\n",
        "    #keras.layers.MaxPooling2D(pool_size=2,strides=(1,2),padding='same'),\n",
        "    keras.layers.Conv2D(128,3,activation='relu',padding='same'),\n",
        "    keras.layers.Dropout(0.2),\n",
        "    keras.layers.GlobalAveragePooling2D(),\n",
        "    #keras.layers.Flatten(),\n",
        "    keras.layers.Dense(128, activation='relu'),\n",
        "    keras.layers.Dense(64, activation='relu'),\n",
        "    keras.layers.Dense(8, activation='softmax')  #stop 빼는 경우\n",
        "])\n",
        "cnn_model_main.summary()\n",
        "cnn_model_main.compile(optimizer='adam',\n",
        "              loss='sparse_categorical_crossentropy',\n",
        "              metrics=['accuracy'])\n",
        "tf.keras.utils.plot_model(cnn_model_main, show_shapes=True)"
      ],
      "execution_count": 42,
      "outputs": [
        {
          "output_type": "stream",
          "text": [
            "Model: \"sequential_5\"\n",
            "_________________________________________________________________\n",
            "Layer (type)                 Output Shape              Param #   \n",
            "=================================================================\n",
            "conv2d_35 (Conv2D)           (None, 6, 48, 16)         160       \n",
            "_________________________________________________________________\n",
            "conv2d_36 (Conv2D)           (None, 6, 24, 32)         4640      \n",
            "_________________________________________________________________\n",
            "conv2d_37 (Conv2D)           (None, 6, 24, 32)         9248      \n",
            "_________________________________________________________________\n",
            "conv2d_38 (Conv2D)           (None, 6, 12, 64)         18496     \n",
            "_________________________________________________________________\n",
            "conv2d_39 (Conv2D)           (None, 6, 12, 64)         36928     \n",
            "_________________________________________________________________\n",
            "conv2d_40 (Conv2D)           (None, 6, 6, 128)         73856     \n",
            "_________________________________________________________________\n",
            "conv2d_41 (Conv2D)           (None, 6, 6, 128)         147584    \n",
            "_________________________________________________________________\n",
            "dropout_5 (Dropout)          (None, 6, 6, 128)         0         \n",
            "_________________________________________________________________\n",
            "global_average_pooling2d_3 ( (None, 128)               0         \n",
            "_________________________________________________________________\n",
            "dense_15 (Dense)             (None, 128)               16512     \n",
            "_________________________________________________________________\n",
            "dense_16 (Dense)             (None, 64)                8256      \n",
            "_________________________________________________________________\n",
            "dense_17 (Dense)             (None, 8)                 520       \n",
            "=================================================================\n",
            "Total params: 316,200\n",
            "Trainable params: 316,200\n",
            "Non-trainable params: 0\n",
            "_________________________________________________________________\n"
          ],
          "name": "stdout"
        },
        {
          "output_type": "execute_result",
          "data": {
            "image/png": "[encoded data removed]",
            "text/plain": [
              "<IPython.core.display.Image object>"
            ]
          },
          "metadata": {
            "tags": []
          },
          "execution_count": 42
        }
      ]
    },
    {
      "cell_type": "code",
      "metadata": {
        "id": "Lj7G9G6tYtka",
        "colab_type": "code",
        "colab": {
          "base_uri": "https://localhost:8080/",
          "height": 1000
        },
        "outputId": "78ccd292-1e90-4504-b840-634f842939ee"
      },
      "source": [
        "cnn_model_sub = keras.Sequential([\n",
        "    keras.layers.Conv2D(16,3,padding='same',activation='relu',input_shape = (6,WINDOW_SIZE,1)), # 전 단계 필터 수의 2배인 240개의 3x3 matrix filters\n",
        "    #keras.layers.MaxPooling2D(pool_size=2,strides=(1,2),padding='same'),\n",
        "    keras.layers.Conv2D(32,3,strides=(1,2),padding='same',activation='relu'),\n",
        "    keras.layers.Conv2D(32,3,padding='same',activation='relu'), # 전 단계 필터 수의 1/2배인 120개의 3x3 matrix filters\n",
        "    #keras.layers.Dropout(0.2),\n",
        "    #keras.layers.MaxPooling2D(pool_size=2,strides=(1,2),padding='same'),\n",
        "    keras.layers.Conv2D(64,3,strides=(1,2),padding='same',activation='relu'),\n",
        "    keras.layers.Conv2D(64,3,padding='same',activation='relu'),\n",
        "    keras.layers.Conv2D(128,3,strides=(1,2),padding='same',activation='relu'),\n",
        "    #keras.layers.MaxPooling2D(pool_size=2,strides=(1,2),padding='same'),\n",
        "    keras.layers.Conv2D(128,3,activation='relu',padding='same'),\n",
        "    keras.layers.Dropout(0.3),\n",
        "    #keras.layers.GlobalAveragePooling2D(),\n",
        "    keras.layers.Flatten(),\n",
        "    keras.layers.Dense(128, activation='relu'),\n",
        "    keras.layers.Dense(64, activation='relu'),\n",
        "    keras.layers.Dense(8, activation='softmax')  #stop 빼는 경우\n",
        "])\n",
        "cnn_model_sub.summary()\n",
        "cnn_model_sub.compile(optimizer='adam',\n",
        "              loss='sparse_categorical_crossentropy',\n",
        "              metrics=['accuracy'])\n",
        "tf.keras.utils.plot_model(cnn_model_sub, show_shapes=True)"
      ],
      "execution_count": 43,
      "outputs": [
        {
          "output_type": "stream",
          "text": [
            "Model: \"sequential_6\"\n",
            "_________________________________________________________________\n",
            "Layer (type)                 Output Shape              Param #   \n",
            "=================================================================\n",
            "conv2d_42 (Conv2D)           (None, 6, 48, 16)         160       \n",
            "_________________________________________________________________\n",
            "conv2d_43 (Conv2D)           (None, 6, 24, 32)         4640      \n",
            "_________________________________________________________________\n",
            "conv2d_44 (Conv2D)           (None, 6, 24, 32)         9248      \n",
            "_________________________________________________________________\n",
            "conv2d_45 (Conv2D)           (None, 6, 12, 64)         18496     \n",
            "_________________________________________________________________\n",
            "conv2d_46 (Conv2D)           (None, 6, 12, 64)         36928     \n",
            "_________________________________________________________________\n",
            "conv2d_47 (Conv2D)           (None, 6, 6, 128)         73856     \n",
            "_________________________________________________________________\n",
            "conv2d_48 (Conv2D)           (None, 6, 6, 128)         147584    \n",
            "_________________________________________________________________\n",
            "dropout_6 (Dropout)          (None, 6, 6, 128)         0         \n",
            "_________________________________________________________________\n",
            "flatten_2 (Flatten)          (None, 4608)              0         \n",
            "_________________________________________________________________\n",
            "dense_18 (Dense)             (None, 128)               589952    \n",
            "_________________________________________________________________\n",
            "dense_19 (Dense)             (None, 64)                8256      \n",
            "_________________________________________________________________\n",
            "dense_20 (Dense)             (None, 8)                 520       \n",
            "=================================================================\n",
            "Total params: 889,640\n",
            "Trainable params: 889,640\n",
            "Non-trainable params: 0\n",
            "_________________________________________________________________\n"
          ],
          "name": "stdout"
        },
        {
          "output_type": "execute_result",
          "data": {
            "image/png": "[encoded data removed]",
            "text/plain": [
              "<IPython.core.display.Image object>"
            ]
          },
          "metadata": {
            "tags": []
          },
          "execution_count": 43
        }
      ]
    },
    {
      "cell_type": "markdown",
      "metadata": {
        "id": "MrnRlMJnCFzz",
        "colab_type": "text"
      },
      "source": [
        "###CNN MODEL 학습"
      ]
    },
    {
      "cell_type": "code",
      "metadata": {
        "id": "0uvQj0JshiYf",
        "colab_type": "code",
        "colab": {}
      },
      "source": [
        "model_checkpoint_callback_1 = keras.callbacks.ModelCheckpoint(\n",
        "    filepath= '/content',\n",
        "    save_weights_only=True,\n",
        "    monitor='val_accuracy',\n",
        "    mode='max',\n",
        "    save_best_only=True\n",
        ")\n",
        "model_checkpoint_callback_2 = keras.callbacks.ModelCheckpoint(\n",
        "    filepath= '/content/sample_data',\n",
        "    save_weights_only=True,\n",
        "    monitor='val_accuracy',\n",
        "    mode='max',\n",
        "    save_best_only=True\n",
        ")"
      ],
      "execution_count": 46,
      "outputs": []
    },
    {
      "cell_type": "code",
      "metadata": {
        "id": "875Lgtz9CDq0",
        "colab_type": "code",
        "colab": {
          "base_uri": "https://localhost:8080/",
          "height": 721
        },
        "outputId": "19873fe1-d6f0-4491-e0b9-0f0756f888cb"
      },
      "source": [
        "cnn_history_1 = cnn_model_main.fit(tr_c_data , tr_label , epochs=20, batch_size=64, callbacks = [model_checkpoint_callback_1], validation_data=(re_c_data, re_label))"
      ],
      "execution_count": 47,
      "outputs": [
        {
          "output_type": "stream",
          "text": [
            "Epoch 1/20\n",
            "4877/4877 [==============================] - 26s 5ms/step - loss: 0.0883 - accuracy: 0.9681 - val_loss: 0.8897 - val_accuracy: 0.8653\n",
            "Epoch 2/20\n",
            "4877/4877 [==============================] - 26s 5ms/step - loss: 0.0732 - accuracy: 0.9740 - val_loss: 0.8367 - val_accuracy: 0.8665\n",
            "Epoch 3/20\n",
            "4877/4877 [==============================] - 26s 5ms/step - loss: 0.0615 - accuracy: 0.9780 - val_loss: 1.0268 - val_accuracy: 0.8673\n",
            "Epoch 4/20\n",
            "4877/4877 [==============================] - 26s 5ms/step - loss: 0.0545 - accuracy: 0.9808 - val_loss: 0.8873 - val_accuracy: 0.8653\n",
            "Epoch 5/20\n",
            "4877/4877 [==============================] - 27s 5ms/step - loss: 0.0514 - accuracy: 0.9823 - val_loss: 0.8145 - val_accuracy: 0.8772\n",
            "Epoch 6/20\n",
            "4877/4877 [==============================] - 26s 5ms/step - loss: 0.0462 - accuracy: 0.9838 - val_loss: 1.0459 - val_accuracy: 0.8667\n",
            "Epoch 7/20\n",
            "4877/4877 [==============================] - 26s 5ms/step - loss: 0.0449 - accuracy: 0.9845 - val_loss: 0.9316 - val_accuracy: 0.8711\n",
            "Epoch 8/20\n",
            "4877/4877 [==============================] - 27s 5ms/step - loss: 0.0407 - accuracy: 0.9859 - val_loss: 1.0004 - val_accuracy: 0.8695\n",
            "Epoch 9/20\n",
            "4877/4877 [==============================] - 26s 5ms/step - loss: 0.0410 - accuracy: 0.9866 - val_loss: 1.1646 - val_accuracy: 0.8679\n",
            "Epoch 10/20\n",
            "4877/4877 [==============================] - 26s 5ms/step - loss: 0.0376 - accuracy: 0.9871 - val_loss: 1.6329 - val_accuracy: 0.8648\n",
            "Epoch 11/20\n",
            "4877/4877 [==============================] - 27s 5ms/step - loss: 0.0370 - accuracy: 0.9877 - val_loss: 1.2211 - val_accuracy: 0.8720\n",
            "Epoch 12/20\n",
            "4877/4877 [==============================] - 27s 5ms/step - loss: 0.0363 - accuracy: 0.9878 - val_loss: 1.3791 - val_accuracy: 0.8704\n",
            "Epoch 13/20\n",
            "4877/4877 [==============================] - 27s 6ms/step - loss: 0.0350 - accuracy: 0.9884 - val_loss: 1.1266 - val_accuracy: 0.8738\n",
            "Epoch 14/20\n",
            "4877/4877 [==============================] - 27s 5ms/step - loss: 0.0343 - accuracy: 0.9886 - val_loss: 1.8634 - val_accuracy: 0.8727\n",
            "Epoch 15/20\n",
            "4877/4877 [==============================] - 27s 5ms/step - loss: 0.0334 - accuracy: 0.9893 - val_loss: 1.5615 - val_accuracy: 0.8697\n",
            "Epoch 16/20\n",
            "4877/4877 [==============================] - 27s 6ms/step - loss: 0.0362 - accuracy: 0.9888 - val_loss: 1.3688 - val_accuracy: 0.8665\n",
            "Epoch 17/20\n",
            "4877/4877 [==============================] - 27s 6ms/step - loss: 0.0329 - accuracy: 0.9895 - val_loss: 1.4563 - val_accuracy: 0.8734\n",
            "Epoch 18/20\n",
            "4877/4877 [==============================] - 27s 6ms/step - loss: 0.0310 - accuracy: 0.9898 - val_loss: 1.5300 - val_accuracy: 0.8749\n",
            "Epoch 19/20\n",
            "4877/4877 [==============================] - 27s 6ms/step - loss: 0.0349 - accuracy: 0.9892 - val_loss: 1.5615 - val_accuracy: 0.8698\n",
            "Epoch 20/20\n",
            "4877/4877 [==============================] - 27s 6ms/step - loss: 0.0326 - accuracy: 0.9898 - val_loss: 1.4864 - val_accuracy: 0.8695\n"
          ],
          "name": "stdout"
        }
      ]
    },
    {
      "cell_type": "code",
      "metadata": {
        "id": "VZ5sJh_aY8cx",
        "colab_type": "code",
        "colab": {
          "base_uri": "https://localhost:8080/",
          "height": 721
        },
        "outputId": "c1ee7832-ac10-4515-db6f-d067708ccdce"
      },
      "source": [
        "cnn_history_2 = cnn_model_sub.fit(tr_c_data , tr_label , epochs=20 , batch_size=64, callbacks = [model_checkpoint_callback_2], validation_data=(te_c_data, te_label))"
      ],
      "execution_count": 48,
      "outputs": [
        {
          "output_type": "stream",
          "text": [
            "Epoch 1/20\n",
            "4877/4877 [==============================] - 25s 5ms/step - loss: 0.2794 - accuracy: 0.9002 - val_loss: 0.8991 - val_accuracy: 0.7729\n",
            "Epoch 2/20\n",
            "4877/4877 [==============================] - 24s 5ms/step - loss: 0.1360 - accuracy: 0.9504 - val_loss: 0.8946 - val_accuracy: 0.8079\n",
            "Epoch 3/20\n",
            "4877/4877 [==============================] - 24s 5ms/step - loss: 0.1033 - accuracy: 0.9629 - val_loss: 1.1414 - val_accuracy: 0.7721\n",
            "Epoch 4/20\n",
            "4877/4877 [==============================] - 24s 5ms/step - loss: 0.0893 - accuracy: 0.9685 - val_loss: 1.3626 - val_accuracy: 0.7551\n",
            "Epoch 5/20\n",
            "4877/4877 [==============================] - 24s 5ms/step - loss: 0.0818 - accuracy: 0.9713 - val_loss: 1.4731 - val_accuracy: 0.7406\n",
            "Epoch 6/20\n",
            "4877/4877 [==============================] - 24s 5ms/step - loss: 0.0759 - accuracy: 0.9737 - val_loss: 1.2871 - val_accuracy: 0.8113\n",
            "Epoch 7/20\n",
            "4877/4877 [==============================] - 24s 5ms/step - loss: 0.0731 - accuracy: 0.9752 - val_loss: 1.6305 - val_accuracy: 0.7793\n",
            "Epoch 8/20\n",
            "4877/4877 [==============================] - 24s 5ms/step - loss: 0.0697 - accuracy: 0.9770 - val_loss: 1.3157 - val_accuracy: 0.7937\n",
            "Epoch 9/20\n",
            "4877/4877 [==============================] - 24s 5ms/step - loss: 0.0678 - accuracy: 0.9775 - val_loss: 1.4783 - val_accuracy: 0.8002\n",
            "Epoch 10/20\n",
            "4877/4877 [==============================] - 24s 5ms/step - loss: 0.0669 - accuracy: 0.9781 - val_loss: 1.5280 - val_accuracy: 0.7851\n",
            "Epoch 11/20\n",
            "4877/4877 [==============================] - 24s 5ms/step - loss: 0.0706 - accuracy: 0.9787 - val_loss: 1.6146 - val_accuracy: 0.7739\n",
            "Epoch 12/20\n",
            "4877/4877 [==============================] - 24s 5ms/step - loss: 0.0610 - accuracy: 0.9802 - val_loss: 1.4598 - val_accuracy: 0.7896\n",
            "Epoch 13/20\n",
            "4877/4877 [==============================] - 24s 5ms/step - loss: 0.0625 - accuracy: 0.9799 - val_loss: 1.6832 - val_accuracy: 0.7848\n",
            "Epoch 14/20\n",
            "4877/4877 [==============================] - 24s 5ms/step - loss: 0.0664 - accuracy: 0.9800 - val_loss: 1.5831 - val_accuracy: 0.7929\n",
            "Epoch 15/20\n",
            "4877/4877 [==============================] - 24s 5ms/step - loss: 0.0620 - accuracy: 0.9803 - val_loss: 1.6937 - val_accuracy: 0.7866\n",
            "Epoch 16/20\n",
            "4877/4877 [==============================] - 24s 5ms/step - loss: 0.0669 - accuracy: 0.9797 - val_loss: 2.1895 - val_accuracy: 0.7826\n",
            "Epoch 17/20\n",
            "4877/4877 [==============================] - 24s 5ms/step - loss: 0.0619 - accuracy: 0.9815 - val_loss: 1.8739 - val_accuracy: 0.7848\n",
            "Epoch 18/20\n",
            "4877/4877 [==============================] - 24s 5ms/step - loss: 0.0628 - accuracy: 0.9808 - val_loss: 2.8004 - val_accuracy: 0.7824\n",
            "Epoch 19/20\n",
            "4877/4877 [==============================] - 24s 5ms/step - loss: 0.0621 - accuracy: 0.9815 - val_loss: 2.7867 - val_accuracy: 0.8043\n",
            "Epoch 20/20\n",
            "4877/4877 [==============================] - 24s 5ms/step - loss: 0.0737 - accuracy: 0.9785 - val_loss: 2.9032 - val_accuracy: 0.7798\n"
          ],
          "name": "stdout"
        }
      ]
    },
    {
      "cell_type": "markdown",
      "metadata": {
        "id": "zqej-uTUCXu5",
        "colab_type": "text"
      },
      "source": [
        "##<h2>**모델 예측**</h2>"
      ]
    },
    {
      "cell_type": "markdown",
      "metadata": {
        "id": "eTtw1pmTi8Vs",
        "colab_type": "text"
      },
      "source": [
        "###CNN 예측"
      ]
    },
    {
      "cell_type": "code",
      "metadata": {
        "id": "OSjv8amOi68i",
        "colab_type": "code",
        "colab": {}
      },
      "source": [
        "cnn_test_predictions_1 = cnn_model_main.predict(te_c_data)\n",
        "cnn_test_predictions_2 = cnn_model_sub.predict(te_c_data)\n",
        "cnn_real_predictions_1 = cnn_model_main.predict(re_c_data)\n",
        "cnn_real_predictions_2 = cnn_model_sub.predict(re_c_data)"
      ],
      "execution_count": 50,
      "outputs": []
    },
    {
      "cell_type": "code",
      "metadata": {
        "id": "3TnydCOuqAv3",
        "colab_type": "code",
        "colab": {}
      },
      "source": [
        "cnn_model_main.load_weights('/content')\n",
        "cnn_model_sub.load_weights('/content/sample_data')\n",
        "cnn_test_predictions_3 = cnn_model_main.predict(te_c_data)\n",
        "cnn_test_predictions_4 = cnn_model_sub.predict(te_c_data)\n",
        "cnn_real_predictions_3 = cnn_model_main.predict(re_c_data)\n",
        "cnn_real_predictions_4 = cnn_model_sub.predict(re_c_data)"
      ],
      "execution_count": 51,
      "outputs": []
    },
    {
      "cell_type": "markdown",
      "metadata": {
        "id": "46Kr0AdzZTQ0",
        "colab_type": "text"
      },
      "source": [
        "####Model Merge"
      ]
    },
    {
      "cell_type": "code",
      "metadata": {
        "id": "Zm4-0CO0xQwA",
        "colab_type": "code",
        "colab": {
          "base_uri": "https://localhost:8080/",
          "height": 34
        },
        "outputId": "ea5c3300-7592-4199-a047-848ee06bf51c"
      },
      "source": [
        "print(type(cnn_test_predictions_1))\n",
        "count = 0\n",
        "cnn_test_predictions = []\n",
        "for main_pred in cnn_test_predictions_1:\n",
        "  if 0 < np.argmax(cnn_test_predictions_2[count]) < 5:\n",
        "    cnn_test_predictions.append(np.argmax(cnn_test_predictions_2[count]))\n",
        "  else:\n",
        "    cnn_test_predictions.append(np.argmax(main_pred))\n",
        "  count = count + 1\n",
        "cnn_test_predictions = np.array(cnn_test_predictions)"
      ],
      "execution_count": 52,
      "outputs": [
        {
          "output_type": "stream",
          "text": [
            "<class 'numpy.ndarray'>\n"
          ],
          "name": "stdout"
        }
      ]
    },
    {
      "cell_type": "code",
      "metadata": {
        "id": "hUXXbpzoZWRa",
        "colab_type": "code",
        "colab": {
          "base_uri": "https://localhost:8080/",
          "height": 34
        },
        "outputId": "aa7d0912-4b8c-4ca0-e791-5a3ca26c2594"
      },
      "source": [
        "print(type(cnn_real_predictions_1))\n",
        "count = 0\n",
        "cnn_real_predictions = []\n",
        "for main_pred in cnn_real_predictions_1:\n",
        "  if 0 < np.argmax(cnn_real_predictions_2[count]) < 5:\n",
        "    cnn_real_predictions.append(np.argmax(cnn_real_predictions_2[count]))\n",
        "  else:\n",
        "    cnn_real_predictions.append(np.argmax(main_pred))\n",
        "  count = count + 1\n",
        "cnn_real_predictions = np.array(cnn_real_predictions)"
      ],
      "execution_count": 53,
      "outputs": [
        {
          "output_type": "stream",
          "text": [
            "<class 'numpy.ndarray'>\n"
          ],
          "name": "stdout"
        }
      ]
    },
    {
      "cell_type": "code",
      "metadata": {
        "colab_type": "code",
        "id": "3eXzu5VPqSMn",
        "colab": {
          "base_uri": "https://localhost:8080/",
          "height": 34
        },
        "outputId": "94b0a90c-ac2b-40bf-b9aa-407b32e03d4b"
      },
      "source": [
        "print(type(cnn_test_predictions_3))\n",
        "count = 0\n",
        "cnn_test_predictions_5 = []\n",
        "for main_pred in cnn_test_predictions_3:\n",
        "  if 0 < np.argmax(cnn_test_predictions_4[count]) < 5:\n",
        "    cnn_test_predictions_5.append(np.argmax(cnn_test_predictions_4[count]))\n",
        "  else:\n",
        "    cnn_test_predictions_5.append(np.argmax(main_pred))\n",
        "  count = count + 1\n",
        "cnn_test_predictions_5 = np.array(cnn_test_predictions_5)"
      ],
      "execution_count": 56,
      "outputs": [
        {
          "output_type": "stream",
          "text": [
            "<class 'numpy.ndarray'>\n"
          ],
          "name": "stdout"
        }
      ]
    },
    {
      "cell_type": "code",
      "metadata": {
        "colab_type": "code",
        "id": "ijygKXrNqTym",
        "colab": {
          "base_uri": "https://localhost:8080/",
          "height": 34
        },
        "outputId": "c4ab09b8-b316-4797-eb72-cbba30c2b401"
      },
      "source": [
        "print(type(cnn_real_predictions_3))\n",
        "count = 0\n",
        "cnn_real_predictions_5 = []\n",
        "for main_pred in cnn_real_predictions_3:\n",
        "  if 0 < np.argmax(cnn_real_predictions_4[count]) < 5:\n",
        "    cnn_real_predictions_5.append(np.argmax(cnn_real_predictions_4[count]))\n",
        "  else:\n",
        "    cnn_real_predictions_5.append(np.argmax(main_pred))\n",
        "  count = count + 1\n",
        "cnn_real_predictions_5 = np.array(cnn_real_predictions_5)"
      ],
      "execution_count": 57,
      "outputs": [
        {
          "output_type": "stream",
          "text": [
            "<class 'numpy.ndarray'>\n"
          ],
          "name": "stdout"
        }
      ]
    },
    {
      "cell_type": "markdown",
      "metadata": {
        "id": "T-jjt1vxCkCn",
        "colab_type": "text"
      },
      "source": [
        "####cnn 테스트 데이터"
      ]
    },
    {
      "cell_type": "code",
      "metadata": {
        "id": "bji0ZjPovLiW",
        "colab_type": "code",
        "colab": {}
      },
      "source": [
        "from sklearn.metrics import confusion_matrix"
      ],
      "execution_count": 35,
      "outputs": []
    },
    {
      "cell_type": "code",
      "metadata": {
        "id": "L7w6CAPpCqfD",
        "colab_type": "code",
        "colab": {
          "base_uri": "https://localhost:8080/",
          "height": 439
        },
        "outputId": "177c7a46-98c3-474f-b146-613dab904b64"
      },
      "source": [
        "matrix = confusion_matrix(te_label, cnn_test_predictions)#_2.argmax(axis=1))\n",
        "print(matrix)\n",
        "print(np.bincount(te_label)[:, np.newaxis])\n",
        "print((matrix / np.bincount(te_label)[:, np.newaxis] * 100).astype(np.int))"
      ],
      "execution_count": 58,
      "outputs": [
        {
          "output_type": "stream",
          "text": [
            "[[8319  525  486  103  110  485  418   17]\n",
            " [ 139 1697    0   85    1   51   28    0]\n",
            " [ 230    0 1726   33  171    0   17    3]\n",
            " [  32   41    0  501    0   16    2    0]\n",
            " [ 122    0   24    2 1100    2    9    0]\n",
            " [ 209   78   19   16    0  196   10    0]\n",
            " [  52   55  125    0    0   13  201    0]\n",
            " [   3   27    0    3    0    0    0  549]]\n",
            "[[10463]\n",
            " [ 2001]\n",
            " [ 2180]\n",
            " [  592]\n",
            " [ 1259]\n",
            " [  528]\n",
            " [  446]\n",
            " [  582]]\n",
            "[[79  5  4  0  1  4  3  0]\n",
            " [ 6 84  0  4  0  2  1  0]\n",
            " [10  0 79  1  7  0  0  0]\n",
            " [ 5  6  0 84  0  2  0  0]\n",
            " [ 9  0  1  0 87  0  0  0]\n",
            " [39 14  3  3  0 37  1  0]\n",
            " [11 12 28  0  0  2 45  0]\n",
            " [ 0  4  0  0  0  0  0 94]]\n"
          ],
          "name": "stdout"
        }
      ]
    },
    {
      "cell_type": "code",
      "metadata": {
        "id": "mUJdlYxCxDdB",
        "colab_type": "code",
        "colab": {
          "base_uri": "https://localhost:8080/",
          "height": 439
        },
        "outputId": "55192671-3e85-4c3e-e077-ad50008b33ca"
      },
      "source": [
        "matrix = confusion_matrix(te_label, cnn_test_predictions_1.argmax(axis=1))\n",
        "print(matrix)\n",
        "print(np.bincount(te_label)[:, np.newaxis])\n",
        "print((matrix / np.bincount(te_label)[:, np.newaxis] * 100).astype(np.int))"
      ],
      "execution_count": 59,
      "outputs": [
        {
          "output_type": "stream",
          "text": [
            "[[8783  268  331   55   49  495  461   21]\n",
            " [ 334 1462    0   48    0  127   28    2]\n",
            " [ 342    0 1651   39   98    9   38    3]\n",
            " [  45   39    0  487    0   18    3    0]\n",
            " [ 143    0   48    0 1041    7   20    0]\n",
            " [ 267   19   10   26    0  196   10    0]\n",
            " [  64   15  113    0    0   13  241    0]\n",
            " [   3    2    0    0    0    0    0  577]]\n",
            "[[10463]\n",
            " [ 2001]\n",
            " [ 2180]\n",
            " [  592]\n",
            " [ 1259]\n",
            " [  528]\n",
            " [  446]\n",
            " [  582]]\n",
            "[[83  2  3  0  0  4  4  0]\n",
            " [16 73  0  2  0  6  1  0]\n",
            " [15  0 75  1  4  0  1  0]\n",
            " [ 7  6  0 82  0  3  0  0]\n",
            " [11  0  3  0 82  0  1  0]\n",
            " [50  3  1  4  0 37  1  0]\n",
            " [14  3 25  0  0  2 54  0]\n",
            " [ 0  0  0  0  0  0  0 99]]\n"
          ],
          "name": "stdout"
        }
      ]
    },
    {
      "cell_type": "code",
      "metadata": {
        "id": "KBzFjFe2xM6R",
        "colab_type": "code",
        "colab": {
          "base_uri": "https://localhost:8080/",
          "height": 439
        },
        "outputId": "e8f5f2f5-95fc-46f2-857f-dcc9fa15c85b"
      },
      "source": [
        "matrix = confusion_matrix(te_label, cnn_test_predictions_2.argmax(axis=1))\n",
        "print(matrix)\n",
        "print(np.bincount(te_label)[:, np.newaxis])\n",
        "print((matrix / np.bincount(te_label)[:, np.newaxis] * 100).astype(np.int))"
      ],
      "execution_count": 60,
      "outputs": [
        {
          "output_type": "stream",
          "text": [
            "[[8375  525  388   82   83  643  361    6]\n",
            " [ 195 1561    0   60    1  123   61    0]\n",
            " [ 259    0 1643   23  134   19  102    0]\n",
            " [  52   41    0  479    0   20    0    0]\n",
            " [ 121    0   24    2 1071   25   16    0]\n",
            " [ 183   77   16   11    0  229   12    0]\n",
            " [  76   55  112    0    0    7  196    0]\n",
            " [  29   27    0    3    0    0    0  523]]\n",
            "[[10463]\n",
            " [ 2001]\n",
            " [ 2180]\n",
            " [  592]\n",
            " [ 1259]\n",
            " [  528]\n",
            " [  446]\n",
            " [  582]]\n",
            "[[80  5  3  0  0  6  3  0]\n",
            " [ 9 78  0  2  0  6  3  0]\n",
            " [11  0 75  1  6  0  4  0]\n",
            " [ 8  6  0 80  0  3  0  0]\n",
            " [ 9  0  1  0 85  1  1  0]\n",
            " [34 14  3  2  0 43  2  0]\n",
            " [17 12 25  0  0  1 43  0]\n",
            " [ 4  4  0  0  0  0  0 89]]\n"
          ],
          "name": "stdout"
        }
      ]
    },
    {
      "cell_type": "markdown",
      "metadata": {
        "colab_type": "text",
        "id": "U677Wf0pwXD0"
      },
      "source": [
        "####cnn Callback 테스트 데이터"
      ]
    },
    {
      "cell_type": "code",
      "metadata": {
        "colab_type": "code",
        "id": "cvDcv5WjwXD2",
        "colab": {
          "base_uri": "https://localhost:8080/",
          "height": 439
        },
        "outputId": "14306d32-4d4a-4150-8468-ebe6576815f2"
      },
      "source": [
        "matrix = confusion_matrix(te_label, cnn_test_predictions_5)#_2.argmax(axis=1))\n",
        "print(matrix)\n",
        "print(np.bincount(te_label)[:, np.newaxis])\n",
        "print((matrix / np.bincount(te_label)[:, np.newaxis] * 100).astype(np.int))"
      ],
      "execution_count": 64,
      "outputs": [
        {
          "output_type": "stream",
          "text": [
            "[[7665  585  407  156   77 1122  410   41]\n",
            " [  71 1701    0  124    0   37   68    0]\n",
            " [ 173    0 1674   47  199   14   66    7]\n",
            " [  41   37    0  497    0   15    2    0]\n",
            " [  96    0   61   25 1042    9   26    0]\n",
            " [ 108   82   16   47    4  251   18    2]\n",
            " [  53   17  128    1    0   10  237    0]\n",
            " [   6    4    0    0    1    0    0  571]]\n",
            "[[10463]\n",
            " [ 2001]\n",
            " [ 2180]\n",
            " [  592]\n",
            " [ 1259]\n",
            " [  528]\n",
            " [  446]\n",
            " [  582]]\n",
            "[[73  5  3  1  0 10  3  0]\n",
            " [ 3 85  0  6  0  1  3  0]\n",
            " [ 7  0 76  2  9  0  3  0]\n",
            " [ 6  6  0 83  0  2  0  0]\n",
            " [ 7  0  4  1 82  0  2  0]\n",
            " [20 15  3  8  0 47  3  0]\n",
            " [11  3 28  0  0  2 53  0]\n",
            " [ 1  0  0  0  0  0  0 98]]\n"
          ],
          "name": "stdout"
        }
      ]
    },
    {
      "cell_type": "code",
      "metadata": {
        "colab_type": "code",
        "id": "Kay5rGxwwXD4",
        "colab": {
          "base_uri": "https://localhost:8080/",
          "height": 439
        },
        "outputId": "6a17d014-addb-42ac-f5b4-501509606357"
      },
      "source": [
        "matrix = confusion_matrix(te_label, cnn_test_predictions_3.argmax(axis=1))\n",
        "print(matrix)\n",
        "print(np.bincount(te_label)[:, np.newaxis])\n",
        "print((matrix / np.bincount(te_label)[:, np.newaxis] * 100).astype(np.int))"
      ],
      "execution_count": 65,
      "outputs": [
        {
          "output_type": "stream",
          "text": [
            "[[7761  557  358  117   27 1135  466   42]\n",
            " [ 117 1604    0   98    0  113   69    0]\n",
            " [ 296    0 1497   39  202   15  124    7]\n",
            " [  54   45    0  471    0   16    6    0]\n",
            " [ 105    0   67   20 1006    9   52    0]\n",
            " [ 119   87   15   14    4  254   33    2]\n",
            " [  76   15  104    0    0   10  241    0]\n",
            " [   7    0    0    0    0    0    0  575]]\n",
            "[[10463]\n",
            " [ 2001]\n",
            " [ 2180]\n",
            " [  592]\n",
            " [ 1259]\n",
            " [  528]\n",
            " [  446]\n",
            " [  582]]\n",
            "[[74  5  3  1  0 10  4  0]\n",
            " [ 5 80  0  4  0  5  3  0]\n",
            " [13  0 68  1  9  0  5  0]\n",
            " [ 9  7  0 79  0  2  1  0]\n",
            " [ 8  0  5  1 79  0  4  0]\n",
            " [22 16  2  2  0 48  6  0]\n",
            " [17  3 23  0  0  2 54  0]\n",
            " [ 1  0  0  0  0  0  0 98]]\n"
          ],
          "name": "stdout"
        }
      ]
    },
    {
      "cell_type": "code",
      "metadata": {
        "colab_type": "code",
        "id": "8Rb1L5sGwXD6",
        "colab": {
          "base_uri": "https://localhost:8080/",
          "height": 439
        },
        "outputId": "9c5b2b15-bc24-428b-c126-5d01bb6b267d"
      },
      "source": [
        "matrix = confusion_matrix(te_label, cnn_test_predictions_4.argmax(axis=1))\n",
        "print(matrix)\n",
        "print(np.bincount(te_label)[:, np.newaxis])\n",
        "print((matrix / np.bincount(te_label)[:, np.newaxis] * 100).astype(np.int))"
      ],
      "execution_count": 66,
      "outputs": [
        {
          "output_type": "stream",
          "text": [
            "[[9022  326  221   75   67  375  352   25]\n",
            " [ 332 1491    0   63    0   51   64    0]\n",
            " [ 273    0 1574   38  187   21   85    2]\n",
            " [  51   35    0  481    0   25    0    0]\n",
            " [ 141    0   59    8 1018   20   13    0]\n",
            " [ 189   56    4   42    0  237    0    0]\n",
            " [  76    7  101    1    0    9  252    0]\n",
            " [   7    4    0    0    1    0    0  570]]\n",
            "[[10463]\n",
            " [ 2001]\n",
            " [ 2180]\n",
            " [  592]\n",
            " [ 1259]\n",
            " [  528]\n",
            " [  446]\n",
            " [  582]]\n",
            "[[86  3  2  0  0  3  3  0]\n",
            " [16 74  0  3  0  2  3  0]\n",
            " [12  0 72  1  8  0  3  0]\n",
            " [ 8  5  0 81  0  4  0  0]\n",
            " [11  0  4  0 80  1  1  0]\n",
            " [35 10  0  7  0 44  0  0]\n",
            " [17  1 22  0  0  2 56  0]\n",
            " [ 1  0  0  0  0  0  0 97]]\n"
          ],
          "name": "stdout"
        }
      ]
    },
    {
      "cell_type": "markdown",
      "metadata": {
        "id": "QknuD2EwCqqj",
        "colab_type": "text"
      },
      "source": [
        "####cnn 실제 데이터"
      ]
    },
    {
      "cell_type": "code",
      "metadata": {
        "id": "zfW1Ge2UiWkW",
        "colab_type": "code",
        "colab": {
          "base_uri": "https://localhost:8080/",
          "height": 439
        },
        "outputId": "ca570aa7-809f-4885-cdd1-2eeffeb055d5"
      },
      "source": [
        "matrix = confusion_matrix(re_label, cnn_real_predictions)#_2.argmax(axis=1))\n",
        "print(matrix)\n",
        "print(np.bincount(re_label)[:, np.newaxis])\n",
        "print((matrix / np.bincount(re_label)[:, np.newaxis] * 100).astype(np.int))"
      ],
      "execution_count": 61,
      "outputs": [
        {
          "output_type": "stream",
          "text": [
            "[[22351    48    86   116   146   123   132   380]\n",
            " [ 1683  2129     1   226     2   189     0    13]\n",
            " [ 1006     0  1540     0   392    69   101     1]\n",
            " [   95    35     0  1375     3     9     0     3]\n",
            " [   17     0     2     2  1515     3     4    24]\n",
            " [  501    92     6    67     0   867    38     0]\n",
            " [  317     1   114     5   141     6   584     0]\n",
            " [  230    18     0    98    85     0     0 16223]]\n",
            "[[23382]\n",
            " [ 4243]\n",
            " [ 3109]\n",
            " [ 1520]\n",
            " [ 1567]\n",
            " [ 1571]\n",
            " [ 1168]\n",
            " [16654]]\n",
            "[[95  0  0  0  0  0  0  1]\n",
            " [39 50  0  5  0  4  0  0]\n",
            " [32  0 49  0 12  2  3  0]\n",
            " [ 6  2  0 90  0  0  0  0]\n",
            " [ 1  0  0  0 96  0  0  1]\n",
            " [31  5  0  4  0 55  2  0]\n",
            " [27  0  9  0 12  0 50  0]\n",
            " [ 1  0  0  0  0  0  0 97]]\n"
          ],
          "name": "stdout"
        }
      ]
    },
    {
      "cell_type": "code",
      "metadata": {
        "id": "9sGf6Oszf3A3",
        "colab_type": "code",
        "colab": {
          "base_uri": "https://localhost:8080/",
          "height": 439
        },
        "outputId": "bbb19232-6574-420d-cf5e-57d58b672e35"
      },
      "source": [
        "matrix = confusion_matrix(re_label, cnn_real_predictions_1.argmax(axis=1))\n",
        "print(matrix)\n",
        "print(np.bincount(re_label)[:, np.newaxis])\n",
        "print((matrix / np.bincount(re_label)[:, np.newaxis] * 100).astype(np.int))"
      ],
      "execution_count": 62,
      "outputs": [
        {
          "output_type": "stream",
          "text": [
            "[[22520    17    62    56    80   128   137   382]\n",
            " [ 2059  1723     2   210     0   233     0    16]\n",
            " [ 1145     0  1491     0   294    69   109     1]\n",
            " [  128    18     0  1336     0    14     4    20]\n",
            " [   55     0     1     2  1465     3     4    37]\n",
            " [  531    72     2    30     0   897    39     0]\n",
            " [  335     0   151     3    69     6   604     0]\n",
            " [  233     4     0   102    82     0     0 16233]]\n",
            "[[23382]\n",
            " [ 4243]\n",
            " [ 3109]\n",
            " [ 1520]\n",
            " [ 1567]\n",
            " [ 1571]\n",
            " [ 1168]\n",
            " [16654]]\n",
            "[[96  0  0  0  0  0  0  1]\n",
            " [48 40  0  4  0  5  0  0]\n",
            " [36  0 47  0  9  2  3  0]\n",
            " [ 8  1  0 87  0  0  0  1]\n",
            " [ 3  0  0  0 93  0  0  2]\n",
            " [33  4  0  1  0 57  2  0]\n",
            " [28  0 12  0  5  0 51  0]\n",
            " [ 1  0  0  0  0  0  0 97]]\n"
          ],
          "name": "stdout"
        }
      ]
    },
    {
      "cell_type": "code",
      "metadata": {
        "id": "oiwBaY7qCrAz",
        "colab_type": "code",
        "colab": {
          "base_uri": "https://localhost:8080/",
          "height": 439
        },
        "outputId": "04af0aa9-aa1d-4447-8700-9aebea89649d"
      },
      "source": [
        "matrix = confusion_matrix(re_label, cnn_real_predictions_2.argmax(axis=1))\n",
        "print(matrix)\n",
        "print(np.bincount(re_label)[:, np.newaxis])\n",
        "print((matrix / np.bincount(re_label)[:, np.newaxis] * 100).astype(np.int))"
      ],
      "execution_count": 63,
      "outputs": [
        {
          "output_type": "stream",
          "text": [
            "[[22467    34    59   101   123   177   196   225]\n",
            " [ 1804  1944     0   199     2   275     0    19]\n",
            " [ 1185     0  1304     0   367    66   186     1]\n",
            " [  111    33     0  1352     3    13     0     8]\n",
            " [   27     0     1     0  1490     1     8    40]\n",
            " [  502    65     4    57     0   911    32     0]\n",
            " [  238     1    26     2   118    23   760     0]\n",
            " [  282    18     0    93    81     0     0 16180]]\n",
            "[[23382]\n",
            " [ 4243]\n",
            " [ 3109]\n",
            " [ 1520]\n",
            " [ 1567]\n",
            " [ 1571]\n",
            " [ 1168]\n",
            " [16654]]\n",
            "[[96  0  0  0  0  0  0  0]\n",
            " [42 45  0  4  0  6  0  0]\n",
            " [38  0 41  0 11  2  5  0]\n",
            " [ 7  2  0 88  0  0  0  0]\n",
            " [ 1  0  0  0 95  0  0  2]\n",
            " [31  4  0  3  0 57  2  0]\n",
            " [20  0  2  0 10  1 65  0]\n",
            " [ 1  0  0  0  0  0  0 97]]\n"
          ],
          "name": "stdout"
        }
      ]
    },
    {
      "cell_type": "markdown",
      "metadata": {
        "colab_type": "text",
        "id": "79bpTyYdwM9A"
      },
      "source": [
        "####cnn Callback 실제 데이터"
      ]
    },
    {
      "cell_type": "code",
      "metadata": {
        "colab_type": "code",
        "id": "DmWdkknnwM9B",
        "colab": {
          "base_uri": "https://localhost:8080/",
          "height": 439
        },
        "outputId": "b40edb90-a91b-4047-e445-ff09acde1bd8"
      },
      "source": [
        "matrix = confusion_matrix(re_label, cnn_real_predictions_5)#_2.argmax(axis=1))\n",
        "print(matrix)\n",
        "print(np.bincount(re_label)[:, np.newaxis])\n",
        "print((matrix / np.bincount(re_label)[:, np.newaxis] * 100).astype(np.int))"
      ],
      "execution_count": 67,
      "outputs": [
        {
          "output_type": "stream",
          "text": [
            "[[22190    76    55   104    96   309   211   341]\n",
            " [ 1404  2452     4   170     0   198     2    13]\n",
            " [ 1110     0  1445     1   326    74   153     0]\n",
            " [   92    28     0  1382     3    15     0     0]\n",
            " [   47     0     0     2  1493     0     6    19]\n",
            " [  420   154     1    76     1   855    64     0]\n",
            " [  214     4   118     0   131     8   693     0]\n",
            " [  238    18     0   104   100     0     0 16194]]\n",
            "[[23382]\n",
            " [ 4243]\n",
            " [ 3109]\n",
            " [ 1520]\n",
            " [ 1567]\n",
            " [ 1571]\n",
            " [ 1168]\n",
            " [16654]]\n",
            "[[94  0  0  0  0  1  0  1]\n",
            " [33 57  0  4  0  4  0  0]\n",
            " [35  0 46  0 10  2  4  0]\n",
            " [ 6  1  0 90  0  0  0  0]\n",
            " [ 2  0  0  0 95  0  0  1]\n",
            " [26  9  0  4  0 54  4  0]\n",
            " [18  0 10  0 11  0 59  0]\n",
            " [ 1  0  0  0  0  0  0 97]]\n"
          ],
          "name": "stdout"
        }
      ]
    },
    {
      "cell_type": "code",
      "metadata": {
        "colab_type": "code",
        "id": "gNNalnQvwM9E",
        "colab": {
          "base_uri": "https://localhost:8080/",
          "height": 439
        },
        "outputId": "cb627d53-4897-4811-80de-4106fc1733af"
      },
      "source": [
        "matrix = confusion_matrix(re_label, cnn_real_predictions_3.argmax(axis=1))\n",
        "print(matrix)\n",
        "print(np.bincount(re_label)[:, np.newaxis])\n",
        "print((matrix / np.bincount(re_label)[:, np.newaxis] * 100).astype(np.int))"
      ],
      "execution_count": 68,
      "outputs": [
        {
          "output_type": "stream",
          "text": [
            "[[22239    70    50    86    63   316   215   343]\n",
            " [ 1441  2356     1   196     1   233     2    13]\n",
            " [ 1199     0  1386     1   266    74   183     0]\n",
            " [  128    16     0  1350     0    22     1     3]\n",
            " [   85     0     0     0  1456     0     6    20]\n",
            " [  439    84     1    40     1   942    64     0]\n",
            " [  220     4   142     0    46     8   748     0]\n",
            " [  241    18     0   105    89     0     0 16201]]\n",
            "[[23382]\n",
            " [ 4243]\n",
            " [ 3109]\n",
            " [ 1520]\n",
            " [ 1567]\n",
            " [ 1571]\n",
            " [ 1168]\n",
            " [16654]]\n",
            "[[95  0  0  0  0  1  0  1]\n",
            " [33 55  0  4  0  5  0  0]\n",
            " [38  0 44  0  8  2  5  0]\n",
            " [ 8  1  0 88  0  1  0  0]\n",
            " [ 5  0  0  0 92  0  0  1]\n",
            " [27  5  0  2  0 59  4  0]\n",
            " [18  0 12  0  3  0 64  0]\n",
            " [ 1  0  0  0  0  0  0 97]]\n"
          ],
          "name": "stdout"
        }
      ]
    },
    {
      "cell_type": "code",
      "metadata": {
        "colab_type": "code",
        "id": "v87Chjg0wM9G",
        "colab": {
          "base_uri": "https://localhost:8080/",
          "height": 439
        },
        "outputId": "a451f5d2-edb7-4bc4-9c5f-e0863646af9f"
      },
      "source": [
        "matrix = confusion_matrix(re_label, cnn_real_predictions_4.argmax(axis=1))\n",
        "print(matrix)\n",
        "print(np.bincount(re_label)[:, np.newaxis])\n",
        "print((matrix / np.bincount(re_label)[:, np.newaxis] * 100).astype(np.int))"
      ],
      "execution_count": 69,
      "outputs": [
        {
          "output_type": "stream",
          "text": [
            "[[22779    28    19    61    82    47    85   281]\n",
            " [ 2127  1774     3   132     0   180     3    24]\n",
            " [ 1460     0  1132     0   300    64   149     4]\n",
            " [  138    20     0  1330     3    27     0     2]\n",
            " [   52     0     0     2  1478     1     9    25]\n",
            " [  519   122     0    68     0   827    35     0]\n",
            " [  271     0    38     0   122     4   733     0]\n",
            " [  255     6     0   100   100     0     0 16193]]\n",
            "[[23382]\n",
            " [ 4243]\n",
            " [ 3109]\n",
            " [ 1520]\n",
            " [ 1567]\n",
            " [ 1571]\n",
            " [ 1168]\n",
            " [16654]]\n",
            "[[97  0  0  0  0  0  0  1]\n",
            " [50 41  0  3  0  4  0  0]\n",
            " [46  0 36  0  9  2  4  0]\n",
            " [ 9  1  0 87  0  1  0  0]\n",
            " [ 3  0  0  0 94  0  0  1]\n",
            " [33  7  0  4  0 52  2  0]\n",
            " [23  0  3  0 10  0 62  0]\n",
            " [ 1  0  0  0  0  0  0 97]]\n"
          ],
          "name": "stdout"
        }
      ]
    }
  ]
}