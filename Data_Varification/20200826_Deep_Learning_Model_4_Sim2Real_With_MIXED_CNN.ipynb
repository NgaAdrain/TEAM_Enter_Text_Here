{
  "nbformat": 4,
  "nbformat_minor": 0,
  "metadata": {
    "colab": {
      "name": "20200824_Deep_Learning_Model_4_Sim2Real_With_MIXED_CNN.ipynb",
      "provenance": [],
      "collapsed_sections": [
        "rAJuYuQm7sg_"
      ],
      "toc_visible": true,
      "authorship_tag": "ABX9TyMgv+AOpWUr3+kKQefC2az+",
      "include_colab_link": true
    },
    "kernelspec": {
      "name": "python3",
      "display_name": "Python 3"
    },
    "accelerator": "GPU"
  },
  "cells": [
    {
      "cell_type": "markdown",
      "metadata": {
        "id": "view-in-github",
        "colab_type": "text"
      },
      "source": [
        "<a href=\"https://colab.research.google.com/github/NgaAdrain/TEAM_Enter_Text_Here/blob/master/20200826_Deep_Learning_Model_4_Sim2Real_With_MIXED_CNN.ipynb\" target=\"_parent\"><img src=\"https://colab.research.google.com/assets/colab-badge.svg\" alt=\"Open In Colab\"/></a>"
      ]
    },
    {
      "cell_type": "markdown",
      "metadata": {
        "id": "UXSRUfag5aRz",
        "colab_type": "text"
      },
      "source": [
        "#<h1>**Deep Learning With CNN**</h1>"
      ]
    },
    {
      "cell_type": "markdown",
      "metadata": {
        "id": "cQE59oey5mVS",
        "colab_type": "text"
      },
      "source": [
        "##**Module Import**\n"
      ]
    },
    {
      "cell_type": "code",
      "metadata": {
        "id": "FJ3dRqGh5Ra4",
        "colab_type": "code",
        "colab": {}
      },
      "source": [
        "# Import the TensorFlow\n",
        "import tensorflow as tf\n",
        "from tensorflow import keras\n",
        "import pandas as pd\n",
        "import numpy as np"
      ],
      "execution_count": 1,
      "outputs": []
    },
    {
      "cell_type": "markdown",
      "metadata": {
        "id": "vBHzC7YJrBj2",
        "colab_type": "text"
      },
      "source": [
        "https://tykimos.github.io/2017/06/10/Model_Save_Load/\n",
        "<br>\n",
        "모델 저장 및 가중치 저장 & 불러와서 사용하기"
      ]
    },
    {
      "cell_type": "markdown",
      "metadata": {
        "id": "O-aUHU_w5rOS",
        "colab_type": "text"
      },
      "source": [
        "##**File Read**"
      ]
    },
    {
      "cell_type": "markdown",
      "metadata": {
        "id": "XlaOIuBL5s26",
        "colab_type": "text"
      },
      "source": [
        "###<h2>학습용 데이터 읽기 train_input.csv의 형식으로 저장한다</h2>"
      ]
    },
    {
      "cell_type": "code",
      "metadata": {
        "id": "mFsaRLs35zRz",
        "colab_type": "code",
        "colab": {}
      },
      "source": [
        "train_file = pd.read_csv('/content/train_input.csv',encoding='utf-8')\n",
        "train_file_label = train_file.pop('Label')\n",
        "train_file.drop(['Timestamp','Winker(left)','Winker(right)','Timecheck'],axis = 'columns',inplace = True)"
      ],
      "execution_count": 2,
      "outputs": []
    },
    {
      "cell_type": "markdown",
      "metadata": {
        "id": "PM8NViLk6Rj6",
        "colab_type": "text"
      },
      "source": [
        "###<h2>시뮬레이션 테스트 데이터는 test_input.csv의 형식으로 저장한다.</h2>"
      ]
    },
    {
      "cell_type": "code",
      "metadata": {
        "id": "_GOqY_X8571q",
        "colab_type": "code",
        "colab": {}
      },
      "source": [
        "test_file = pd.read_csv('/content/test_data.csv',encoding='utf-8')\n",
        "test_file_time = test_file.pop('Timestamp')\n",
        "test_file_label = test_file.pop('Label')\n",
        "test_file.drop(['Winker(left)','Winker(right)','Timecheck'],axis = 'columns',inplace = True)"
      ],
      "execution_count": 3,
      "outputs": []
    },
    {
      "cell_type": "markdown",
      "metadata": {
        "id": "DQObvaya6SEB",
        "colab_type": "text"
      },
      "source": [
        "###<h2>실제 데이터는 real_data.csv의 형식으로 저장한다.</h2>"
      ]
    },
    {
      "cell_type": "code",
      "metadata": {
        "id": "ZvjpPakv6F6J",
        "colab_type": "code",
        "colab": {}
      },
      "source": [
        "real_file = pd.read_csv('/content/real_data.csv',encoding='utf-8')\n",
        "real_file_label = real_file.pop('Label')"
      ],
      "execution_count": 4,
      "outputs": []
    },
    {
      "cell_type": "markdown",
      "metadata": {
        "id": "gB4JvJ076aSi",
        "colab_type": "text"
      },
      "source": [
        "##**DataFrame 2 Numpy Array**"
      ]
    },
    {
      "cell_type": "markdown",
      "metadata": {
        "id": "8NckIUF16bmy",
        "colab_type": "text"
      },
      "source": [
        "\n",
        "###<h2>학습용 데이터 변환</h2>"
      ]
    },
    {
      "cell_type": "code",
      "metadata": {
        "id": "sQFc5aMJ6a4a",
        "colab_type": "code",
        "colab": {}
      },
      "source": [
        "train_array = np.delete(train_file.values,-1,0).astype(np.float)\n",
        "train_label = np.delete(train_file_label.values,-1,0).astype(np.int)"
      ],
      "execution_count": 5,
      "outputs": []
    },
    {
      "cell_type": "markdown",
      "metadata": {
        "id": "GvFZkE886el6",
        "colab_type": "text"
      },
      "source": [
        "###<h2>테스트 데이터 변환</h2>\n"
      ]
    },
    {
      "cell_type": "code",
      "metadata": {
        "id": "gSjTWcdo6dha",
        "colab_type": "code",
        "colab": {}
      },
      "source": [
        "test_array = np.delete(test_file.values,-1,0).astype(np.float)\n",
        "test_label = np.delete(test_file_label.values,-1,0).astype(np.int)\n",
        "test_time = np.delete(test_file_time.values,-1,0)"
      ],
      "execution_count": 6,
      "outputs": []
    },
    {
      "cell_type": "markdown",
      "metadata": {
        "id": "A-aCVV5F6iES",
        "colab_type": "text"
      },
      "source": [
        "###<h2>실제 데이터 변환</h2>"
      ]
    },
    {
      "cell_type": "code",
      "metadata": {
        "id": "dpQQdYCL6iVq",
        "colab_type": "code",
        "colab": {}
      },
      "source": [
        "real_array = np.delete(real_file.values,-1,0).astype(np.float)\n",
        "real_label = np.delete(real_file_label.values,-1,0).astype(np.int)"
      ],
      "execution_count": 7,
      "outputs": []
    },
    {
      "cell_type": "markdown",
      "metadata": {
        "id": "pHjO24WI-DyE",
        "colab_type": "text"
      },
      "source": [
        "###<h2>30Hz->10Hz로 데이터 갯수 맞추기</h2>"
      ]
    },
    {
      "cell_type": "markdown",
      "metadata": {
        "id": "LgtgxxSR-FQ8",
        "colab_type": "text"
      },
      "source": [
        "형진이가 만든 10hz변환기를 통과한 학습용 파일에는 필요가 없다!\n",
        "\n",
        "=> 30Hz로 부터 10Hz의 데이터 3개를 뽑아낸다!"
      ]
    },
    {
      "cell_type": "markdown",
      "metadata": {
        "id": "YT0fKqM5-GWy",
        "colab_type": "text"
      },
      "source": [
        "####<h3>학습용 데이터</h3>"
      ]
    },
    {
      "cell_type": "code",
      "metadata": {
        "id": "6ZfwTnJm-HNS",
        "colab_type": "code",
        "colab": {
          "base_uri": "https://localhost:8080/",
          "height": 53
        },
        "outputId": "b8bd24af-a702-4fb5-ea81-7328af4d1bd0"
      },
      "source": [
        "train_10hz_array = []\n",
        "train_10hz_label = []\n",
        "count = 0\n",
        "for temp in train_array:\n",
        "  if(count%3 == 1):\n",
        "    train_10hz_array.append(train_array[count,:])\n",
        "    train_10hz_label.append(train_label[count])\n",
        "  count = count + 1\n",
        "count = 0\n",
        "for temp in train_array:\n",
        "  if(count%3 == 0):\n",
        "    train_10hz_array.append(train_array[count,:])\n",
        "    train_10hz_label.append(train_label[count])\n",
        "  count = count + 1\n",
        "count = 0\n",
        "for temp in train_array:\n",
        "  if(count%3 == 2):\n",
        "    train_10hz_array.append(train_array[count,:])\n",
        "    train_10hz_label.append(train_label[count])\n",
        "  count = count + 1\n",
        "train_array = np.array(train_10hz_array)\n",
        "train_label = np.array(train_10hz_label)\n",
        "print(len(train_array))\n",
        "print(len(train_label))"
      ],
      "execution_count": 8,
      "outputs": [
        {
          "output_type": "stream",
          "text": [
            "312145\n",
            "312145\n"
          ],
          "name": "stdout"
        }
      ]
    },
    {
      "cell_type": "markdown",
      "metadata": {
        "id": "cIM7ZHY5-JWb",
        "colab_type": "text"
      },
      "source": [
        "####<h3>테스트 데이터</h3>"
      ]
    },
    {
      "cell_type": "code",
      "metadata": {
        "id": "3odj-De3-K0b",
        "colab_type": "code",
        "colab": {
          "base_uri": "https://localhost:8080/",
          "height": 35
        },
        "outputId": "0583e227-5161-4e52-f971-2485dcbded15"
      },
      "source": [
        "test_10hz_array = []\n",
        "test_10hz_label = []\n",
        "count = 0\n",
        "for temp in test_array:\n",
        "  if(count%3 == 1):\n",
        "    test_10hz_array.append(test_array[count,:])\n",
        "    test_10hz_label.append(test_label[count])\n",
        "  count = count + 1\n",
        "count = 0\n",
        "for temp in test_array:\n",
        "  if(count%3 == 0):\n",
        "    test_10hz_array.append(test_array[count,:])\n",
        "    test_10hz_label.append(test_label[count])\n",
        "  count = count + 1\n",
        "count = 0\n",
        "for temp in test_array:\n",
        "  if(count%3 == 2):\n",
        "    test_10hz_array.append(test_array[count,:])\n",
        "    test_10hz_label.append(test_label[count])\n",
        "  count = count + 1\n",
        "test_array = np.array(test_10hz_array)\n",
        "test_label = np.array(test_10hz_label)\n",
        "#print(test_array)\n",
        "print(len(test_label))"
      ],
      "execution_count": 9,
      "outputs": [
        {
          "output_type": "stream",
          "text": [
            "18098\n"
          ],
          "name": "stdout"
        }
      ]
    },
    {
      "cell_type": "markdown",
      "metadata": {
        "id": "73rfc486-NwL",
        "colab_type": "text"
      },
      "source": [
        "###<h2>데이터 길이</h2>"
      ]
    },
    {
      "cell_type": "code",
      "metadata": {
        "id": "j7ZTiQoJ-NFq",
        "colab_type": "code",
        "colab": {}
      },
      "source": [
        "length_test = int(len(test_array)/25)\n",
        "length_train = int(len(train_array)/25)\n",
        "length_real = int(len(real_array)/25)"
      ],
      "execution_count": 10,
      "outputs": []
    },
    {
      "cell_type": "markdown",
      "metadata": {
        "id": "2JKbULfJ-TbK",
        "colab_type": "text"
      },
      "source": [
        "##<h2>데이터 정규화</h2>"
      ]
    },
    {
      "cell_type": "markdown",
      "metadata": {
        "id": "3cY7E7NWrlP9",
        "colab_type": "text"
      },
      "source": [
        "###<h3>사용 상수</h3>"
      ]
    },
    {
      "cell_type": "code",
      "metadata": {
        "id": "fnJOU2JF-Vk6",
        "colab_type": "code",
        "colab": {}
      },
      "source": [
        "VELOCITY = 0\n",
        "ACCEL_X = 1\n",
        "ROT_Z = 2\n",
        "STEERING = 3 \n",
        "ACCEL = 4\n",
        "BRAKE = 5\n",
        "NOR_MAX = 31.75\n",
        "NOR_MIN = -32\n",
        "VELOCITY_MAX = 100\n",
        "VELOCITY_MIN = 0\n",
        "ACCEL_X_MAX =  1.5\n",
        "ACCEL_X_MIN = -1.5\n",
        "ROT_Z_MAX = 45\n",
        "ROT_Z_MIN = -45\n",
        "STEERING_MAX = 250\n",
        "STEERING_MIN = -225\n",
        "ACCEL_MAX = 70\n",
        "ACCEL_MIN = 0\n",
        "BRAKE_MAX = 50\n",
        "BRAKE_MIN = 0"
      ],
      "execution_count": 11,
      "outputs": []
    },
    {
      "cell_type": "markdown",
      "metadata": {
        "id": "rAJuYuQm7sg_",
        "colab_type": "text"
      },
      "source": [
        "### <h3> Rotate_Z 부호 바꾸기 </h3>\n",
        "(부호처리된 파일로 부터 나온것은 할 필요 X)"
      ]
    },
    {
      "cell_type": "code",
      "metadata": {
        "id": "VCpZ-nykM8Ei",
        "colab_type": "code",
        "colab": {}
      },
      "source": [
        "for i in range(len(train_array)):\n",
        "  #train_array[i][VELOCITY] = train_array[i][VELOCITY] / 2\n",
        "  #train_array[i][ACCEL_X] = train_array[i][ACCEL_X] / 2\n",
        "  train_array[i][ROT_Z] = -1 * train_array[i][ROT_Z]\n",
        "for i in range(len(test_array)):\n",
        "  test_array[i][ROT_Z] = -1 * test_array[i][ROT_Z]\n",
        "  #test_array[i][VELOCITY] = test_array[i][VELOCITY] / 2\n",
        "  #test_array[i][ACCEL_X] = test_array[i][ACCEL_X] / 2"
      ],
      "execution_count": null,
      "outputs": []
    },
    {
      "cell_type": "markdown",
      "metadata": {
        "id": "MQX0-axV76P4",
        "colab_type": "text"
      },
      "source": [
        "###<h3> Z-SCORE 표준화 작업 </h3>"
      ]
    },
    {
      "cell_type": "markdown",
      "metadata": {
        "id": "6ki_lXRWrzzM",
        "colab_type": "text"
      },
      "source": [
        "Z-Score : Value(값) - Mean(평균) / Standard Deviation(표준 편차)"
      ]
    },
    {
      "cell_type": "code",
      "metadata": {
        "id": "mm2eX3umN_8y",
        "colab_type": "code",
        "colab": {}
      },
      "source": [
        "#Z-Score Standardization\n",
        "train_mean = np.mean(train_array,axis = 0)\n",
        "train_std = np.std(train_array,axis = 0)\n",
        "test_mean = np.mean(test_array,axis = 0)\n",
        "test_std = np.std(test_array,axis = 0)\n",
        "real_mean = np.mean(real_array,axis = 0)\n",
        "real_std = np.std(real_array,axis = 0)\n",
        "train = (train_array - train_mean)/train_std\n",
        "test = (test_array - test_mean)/test_std\n",
        "real = (real_array - real_mean)/real_std"
      ],
      "execution_count": 12,
      "outputs": []
    },
    {
      "cell_type": "markdown",
      "metadata": {
        "id": "MlU3T-Uu8Mtf",
        "colab_type": "text"
      },
      "source": [
        "###<h3> -1 ~ 1 정규화 작업 </h3>"
      ]
    },
    {
      "cell_type": "code",
      "metadata": {
        "id": "lL9NK4qz9OP9",
        "colab_type": "code",
        "colab": {}
      },
      "source": [
        "norm = np.concatenate((train,test,real), axis=0).max(axis=0)\n",
        "train = train / norm\n",
        "test = test / norm\n",
        "real = real / norm"
      ],
      "execution_count": 13,
      "outputs": []
    },
    {
      "cell_type": "markdown",
      "metadata": {
        "id": "HbljB7zxBSBz",
        "colab_type": "text"
      },
      "source": [
        "##**데이터셋 만들기**"
      ]
    },
    {
      "cell_type": "markdown",
      "metadata": {
        "id": "Wlha3zQTBS8D",
        "colab_type": "text"
      },
      "source": [
        "###<h1>사용 상수</h1>"
      ]
    },
    {
      "cell_type": "code",
      "metadata": {
        "id": "V9naqaeWBU1T",
        "colab_type": "code",
        "colab": {}
      },
      "source": [
        "#초당 32개의 데이터가 나옴.(30~32Hz) => 10Hz 획일화함.\n",
        "WINDOW_SIZE = 48 #4.8초 분량"
      ],
      "execution_count": 14,
      "outputs": []
    },
    {
      "cell_type": "markdown",
      "metadata": {
        "id": "xVI5wm2uBcR6",
        "colab_type": "text"
      },
      "source": [
        "###<h2>Convolution Neural Network Dataset</h2>"
      ]
    },
    {
      "cell_type": "markdown",
      "metadata": {
        "id": "sqJEhJ2KBeQq",
        "colab_type": "text"
      },
      "source": [
        "####<h3>학습용 데이터셋</h3>"
      ]
    },
    {
      "cell_type": "code",
      "metadata": {
        "id": "35ZG2SHQBeya",
        "colab_type": "code",
        "colab": {
          "base_uri": "https://localhost:8080/",
          "height": 53
        },
        "outputId": "9eddf669-a548-4393-f1d3-290f821a8999"
      },
      "source": [
        "#30hz\n",
        "train_dataset_data = []\n",
        "train_dataset_label = []\n",
        "for i in range(WINDOW_SIZE, train_array.shape[0] + 1, 1):\n",
        "  train_dataset_data.append(train_array[i-WINDOW_SIZE:i])\n",
        "  train_dataset_label.append(train_label[i-1])\n",
        "#for i in range(WINDOW_SIZE, train.shape[0] + 1, 1):\n",
        "#  train_dataset_data.append(train[i-WINDOW_SIZE:i])\n",
        "#  train_dataset_label.append(train_label[i-1])\n",
        "tr_data = np.array(train_dataset_data)\n",
        "tr_label = np.array(train_dataset_label) \n",
        "\n",
        "print(tr_data.shape)\n",
        "print(tr_label.shape)"
      ],
      "execution_count": 15,
      "outputs": [
        {
          "output_type": "stream",
          "text": [
            "(312098, 48, 6)\n",
            "(312098,)\n"
          ],
          "name": "stdout"
        }
      ]
    },
    {
      "cell_type": "markdown",
      "metadata": {
        "id": "oJPL1D4WBjdq",
        "colab_type": "text"
      },
      "source": [
        "####<h3>테스트 데이터셋</h3>"
      ]
    },
    {
      "cell_type": "code",
      "metadata": {
        "id": "3007ziJqBiNU",
        "colab_type": "code",
        "colab": {
          "base_uri": "https://localhost:8080/",
          "height": 35
        },
        "outputId": "55863128-c57c-4b11-f148-001f52bad854"
      },
      "source": [
        "#30hz\n",
        "test_dataset_data = []\n",
        "test_dataset_label = []\n",
        "for i in range(WINDOW_SIZE, test_array.shape[0] + 1, 1):\n",
        "  test_dataset_data.append(test_array[i-WINDOW_SIZE:i])\n",
        "  test_dataset_label.append(test_label[i-1])\n",
        "#for i in range(WINDOW_SIZE, test.shape[0] + 1, 1):\n",
        "#  test_dataset_data.append(test[i-WINDOW_SIZE:i])\n",
        "#  test_dataset_label.append(test_label[i-1])\n",
        "te_data = np.array(test_dataset_data)\n",
        "te_label = np.array(test_dataset_label) \n",
        "print(te_data.shape)"
      ],
      "execution_count": 16,
      "outputs": [
        {
          "output_type": "stream",
          "text": [
            "(18051, 48, 6)\n"
          ],
          "name": "stdout"
        }
      ]
    },
    {
      "cell_type": "markdown",
      "metadata": {
        "id": "7SJUonB1Bkrz",
        "colab_type": "text"
      },
      "source": [
        "####<h3>실제 데이터셋</h3>"
      ]
    },
    {
      "cell_type": "code",
      "metadata": {
        "id": "gMRwH72cBlai",
        "colab_type": "code",
        "colab": {
          "base_uri": "https://localhost:8080/",
          "height": 35
        },
        "outputId": "7b800ff4-392d-4827-b28d-53f51e56f57f"
      },
      "source": [
        "real_dataset_data = []\n",
        "real_dataset_label = []\n",
        "for i in range(WINDOW_SIZE, real_array.shape[0] + 1, 1):\n",
        "  real_dataset_data.append(real_array[i-WINDOW_SIZE:i])\n",
        "  real_dataset_label.append(real_label[i-1])\n",
        "#for i in range(WINDOW_SIZE, real.shape[0] + 1, 1):\n",
        "#  real_dataset_data.append(real[i-WINDOW_SIZE:i])\n",
        "#  real_dataset_label.append(real_label[i-1])\n",
        "re_data = np.array(real_dataset_data)\n",
        "re_label = np.array(real_dataset_label) \n",
        "print(re_data.shape)"
      ],
      "execution_count": 17,
      "outputs": [
        {
          "output_type": "stream",
          "text": [
            "(53214, 48, 6)\n"
          ],
          "name": "stdout"
        }
      ]
    },
    {
      "cell_type": "markdown",
      "metadata": {
        "id": "YMoV7R5GBv2c",
        "colab_type": "text"
      },
      "source": [
        "####각 데이터 셋 array에 차원을 추가"
      ]
    },
    {
      "cell_type": "code",
      "metadata": {
        "id": "9zL6JTjsBujN",
        "colab_type": "code",
        "colab": {
          "base_uri": "https://localhost:8080/",
          "height": 35
        },
        "outputId": "cbcdfc1a-7488-44e2-ff83-f72cf187fcfb"
      },
      "source": [
        "##여기 구현\n",
        "##TO DO: data의 구조를 (None,총 column 수, WINDOW크기, 라벨수)로 바꿔야함. 4차원으로 변경\n",
        "tr_c_data = tr_data.reshape(-1,6,WINDOW_SIZE,1)\n",
        "te_c_data = te_data.reshape(-1,6,WINDOW_SIZE,1)\n",
        "re_c_data = re_data.reshape(-1,6,WINDOW_SIZE,1)\n",
        "print(tr_c_data.shape)"
      ],
      "execution_count": 18,
      "outputs": [
        {
          "output_type": "stream",
          "text": [
            "(312098, 6, 48, 1)\n"
          ],
          "name": "stdout"
        }
      ]
    },
    {
      "cell_type": "markdown",
      "metadata": {
        "id": "ADEucE7OB3_T",
        "colab_type": "text"
      },
      "source": [
        "##**상태 분석 모델링**"
      ]
    },
    {
      "cell_type": "markdown",
      "metadata": {
        "id": "gijnDNTgB6-Z",
        "colab_type": "text"
      },
      "source": [
        "###<h2>Convolution Neural Network Model</h2>"
      ]
    },
    {
      "cell_type": "markdown",
      "metadata": {
        "id": "qfw14Fe9B73K",
        "colab_type": "text"
      },
      "source": [
        "Convolution neural Network에서 합성곱 신경망의 필터를 통과할 때(Conv2D-> 2차원 필터) 데이터는 차원이 낮아지게 된다.<br>\n",
        "NxN의 vector가 FxF의 필터를 통과하게되면 (N-F+1)x(N-F+1)로 줄어들게 된다.<br>\n",
        "즉 지금 여기의 예시에서는 120(윈도우 크기) x 5를 3x3이 통과하게 되면 118 x 3으로 줄어든다.<br>\n",
        "이를 MaxPool2D의 2x2필터를 통과하게 되면 117x2로 줄어들게 되며 다시한번 Conv2D의 2x2 필터를 통과하게 되면 116x1로 줄어들어서 더이상 Convolution필터를 통과할 수 없게 된다.<br>\n",
        "이 때문에 많은 필터 layer를 추가하지 못하므로 이를 해결하기위해 padding 기술을 사용한다.<br>\n",
        "padding기술은 각 edge의 값을 복사하여 각 방향으로 한 칸 늘려서 크기를 유지하는 기술이다.<br>\n",
        "Conv2D에서는 padding을 사용하지 않는 valid, padding을 사용하는 same의 두가지를 지원한다. 이를 사용하면 많은 layer를 넣을 수 있다. 이를 이용하여 해결하였다.\n",
        "\n",
        "MAX_POOLING vs CONV2D STRIDE옵션\n",
        "\n",
        "FLATTEN vs GAP(Global Average Pooling)"
      ]
    },
    {
      "cell_type": "code",
      "metadata": {
        "id": "0TxxbX-1B8w8",
        "colab_type": "code",
        "colab": {
          "base_uri": "https://localhost:8080/",
          "height": 1000
        },
        "outputId": "8733f13e-da68-4fba-d6d2-54cb0382056a"
      },
      "source": [
        "cnn_model_main = keras.Sequential([\n",
        "    keras.layers.Conv2D(16,3,padding='same',activation='relu',input_shape = (6,WINDOW_SIZE,1)), # 전 단계 필터 수의 2배인 240개의 3x3 matrix filters\n",
        "    #keras.layers.MaxPooling2D(pool_size=2,strides=(1,2),padding='same'),\n",
        "    keras.layers.Conv2D(32,3,strides=(1,2),padding='same',activation='relu'),\n",
        "    keras.layers.Conv2D(32,3,padding='same',activation='relu'), # 전 단계 필터 수의 1/2배인 120개의 3x3 matrix filters\n",
        "    #keras.layers.MaxPooling2D(pool_size=2,strides=(1,2),padding='same'),\n",
        "    keras.layers.Conv2D(64,3,strides=(1,2),padding='same',activation='relu'),\n",
        "    keras.layers.Conv2D(64,3,padding='same',activation='relu'),\n",
        "    keras.layers.Dropout(0.1),\n",
        "    keras.layers.Conv2D(128,3,strides=(1,2),padding='same',activation='relu'),\n",
        "    #keras.layers.MaxPooling2D(pool_size=2,strides=(1,2),padding='same'),\n",
        "    keras.layers.Conv2D(128,3,activation='relu',padding='same'),\n",
        "    keras.layers.Dropout(0.1),\n",
        "    keras.layers.GlobalAveragePooling2D(),\n",
        "    #keras.layers.Flatten(),\n",
        "    keras.layers.Dense(128, activation='relu'),\n",
        "    keras.layers.Dense(64, activation='relu'),\n",
        "    keras.layers.Dense(8, activation='softmax')  #stop 빼는 경우\n",
        "])\n",
        "cnn_model_main.summary()\n",
        "cnn_model_main.compile(optimizer='adam',\n",
        "              loss='sparse_categorical_crossentropy',\n",
        "              metrics=['accuracy'])\n",
        "tf.keras.utils.plot_model(cnn_model_main, show_shapes=True)"
      ],
      "execution_count": 66,
      "outputs": [
        {
          "output_type": "stream",
          "text": [
            "Model: \"sequential_4\"\n",
            "_________________________________________________________________\n",
            "Layer (type)                 Output Shape              Param #   \n",
            "=================================================================\n",
            "conv2d_28 (Conv2D)           (None, 6, 48, 16)         160       \n",
            "_________________________________________________________________\n",
            "conv2d_29 (Conv2D)           (None, 6, 24, 32)         4640      \n",
            "_________________________________________________________________\n",
            "conv2d_30 (Conv2D)           (None, 6, 24, 32)         9248      \n",
            "_________________________________________________________________\n",
            "conv2d_31 (Conv2D)           (None, 6, 12, 64)         18496     \n",
            "_________________________________________________________________\n",
            "conv2d_32 (Conv2D)           (None, 6, 12, 64)         36928     \n",
            "_________________________________________________________________\n",
            "dropout_8 (Dropout)          (None, 6, 12, 64)         0         \n",
            "_________________________________________________________________\n",
            "conv2d_33 (Conv2D)           (None, 6, 6, 128)         73856     \n",
            "_________________________________________________________________\n",
            "conv2d_34 (Conv2D)           (None, 6, 6, 128)         147584    \n",
            "_________________________________________________________________\n",
            "dropout_9 (Dropout)          (None, 6, 6, 128)         0         \n",
            "_________________________________________________________________\n",
            "global_average_pooling2d_2 ( (None, 128)               0         \n",
            "_________________________________________________________________\n",
            "dense_12 (Dense)             (None, 128)               16512     \n",
            "_________________________________________________________________\n",
            "dense_13 (Dense)             (None, 64)                8256      \n",
            "_________________________________________________________________\n",
            "dense_14 (Dense)             (None, 8)                 520       \n",
            "=================================================================\n",
            "Total params: 316,200\n",
            "Trainable params: 316,200\n",
            "Non-trainable params: 0\n",
            "_________________________________________________________________\n"
          ],
          "name": "stdout"
        },
        {
          "output_type": "execute_result",
          "data": {
            "image/png": "[encoded data removed]",
            "text/plain": [
              "<IPython.core.display.Image object>"
            ]
          },
          "metadata": {
            "tags": []
          },
          "execution_count": 66
        }
      ]
    },
    {
      "cell_type": "code",
      "metadata": {
        "id": "Lj7G9G6tYtka",
        "colab_type": "code",
        "colab": {
          "base_uri": "https://localhost:8080/",
          "height": 1000
        },
        "outputId": "a87ae0b2-227d-4aaa-981c-11b01664fe39"
      },
      "source": [
        "cnn_model_sub = keras.Sequential([\n",
        "    keras.layers.Conv2D(16,3,padding='same',activation='relu',input_shape = (6,WINDOW_SIZE,1)), # 전 단계 필터 수의 2배인 240개의 3x3 matrix filters\n",
        "    #keras.layers.MaxPooling2D(pool_size=2,strides=(1,2),padding='same'),\n",
        "    keras.layers.Conv2D(32,3,strides=(1,2),padding='same',activation='relu'),\n",
        "    keras.layers.Conv2D(32,3,padding='same',activation='relu'), # 전 단계 필터 수의 1/2배인 120개의 3x3 matrix filters\n",
        "    #keras.layers.Dropout(0.2),\n",
        "    #keras.layers.MaxPooling2D(pool_size=2,strides=(1,2),padding='same'),\n",
        "    keras.layers.Conv2D(64,3,strides=(1,2),padding='same',activation='relu'),\n",
        "    keras.layers.Conv2D(64,3,padding='same',activation='relu'),\n",
        "    keras.layers.Conv2D(128,3,strides=(1,2),padding='same',activation='relu'),\n",
        "    #keras.layers.MaxPooling2D(pool_size=2,strides=(1,2),padding='same'),\n",
        "    keras.layers.Conv2D(128,3,activation='relu',padding='same'),\n",
        "    keras.layers.Dropout(0.2),\n",
        "    #keras.layers.GlobalAveragePooling2D(),\n",
        "    keras.layers.Flatten(),\n",
        "    keras.layers.Dense(128, activation='relu'),\n",
        "    keras.layers.Dense(64, activation='relu'),\n",
        "    keras.layers.Dense(8, activation='softmax')  #stop 빼는 경우\n",
        "])\n",
        "cnn_model_sub.summary()\n",
        "cnn_model_sub.compile(optimizer='adam',\n",
        "              loss='sparse_categorical_crossentropy',\n",
        "              metrics=['accuracy'])\n",
        "tf.keras.utils.plot_model(cnn_model_sub, show_shapes=True)"
      ],
      "execution_count": 67,
      "outputs": [
        {
          "output_type": "stream",
          "text": [
            "Model: \"sequential_5\"\n",
            "_________________________________________________________________\n",
            "Layer (type)                 Output Shape              Param #   \n",
            "=================================================================\n",
            "conv2d_35 (Conv2D)           (None, 6, 48, 16)         160       \n",
            "_________________________________________________________________\n",
            "conv2d_36 (Conv2D)           (None, 6, 24, 32)         4640      \n",
            "_________________________________________________________________\n",
            "conv2d_37 (Conv2D)           (None, 6, 24, 32)         9248      \n",
            "_________________________________________________________________\n",
            "conv2d_38 (Conv2D)           (None, 6, 12, 64)         18496     \n",
            "_________________________________________________________________\n",
            "conv2d_39 (Conv2D)           (None, 6, 12, 64)         36928     \n",
            "_________________________________________________________________\n",
            "conv2d_40 (Conv2D)           (None, 6, 6, 128)         73856     \n",
            "_________________________________________________________________\n",
            "conv2d_41 (Conv2D)           (None, 6, 6, 128)         147584    \n",
            "_________________________________________________________________\n",
            "dropout_10 (Dropout)         (None, 6, 6, 128)         0         \n",
            "_________________________________________________________________\n",
            "flatten_2 (Flatten)          (None, 4608)              0         \n",
            "_________________________________________________________________\n",
            "dense_15 (Dense)             (None, 128)               589952    \n",
            "_________________________________________________________________\n",
            "dense_16 (Dense)             (None, 64)                8256      \n",
            "_________________________________________________________________\n",
            "dense_17 (Dense)             (None, 8)                 520       \n",
            "=================================================================\n",
            "Total params: 889,640\n",
            "Trainable params: 889,640\n",
            "Non-trainable params: 0\n",
            "_________________________________________________________________\n"
          ],
          "name": "stdout"
        },
        {
          "output_type": "execute_result",
          "data": {
            "image/png": "[encoded data removed]",
            "text/plain": [
              "<IPython.core.display.Image object>"
            ]
          },
          "metadata": {
            "tags": []
          },
          "execution_count": 67
        }
      ]
    },
    {
      "cell_type": "markdown",
      "metadata": {
        "id": "MrnRlMJnCFzz",
        "colab_type": "text"
      },
      "source": [
        "###CNN MODEL 학습"
      ]
    },
    {
      "cell_type": "code",
      "metadata": {
        "id": "0uvQj0JshiYf",
        "colab_type": "code",
        "colab": {}
      },
      "source": [
        "model_checkpoint_callback_1 = keras.callbacks.ModelCheckpoint(\n",
        "    filepath= '/content',\n",
        "    save_weights_only=True,\n",
        "    monitor='val_accuracy',\n",
        "    mode='max',\n",
        "    save_best_only=True\n",
        ")\n",
        "model_checkpoint_callback_2 = keras.callbacks.ModelCheckpoint(\n",
        "    filepath= '/content/sample_data',\n",
        "    save_weights_only=True,\n",
        "    monitor='val_accuracy',\n",
        "    mode='max',\n",
        "    save_best_only=True\n",
        ")"
      ],
      "execution_count": 69,
      "outputs": []
    },
    {
      "cell_type": "code",
      "metadata": {
        "id": "875Lgtz9CDq0",
        "colab_type": "code",
        "colab": {
          "base_uri": "https://localhost:8080/",
          "height": 1000
        },
        "outputId": "f161155f-507c-439e-ab72-3d40972888cf"
      },
      "source": [
        "cnn_history_1 = cnn_model_main.fit(tr_c_data , tr_label , epochs=30, batch_size=64, callbacks = [model_checkpoint_callback_1], validation_data=(re_c_data, re_label))"
      ],
      "execution_count": 70,
      "outputs": [
        {
          "output_type": "stream",
          "text": [
            "Epoch 1/30\n",
            "4877/4877 [==============================] - 25s 5ms/step - loss: 0.3273 - accuracy: 0.8823 - val_loss: 0.6036 - val_accuracy: 0.8613\n",
            "Epoch 2/30\n",
            "4877/4877 [==============================] - 25s 5ms/step - loss: 0.1436 - accuracy: 0.9478 - val_loss: 0.7671 - val_accuracy: 0.8645\n",
            "Epoch 3/30\n",
            "4877/4877 [==============================] - 25s 5ms/step - loss: 0.1013 - accuracy: 0.9638 - val_loss: 0.8142 - val_accuracy: 0.8693\n",
            "Epoch 4/30\n",
            "4877/4877 [==============================] - 25s 5ms/step - loss: 0.0800 - accuracy: 0.9716 - val_loss: 0.9284 - val_accuracy: 0.8636\n",
            "Epoch 5/30\n",
            "4877/4877 [==============================] - 25s 5ms/step - loss: 0.0683 - accuracy: 0.9756 - val_loss: 0.8470 - val_accuracy: 0.8739\n",
            "Epoch 6/30\n",
            "4877/4877 [==============================] - 25s 5ms/step - loss: 0.0614 - accuracy: 0.9785 - val_loss: 0.9639 - val_accuracy: 0.8695\n",
            "Epoch 7/30\n",
            "4877/4877 [==============================] - 25s 5ms/step - loss: 0.0561 - accuracy: 0.9805 - val_loss: 1.1127 - val_accuracy: 0.8665\n",
            "Epoch 8/30\n",
            "4877/4877 [==============================] - 26s 5ms/step - loss: 0.0498 - accuracy: 0.9824 - val_loss: 1.1407 - val_accuracy: 0.8701\n",
            "Epoch 9/30\n",
            "4877/4877 [==============================] - 25s 5ms/step - loss: 0.0494 - accuracy: 0.9830 - val_loss: 1.2381 - val_accuracy: 0.8691\n",
            "Epoch 10/30\n",
            "4877/4877 [==============================] - 25s 5ms/step - loss: 0.0461 - accuracy: 0.9842 - val_loss: 1.2229 - val_accuracy: 0.8641\n",
            "Epoch 11/30\n",
            "4877/4877 [==============================] - 25s 5ms/step - loss: 0.0434 - accuracy: 0.9849 - val_loss: 1.5811 - val_accuracy: 0.8550\n",
            "Epoch 12/30\n",
            "4877/4877 [==============================] - 25s 5ms/step - loss: 0.0425 - accuracy: 0.9855 - val_loss: 1.4364 - val_accuracy: 0.8639\n",
            "Epoch 13/30\n",
            "4877/4877 [==============================] - 25s 5ms/step - loss: 0.0422 - accuracy: 0.9854 - val_loss: 1.4274 - val_accuracy: 0.8705\n",
            "Epoch 14/30\n",
            "4877/4877 [==============================] - 25s 5ms/step - loss: 0.0405 - accuracy: 0.9864 - val_loss: 1.5271 - val_accuracy: 0.8729\n",
            "Epoch 15/30\n",
            "4877/4877 [==============================] - 26s 5ms/step - loss: 0.0388 - accuracy: 0.9869 - val_loss: 1.3619 - val_accuracy: 0.8613\n",
            "Epoch 16/30\n",
            "4877/4877 [==============================] - 25s 5ms/step - loss: 0.0412 - accuracy: 0.9866 - val_loss: 1.2917 - val_accuracy: 0.8675\n",
            "Epoch 17/30\n",
            "4877/4877 [==============================] - 26s 5ms/step - loss: 0.0363 - accuracy: 0.9880 - val_loss: 1.2474 - val_accuracy: 0.8717\n",
            "Epoch 18/30\n",
            "4877/4877 [==============================] - 25s 5ms/step - loss: 0.0382 - accuracy: 0.9875 - val_loss: 1.6029 - val_accuracy: 0.8723\n",
            "Epoch 19/30\n",
            "4877/4877 [==============================] - 25s 5ms/step - loss: 0.0367 - accuracy: 0.9880 - val_loss: 1.6099 - val_accuracy: 0.8746\n",
            "Epoch 20/30\n",
            "4877/4877 [==============================] - 25s 5ms/step - loss: 0.0360 - accuracy: 0.9880 - val_loss: 1.7495 - val_accuracy: 0.8742\n",
            "Epoch 21/30\n",
            "4877/4877 [==============================] - 26s 5ms/step - loss: 0.0373 - accuracy: 0.9878 - val_loss: 2.7688 - val_accuracy: 0.8617\n",
            "Epoch 22/30\n",
            "4877/4877 [==============================] - 25s 5ms/step - loss: 0.0383 - accuracy: 0.9878 - val_loss: 1.6651 - val_accuracy: 0.8736\n",
            "Epoch 23/30\n",
            "4877/4877 [==============================] - 25s 5ms/step - loss: 0.0346 - accuracy: 0.9888 - val_loss: 2.0098 - val_accuracy: 0.8746\n",
            "Epoch 24/30\n",
            "4877/4877 [==============================] - 25s 5ms/step - loss: 0.0389 - accuracy: 0.9880 - val_loss: 1.7254 - val_accuracy: 0.8725\n",
            "Epoch 25/30\n",
            "4877/4877 [==============================] - 25s 5ms/step - loss: 0.0368 - accuracy: 0.9882 - val_loss: 2.0159 - val_accuracy: 0.8664\n",
            "Epoch 26/30\n",
            "4877/4877 [==============================] - 25s 5ms/step - loss: 0.0332 - accuracy: 0.9894 - val_loss: 1.6701 - val_accuracy: 0.8747\n",
            "Epoch 27/30\n",
            "4877/4877 [==============================] - 25s 5ms/step - loss: 0.0368 - accuracy: 0.9889 - val_loss: 2.0443 - val_accuracy: 0.8721\n",
            "Epoch 28/30\n",
            "4877/4877 [==============================] - 25s 5ms/step - loss: 0.0393 - accuracy: 0.9886 - val_loss: 1.7818 - val_accuracy: 0.8739\n",
            "Epoch 29/30\n",
            "4877/4877 [==============================] - 26s 5ms/step - loss: 0.0369 - accuracy: 0.9888 - val_loss: 1.9386 - val_accuracy: 0.8682\n",
            "Epoch 30/30\n",
            "4877/4877 [==============================] - 25s 5ms/step - loss: 0.0420 - accuracy: 0.9880 - val_loss: 2.5644 - val_accuracy: 0.8752\n"
          ],
          "name": "stdout"
        }
      ]
    },
    {
      "cell_type": "code",
      "metadata": {
        "id": "VZ5sJh_aY8cx",
        "colab_type": "code",
        "colab": {
          "base_uri": "https://localhost:8080/",
          "height": 1000
        },
        "outputId": "c9b20344-03e3-4cb6-d0ca-147039f10bf1"
      },
      "source": [
        "cnn_history_2 = cnn_model_sub.fit(tr_c_data , tr_label , epochs=30 , batch_size=64, callbacks = [model_checkpoint_callback_2], validation_data=(re_c_data, re_label))"
      ],
      "execution_count": 71,
      "outputs": [
        {
          "output_type": "stream",
          "text": [
            "Epoch 1/30\n",
            "4877/4877 [==============================] - 24s 5ms/step - loss: 0.2710 - accuracy: 0.9028 - val_loss: 0.6124 - val_accuracy: 0.8676\n",
            "Epoch 2/30\n",
            "4877/4877 [==============================] - 24s 5ms/step - loss: 0.1290 - accuracy: 0.9527 - val_loss: 0.8643 - val_accuracy: 0.8567\n",
            "Epoch 3/30\n",
            "4877/4877 [==============================] - 25s 5ms/step - loss: 0.1004 - accuracy: 0.9639 - val_loss: 0.8969 - val_accuracy: 0.8766\n",
            "Epoch 4/30\n",
            "4877/4877 [==============================] - 24s 5ms/step - loss: 0.0849 - accuracy: 0.9696 - val_loss: 1.0903 - val_accuracy: 0.8748\n",
            "Epoch 5/30\n",
            "4877/4877 [==============================] - 24s 5ms/step - loss: 0.0762 - accuracy: 0.9733 - val_loss: 1.0052 - val_accuracy: 0.8774\n",
            "Epoch 6/30\n",
            "4877/4877 [==============================] - 24s 5ms/step - loss: 0.0722 - accuracy: 0.9751 - val_loss: 1.0727 - val_accuracy: 0.8726\n",
            "Epoch 7/30\n",
            "4877/4877 [==============================] - 24s 5ms/step - loss: 0.0671 - accuracy: 0.9769 - val_loss: 1.2130 - val_accuracy: 0.8695\n",
            "Epoch 8/30\n",
            "4877/4877 [==============================] - 24s 5ms/step - loss: 0.0648 - accuracy: 0.9779 - val_loss: 1.2165 - val_accuracy: 0.8752\n",
            "Epoch 9/30\n",
            "4877/4877 [==============================] - 24s 5ms/step - loss: 0.0672 - accuracy: 0.9778 - val_loss: 1.2578 - val_accuracy: 0.8682\n",
            "Epoch 10/30\n",
            "4877/4877 [==============================] - 24s 5ms/step - loss: 0.0620 - accuracy: 0.9794 - val_loss: 1.0806 - val_accuracy: 0.8737\n",
            "Epoch 11/30\n",
            "4877/4877 [==============================] - 24s 5ms/step - loss: 0.0596 - accuracy: 0.9805 - val_loss: 1.4232 - val_accuracy: 0.8760\n",
            "Epoch 12/30\n",
            "4877/4877 [==============================] - 24s 5ms/step - loss: 0.0627 - accuracy: 0.9803 - val_loss: 1.3463 - val_accuracy: 0.8771\n",
            "Epoch 13/30\n",
            "4877/4877 [==============================] - 24s 5ms/step - loss: 0.0620 - accuracy: 0.9807 - val_loss: 1.1710 - val_accuracy: 0.8769\n",
            "Epoch 14/30\n",
            "4877/4877 [==============================] - 24s 5ms/step - loss: 0.0604 - accuracy: 0.9814 - val_loss: 1.2052 - val_accuracy: 0.8744\n",
            "Epoch 15/30\n",
            "4877/4877 [==============================] - 24s 5ms/step - loss: 0.0611 - accuracy: 0.9809 - val_loss: 1.2043 - val_accuracy: 0.8672\n",
            "Epoch 16/30\n",
            "4877/4877 [==============================] - 25s 5ms/step - loss: 0.0602 - accuracy: 0.9814 - val_loss: 1.5487 - val_accuracy: 0.8748\n",
            "Epoch 17/30\n",
            "4877/4877 [==============================] - 24s 5ms/step - loss: 0.0582 - accuracy: 0.9820 - val_loss: 1.7468 - val_accuracy: 0.8752\n",
            "Epoch 18/30\n",
            "4877/4877 [==============================] - 24s 5ms/step - loss: 0.0640 - accuracy: 0.9803 - val_loss: 1.9532 - val_accuracy: 0.8679\n",
            "Epoch 19/30\n",
            "4877/4877 [==============================] - 24s 5ms/step - loss: 0.0582 - accuracy: 0.9828 - val_loss: 1.1235 - val_accuracy: 0.8701\n",
            "Epoch 20/30\n",
            "4877/4877 [==============================] - 24s 5ms/step - loss: 0.0571 - accuracy: 0.9825 - val_loss: 1.5682 - val_accuracy: 0.8714\n",
            "Epoch 21/30\n",
            "4877/4877 [==============================] - 24s 5ms/step - loss: 0.0550 - accuracy: 0.9838 - val_loss: 2.4010 - val_accuracy: 0.8690\n",
            "Epoch 22/30\n",
            "4877/4877 [==============================] - 24s 5ms/step - loss: 0.0693 - accuracy: 0.9798 - val_loss: 1.5118 - val_accuracy: 0.8586\n",
            "Epoch 23/30\n",
            "4877/4877 [==============================] - 24s 5ms/step - loss: 0.0659 - accuracy: 0.9808 - val_loss: 1.4515 - val_accuracy: 0.8788\n",
            "Epoch 24/30\n",
            "4877/4877 [==============================] - 24s 5ms/step - loss: 0.0706 - accuracy: 0.9797 - val_loss: 1.7480 - val_accuracy: 0.8713\n",
            "Epoch 25/30\n",
            "4877/4877 [==============================] - 24s 5ms/step - loss: 0.0619 - accuracy: 0.9824 - val_loss: 2.4678 - val_accuracy: 0.8604\n",
            "Epoch 26/30\n",
            "4877/4877 [==============================] - 24s 5ms/step - loss: 0.0644 - accuracy: 0.9817 - val_loss: 2.0358 - val_accuracy: 0.8721\n",
            "Epoch 27/30\n",
            "4877/4877 [==============================] - 24s 5ms/step - loss: 0.0746 - accuracy: 0.9795 - val_loss: 1.5026 - val_accuracy: 0.8706\n",
            "Epoch 28/30\n",
            "4877/4877 [==============================] - 24s 5ms/step - loss: 0.0640 - accuracy: 0.9815 - val_loss: 2.0341 - val_accuracy: 0.8672\n",
            "Epoch 29/30\n",
            "4877/4877 [==============================] - 25s 5ms/step - loss: 0.0656 - accuracy: 0.9822 - val_loss: 2.1563 - val_accuracy: 0.8730\n",
            "Epoch 30/30\n",
            "4877/4877 [==============================] - 24s 5ms/step - loss: 0.0667 - accuracy: 0.9815 - val_loss: 2.0327 - val_accuracy: 0.8751\n"
          ],
          "name": "stdout"
        }
      ]
    },
    {
      "cell_type": "markdown",
      "metadata": {
        "id": "zqej-uTUCXu5",
        "colab_type": "text"
      },
      "source": [
        "##<h2>**모델 예측**</h2>"
      ]
    },
    {
      "cell_type": "markdown",
      "metadata": {
        "id": "eTtw1pmTi8Vs",
        "colab_type": "text"
      },
      "source": [
        "###CNN 예측"
      ]
    },
    {
      "cell_type": "code",
      "metadata": {
        "id": "OSjv8amOi68i",
        "colab_type": "code",
        "colab": {}
      },
      "source": [
        "cnn_test_predictions_1 = cnn_model_main.predict(te_c_data)\n",
        "cnn_test_predictions_2 = cnn_model_sub.predict(te_c_data)\n",
        "cnn_real_predictions_1 = cnn_model_main.predict(re_c_data)\n",
        "cnn_real_predictions_2 = cnn_model_sub.predict(re_c_data)"
      ],
      "execution_count": 72,
      "outputs": []
    },
    {
      "cell_type": "code",
      "metadata": {
        "id": "3TnydCOuqAv3",
        "colab_type": "code",
        "colab": {}
      },
      "source": [
        "cnn_model_main.load_weights('/content')\n",
        "cnn_model_sub.load_weights('/content/sample_data')\n",
        "cnn_test_predictions_3 = cnn_model_main.predict(te_c_data)\n",
        "cnn_test_predictions_4 = cnn_model_sub.predict(te_c_data)\n",
        "cnn_real_predictions_3 = cnn_model_main.predict(re_c_data)\n",
        "cnn_real_predictions_4 = cnn_model_sub.predict(re_c_data)"
      ],
      "execution_count": 73,
      "outputs": []
    },
    {
      "cell_type": "markdown",
      "metadata": {
        "id": "46Kr0AdzZTQ0",
        "colab_type": "text"
      },
      "source": [
        "####Model Merge"
      ]
    },
    {
      "cell_type": "code",
      "metadata": {
        "id": "Zm4-0CO0xQwA",
        "colab_type": "code",
        "colab": {
          "base_uri": "https://localhost:8080/",
          "height": 35
        },
        "outputId": "83d3caf4-baf6-4d14-f370-c19688e51f3b"
      },
      "source": [
        "print(type(cnn_test_predictions_1))\n",
        "count = 0\n",
        "cnn_test_predictions = []\n",
        "for main_pred in cnn_test_predictions_1:\n",
        "  if 0 < np.argmax(cnn_test_predictions_2[count]) < 5:\n",
        "    cnn_test_predictions.append(np.argmax(cnn_test_predictions_2[count]))\n",
        "  else:\n",
        "    cnn_test_predictions.append(np.argmax(main_pred))\n",
        "  count = count + 1\n",
        "cnn_test_predictions = np.array(cnn_test_predictions)"
      ],
      "execution_count": 74,
      "outputs": [
        {
          "output_type": "stream",
          "text": [
            "<class 'numpy.ndarray'>\n"
          ],
          "name": "stdout"
        }
      ]
    },
    {
      "cell_type": "code",
      "metadata": {
        "id": "hUXXbpzoZWRa",
        "colab_type": "code",
        "colab": {
          "base_uri": "https://localhost:8080/",
          "height": 35
        },
        "outputId": "3c318186-edb5-49bc-83b7-ddd1aefd8fae"
      },
      "source": [
        "print(type(cnn_real_predictions_1))\n",
        "count = 0\n",
        "cnn_real_predictions = []\n",
        "for main_pred in cnn_real_predictions_1:\n",
        "  if 0 < np.argmax(cnn_real_predictions_2[count]) < 5:\n",
        "    cnn_real_predictions.append(np.argmax(cnn_real_predictions_2[count]))\n",
        "  else:\n",
        "    cnn_real_predictions.append(np.argmax(main_pred))\n",
        "  count = count + 1\n",
        "cnn_real_predictions = np.array(cnn_real_predictions)"
      ],
      "execution_count": 75,
      "outputs": [
        {
          "output_type": "stream",
          "text": [
            "<class 'numpy.ndarray'>\n"
          ],
          "name": "stdout"
        }
      ]
    },
    {
      "cell_type": "code",
      "metadata": {
        "colab_type": "code",
        "id": "3eXzu5VPqSMn",
        "colab": {
          "base_uri": "https://localhost:8080/",
          "height": 35
        },
        "outputId": "ba76bac7-e2ba-41c6-9a9f-a86d88f7a2a9"
      },
      "source": [
        "print(type(cnn_test_predictions_3))\n",
        "count = 0\n",
        "cnn_test_predictions_5 = []\n",
        "for main_pred in cnn_test_predictions_3:\n",
        "  if 0 < np.argmax(cnn_test_predictions_4[count]) < 5:\n",
        "    cnn_test_predictions_5.append(np.argmax(cnn_test_predictions_4[count]))\n",
        "  else:\n",
        "    cnn_test_predictions_5.append(np.argmax(main_pred))\n",
        "  count = count + 1\n",
        "cnn_test_predictions_5 = np.array(cnn_test_predictions_5)"
      ],
      "execution_count": 76,
      "outputs": [
        {
          "output_type": "stream",
          "text": [
            "<class 'numpy.ndarray'>\n"
          ],
          "name": "stdout"
        }
      ]
    },
    {
      "cell_type": "code",
      "metadata": {
        "colab_type": "code",
        "id": "ijygKXrNqTym",
        "colab": {
          "base_uri": "https://localhost:8080/",
          "height": 35
        },
        "outputId": "408e9d35-e19f-4245-a799-6850b772207d"
      },
      "source": [
        "print(type(cnn_real_predictions_3))\n",
        "count = 0\n",
        "cnn_real_predictions_5 = []\n",
        "for main_pred in cnn_real_predictions_3:\n",
        "  if 0 < np.argmax(cnn_real_predictions_4[count]) < 5:\n",
        "    cnn_real_predictions_5.append(np.argmax(cnn_real_predictions_4[count]))\n",
        "  else:\n",
        "    cnn_real_predictions_5.append(np.argmax(main_pred))\n",
        "  count = count + 1\n",
        "cnn_real_predictions_5 = np.array(cnn_real_predictions_5)"
      ],
      "execution_count": 77,
      "outputs": [
        {
          "output_type": "stream",
          "text": [
            "<class 'numpy.ndarray'>\n"
          ],
          "name": "stdout"
        }
      ]
    },
    {
      "cell_type": "markdown",
      "metadata": {
        "id": "T-jjt1vxCkCn",
        "colab_type": "text"
      },
      "source": [
        "####cnn 테스트 데이터"
      ]
    },
    {
      "cell_type": "code",
      "metadata": {
        "id": "bji0ZjPovLiW",
        "colab_type": "code",
        "colab": {}
      },
      "source": [
        "from sklearn.metrics import confusion_matrix"
      ],
      "execution_count": 30,
      "outputs": []
    },
    {
      "cell_type": "code",
      "metadata": {
        "id": "L7w6CAPpCqfD",
        "colab_type": "code",
        "colab": {
          "base_uri": "https://localhost:8080/",
          "height": 449
        },
        "outputId": "bee0593e-e21f-4612-c249-403e7fa95154"
      },
      "source": [
        "matrix = confusion_matrix(te_label, cnn_test_predictions)#_2.argmax(axis=1))\n",
        "print(matrix)\n",
        "print(np.bincount(te_label)[:, np.newaxis])\n",
        "print((matrix / np.bincount(te_label)[:, np.newaxis] * 100).astype(np.int))"
      ],
      "execution_count": 78,
      "outputs": [
        {
          "output_type": "stream",
          "text": [
            "[[7954  541  612   43   54  786  452   21]\n",
            " [ 133 1620    0   72    0   41  135    0]\n",
            " [ 240    0 1602   55  189   17   73    4]\n",
            " [  31   48    0  453    0   60    0    0]\n",
            " [  99    0   64    5 1039   32   20    0]\n",
            " [  97   54   29   10    0  327    9    2]\n",
            " [  72    0  112    0    0    4  258    0]\n",
            " [   0    0    0    0    0    0    0  582]]\n",
            "[[10463]\n",
            " [ 2001]\n",
            " [ 2180]\n",
            " [  592]\n",
            " [ 1259]\n",
            " [  528]\n",
            " [  446]\n",
            " [  582]]\n",
            "[[ 76   5   5   0   0   7   4   0]\n",
            " [  6  80   0   3   0   2   6   0]\n",
            " [ 11   0  73   2   8   0   3   0]\n",
            " [  5   8   0  76   0  10   0   0]\n",
            " [  7   0   5   0  82   2   1   0]\n",
            " [ 18  10   5   1   0  61   1   0]\n",
            " [ 16   0  25   0   0   0  57   0]\n",
            " [  0   0   0   0   0   0   0 100]]\n"
          ],
          "name": "stdout"
        }
      ]
    },
    {
      "cell_type": "code",
      "metadata": {
        "id": "mUJdlYxCxDdB",
        "colab_type": "code",
        "colab": {
          "base_uri": "https://localhost:8080/",
          "height": 449
        },
        "outputId": "9e6d1233-3bfd-4c1d-ee99-eea0825c9720"
      },
      "source": [
        "matrix = confusion_matrix(te_label, cnn_test_predictions_1.argmax(axis=1))\n",
        "print(matrix)\n",
        "print(np.bincount(te_label)[:, np.newaxis])\n",
        "print((matrix / np.bincount(te_label)[:, np.newaxis] * 100).astype(np.int))"
      ],
      "execution_count": 79,
      "outputs": [
        {
          "output_type": "stream",
          "text": [
            "[[8322  403  320   20   64  839  469   26]\n",
            " [ 194 1523    0   43    0   91  149    1]\n",
            " [ 386    0 1390   25  184   18  173    4]\n",
            " [  50   19    0  457    0   66    0    0]\n",
            " [ 118    0   41    0 1032   42   26    0]\n",
            " [ 108   26    7   21    0  355    9    2]\n",
            " [  73    0  106    0    0    4  263    0]\n",
            " [   0    0    0    0    0    0    0  582]]\n",
            "[[10463]\n",
            " [ 2001]\n",
            " [ 2180]\n",
            " [  592]\n",
            " [ 1259]\n",
            " [  528]\n",
            " [  446]\n",
            " [  582]]\n",
            "[[ 79   3   3   0   0   8   4   0]\n",
            " [  9  76   0   2   0   4   7   0]\n",
            " [ 17   0  63   1   8   0   7   0]\n",
            " [  8   3   0  77   0  11   0   0]\n",
            " [  9   0   3   0  81   3   2   0]\n",
            " [ 20   4   1   3   0  67   1   0]\n",
            " [ 16   0  23   0   0   0  58   0]\n",
            " [  0   0   0   0   0   0   0 100]]\n"
          ],
          "name": "stdout"
        }
      ]
    },
    {
      "cell_type": "code",
      "metadata": {
        "id": "KBzFjFe2xM6R",
        "colab_type": "code",
        "colab": {
          "base_uri": "https://localhost:8080/",
          "height": 449
        },
        "outputId": "183f0407-075f-4fcc-a90a-27d30358e098"
      },
      "source": [
        "matrix = confusion_matrix(te_label, cnn_test_predictions_2.argmax(axis=1))\n",
        "print(matrix)\n",
        "print(np.bincount(te_label)[:, np.newaxis])\n",
        "print((matrix / np.bincount(te_label)[:, np.newaxis] * 100).astype(np.int))"
      ],
      "execution_count": 80,
      "outputs": [
        {
          "output_type": "stream",
          "text": [
            "[[8573  440  520   39   35  517  328   11]\n",
            " [ 262 1479    0   59    0  104   97    0]\n",
            " [ 310    0 1560   52  171   18   67    2]\n",
            " [  43   48    0  445    0   54    2    0]\n",
            " [ 143    0   61    5 1007   18   25    0]\n",
            " [ 175   44   22    1    0  239   47    0]\n",
            " [  86    0  106    0    0    0  254    0]\n",
            " [  16    0    0    0    0    0    0  566]]\n",
            "[[10463]\n",
            " [ 2001]\n",
            " [ 2180]\n",
            " [  592]\n",
            " [ 1259]\n",
            " [  528]\n",
            " [  446]\n",
            " [  582]]\n",
            "[[81  4  4  0  0  4  3  0]\n",
            " [13 73  0  2  0  5  4  0]\n",
            " [14  0 71  2  7  0  3  0]\n",
            " [ 7  8  0 75  0  9  0  0]\n",
            " [11  0  4  0 79  1  1  0]\n",
            " [33  8  4  0  0 45  8  0]\n",
            " [19  0 23  0  0  0 56  0]\n",
            " [ 2  0  0  0  0  0  0 97]]\n"
          ],
          "name": "stdout"
        }
      ]
    },
    {
      "cell_type": "markdown",
      "metadata": {
        "colab_type": "text",
        "id": "U677Wf0pwXD0"
      },
      "source": [
        "####cnn Callback 테스트 데이터"
      ]
    },
    {
      "cell_type": "code",
      "metadata": {
        "colab_type": "code",
        "id": "cvDcv5WjwXD2",
        "colab": {
          "base_uri": "https://localhost:8080/",
          "height": 449
        },
        "outputId": "668fd804-2b30-4810-c6f9-f515182e714d"
      },
      "source": [
        "matrix = confusion_matrix(te_label, cnn_test_predictions_5)#_2.argmax(axis=1))\n",
        "print(matrix)\n",
        "print(np.bincount(te_label)[:, np.newaxis])\n",
        "print((matrix / np.bincount(te_label)[:, np.newaxis] * 100).astype(np.int))"
      ],
      "execution_count": 81,
      "outputs": [
        {
          "output_type": "stream",
          "text": [
            "[[7943  520  577   47   89  813  458   16]\n",
            " [ 108 1631    2   79    0   37  144    0]\n",
            " [ 192    6 1572   39  232   16  119    4]\n",
            " [  32   48    0  468    7   37    0    0]\n",
            " [  91    0   45   23 1051   30   19    0]\n",
            " [  85   47   29   44    3  310    9    1]\n",
            " [  65    8  114    0    0    4  255    0]\n",
            " [   0    0    0    0    0    0    0  582]]\n",
            "[[10463]\n",
            " [ 2001]\n",
            " [ 2180]\n",
            " [  592]\n",
            " [ 1259]\n",
            " [  528]\n",
            " [  446]\n",
            " [  582]]\n",
            "[[ 75   4   5   0   0   7   4   0]\n",
            " [  5  81   0   3   0   1   7   0]\n",
            " [  8   0  72   1  10   0   5   0]\n",
            " [  5   8   0  79   1   6   0   0]\n",
            " [  7   0   3   1  83   2   1   0]\n",
            " [ 16   8   5   8   0  58   1   0]\n",
            " [ 14   1  25   0   0   0  57   0]\n",
            " [  0   0   0   0   0   0   0 100]]\n"
          ],
          "name": "stdout"
        }
      ]
    },
    {
      "cell_type": "code",
      "metadata": {
        "colab_type": "code",
        "id": "Kay5rGxwwXD4",
        "colab": {
          "base_uri": "https://localhost:8080/",
          "height": 449
        },
        "outputId": "43a3b58b-e58e-49ae-a42d-05cb31637b3a"
      },
      "source": [
        "matrix = confusion_matrix(te_label, cnn_test_predictions_3.argmax(axis=1))\n",
        "print(matrix)\n",
        "print(np.bincount(te_label)[:, np.newaxis])\n",
        "print((matrix / np.bincount(te_label)[:, np.newaxis] * 100).astype(np.int))"
      ],
      "execution_count": 82,
      "outputs": [
        {
          "output_type": "stream",
          "text": [
            "[[8322  403  320   20   64  839  469   26]\n",
            " [ 194 1523    0   43    0   91  149    1]\n",
            " [ 386    0 1390   25  184   18  173    4]\n",
            " [  50   19    0  457    0   66    0    0]\n",
            " [ 118    0   41    0 1032   42   26    0]\n",
            " [ 108   26    7   21    0  355    9    2]\n",
            " [  73    0  106    0    0    4  263    0]\n",
            " [   0    0    0    0    0    0    0  582]]\n",
            "[[10463]\n",
            " [ 2001]\n",
            " [ 2180]\n",
            " [  592]\n",
            " [ 1259]\n",
            " [  528]\n",
            " [  446]\n",
            " [  582]]\n",
            "[[ 79   3   3   0   0   8   4   0]\n",
            " [  9  76   0   2   0   4   7   0]\n",
            " [ 17   0  63   1   8   0   7   0]\n",
            " [  8   3   0  77   0  11   0   0]\n",
            " [  9   0   3   0  81   3   2   0]\n",
            " [ 20   4   1   3   0  67   1   0]\n",
            " [ 16   0  23   0   0   0  58   0]\n",
            " [  0   0   0   0   0   0   0 100]]\n"
          ],
          "name": "stdout"
        }
      ]
    },
    {
      "cell_type": "code",
      "metadata": {
        "colab_type": "code",
        "id": "8Rb1L5sGwXD6",
        "colab": {
          "base_uri": "https://localhost:8080/",
          "height": 449
        },
        "outputId": "fd71506a-5ebf-475f-9906-cc2ea7fb1cba"
      },
      "source": [
        "matrix = confusion_matrix(te_label, cnn_test_predictions_4.argmax(axis=1))\n",
        "print(matrix)\n",
        "print(np.bincount(te_label)[:, np.newaxis])\n",
        "print((matrix / np.bincount(te_label)[:, np.newaxis] * 100).astype(np.int))"
      ],
      "execution_count": 83,
      "outputs": [
        {
          "output_type": "stream",
          "text": [
            "[[8451  388  522   42   76  506  470    8]\n",
            " [ 234 1507    2   75    0   76  107    0]\n",
            " [ 285    6 1509   33  223   12  112    0]\n",
            " [  43   48    0  451    7   43    0    0]\n",
            " [ 160    0   41   23  994    0   41    0]\n",
            " [ 161   43   22   35    3  234   30    0]\n",
            " [  69    8  111    0    0    0  258    0]\n",
            " [  21    0    0    0    0    0    0  561]]\n",
            "[[10463]\n",
            " [ 2001]\n",
            " [ 2180]\n",
            " [  592]\n",
            " [ 1259]\n",
            " [  528]\n",
            " [  446]\n",
            " [  582]]\n",
            "[[80  3  4  0  0  4  4  0]\n",
            " [11 75  0  3  0  3  5  0]\n",
            " [13  0 69  1 10  0  5  0]\n",
            " [ 7  8  0 76  1  7  0  0]\n",
            " [12  0  3  1 78  0  3  0]\n",
            " [30  8  4  6  0 44  5  0]\n",
            " [15  1 24  0  0  0 57  0]\n",
            " [ 3  0  0  0  0  0  0 96]]\n"
          ],
          "name": "stdout"
        }
      ]
    },
    {
      "cell_type": "markdown",
      "metadata": {
        "id": "QknuD2EwCqqj",
        "colab_type": "text"
      },
      "source": [
        "####cnn 실제 데이터"
      ]
    },
    {
      "cell_type": "code",
      "metadata": {
        "id": "zfW1Ge2UiWkW",
        "colab_type": "code",
        "colab": {
          "base_uri": "https://localhost:8080/",
          "height": 449
        },
        "outputId": "468337fc-dac4-41a6-c5c0-632e0a37abf4"
      },
      "source": [
        "matrix = confusion_matrix(re_label, cnn_real_predictions)#_2.argmax(axis=1))\n",
        "print(matrix)\n",
        "print(np.bincount(re_label)[:, np.newaxis])\n",
        "print((matrix / np.bincount(re_label)[:, np.newaxis] * 100).astype(np.int))"
      ],
      "execution_count": 84,
      "outputs": [
        {
          "output_type": "stream",
          "text": [
            "[[22406    50   119   110   125   267   126   179]\n",
            " [ 1359  2261     2   303     2   282     9    25]\n",
            " [  977     0  1572     0   355    88   115     2]\n",
            " [  107     3     0  1383     1    24     2     0]\n",
            " [   56     0     1     0  1502     0     2     6]\n",
            " [  404    53     2    84     1  1008    19     0]\n",
            " [  233     5    98     3   138    27   662     2]\n",
            " [  260    20     0    49    92     0     0 16233]]\n",
            "[[23382]\n",
            " [ 4243]\n",
            " [ 3109]\n",
            " [ 1520]\n",
            " [ 1567]\n",
            " [ 1571]\n",
            " [ 1168]\n",
            " [16654]]\n",
            "[[95  0  0  0  0  1  0  0]\n",
            " [32 53  0  7  0  6  0  0]\n",
            " [31  0 50  0 11  2  3  0]\n",
            " [ 7  0  0 90  0  1  0  0]\n",
            " [ 3  0  0  0 95  0  0  0]\n",
            " [25  3  0  5  0 64  1  0]\n",
            " [19  0  8  0 11  2 56  0]\n",
            " [ 1  0  0  0  0  0  0 97]]\n"
          ],
          "name": "stdout"
        }
      ]
    },
    {
      "cell_type": "code",
      "metadata": {
        "id": "9sGf6Oszf3A3",
        "colab_type": "code",
        "colab": {
          "base_uri": "https://localhost:8080/",
          "height": 449
        },
        "outputId": "15a7f6f7-dfa5-4e0e-8d24-a5481debf0e1"
      },
      "source": [
        "matrix = confusion_matrix(re_label, cnn_real_predictions_1.argmax(axis=1))\n",
        "print(matrix)\n",
        "print(np.bincount(re_label)[:, np.newaxis])\n",
        "print((matrix / np.bincount(re_label)[:, np.newaxis] * 100).astype(np.int))"
      ],
      "execution_count": 85,
      "outputs": [
        {
          "output_type": "stream",
          "text": [
            "[[22525    35    77    56    94   276   130   189]\n",
            " [ 1565  2095     2   188     2   352     9    30]\n",
            " [ 1184     0  1213     0   433    97   180     2]\n",
            " [  124    53     0  1249     0    46     8    40]\n",
            " [   57     0     3     1  1491     0     2    13]\n",
            " [  423    35     1    43     1  1049    19     0]\n",
            " [  255     0    61     1   122    29   698     2]\n",
            " [  262    25     0    35    77     0     0 16255]]\n",
            "[[23382]\n",
            " [ 4243]\n",
            " [ 3109]\n",
            " [ 1520]\n",
            " [ 1567]\n",
            " [ 1571]\n",
            " [ 1168]\n",
            " [16654]]\n",
            "[[96  0  0  0  0  1  0  0]\n",
            " [36 49  0  4  0  8  0  0]\n",
            " [38  0 39  0 13  3  5  0]\n",
            " [ 8  3  0 82  0  3  0  2]\n",
            " [ 3  0  0  0 95  0  0  0]\n",
            " [26  2  0  2  0 66  1  0]\n",
            " [21  0  5  0 10  2 59  0]\n",
            " [ 1  0  0  0  0  0  0 97]]\n"
          ],
          "name": "stdout"
        }
      ]
    },
    {
      "cell_type": "code",
      "metadata": {
        "id": "oiwBaY7qCrAz",
        "colab_type": "code",
        "colab": {
          "base_uri": "https://localhost:8080/",
          "height": 449
        },
        "outputId": "81d5e86d-7f0c-4bc1-e550-f33b3342a187"
      },
      "source": [
        "matrix = confusion_matrix(re_label, cnn_real_predictions_2.argmax(axis=1))\n",
        "print(matrix)\n",
        "print(np.bincount(re_label)[:, np.newaxis])\n",
        "print((matrix / np.bincount(re_label)[:, np.newaxis] * 100).astype(np.int))"
      ],
      "execution_count": 86,
      "outputs": [
        {
          "output_type": "stream",
          "text": [
            "[[22688    26    83    92    96   144    86   167]\n",
            " [ 1706  1876     2   251     2   387     1    18]\n",
            " [ 1192     0  1469     0   302    50    93     3]\n",
            " [  140     1     0  1349     1    29     0     0]\n",
            " [   85     0     1     0  1473     0     5     3]\n",
            " [  490    40     1    65     0   947    28     0]\n",
            " [  382     5    79     2   106    22   572     0]\n",
            " [  325     0     0    46    90     0     0 16193]]\n",
            "[[23382]\n",
            " [ 4243]\n",
            " [ 3109]\n",
            " [ 1520]\n",
            " [ 1567]\n",
            " [ 1571]\n",
            " [ 1168]\n",
            " [16654]]\n",
            "[[97  0  0  0  0  0  0  0]\n",
            " [40 44  0  5  0  9  0  0]\n",
            " [38  0 47  0  9  1  2  0]\n",
            " [ 9  0  0 88  0  1  0  0]\n",
            " [ 5  0  0  0 94  0  0  0]\n",
            " [31  2  0  4  0 60  1  0]\n",
            " [32  0  6  0  9  1 48  0]\n",
            " [ 1  0  0  0  0  0  0 97]]\n"
          ],
          "name": "stdout"
        }
      ]
    },
    {
      "cell_type": "markdown",
      "metadata": {
        "colab_type": "text",
        "id": "79bpTyYdwM9A"
      },
      "source": [
        "####cnn Callback 실제 데이터"
      ]
    },
    {
      "cell_type": "code",
      "metadata": {
        "colab_type": "code",
        "id": "DmWdkknnwM9B",
        "colab": {
          "base_uri": "https://localhost:8080/",
          "height": 449
        },
        "outputId": "4844cf90-9d14-47b0-d9d2-a8e096db8f6b"
      },
      "source": [
        "matrix = confusion_matrix(re_label, cnn_real_predictions_5)#_2.argmax(axis=1))\n",
        "print(matrix)\n",
        "print(np.bincount(re_label)[:, np.newaxis])\n",
        "print((matrix / np.bincount(re_label)[:, np.newaxis] * 100).astype(np.int))"
      ],
      "execution_count": 87,
      "outputs": [
        {
          "output_type": "stream",
          "text": [
            "[[22435    43   119    96   111   269   127   182]\n",
            " [ 1371  2323     0   262     7   245     8    27]\n",
            " [  956     0  1595     0   338    96   122     2]\n",
            " [   96    22     0  1366     2    26     4     4]\n",
            " [   49     0     1     3  1512     0     2     0]\n",
            " [  394    99     2    78     2   978    18     0]\n",
            " [  244     2    84     3   133    28   672     2]\n",
            " [  260    20     0    46    92     0     0 16236]]\n",
            "[[23382]\n",
            " [ 4243]\n",
            " [ 3109]\n",
            " [ 1520]\n",
            " [ 1567]\n",
            " [ 1571]\n",
            " [ 1168]\n",
            " [16654]]\n",
            "[[95  0  0  0  0  1  0  0]\n",
            " [32 54  0  6  0  5  0  0]\n",
            " [30  0 51  0 10  3  3  0]\n",
            " [ 6  1  0 89  0  1  0  0]\n",
            " [ 3  0  0  0 96  0  0  0]\n",
            " [25  6  0  4  0 62  1  0]\n",
            " [20  0  7  0 11  2 57  0]\n",
            " [ 1  0  0  0  0  0  0 97]]\n"
          ],
          "name": "stdout"
        }
      ]
    },
    {
      "cell_type": "code",
      "metadata": {
        "colab_type": "code",
        "id": "gNNalnQvwM9E",
        "colab": {
          "base_uri": "https://localhost:8080/",
          "height": 449
        },
        "outputId": "3a0f7def-e866-4b1c-de8d-221815330243"
      },
      "source": [
        "matrix = confusion_matrix(re_label, cnn_real_predictions_3.argmax(axis=1))\n",
        "print(matrix)\n",
        "print(np.bincount(re_label)[:, np.newaxis])\n",
        "print((matrix / np.bincount(re_label)[:, np.newaxis] * 100).astype(np.int))"
      ],
      "execution_count": 88,
      "outputs": [
        {
          "output_type": "stream",
          "text": [
            "[[22525    35    77    56    94   276   130   189]\n",
            " [ 1565  2095     2   188     2   352     9    30]\n",
            " [ 1184     0  1213     0   433    97   180     2]\n",
            " [  124    53     0  1249     0    46     8    40]\n",
            " [   57     0     3     1  1491     0     2    13]\n",
            " [  423    35     1    43     1  1049    19     0]\n",
            " [  255     0    61     1   122    29   698     2]\n",
            " [  262    25     0    35    77     0     0 16255]]\n",
            "[[23382]\n",
            " [ 4243]\n",
            " [ 3109]\n",
            " [ 1520]\n",
            " [ 1567]\n",
            " [ 1571]\n",
            " [ 1168]\n",
            " [16654]]\n",
            "[[96  0  0  0  0  1  0  0]\n",
            " [36 49  0  4  0  8  0  0]\n",
            " [38  0 39  0 13  3  5  0]\n",
            " [ 8  3  0 82  0  3  0  2]\n",
            " [ 3  0  0  0 95  0  0  0]\n",
            " [26  2  0  2  0 66  1  0]\n",
            " [21  0  5  0 10  2 59  0]\n",
            " [ 1  0  0  0  0  0  0 97]]\n"
          ],
          "name": "stdout"
        }
      ]
    },
    {
      "cell_type": "code",
      "metadata": {
        "colab_type": "code",
        "id": "v87Chjg0wM9G",
        "colab": {
          "base_uri": "https://localhost:8080/",
          "height": 449
        },
        "outputId": "4270aa89-8e2f-4d3f-fc49-70d54ee14e8e"
      },
      "source": [
        "matrix = confusion_matrix(re_label, cnn_real_predictions_4.argmax(axis=1))\n",
        "print(matrix)\n",
        "print(np.bincount(re_label)[:, np.newaxis])\n",
        "print((matrix / np.bincount(re_label)[:, np.newaxis] * 100).astype(np.int))"
      ],
      "execution_count": 89,
      "outputs": [
        {
          "output_type": "stream",
          "text": [
            "[[22756    21    94    77    78    95    74   187]\n",
            " [ 1751  1978     0   233     6   254    10    11]\n",
            " [ 1154     0  1491     0   269    60   130     5]\n",
            " [  131    22     0  1328     2    36     0     1]\n",
            " [   94     0     1     2  1466     0     4     0]\n",
            " [  531    89     1    55     1   876    18     0]\n",
            " [  333     2    55     3    93     9   673     0]\n",
            " [  325     6     0    36    91     0     0 16196]]\n",
            "[[23382]\n",
            " [ 4243]\n",
            " [ 3109]\n",
            " [ 1520]\n",
            " [ 1567]\n",
            " [ 1571]\n",
            " [ 1168]\n",
            " [16654]]\n",
            "[[97  0  0  0  0  0  0  0]\n",
            " [41 46  0  5  0  5  0  0]\n",
            " [37  0 47  0  8  1  4  0]\n",
            " [ 8  1  0 87  0  2  0  0]\n",
            " [ 5  0  0  0 93  0  0  0]\n",
            " [33  5  0  3  0 55  1  0]\n",
            " [28  0  4  0  7  0 57  0]\n",
            " [ 1  0  0  0  0  0  0 97]]\n"
          ],
          "name": "stdout"
        }
      ]
    },
    {
      "cell_type": "markdown",
      "metadata": {
        "id": "hYJwseactGlE",
        "colab_type": "text"
      },
      "source": [
        "## 모델 저장하기"
      ]
    },
    {
      "cell_type": "code",
      "metadata": {
        "id": "nsjAweUAtJoC",
        "colab_type": "code",
        "colab": {}
      },
      "source": [
        "from keras.models import load_model\n",
        "cnn_model_main.save('Sim2Real_Model_CNN_GAP.h5')\n",
        "cnn_model_sub.save('Sim2Real_Model_CNN_FLATTEN.h5')"
      ],
      "execution_count": 94,
      "outputs": []
    },
    {
      "cell_type": "markdown",
      "metadata": {
        "id": "vIl9mqkxAHXu",
        "colab_type": "text"
      },
      "source": [
        "## 예측결과 출력 CNN TEST"
      ]
    },
    {
      "cell_type": "code",
      "metadata": {
        "id": "sBPw8lASARcu",
        "colab_type": "code",
        "colab": {}
      },
      "source": [
        "#cnn_test_predictions = cnn_model.predict(te_c_data)\n",
        "#cnn_test_predictions,cnn_test_predictions_5\n",
        "txt = 'Pred_Direction_Final,Pred_Direction_Best,TEST_Direction\\n'\n",
        "count = 0\n",
        "for temp in te_c_data:\n",
        "  if(np.argmax(cnn_test_predictions[count]) == 0):\n",
        "  #  print('straight')\n",
        "    txt = txt + 'straight,'\n",
        "  elif(np.argmax(cnn_test_predictions[count]) == 1):\n",
        "  #  print('left')\n",
        "    txt = txt + 'curve_left,'\n",
        "  elif(np.argmax(cnn_test_predictions[count]) == 2):\n",
        "    txt = txt + 'curve_right,'\n",
        "  elif(np.argmax(cnn_test_predictions[count]) == 3):\n",
        "    txt = txt + 'left,' \n",
        "  elif(np.argmax(cnn_test_predictions[count]) == 4):\n",
        "    txt = txt + 'right,'\n",
        "  elif(np.argmax(cnn_test_predictions[count]) == 5):\n",
        "    txt = txt + 'change_left,'\n",
        "  elif(np.argmax(cnn_test_predictions[count]) == 6):\n",
        "    txt = txt + 'change_right,'\n",
        "  else:\n",
        "    txt = txt + 'stop,'\n",
        "  if(np.argmax(cnn_test_predictions_5[count]) == 0):\n",
        "  #  print('straight')\n",
        "    txt = txt + 'straight,'\n",
        "  elif(np.argmax(cnn_test_predictions_5[count]) == 1):\n",
        "  #  print('left')\n",
        "    txt = txt + 'curve_left,'\n",
        "  elif(np.argmax(cnn_test_predictions_5[count]) == 2):\n",
        "    txt = txt + 'curve_right,'\n",
        "  elif(np.argmax(cnn_test_predictions_5[count]) == 3):\n",
        "    txt = txt + 'left,' \n",
        "  elif(np.argmax(cnn_test_predictions_5[count]) == 4):\n",
        "    txt = txt + 'right,'\n",
        "  elif(np.argmax(cnn_test_predictions_5[count]) == 5):\n",
        "    txt = txt + 'change_left,'\n",
        "  elif(np.argmax(cnn_test_predictions_5[count]) == 6):\n",
        "    txt = txt + 'change_right,'\n",
        "  else:\n",
        "    txt = txt + 'stop,'\n",
        "  if(test_file_label[count] == 0):\n",
        "    txt = txt + 'straight\\n'\n",
        "  elif(test_file_label[count] == 1):\n",
        "    txt = txt + 'curve_left\\n'\n",
        "  elif(test_file_label[count] == 2):\n",
        "    txt = txt + 'curve_right\\n'\n",
        "  elif(test_file_label[count] == 3):\n",
        "    txt = txt + 'left\\n'\n",
        "  elif(test_file_label[count] == 4):\n",
        "    txt = txt + 'right\\n' \n",
        "  elif(test_file_label[count] == 5):\n",
        "    txt = txt + 'change_left\\n'\n",
        "  elif(test_file_label[count] == 6):\n",
        "    txt = txt + 'change_right\\n'\n",
        "  else:\n",
        "    txt = txt + 'stop\\n'\n",
        "  count = count + 1"
      ],
      "execution_count": 90,
      "outputs": []
    },
    {
      "cell_type": "code",
      "metadata": {
        "id": "Eew71fpGA9Ru",
        "colab_type": "code",
        "colab": {}
      },
      "source": [
        "f = open(\"/content/cnn_test_pred_output.csv\",'w')\n",
        "f.write(txt)\n",
        "f.close()"
      ],
      "execution_count": 91,
      "outputs": []
    },
    {
      "cell_type": "markdown",
      "metadata": {
        "id": "wfVi2d0LAJ5P",
        "colab_type": "text"
      },
      "source": [
        "## 예측결과 출력 CNN REAL"
      ]
    },
    {
      "cell_type": "code",
      "metadata": {
        "id": "GjsO6WI2AR6X",
        "colab_type": "code",
        "colab": {}
      },
      "source": [
        "#cnn_real_predictions = cnn_model.predict(re_c_data)\n",
        "#cnn_real_predictions,cnn_real_predictions_5\n",
        "txt = 'Pred_Direction_Final,Pred_Direction_Best,Real_Direction\\n'\n",
        "count = 0\n",
        "for temp in re_c_data:\n",
        "  if(np.argmax(cnn_real_predictions[count]) == 0):\n",
        "  #  print('straight')\n",
        "    txt = txt + 'straight,'\n",
        "  elif(np.argmax(cnn_real_predictions[count]) == 1):\n",
        "  #  print('left')\n",
        "    txt = txt + 'curve_left,'\n",
        "  elif(np.argmax(cnn_real_predictions[count]) == 2):\n",
        "    txt = txt + 'curve_right,'\n",
        "  elif(np.argmax(cnn_real_predictions[count]) == 3):\n",
        "    txt = txt + 'left,' \n",
        "  elif(np.argmax(cnn_real_predictions[count]) == 4):\n",
        "    txt = txt + 'right,'\n",
        "  elif(np.argmax(cnn_real_predictions[count]) == 5):\n",
        "    txt = txt + 'change_left,'\n",
        "  elif(np.argmax(cnn_real_predictions[count]) == 6):\n",
        "    txt = txt + 'change_right,'\n",
        "  else:\n",
        "    txt = txt + 'stop,'\n",
        "  if(np.argmax(cnn_real_predictions_5[count]) == 0):\n",
        "  #  print('straight')\n",
        "    txt = txt + 'straight,'\n",
        "  elif(np.argmax(cnn_real_predictions_5[count]) == 1):\n",
        "  #  print('left')\n",
        "    txt = txt + 'curve_left,'\n",
        "  elif(np.argmax(cnn_real_predictions_5[count]) == 2):\n",
        "    txt = txt + 'curve_right,'\n",
        "  elif(np.argmax(cnn_real_predictions_5[count]) == 3):\n",
        "    txt = txt + 'left,' \n",
        "  elif(np.argmax(cnn_real_predictions_5[count]) == 4):\n",
        "    txt = txt + 'right,'\n",
        "  elif(np.argmax(cnn_real_predictions_5[count]) == 5):\n",
        "    txt = txt + 'change_left,'\n",
        "  elif(np.argmax(cnn_real_predictions_5[count]) == 6):\n",
        "    txt = txt + 'change_right,'\n",
        "  else:\n",
        "    txt = txt + 'stop,'\n",
        "  if(real_file_label[count] == 0):\n",
        "    txt = txt + 'straight\\n'\n",
        "  elif(real_file_label[count] == 1):\n",
        "    txt = txt + 'curve_left\\n'\n",
        "  elif(real_file_label[count] == 2):\n",
        "    txt = txt + 'curve_right\\n'\n",
        "  elif(real_file_label[count] == 3):\n",
        "    txt = txt + 'left\\n'\n",
        "  elif(real_file_label[count] == 4):\n",
        "    txt = txt + 'right\\n' \n",
        "  elif(real_file_label[count] == 5):\n",
        "    txt = txt + 'change_left\\n'\n",
        "  elif(real_file_label[count] == 6):\n",
        "    txt = txt + 'change_right\\n'\n",
        "  else:\n",
        "    txt = txt + 'stop\\n'\n",
        "  count = count + 1"
      ],
      "execution_count": 92,
      "outputs": []
    },
    {
      "cell_type": "code",
      "metadata": {
        "id": "0NszNcbPBiGe",
        "colab_type": "code",
        "colab": {}
      },
      "source": [
        "f = open(\"/content/cnn_real_pred_output.csv\",'w')\n",
        "f.write(txt)\n",
        "f.close()"
      ],
      "execution_count": 93,
      "outputs": []
    }
  ]
}
