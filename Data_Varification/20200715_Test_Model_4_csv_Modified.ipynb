{
  "nbformat": 4,
  "nbformat_minor": 0,
  "metadata": {
    "colab": {
      "name": "20200715_Test_Model_4_csv_Modified.ipynb",
      "provenance": [],
      "collapsed_sections": [],
      "toc_visible": true,
      "mount_file_id": "1W4UltRLKIwF7ahDBeB1yv8Be9ICBMyOX",
      "authorship_tag": "ABX9TyPFmRkA7/2HSoaFaLEuGAJh",
      "include_colab_link": true
    },
    "kernelspec": {
      "name": "python3",
      "display_name": "Python 3"
    }
  },
  "cells": [
    {
      "cell_type": "markdown",
      "metadata": {
        "id": "view-in-github",
        "colab_type": "text"
      },
      "source": [
        "<a href=\"https://colab.research.google.com/github/NgaAdrain/TEAM_Enter_Text_Here/blob/master/Data_Varification/20200715_Test_Model_4_csv_Modified.ipynb\" target=\"_parent\"><img src=\"https://colab.research.google.com/assets/colab-badge.svg\" alt=\"Open In Colab\"/></a>"
      ]
    },
    {
      "cell_type": "markdown",
      "metadata": {
        "id": "ccD6w5mxQI_1",
        "colab_type": "text"
      },
      "source": [
        "사용에 필요한 모듈들 import"
      ]
    },
    {
      "cell_type": "code",
      "metadata": {
        "id": "wVdfASzHPf1E",
        "colab_type": "code",
        "colab": {
          "base_uri": "https://localhost:8080/",
          "height": 353
        },
        "outputId": "503d7686-41c5-48f6-b5db-9db73d0e501d"
      },
      "source": [
        "# Import the TensorFlow\n",
        "import tensorflow as tf\n",
        "from tensorflow import keras\n",
        "import pandas as pd\n",
        "import numpy as np\n",
        "tf.__version__\n",
        "!pip3 install watermark"
      ],
      "execution_count": 1,
      "outputs": [
        {
          "output_type": "stream",
          "text": [
            "Collecting watermark\n",
            "  Downloading https://files.pythonhosted.org/packages/60/fe/3ed83b6122e70dce6fe269dfd763103c333f168bf91037add73ea4fe81c2/watermark-2.0.2-py2.py3-none-any.whl\n",
            "Requirement already satisfied: ipython in /usr/local/lib/python3.6/dist-packages (from watermark) (5.5.0)\n",
            "Requirement already satisfied: traitlets>=4.2 in /usr/local/lib/python3.6/dist-packages (from ipython->watermark) (4.3.3)\n",
            "Requirement already satisfied: pygments in /usr/local/lib/python3.6/dist-packages (from ipython->watermark) (2.1.3)\n",
            "Requirement already satisfied: decorator in /usr/local/lib/python3.6/dist-packages (from ipython->watermark) (4.4.2)\n",
            "Requirement already satisfied: setuptools>=18.5 in /usr/local/lib/python3.6/dist-packages (from ipython->watermark) (49.1.0)\n",
            "Requirement already satisfied: pexpect; sys_platform != \"win32\" in /usr/local/lib/python3.6/dist-packages (from ipython->watermark) (4.8.0)\n",
            "Requirement already satisfied: prompt-toolkit<2.0.0,>=1.0.4 in /usr/local/lib/python3.6/dist-packages (from ipython->watermark) (1.0.18)\n",
            "Requirement already satisfied: pickleshare in /usr/local/lib/python3.6/dist-packages (from ipython->watermark) (0.7.5)\n",
            "Requirement already satisfied: simplegeneric>0.8 in /usr/local/lib/python3.6/dist-packages (from ipython->watermark) (0.8.1)\n",
            "Requirement already satisfied: ipython-genutils in /usr/local/lib/python3.6/dist-packages (from traitlets>=4.2->ipython->watermark) (0.2.0)\n",
            "Requirement already satisfied: six in /usr/local/lib/python3.6/dist-packages (from traitlets>=4.2->ipython->watermark) (1.12.0)\n",
            "Requirement already satisfied: ptyprocess>=0.5 in /usr/local/lib/python3.6/dist-packages (from pexpect; sys_platform != \"win32\"->ipython->watermark) (0.6.0)\n",
            "Requirement already satisfied: wcwidth in /usr/local/lib/python3.6/dist-packages (from prompt-toolkit<2.0.0,>=1.0.4->ipython->watermark) (0.2.5)\n",
            "Installing collected packages: watermark\n",
            "Successfully installed watermark-2.0.2\n"
          ],
          "name": "stdout"
        }
      ]
    },
    {
      "cell_type": "code",
      "metadata": {
        "id": "jtZ0Dq1cP9ON",
        "colab_type": "code",
        "colab": {
          "base_uri": "https://localhost:8080/",
          "height": 203
        },
        "outputId": "598e80ec-921a-4b6c-ee0d-994cfbbcce32"
      },
      "source": [
        "%load_ext watermark\n",
        "%watermark -v -p numpy,scipy,sklearn,pandas,matplotlib,keras"
      ],
      "execution_count": 2,
      "outputs": [
        {
          "output_type": "stream",
          "text": [
            "CPython 3.6.9\n",
            "IPython 5.5.0\n",
            "\n",
            "numpy 1.18.5\n",
            "scipy 1.4.1\n",
            "sklearn 0.0\n",
            "pandas 1.0.5\n",
            "matplotlib 3.2.2\n",
            "keras 2.3.1\n"
          ],
          "name": "stdout"
        },
        {
          "output_type": "stream",
          "text": [
            "Using TensorFlow backend.\n"
          ],
          "name": "stderr"
        }
      ]
    },
    {
      "cell_type": "markdown",
      "metadata": {
        "id": "OsjHTbLrPojd",
        "colab_type": "text"
      },
      "source": [
        "윈도우의 크기를 32 -> 32개의 row를 하나의 window로<br>\n",
        "![대충 정규화 표라는 그림](https://drive.google.com/uc?id=1VX3YCf0eue9Mx5AGc4afwm6NRseBAG0I)<br>\n",
        "위의 값은 연구실에서 추출한 OBD데이터의 값의 범위표이며<br> \n",
        "이를 기반으로 시뮬레이터 데이터의 값을 정규화하여 사용할 것이다.\n",
        "![대충 OBD데이터를 1차 정규화 한 값](https://drive.google.com/uc?id=1-17mEhcfdDH2zbYtvkWS5wSkCVk63W-t)<br>\n",
        "실제 데이터의 예시"
      ]
    },
    {
      "cell_type": "markdown",
      "metadata": {
        "id": "Kz6TGc0qU1-9",
        "colab_type": "text"
      },
      "source": [
        "우리가 시뮬레이터로 부터 얻을 수 있는 값은<br>\n",
        "SWA(Steering wheel), Brake, Speed, Accelerator Pos, Lateral Acc, Longitudinal Acc 의 6가지.<br>\n",
        "Steering_Wheel_X, Brake, Velocity, Accel, Acceleration_Z, Accerleration_X로 mapping 가능!<br>\n",
        "총 6개의 label에 대해 학습을 실시<br>\n",
        "출력 라벨은 0~5<hr>\n",
        "\n",
        "0: 직진, 1: 좌회전, 2: 우회전, 3: 좌측 차선변경, 4: 우측 차선 변경, 5: 정지."
      ]
    },
    {
      "cell_type": "code",
      "metadata": {
        "id": "Fq1GxGK-SraU",
        "colab_type": "code",
        "colab": {}
      },
      "source": [
        "WINDOW_SIZE = 32 #데이터 32개가 한 묶음(window)\n",
        "train_file = pd.read_csv('/content/drive/My Drive/train_input.csv',encoding='utf-8')\n",
        "train_file_label = train_file.pop('Label')\n",
        "train_file.drop(['Timestamp','Winker(left)','Winker(right)'],axis = 'columns',inplace = True)\n",
        "test_file = pd.read_csv('/content/drive/My Drive/test_input.csv',encoding='utf-8')\n",
        "test_file_time = test_file.pop('Timestamp')\n",
        "test_file_label = test_file.pop('Label')\n",
        "test_file.drop(['Winker(left)','Winker(right)'],axis = 'columns',inplace = True)"
      ],
      "execution_count": null,
      "outputs": []
    },
    {
      "cell_type": "markdown",
      "metadata": {
        "id": "qIFmsJ1fMMfd",
        "colab_type": "text"
      },
      "source": [
        "데이터 정규화 과정\n",
        "<br>\n",
        "- 실제 데이터의 정규화내용\n",
        "1. steering wheel  -> 31.75(270,-270) ~ -32\n",
        "2. brake -> 31.75(50,0) ~ -32\n",
        "3. speed(velocity) -> 31.75(100,0) ~ -32\n",
        "4. accel -> 31.75(70,0) ~ -32\n",
        "5. accelaration_longitudinal(X) -> 31.75(0.6,-0.6) ~ -32\n",
        "6. accelaration_lateral(Z) -> 31.75(0.6,-0.6) ~ -32"
      ]
    },
    {
      "cell_type": "markdown",
      "metadata": {
        "id": "5iZhWH_IOCS6",
        "colab_type": "text"
      },
      "source": [
        "시뮬레이터 값의 범위<br>\n",
        "1. Velocity : 0 ~ 240\n",
        "2. Acceleration => 분석 필요.\n",
        "3. Steering_wheel : -1 ~ 1 => -450 ~ 450(degree)\n",
        "4. Brake : 0 ~ 1 => 0 ~ 100%\n",
        "5. Accel : 0 ~ 1 => 0 ~ 100%<br>\n",
        "\n",
        "=> 0716 데이터 정규화 및 학습모델 평가<br>\n",
        "=> 0717 Sklearn의 Decision Tree를 구현해서 테스트\n",
        "<hr>\n",
        "\n",
        "=> 다음 주 좌측 커브, 우측 커브 추가, 급출발, 급정거 추가<br>\n",
        "=> 다음 주 학습된 모델에 실제 데이터를 넣어서 테스트\n",
        " "
      ]
    },
    {
      "cell_type": "code",
      "metadata": {
        "id": "k7HG53B_ML83",
        "colab_type": "code",
        "colab": {}
      },
      "source": [
        ""
      ],
      "execution_count": null,
      "outputs": []
    },
    {
      "cell_type": "markdown",
      "metadata": {
        "id": "myunKneGELco",
        "colab_type": "text"
      },
      "source": [
        "Numpy Array로 변환."
      ]
    },
    {
      "cell_type": "code",
      "metadata": {
        "id": "DtL4VCXMDsDg",
        "colab_type": "code",
        "colab": {}
      },
      "source": [
        "train_array = np.delete(train_file.values,-1,0)\n",
        "train_label = np.delete(train_file_label.values,-1,0)\n",
        "test_array = np.delete(test_file.values,-1,0)\n",
        "test_label = np.delete(test_file_label.values,-1.0)\n",
        "test_time = np.delete(test_file_time,values,-1,0)"
      ],
      "execution_count": null,
      "outputs": []
    },
    {
      "cell_type": "markdown",
      "metadata": {
        "id": "h526fwuMGAZw",
        "colab_type": "text"
      },
      "source": [
        "train data를 dataset으로 만들기"
      ]
    },
    {
      "cell_type": "code",
      "metadata": {
        "id": "XEa7Pz3NEKJA",
        "colab_type": "code",
        "colab": {}
      },
      "source": [
        "train_dataset_data = []\n",
        "train_dataset_label = []\n",
        "for i in range(WINDOW_SIZE, train_array.shape[0] + 1, 1):\n",
        "  train_dataset_data.append(train_array[i-WINDOW_SIZE:i])\n",
        "  train_dataset_label.append(train_label[i-1])\n",
        "tr_data = np.array(train_dataset_data)\n",
        "tr_label = np.array(train_dataset_label) "
      ],
      "execution_count": null,
      "outputs": []
    },
    {
      "cell_type": "markdown",
      "metadata": {
        "id": "Q9mY9rnZGDVO",
        "colab_type": "text"
      },
      "source": [
        "test data를 dataset으로 만들기"
      ]
    },
    {
      "cell_type": "code",
      "metadata": {
        "id": "ZzWQT0VRE-6j",
        "colab_type": "code",
        "colab": {}
      },
      "source": [
        "test_dataset_data = []\n",
        "test_dataset_label = []\n",
        "for i in range(WINDOW_SIZE, test_array.shape[0] + 1, 1):\n",
        "  test_dataset_data.append(test_array[i-WINDOW_SIZE:i])\n",
        "  test_dataset_label.append(test_label[i-1])\n",
        "te_data = np.array(test_dataset_data)\n",
        "te_label = np.array(test_dataset_label) \n",
        "#test_array 을 te_data 대신에 넣어보자\n",
        "#test_label 을 te_label 대신에 넣어보자"
      ],
      "execution_count": null,
      "outputs": []
    },
    {
      "cell_type": "markdown",
      "metadata": {
        "id": "U0MhDzCaGT8G",
        "colab_type": "text"
      },
      "source": [
        "모델 만들기.<br>\n",
        "1. column의 개수는 총 6개, 구분할 케이스의 개수도 6개.\n",
        "2. window의 크기는 32. 즉 (32,6)의 데이터가 들어감.\n",
        "3. Flatten을 진행\n",
        "4. Dense층을 추가 -> 이번에는 3개를 지나서 최종적으로 6개를 출력하도록 해보자.\n",
        "5. 첫 번째 층 -> 66 & dropout 30%\n",
        "6. 두 번째 층 -> 36 & dropout 20%\n",
        "7. 세 번째 층 -> 16\n",
        "8. 마지막 층 -> 6"
      ]
    },
    {
      "cell_type": "code",
      "metadata": {
        "id": "Gw61k-odH4MQ",
        "colab_type": "code",
        "colab": {}
      },
      "source": [
        "model = keras.Sequential([\n",
        "    keras.layers.Flatten(input_shape=(WINDOW_SIZE, 6)),\n",
        "    keras.layers.Dense(66, activation='relu'),\n",
        "    keras.layers.Dropout(0.3),\n",
        "    keras.layers.Dense(36),\n",
        "    keras.layers.Dropout(0.2)\n",
        "    keras.layers.Dense(16),\n",
        "    keras.layers.Dense(6, activation='softmax')\n",
        "])\n",
        "model.compile(optimizer='adam',\n",
        "              loss='sparse_categorical_crossentropy',\n",
        "              metrics=['accuracy'])"
      ],
      "execution_count": null,
      "outputs": []
    },
    {
      "cell_type": "markdown",
      "metadata": {
        "id": "dmeUEtC6Ihdn",
        "colab_type": "text"
      },
      "source": [
        "모델 데이터 학습 실시."
      ]
    },
    {
      "cell_type": "code",
      "metadata": {
        "id": "qhTQDb3EIkEv",
        "colab_type": "code",
        "colab": {}
      },
      "source": [
        "model.fit(tr_data,tr_label,epochs=10)\n",
        "#model.fit(tr_data,tr_label,epochs=10,batch_size=32)"
      ],
      "execution_count": null,
      "outputs": []
    },
    {
      "cell_type": "markdown",
      "metadata": {
        "id": "G9ME893rIvl9",
        "colab_type": "text"
      },
      "source": [
        "모델 예측 및 학습 테스트 진행."
      ]
    },
    {
      "cell_type": "code",
      "metadata": {
        "id": "00qrv4JXI3F2",
        "colab_type": "code",
        "colab": {}
      },
      "source": [
        "test_loss, test_acc = model.evaluate(te_data, te_label, verbose=2, steps=10)\n",
        "predictions = model.predict(te_data)\n",
        "count = 0\n",
        "print(type(test_file_time[0]))\n",
        "txt = 'Timestamp,Pred_Direction,Real_Direction\\n'\n",
        "for temp in xtest:\n",
        "  #print(test_file_time[count],end=' ')\n",
        "  txt = txt + test_file_time[count] + ' '\n",
        "  if(np.argmax(predictions[count]) == 0):\n",
        "  #  print('straight')\n",
        "    txt = txt + ',straight'\n",
        "  elif(np.argmax(predictions[count]) == 1):\n",
        "  #  print('left')\n",
        "    txt = txt + ',left'\n",
        "  elif(np.argmax(predictions[count]) == 2):\n",
        "    txt = txt + ',right'\n",
        "  elif(np.argmax(predictions[count]) == 3):\n",
        "    txt = txt + ',change_left' \n",
        "  elif(np.argmax(predictions[count]) == 4):\n",
        "    txt = txt + ',change_right'\n",
        "  else:\n",
        "    txt = txt + ',stop'\n",
        "  if(test_file_label[count] == 0):\n",
        "    txt = txt + ',straight\\n'\n",
        "  elif(test_file_label[count] == 1):\n",
        "    txt = txt + ',left\\n'\n",
        "  elif(test_file_label[count] == 2):\n",
        "    txt = txt + ',right\\n'\n",
        "  elif(test_file_label[count] == 3):\n",
        "    txt = txt + ',change_left\\n'\n",
        "  elif(test_file_label[count] == 4):\n",
        "    txt = txt + ',change_right\\n'\n",
        "  else:\n",
        "    txt = txt + ',stop\\n'\n",
        "  count = count + 1\n",
        "\n",
        "f = open(\"/content/drive/My Drive/test_output.csv\",'w')\n",
        "f.write(txt)\n",
        "f.close()"
      ],
      "execution_count": null,
      "outputs": []
    },
    {
      "cell_type": "code",
      "metadata": {
        "id": "sv37zNNVI_J2",
        "colab_type": "code",
        "colab": {}
      },
      "source": [
        "test_loss, test_acc = model.evaluate(test_array,  test_label, verbose=2)"
      ],
      "execution_count": null,
      "outputs": []
    }
  ]
}